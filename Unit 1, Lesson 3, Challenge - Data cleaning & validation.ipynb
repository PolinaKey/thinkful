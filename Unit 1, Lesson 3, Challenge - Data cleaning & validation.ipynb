{
 "cells": [
  {
   "cell_type": "code",
   "execution_count": 163,
   "metadata": {
    "collapsed": true
   },
   "outputs": [],
   "source": [
    "import numpy as np\n",
    "import pandas as pd\n",
    "import re\n",
    "import matplotlib.pyplot as plt\n",
    "import seaborn as sns\n",
    "%matplotlib inline"
   ]
  },
  {
   "cell_type": "code",
   "execution_count": 164,
   "metadata": {
    "collapsed": true
   },
   "outputs": [],
   "source": [
    "# import codecs\n",
    "# df = codecs.open('../wellcome.csv', \"rb\", encoding='latin-1') \n",
    "\n",
    "# for encoding (if needed for futher writes): df['Journal title'].str.encode('utf-8');"
   ]
  },
  {
   "cell_type": "code",
   "execution_count": 165,
   "metadata": {},
   "outputs": [
    {
     "data": {
      "text/html": [
       "<div>\n",
       "<style>\n",
       "    .dataframe thead tr:only-child th {\n",
       "        text-align: right;\n",
       "    }\n",
       "\n",
       "    .dataframe thead th {\n",
       "        text-align: left;\n",
       "    }\n",
       "\n",
       "    .dataframe tbody tr th {\n",
       "        vertical-align: top;\n",
       "    }\n",
       "</style>\n",
       "<table border=\"1\" class=\"dataframe\">\n",
       "  <thead>\n",
       "    <tr style=\"text-align: right;\">\n",
       "      <th></th>\n",
       "      <th>PMID/PMCID</th>\n",
       "      <th>Publisher</th>\n",
       "      <th>Journal title</th>\n",
       "      <th>Article title</th>\n",
       "      <th>COST (£) charged to Wellcome (inc VAT when charged)</th>\n",
       "    </tr>\n",
       "  </thead>\n",
       "  <tbody>\n",
       "    <tr>\n",
       "      <th>0</th>\n",
       "      <td>NaN</td>\n",
       "      <td>CUP</td>\n",
       "      <td>Psychological Medicine</td>\n",
       "      <td>Reduced parahippocampal cortical thickness in ...</td>\n",
       "      <td>£0.00</td>\n",
       "    </tr>\n",
       "    <tr>\n",
       "      <th>1</th>\n",
       "      <td>PMC3679557</td>\n",
       "      <td>ACS</td>\n",
       "      <td>Biomacromolecules</td>\n",
       "      <td>Structural characterization of a Model Gram-ne...</td>\n",
       "      <td>£2381.04</td>\n",
       "    </tr>\n",
       "    <tr>\n",
       "      <th>2</th>\n",
       "      <td>23043264  PMC3506128</td>\n",
       "      <td>ACS</td>\n",
       "      <td>J Med Chem</td>\n",
       "      <td>Fumaroylamino-4,5-epoxymorphinans and related ...</td>\n",
       "      <td>£642.56</td>\n",
       "    </tr>\n",
       "    <tr>\n",
       "      <th>3</th>\n",
       "      <td>23438330 PMC3646402</td>\n",
       "      <td>ACS</td>\n",
       "      <td>J Med Chem</td>\n",
       "      <td>Orvinols with mixed kappa/mu opioid receptor a...</td>\n",
       "      <td>£669.64</td>\n",
       "    </tr>\n",
       "    <tr>\n",
       "      <th>4</th>\n",
       "      <td>23438216 PMC3601604</td>\n",
       "      <td>ACS</td>\n",
       "      <td>J Org Chem</td>\n",
       "      <td>Regioselective opening of myo-inositol orthoes...</td>\n",
       "      <td>£685.88</td>\n",
       "    </tr>\n",
       "  </tbody>\n",
       "</table>\n",
       "</div>"
      ],
      "text/plain": [
       "              PMID/PMCID Publisher           Journal title  \\\n",
       "0                    NaN       CUP  Psychological Medicine   \n",
       "1             PMC3679557       ACS       Biomacromolecules   \n",
       "2  23043264  PMC3506128        ACS              J Med Chem   \n",
       "3    23438330 PMC3646402       ACS              J Med Chem   \n",
       "4   23438216 PMC3601604        ACS              J Org Chem   \n",
       "\n",
       "                                       Article title  \\\n",
       "0  Reduced parahippocampal cortical thickness in ...   \n",
       "1  Structural characterization of a Model Gram-ne...   \n",
       "2  Fumaroylamino-4,5-epoxymorphinans and related ...   \n",
       "3  Orvinols with mixed kappa/mu opioid receptor a...   \n",
       "4  Regioselective opening of myo-inositol orthoes...   \n",
       "\n",
       "  COST (£) charged to Wellcome (inc VAT when charged)  \n",
       "0                                              £0.00   \n",
       "1                                           £2381.04   \n",
       "2                                            £642.56   \n",
       "3                                            £669.64   \n",
       "4                                            £685.88   "
      ]
     },
     "execution_count": 165,
     "metadata": {},
     "output_type": "execute_result"
    }
   ],
   "source": [
    "df = pd.read_csv(\"../wellcome.csv\", encoding ='latin-1')\n",
    "df.head(5)"
   ]
  },
  {
   "cell_type": "markdown",
   "metadata": {},
   "source": [
    "## Data Inconsistencies: \n",
    "- Mix of PubMed ID and PMC ID. Observations with both IDs.\n",
    "- Publisher name  in different ways.  For example, OUP, Oxford University Press, and O.U.P.\n",
    "- Journal name. For example, PNAS, Proceedings of the National Academy of Sciences, P.N.A.S.\n",
    "- Different prices cited for the same journal \n",
    "    - When these differences are small, it can be assumed that this reflects fluctuations in currency prices.  \n",
    "    - Where they are significant, then it should be assumed that other funders have contributed to the cost of that APC, and the figure cited is the Wellcome contribution to that APC."
   ]
  },
  {
   "cell_type": "code",
   "execution_count": 166,
   "metadata": {},
   "outputs": [
    {
     "data": {
      "text/plain": [
       "count         2126\n",
       "unique         984\n",
       "top       PLoS One\n",
       "freq            92\n",
       "Name: Journal title, dtype: object"
      ]
     },
     "execution_count": 166,
     "metadata": {},
     "output_type": "execute_result"
    }
   ],
   "source": [
    "df['Journal title'].describe()"
   ]
  },
  {
   "cell_type": "code",
   "execution_count": 167,
   "metadata": {
    "collapsed": true
   },
   "outputs": [],
   "source": [
    "# convert to lower case\n",
    "df['Journal title'] = df['Journal title'].str.lower()"
   ]
  },
  {
   "cell_type": "code",
   "execution_count": 168,
   "metadata": {
    "collapsed": true
   },
   "outputs": [],
   "source": [
    "# convert & to and\n",
    "df['Journal title'] = df['Journal title'].str.replace('&', 'and')"
   ]
  },
  {
   "cell_type": "code",
   "execution_count": 169,
   "metadata": {
    "collapsed": true
   },
   "outputs": [],
   "source": [
    "# convert J, Jnl, Jounral, Jounal, Journals to journal\n",
    "regex_journal = re.compile('j(([a-z])*)?')\n",
    "df['Journal title'] = df['Journal title'].str.replace(regex_journal, 'journal')"
   ]
  },
  {
   "cell_type": "code",
   "execution_count": 170,
   "metadata": {},
   "outputs": [],
   "source": [
    "# delete the\n",
    "df['Journal title'] = df['Journal title'].str.replace('the', '')\n",
    "# delete dots\n",
    "df['Journal title'] = df['Journal title'].str.replace('.', '')"
   ]
  },
  {
   "cell_type": "code",
   "execution_count": 171,
   "metadata": {
    "collapsed": true
   },
   "outputs": [],
   "source": [
    "# remove sections of a journal following colon, comma, dash\n",
    "regex_colon = re.compile(':  ?.*')\n",
    "regex_comma = re.compile(',  ?.*')\n",
    "regex_dash = re.compile('-  ?.*')\n",
    "df['Journal title'] = df['Journal title'].str.replace(regex_colon, '')\n",
    "df['Journal title'] = df['Journal title'].str.replace(regex_comma, '')\n",
    "df['Journal title'] = df['Journal title'].str.replace(regex_dash, '')"
   ]
  },
  {
   "cell_type": "code",
   "execution_count": 172,
   "metadata": {
    "collapsed": true
   },
   "outputs": [],
   "source": [
    "# Sci to Science = str\n",
    "df['Journal title'].replace(to_replace='(sci)$', value='science', inplace=True, regex=True)"
   ]
  },
  {
   "cell_type": "code",
   "execution_count": 173,
   "metadata": {
    "collapsed": true
   },
   "outputs": [],
   "source": [
    "# Biol to Biological str\n",
    "df['Journal title'].replace(to_replace='(biol )', value='biological ', inplace=True, regex=True)\n",
    "df['Journal title'].replace(to_replace='(biol)$', value='biological', inplace=True, regex=True);"
   ]
  },
  {
   "cell_type": "code",
   "execution_count": 174,
   "metadata": {
    "collapsed": true
   },
   "outputs": [],
   "source": [
    "# space at the end of the sentence\n",
    "df['Journal title'] = df['Journal title'].str.strip()"
   ]
  },
  {
   "cell_type": "code",
   "execution_count": 175,
   "metadata": {},
   "outputs": [],
   "source": [
    "# Regex replace: str\n",
    "    # biochimica et bioohysica acta.* to bba\n",
    "df['Journal title'].replace(to_replace='.*acta.*', value='bba', inplace=True, regex=True)\n",
    "\n",
    "# Fromatting replace\n",
    "    # '  ' to ' '\n",
    "df['Journal title'] = df['Journal title'].str.replace('  ', ' ')"
   ]
  },
  {
   "cell_type": "markdown",
   "metadata": {
    "collapsed": true
   },
   "source": [
    "### Other text iterations\n",
    "#### Replace of 1:1 cases:\n",
    "    # Epidemiol = Epidemiology\n",
    "    # US English vs British English: Behavioural and Behavioral\n",
    "    # BJOPHTHALMOL = British Journal of Ophthalmology\n",
    "    # Opthalmology = Ophthalmology\n",
    "    # Sex Transm Infect. = Sexually Transmitted Infections \n",
    "    # 'American Journal for Clinical Nutrition' = 'American Journal of Clinical Nutrition'\n",
    "    # Am to American\n",
    "    # molecluar to molecular\n",
    "\n",
    "#### Regex replace: \n",
    "    # Proceedings of the National Academy of Sciences of.* to PNAS\n",
    "    # Chem to Chemistry\n",
    "    # Int, Intl to International"
   ]
  },
  {
   "cell_type": "code",
   "execution_count": 176,
   "metadata": {},
   "outputs": [
    {
     "data": {
      "text/plain": [
       "count         2126\n",
       "unique         823\n",
       "top       plos one\n",
       "freq           191\n",
       "Name: Journal title, dtype: object"
      ]
     },
     "execution_count": 176,
     "metadata": {},
     "output_type": "execute_result"
    }
   ],
   "source": [
    "# test\n",
    "df['Journal title'].sort_values().unique();\n",
    "df['Journal title'].describe()"
   ]
  },
  {
   "cell_type": "markdown",
   "metadata": {},
   "source": [
    "## Task questions:"
   ]
  },
  {
   "cell_type": "markdown",
   "metadata": {},
   "source": [
    "### Five most common journals and the total articles for each"
   ]
  },
  {
   "cell_type": "code",
   "execution_count": 177,
   "metadata": {},
   "outputs": [
    {
     "data": {
      "text/plain": [
       "plos one                           191\n",
       "journal of biological chemistry     60\n",
       "neuroimage                          34\n",
       "nucleic acids research              26\n",
       "plos pathogens                      24\n",
       "Name: Journal title, dtype: int64"
      ]
     },
     "execution_count": 177,
     "metadata": {},
     "output_type": "execute_result"
    }
   ],
   "source": [
    "df['Journal title'].value_counts().nlargest(5)"
   ]
  },
  {
   "cell_type": "markdown",
   "metadata": {},
   "source": [
    "### Mean, median, and standard deviation of the open-access cost per article for each journal "
   ]
  },
  {
   "cell_type": "code",
   "execution_count": 178,
   "metadata": {},
   "outputs": [],
   "source": [
    "costs = 'COST (£) charged to Wellcome (inc VAT when charged)'\n",
    "# df[costs].describe();\n",
    "df[costs] = df[costs].str.replace('£','')\n",
    "df[costs] = df[costs].str.replace('$','') \n",
    "\n",
    "# How to replace a list of values?"
   ]
  },
  {
   "cell_type": "markdown",
   "metadata": {},
   "source": [
    "#### (!) Converting / Seeing the unconvertable data types"
   ]
  },
  {
   "cell_type": "code",
   "execution_count": 179,
   "metadata": {},
   "outputs": [],
   "source": [
    "df[costs] = pd.to_numeric(df[costs]);"
   ]
  },
  {
   "cell_type": "code",
   "execution_count": 180,
   "metadata": {},
   "outputs": [],
   "source": [
    "group = df.groupby('Journal title').agg({costs: ['std', 'mean', 'median']});\n",
    "\n",
    "# Using ravel, and a string join, we can create 1 level names for the columns:\n",
    "group.columns = [\" \".join(x) for x in group.columns.ravel()];"
   ]
  },
  {
   "cell_type": "code",
   "execution_count": 181,
   "metadata": {
    "scrolled": true
   },
   "outputs": [
    {
     "data": {
      "text/html": [
       "<div>\n",
       "<style>\n",
       "    .dataframe thead tr:only-child th {\n",
       "        text-align: right;\n",
       "    }\n",
       "\n",
       "    .dataframe thead th {\n",
       "        text-align: left;\n",
       "    }\n",
       "\n",
       "    .dataframe tbody tr th {\n",
       "        vertical-align: top;\n",
       "    }\n",
       "</style>\n",
       "<table border=\"1\" class=\"dataframe\">\n",
       "  <thead>\n",
       "    <tr style=\"text-align: right;\">\n",
       "      <th></th>\n",
       "      <th>COST (£) charged to Wellcome (inc VAT when charged) std</th>\n",
       "      <th>COST (£) charged to Wellcome (inc VAT when charged) mean</th>\n",
       "      <th>COST (£) charged to Wellcome (inc VAT when charged) median</th>\n",
       "    </tr>\n",
       "    <tr>\n",
       "      <th>Journal title</th>\n",
       "      <th></th>\n",
       "      <th></th>\n",
       "      <th></th>\n",
       "    </tr>\n",
       "  </thead>\n",
       "  <tbody>\n",
       "    <tr>\n",
       "      <th>academy of nutrition and dietetics</th>\n",
       "      <td>NaN</td>\n",
       "      <td>2379.540</td>\n",
       "      <td>2379.540</td>\n",
       "    </tr>\n",
       "    <tr>\n",
       "      <th>acs chemical biology</th>\n",
       "      <td>507.309560</td>\n",
       "      <td>1418.186</td>\n",
       "      <td>1294.590</td>\n",
       "    </tr>\n",
       "    <tr>\n",
       "      <th>acs chemical neuroscience</th>\n",
       "      <td>NaN</td>\n",
       "      <td>1186.800</td>\n",
       "      <td>1186.800</td>\n",
       "    </tr>\n",
       "    <tr>\n",
       "      <th>acs nano</th>\n",
       "      <td>35.708892</td>\n",
       "      <td>668.140</td>\n",
       "      <td>668.140</td>\n",
       "    </tr>\n",
       "    <tr>\n",
       "      <th>addiction</th>\n",
       "      <td>306.481292</td>\n",
       "      <td>2136.225</td>\n",
       "      <td>2136.225</td>\n",
       "    </tr>\n",
       "  </tbody>\n",
       "</table>\n",
       "</div>"
      ],
      "text/plain": [
       "                                    COST (£) charged to Wellcome (inc VAT when charged) std  \\\n",
       "Journal title                                                                                 \n",
       "academy of nutrition and dietetics                                                NaN         \n",
       "acs chemical biology                                                       507.309560         \n",
       "acs chemical neuroscience                                                         NaN         \n",
       "acs nano                                                                    35.708892         \n",
       "addiction                                                                  306.481292         \n",
       "\n",
       "                                    COST (£) charged to Wellcome (inc VAT when charged) mean  \\\n",
       "Journal title                                                                                  \n",
       "academy of nutrition and dietetics                                           2379.540          \n",
       "acs chemical biology                                                         1418.186          \n",
       "acs chemical neuroscience                                                    1186.800          \n",
       "acs nano                                                                      668.140          \n",
       "addiction                                                                    2136.225          \n",
       "\n",
       "                                    COST (£) charged to Wellcome (inc VAT when charged) median  \n",
       "Journal title                                                                                   \n",
       "academy of nutrition and dietetics                                           2379.540           \n",
       "acs chemical biology                                                         1294.590           \n",
       "acs chemical neuroscience                                                    1186.800           \n",
       "acs nano                                                                      668.140           \n",
       "addiction                                                                    2136.225           "
      ]
     },
     "execution_count": 181,
     "metadata": {},
     "output_type": "execute_result"
    }
   ],
   "source": [
    "group.head(5)"
   ]
  }
 ],
 "metadata": {
  "kernelspec": {
   "display_name": "Python 3",
   "language": "python",
   "name": "python3"
  },
  "language_info": {
   "codemirror_mode": {
    "name": "ipython",
    "version": 3
   },
   "file_extension": ".py",
   "mimetype": "text/x-python",
   "name": "python",
   "nbconvert_exporter": "python",
   "pygments_lexer": "ipython3",
   "version": "3.6.1"
  }
 },
 "nbformat": 4,
 "nbformat_minor": 2
}
