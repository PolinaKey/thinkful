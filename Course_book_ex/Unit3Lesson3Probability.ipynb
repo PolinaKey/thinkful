{
 "cells": [
  {
   "cell_type": "markdown",
   "metadata": {},
   "source": [
    "Calculate the probability of flipping a balanced coin four times and getting each pattern: HTTH, HHHH and TTHH."
   ]
  },
  {
   "cell_type": "markdown",
   "metadata": {},
   "source": [
    "The independent events. Probability of each outcome = 1/2\n",
    "Each pattern will have probability = 1/2 * 1/2 * 1/2 * 1/2 = 1/16\n"
   ]
  },
  {
   "cell_type": "code",
   "execution_count": null,
   "metadata": {
    "collapsed": true
   },
   "outputs": [],
   "source": []
  },
  {
   "cell_type": "markdown",
   "metadata": {},
   "source": [
    "If a list of people has 24 women and 21 men, then the probability of choosing a man from the list is 21/45. What is the probability of not choosing a man?"
   ]
  },
  {
   "cell_type": "markdown",
   "metadata": {},
   "source": [
    "The probability of negative event = 1 - 21/45 = 24/45"
   ]
  },
  {
   "cell_type": "code",
   "execution_count": null,
   "metadata": {
    "collapsed": true
   },
   "outputs": [],
   "source": []
  },
  {
   "cell_type": "markdown",
   "metadata": {},
   "source": [
    "The probability that Bernice will travel by plane sometime in the next year is 10%. The probability of a plane crash at any time is .005%. What is the probability that Bernice will be in a plane crash sometime in the next year?"
   ]
  },
  {
   "cell_type": "markdown",
   "metadata": {},
   "source": [
    "Probability of crush being on the plane\n",
    "A = airplane crushes, B = Berenice travels by plane - independent events. \n",
    "P = 0.005 * 0.1 = 0.0005"
   ]
  },
  {
   "cell_type": "code",
   "execution_count": null,
   "metadata": {
    "collapsed": true
   },
   "outputs": [],
   "source": []
  },
  {
   "cell_type": "markdown",
   "metadata": {},
   "source": [
    "A data scientist wants to study the behavior of users on the company website. Each time a user clicks on a link on the website, there is a 5% chance that the user will be asked to complete a short survey about their behavior on the website. The data scientist uses the survey data to conclude that, on average, users spend 15 minutes surfing the company website before moving on to other things. What is wrong with this conclusion?"
   ]
  },
  {
   "cell_type": "markdown",
   "metadata": {},
   "source": [
    "1. We assume that the user clicks on links while surfing the company website.\n",
    "2. To achieve a high probability (0.7) of being served a survey, the user needs to click on links X number of times"
   ]
  },
  {
   "cell_type": "code",
   "execution_count": null,
   "metadata": {
    "collapsed": true
   },
   "outputs": [],
   "source": []
  },
  {
   "cell_type": "markdown",
   "metadata": {},
   "source": [
    "# Misc"
   ]
  },
  {
   "cell_type": "code",
   "execution_count": 117,
   "metadata": {},
   "outputs": [
    {
     "data": {
      "text/plain": [
       "0.2262190625"
      ]
     },
     "execution_count": 117,
     "metadata": {},
     "output_type": "execute_result"
    }
   ],
   "source": [
    "0.05+(0.05*0.95)+(0.05*0.95*0.95)+(0.05*0.95*0.95*0.95)+(0.05*0.95*0.95*0.95*0.95)"
   ]
  },
  {
   "cell_type": "code",
   "execution_count": 118,
   "metadata": {},
   "outputs": [],
   "source": [
    "good_outcome = 0\n",
    "\n",
    "def prob(attempt):\n",
    "    yes=0.05\n",
    "    no=0.95\n",
    "    return yes*(no**(attempt))\n",
    "\n",
    "\n",
    "def fre(clicks):\n",
    "    n = range(clicks)\n",
    "    for click in n:\n",
    "        return prob(click) + good_outcome"
   ]
  },
  {
   "cell_type": "code",
   "execution_count": 119,
   "metadata": {},
   "outputs": [
    {
     "data": {
      "text/plain": [
       "0.05"
      ]
     },
     "execution_count": 119,
     "metadata": {},
     "output_type": "execute_result"
    }
   ],
   "source": [
    "fre(15)"
   ]
  },
  {
   "cell_type": "code",
   "execution_count": 120,
   "metadata": {},
   "outputs": [
    {
     "name": "stdout",
     "output_type": "stream",
     "text": [
      "\n",
      "Hello\n",
      "HelloHello\n",
      "HelloHelloHello\n",
      "HelloHelloHelloHello\n",
      "HelloHelloHelloHelloHello\n",
      "HelloHelloHelloHelloHelloHello\n",
      "HelloHelloHelloHelloHelloHelloHello\n",
      "HelloHelloHelloHelloHelloHelloHelloHello\n",
      "HelloHelloHelloHelloHelloHelloHelloHelloHello\n"
     ]
    }
   ],
   "source": [
    "dic = 10\n",
    "\n",
    "ran = range(dic)\n",
    "for n in ran: \n",
    "    print('Hello'*n)"
   ]
  },
  {
   "cell_type": "code",
   "execution_count": null,
   "metadata": {
    "collapsed": true
   },
   "outputs": [],
   "source": []
  },
  {
   "cell_type": "code",
   "execution_count": null,
   "metadata": {
    "collapsed": true
   },
   "outputs": [],
   "source": []
  }
 ],
 "metadata": {
  "kernelspec": {
   "display_name": "Python 3",
   "language": "python",
   "name": "python3"
  },
  "language_info": {
   "codemirror_mode": {
    "name": "ipython",
    "version": 3
   },
   "file_extension": ".py",
   "mimetype": "text/x-python",
   "name": "python",
   "nbconvert_exporter": "python",
   "pygments_lexer": "ipython3",
   "version": "3.6.1"
  }
 },
 "nbformat": 4,
 "nbformat_minor": 2
}
