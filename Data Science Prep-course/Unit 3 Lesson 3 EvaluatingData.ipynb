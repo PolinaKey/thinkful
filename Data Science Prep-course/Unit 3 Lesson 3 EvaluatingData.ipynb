{
 "cells": [
  {
   "cell_type": "markdown",
   "metadata": {},
   "source": [
    "#### Data Source: Amsterdam availability data scraped from AirBnB on December 24th. Question: What are the popular neighborhoods in Amsterdam?\n",
    "\n",
    "Shortcomings:\n",
    "- Christmas season: areas close to Christmas market less available \n",
    "- More Hosts staying home or on the other hand travelling for Christmas and thus providing more accommodation\n",
    "- Students leaving for home / vacations - more offer in the student areas\n",
    "- Airbnb might not be a great source: Airbnb are more wide spread in the residential areas, whereas hotels more present in central areas popular with tourists\n",
    "\n",
    "To adjust: \n",
    "- Get the data on attractiveness of specific areas in Amsterdam during Christmas (or seasonality coefficients) and apply the coefficients to see the data 'cleared' from Christmas.\n",
    "- Limit conclusions to Christmas period and answer a new question: Where do Airbnb travellers prefer staying on Christmas in Amsterdam?\n"
   ]
  },
  {
   "cell_type": "markdown",
   "metadata": {},
   "source": [
    "#### Data Source: Mental health services use on September 12, 2001 in San Francisco, CA and New York City, NY. Question: How do patterns of mental health service use vary between cities?\n",
    "\n",
    "Shortcomings:\n",
    "- NY terrorist attack will cause a spike in mental health service in NY on that date. \n",
    "- NY and SF may not be representative of all the cities in the US: two big highly developed cities (the way habitats use medical services can be very different) with faster life pace (potentially more stressful life)\n",
    "\n",
    "Adjust: \n",
    "- Collect the data for the other day (not close to exceptional circumstances) \n",
    "- Identify the trend of increased usage of the other medical services on September 12 and apply the corrections\n",
    "- New question: how terrorist attack affected use of mental services in NY and SF? differences between the city where the attack happened and the city where it could have happened "
   ]
  },
  {
   "cell_type": "markdown",
   "metadata": {},
   "source": [
    "#### Data Source: Armenian Pub Survey. Question: What are the most common reasons Armenians visit local pubs?\n",
    "\n",
    "Shortcomings:\n",
    "- Not only Armenians can visit Armenian pub. \n",
    "- Armenians can go to an Armenian bar in particular for culture-related reasons. The attitude to and the occasion to go to the other local bars can completely different.\n",
    "\n",
    "To adjust:\n",
    "- Filter non-Armenians\n",
    "- New question: what are the reasons people go to this Armenian bar? "
   ]
  },
  {
   "cell_type": "code",
   "execution_count": null,
   "metadata": {
    "collapsed": true
   },
   "outputs": [],
   "source": []
  }
 ],
 "metadata": {
  "kernelspec": {
   "display_name": "Python 3",
   "language": "python",
   "name": "python3"
  },
  "language_info": {
   "codemirror_mode": {
    "name": "ipython",
    "version": 3
   },
   "file_extension": ".py",
   "mimetype": "text/x-python",
   "name": "python",
   "nbconvert_exporter": "python",
   "pygments_lexer": "ipython3",
   "version": "3.6.1"
  }
 },
 "nbformat": 4,
 "nbformat_minor": 2
}
