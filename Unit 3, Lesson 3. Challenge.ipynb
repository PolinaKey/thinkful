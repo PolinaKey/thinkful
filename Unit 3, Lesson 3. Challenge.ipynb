{
 "cells": [
  {
   "cell_type": "markdown",
   "metadata": {},
   "source": [
    "## Unit 3, Lesson 3. Challenge"
   ]
  },
  {
   "cell_type": "markdown",
   "metadata": {},
   "source": [
    "Engineer your features, then create three models. Each model will be run on a training set and a test-set (or multiple test-sets, if you take a folds approach). The models should be:\n",
    "\n",
    "- Vanilla logistic regression\n",
    "- Ridge logistic regression\n",
    "- Lasso logistic regression\n"
   ]
  },
  {
   "cell_type": "code",
   "execution_count": 102,
   "metadata": {
    "collapsed": true
   },
   "outputs": [],
   "source": [
    "import pandas as pd\n",
    "from matplotlib import pyplot as plt\n",
    "import numpy as np\n",
    "import math\n",
    "import seaborn as sns\n",
    "import sklearn\n",
    "from sklearn import linear_model\n",
    "from sklearn import preprocessing\n",
    "%matplotlib inline\n",
    "sns.set_style('white')"
   ]
  },
  {
   "cell_type": "code",
   "execution_count": 103,
   "metadata": {},
   "outputs": [],
   "source": [
    "df=pd.read_csv(\"../crx.data.txt\", engine='python', header=None, names = [\n",
    "\"Male\",\n",
    "\"Age\",\n",
    "\"Debt\",\n",
    "\"Married\",\n",
    "\"BankCustomer\",\n",
    "\"EducationLevel\",\n",
    "\"Ethnicity\",\n",
    "\"YearsEmployed\",\n",
    "\"PriorDefault\",\n",
    "\"Employed\",\n",
    "\"CreditScore\",\n",
    "\"DriversLicense\",\n",
    "\"Citizen\",\n",
    "\"ZipCode\",\n",
    "\"Income\",\n",
    "\"Approved\",])\n",
    "\n",
    "df = df.drop('ZipCode', axis=1);"
   ]
  },
  {
   "cell_type": "code",
   "execution_count": 104,
   "metadata": {
    "collapsed": true
   },
   "outputs": [],
   "source": [
    "# drop missing values\n",
    "for col in df.columns:\n",
    "    df = df[~df[col].isin(['?'])]"
   ]
  },
  {
   "cell_type": "code",
   "execution_count": 105,
   "metadata": {},
   "outputs": [],
   "source": [
    "# transform coded values to binary\n",
    "df.Approved.replace(['+', '-'], ['1', '0'], inplace=True)\n",
    "df.Male.replace(['b', 'a'], ['0', '1'], inplace=True)\n",
    "df.DriversLicense.replace(['t', 'f'], ['1', '0'], inplace=True)\n",
    "df.Employed.replace(['t', 'f'], ['1', '0'], inplace=True)\n",
    "df.PriorDefault.replace(['t', 'f'], ['1', '0'], inplace=True)"
   ]
  },
  {
   "cell_type": "code",
   "execution_count": 106,
   "metadata": {},
   "outputs": [],
   "source": [
    "# convert str to float type for Age\n",
    "df['Age'] = df.Age.astype('float')\n",
    "df['Employed'] = df.Employed.astype('int')\n",
    "df['PriorDefault'] = df.PriorDefault.astype('int')\n",
    "df['DriversLicense'] = df.DriversLicense.astype('int')\n",
    "df['Approved'] = df.Approved.astype('int')"
   ]
  },
  {
   "cell_type": "code",
   "execution_count": 107,
   "metadata": {},
   "outputs": [
    {
     "data": {
      "text/html": [
       "<div>\n",
       "<style>\n",
       "    .dataframe thead tr:only-child th {\n",
       "        text-align: right;\n",
       "    }\n",
       "\n",
       "    .dataframe thead th {\n",
       "        text-align: left;\n",
       "    }\n",
       "\n",
       "    .dataframe tbody tr th {\n",
       "        vertical-align: top;\n",
       "    }\n",
       "</style>\n",
       "<table border=\"1\" class=\"dataframe\">\n",
       "  <thead>\n",
       "    <tr style=\"text-align: right;\">\n",
       "      <th></th>\n",
       "      <th>Male</th>\n",
       "      <th>Age</th>\n",
       "      <th>Debt</th>\n",
       "      <th>Married</th>\n",
       "      <th>BankCustomer</th>\n",
       "      <th>EducationLevel</th>\n",
       "      <th>Ethnicity</th>\n",
       "      <th>YearsEmployed</th>\n",
       "      <th>PriorDefault</th>\n",
       "      <th>Employed</th>\n",
       "      <th>CreditScore</th>\n",
       "      <th>DriversLicense</th>\n",
       "      <th>Citizen</th>\n",
       "      <th>Income</th>\n",
       "      <th>Approved</th>\n",
       "    </tr>\n",
       "  </thead>\n",
       "  <tbody>\n",
       "    <tr>\n",
       "      <th>0</th>\n",
       "      <td>0</td>\n",
       "      <td>30.83</td>\n",
       "      <td>0.00</td>\n",
       "      <td>u</td>\n",
       "      <td>g</td>\n",
       "      <td>w</td>\n",
       "      <td>v</td>\n",
       "      <td>1.25</td>\n",
       "      <td>1</td>\n",
       "      <td>1</td>\n",
       "      <td>1</td>\n",
       "      <td>0</td>\n",
       "      <td>g</td>\n",
       "      <td>0</td>\n",
       "      <td>1</td>\n",
       "    </tr>\n",
       "    <tr>\n",
       "      <th>1</th>\n",
       "      <td>1</td>\n",
       "      <td>58.67</td>\n",
       "      <td>4.46</td>\n",
       "      <td>u</td>\n",
       "      <td>g</td>\n",
       "      <td>q</td>\n",
       "      <td>h</td>\n",
       "      <td>3.04</td>\n",
       "      <td>1</td>\n",
       "      <td>1</td>\n",
       "      <td>6</td>\n",
       "      <td>0</td>\n",
       "      <td>g</td>\n",
       "      <td>560</td>\n",
       "      <td>1</td>\n",
       "    </tr>\n",
       "    <tr>\n",
       "      <th>2</th>\n",
       "      <td>1</td>\n",
       "      <td>24.50</td>\n",
       "      <td>0.50</td>\n",
       "      <td>u</td>\n",
       "      <td>g</td>\n",
       "      <td>q</td>\n",
       "      <td>h</td>\n",
       "      <td>1.50</td>\n",
       "      <td>1</td>\n",
       "      <td>0</td>\n",
       "      <td>0</td>\n",
       "      <td>0</td>\n",
       "      <td>g</td>\n",
       "      <td>824</td>\n",
       "      <td>1</td>\n",
       "    </tr>\n",
       "  </tbody>\n",
       "</table>\n",
       "</div>"
      ],
      "text/plain": [
       "  Male    Age  Debt Married BankCustomer EducationLevel Ethnicity  \\\n",
       "0    0  30.83  0.00       u            g              w         v   \n",
       "1    1  58.67  4.46       u            g              q         h   \n",
       "2    1  24.50  0.50       u            g              q         h   \n",
       "\n",
       "   YearsEmployed  PriorDefault  Employed  CreditScore  DriversLicense Citizen  \\\n",
       "0           1.25             1         1            1               0       g   \n",
       "1           3.04             1         1            6               0       g   \n",
       "2           1.50             1         0            0               0       g   \n",
       "\n",
       "   Income  Approved  \n",
       "0       0         1  \n",
       "1     560         1  \n",
       "2     824         1  "
      ]
     },
     "execution_count": 107,
     "metadata": {},
     "output_type": "execute_result"
    }
   ],
   "source": [
    "df.head(3)"
   ]
  },
  {
   "cell_type": "code",
   "execution_count": 108,
   "metadata": {},
   "outputs": [],
   "source": [
    "df['YearsEmployed_Income'] = df['YearsEmployed'] * df['Income']\n",
    "df['Income_sqrt'] = np.sqrt(df['Income'])\n",
    "df['CreditScore2'] = df['CreditScore'] ** 2\n",
    "df['Age2'] = df['Age'] ** 2\n",
    "df['Debt3'] = df['Debt'] ** 3"
   ]
  },
  {
   "cell_type": "code",
   "execution_count": 109,
   "metadata": {},
   "outputs": [],
   "source": [
    "df = pd.get_dummies(df)"
   ]
  },
  {
   "cell_type": "code",
   "execution_count": 123,
   "metadata": {},
   "outputs": [],
   "source": [
    "Y = df['Approved']\n",
    "X = df.loc[:, ~(df.columns).isin(['Approved'])]"
   ]
  },
  {
   "cell_type": "code",
   "execution_count": 124,
   "metadata": {
    "collapsed": true
   },
   "outputs": [],
   "source": [
    "from sklearn.model_selection import train_test_split\n",
    "\n",
    "X_train, X_test, y_train, y_test = train_test_split(X, Y, test_size=0.2, random_state=20)"
   ]
  },
  {
   "cell_type": "markdown",
   "metadata": {},
   "source": [
    "#### Vanilla Logistic Regression"
   ]
  },
  {
   "cell_type": "code",
   "execution_count": 133,
   "metadata": {},
   "outputs": [
    {
     "data": {
      "text/plain": [
       "0.84848484848484851"
      ]
     },
     "execution_count": 133,
     "metadata": {},
     "output_type": "execute_result"
    }
   ],
   "source": [
    "lr = linear_model.LogisticRegression(C=1e9)\n",
    "lr.fit(X_train, y_train.ravel())\n",
    "lr.score(X_test, y_test)"
   ]
  },
  {
   "cell_type": "markdown",
   "metadata": {},
   "source": [
    "#### Ridge Regression"
   ]
  },
  {
   "cell_type": "code",
   "execution_count": 127,
   "metadata": {},
   "outputs": [
    {
     "data": {
      "text/plain": [
       "0.51573403270051044"
      ]
     },
     "execution_count": 127,
     "metadata": {},
     "output_type": "execute_result"
    }
   ],
   "source": [
    "ridgeregrBig = linear_model.Ridge(alpha=10)\n",
    "ridgeregrBig.fit(X_train, y_train)\n",
    "ridgeregrBig.score(X_test, y_test)"
   ]
  },
  {
   "cell_type": "markdown",
   "metadata": {},
   "source": [
    "#### Lasso Regression"
   ]
  },
  {
   "cell_type": "code",
   "execution_count": 128,
   "metadata": {},
   "outputs": [
    {
     "data": {
      "text/plain": [
       "0.12469874108612565"
      ]
     },
     "execution_count": 128,
     "metadata": {},
     "output_type": "execute_result"
    }
   ],
   "source": [
    "lassBig = linear_model.Lasso(alpha=.35)\n",
    "lassBig.fit(X_train, y_train)\n",
    "lassBig.score(X_test, y_test)"
   ]
  },
  {
   "cell_type": "code",
   "execution_count": 130,
   "metadata": {},
   "outputs": [
    {
     "name": "stdout",
     "output_type": "stream",
     "text": [
      "[[-0.061 -0.005 0.000]\n",
      " [-0.007 0.002 0.000]\n",
      " [0.035 0.011 0.000]\n",
      " [3.407 0.518 0.000]\n",
      " [0.731 0.082 0.000]\n",
      " [0.078 0.012 0.013]\n",
      " [0.047 0.008 0.000]\n",
      " [0.000 -0.000 -0.000]\n",
      " [0.000 -0.000 -0.000]\n",
      " [0.021 0.005 0.009]\n",
      " [-0.001 -0.000 -0.000]\n",
      " [0.001 0.000 0.000]\n",
      " [-0.000 -0.000 0.000]\n",
      " [-0.396 -0.007 -0.000]\n",
      " [-0.162 0.007 0.000]\n",
      " [0.575 0.057 0.000]\n",
      " [-0.359 -0.014 0.000]\n",
      " [-0.774 -0.044 -0.000]\n",
      " [-0.359 -0.014 0.000]\n",
      " [0.575 0.057 0.000]\n",
      " [-0.774 -0.044 -0.000]\n",
      " [-0.485 -0.056 -0.000]\n",
      " [-0.117 -0.012 0.000]\n",
      " [1.432 0.098 0.000]\n",
      " [0.140 -0.002 -0.000]\n",
      " [0.258 0.034 0.000]\n",
      " [-1.346 -0.105 -0.000]\n",
      " [-0.730 -0.051 -0.000]\n",
      " [-0.312 -0.026 -0.000]\n",
      " [-0.917 -0.065 -0.000]\n",
      " [-0.267 -0.007 0.000]\n",
      " [-0.297 0.007 0.000]\n",
      " [0.040 0.011 0.000]\n",
      " [0.789 0.065 0.000]\n",
      " [1.254 0.108 0.000]\n",
      " [-0.204 -0.013 -0.000]\n",
      " [0.168 0.006 -0.000]\n",
      " [-0.723 -0.024 -0.000]\n",
      " [0.340 0.036 0.000]\n",
      " [0.423 0.043 0.000]\n",
      " [0.611 0.054 0.000]\n",
      " [-0.040 -0.007 -0.000]\n",
      " [-0.431 -0.026 -0.000]\n",
      " [-0.701 -0.070 -0.000]\n",
      " [-0.463 -0.014 0.000]\n",
      " [-0.036 -0.003 -0.000]\n",
      " [-0.058 0.017 -0.000]\n",
      " [-0.558 0.164 0.234]]\n"
     ]
    }
   ],
   "source": [
    "lr_param = np.append(lr.coef_, lr.intercept_)\n",
    "ridge_param = np.append(ridgeregrBig.coef_, ridgeregrBig.intercept_)\n",
    "lass_param = np.append(lassBig.coef_, lassBig.intercept_)\n",
    "\n",
    "compare = np.column_stack((lr_param, ridge_param, lass_param))\n",
    "\n",
    "prettycompare = np.array2string(\n",
    "    compare,\n",
    "    formatter={'float_kind':'{0:.3f}'.format})\n",
    "\n",
    "print(prettycompare)"
   ]
  },
  {
   "cell_type": "code",
   "execution_count": 148,
   "metadata": {},
   "outputs": [],
   "source": [
    "def frange(start, stop, step):\n",
    "    i = start\n",
    "    while i < stop:\n",
    "        yield i\n",
    "        i += step\n",
    "        \n",
    "lr_r2 = []        \n",
    "rigde_r2 = []\n",
    "lasso_r2 = []\n",
    "lambd_values = []\n",
    "\n",
    "for lambd in frange(0.0001, 0.3, 0.0005):\n",
    "    lr = linear_model.LogisticRegression(C=lambd)\n",
    "    lr.fit(X_train, y_train.ravel())\n",
    "    lr_r2.append(lr.score(X_test, y_test))\n",
    "    ridgeregrBig = linear_model.Ridge(alpha=lambd)\n",
    "    ridgeregrBig.fit(X_train, y_train)\n",
    "    rigde_r2.append(ridgeregrBig.score(X_test, y_test))\n",
    "    lassBig = linear_model.Lasso(alpha=lambd)\n",
    "    lassBig.fit(X_train, y_train)\n",
    "    lasso_r2.append(lassBig.score(X_test, y_test))\n",
    "    lambd_values.append([lambd]) "
   ]
  },
  {
   "cell_type": "code",
   "execution_count": 149,
   "metadata": {},
   "outputs": [
    {
     "data": {
      "image/png": "[encoded data removed]",
      "text/plain": [
       "<matplotlib.figure.Figure at 0x1204efb00>"
      ]
     },
     "metadata": {},
     "output_type": "display_data"
    }
   ],
   "source": [
    "plt.figure(figsize=(10,5))\n",
    "plt.plot(lambd_values,lr_r2, 'g', lambd_values, rigde_r2, 'r', lambd_values, lasso_r2, 'b')\n",
    "plt.xlabel('Alpha')\n",
    "plt.ylabel('R^2')\n",
    "plt.legend(['Vanilla','Ridge','Lasso'])\n",
    "plt.title('R^2 explained by different logistic model, depending on lambda parameter')\n",
    "plt.show()"
   ]
  },
  {
   "cell_type": "code",
   "execution_count": null,
   "metadata": {
    "collapsed": true
   },
   "outputs": [],
   "source": [
    "## C parameter? \n",
    "## Scale of lambda is different"
   ]
  }
 ],
 "metadata": {
  "kernelspec": {
   "display_name": "Python 3",
   "language": "python",
   "name": "python3"
  },
  "language_info": {
   "codemirror_mode": {
    "name": "ipython",
    "version": 3
   },
   "file_extension": ".py",
   "mimetype": "text/x-python",
   "name": "python",
   "nbconvert_exporter": "python",
   "pygments_lexer": "ipython3",
   "version": "3.6.1"
  },
  "widgets": {
   "application/vnd.jupyter.widget-state+json": {
    "state": {},
    "version_major": 1,
    "version_minor": 0
   }
  }
 },
 "nbformat": 4,
 "nbformat_minor": 2
}
