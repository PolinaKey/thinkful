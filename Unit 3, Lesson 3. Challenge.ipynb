{
 "cells": [
  {
   "cell_type": "markdown",
   "metadata": {},
   "source": [
    "## Unit 3, Lesson 3. Challenge"
   ]
  },
  {
   "cell_type": "markdown",
   "metadata": {},
   "source": [
    "Engineer your features, then create three models. Each model will be run on a training set and a test-set (or multiple test-sets, if you take a folds approach). The models should be:\n",
    "\n",
    "- Vanilla logistic regression\n",
    "- Ridge logistic regression\n",
    "- Lasso logistic regression\n"
   ]
  },
  {
   "cell_type": "code",
   "execution_count": 1,
   "metadata": {
    "collapsed": true
   },
   "outputs": [],
   "source": [
    "import pandas as pd\n",
    "from matplotlib import pyplot as plt\n",
    "import numpy as np\n",
    "import math\n",
    "import seaborn as sns\n",
    "import sklearn\n",
    "from sklearn import linear_model\n",
    "%matplotlib inline\n",
    "sns.set_style('white')"
   ]
  },
  {
   "cell_type": "code",
   "execution_count": 2,
   "metadata": {
    "collapsed": true
   },
   "outputs": [],
   "source": [
    "df=pd.read_csv(\"../crx.data.txt\", engine='python', header=None, names = [\n",
    "\"Male\",\n",
    "\"Age\",\n",
    "\"Debt\",\n",
    "\"Married\",\n",
    "\"BankCustomer\",\n",
    "\"EducationLevel\",\n",
    "\"Ethnicity\",\n",
    "\"YearsEmployed\",\n",
    "\"PriorDefault\",\n",
    "\"Employed\",\n",
    "\"CreditScore\",\n",
    "\"DriversLicense\",\n",
    "\"Citizen\",\n",
    "\"ZipCode\",\n",
    "\"Income\",\n",
    "\"Approved\",])\n",
    "\n",
    "df = df.drop('ZipCode', axis=1);"
   ]
  },
  {
   "cell_type": "code",
   "execution_count": 3,
   "metadata": {
    "collapsed": true
   },
   "outputs": [],
   "source": [
    "# drop missing values\n",
    "for col in df.columns:\n",
    "    df = df[~df[col].isin(['?'])]"
   ]
  },
  {
   "cell_type": "code",
   "execution_count": 4,
   "metadata": {
    "collapsed": true
   },
   "outputs": [],
   "source": [
    "# transform coded values to binary\n",
    "df.Approved.replace(['+', '-'], ['1', '0'], inplace=True)\n",
    "df.Male.replace(['b', 'a'], ['0', '1'], inplace=True)\n",
    "df.DriversLicense.replace(['t', 'f'], ['1', '0'], inplace=True)\n",
    "df.Employed.replace(['t', 'f'], ['1', '0'], inplace=True)\n",
    "df.PriorDefault.replace(['t', 'f'], ['1', '0'], inplace=True)"
   ]
  },
  {
   "cell_type": "code",
   "execution_count": 5,
   "metadata": {
    "collapsed": true
   },
   "outputs": [],
   "source": [
    "# convert str to float type for Age\n",
    "df['Age'] = df.Age.astype('float')\n",
    "df['Employed'] = df.Employed.astype('int')\n",
    "df['PriorDefault'] = df.PriorDefault.astype('int')\n",
    "df['DriversLicense'] = df.DriversLicense.astype('int')\n",
    "df['Approved'] = df.Approved.astype('int')"
   ]
  },
  {
   "cell_type": "code",
   "execution_count": 6,
   "metadata": {},
   "outputs": [
    {
     "data": {
      "text/html": [
       "<div>\n",
       "<style>\n",
       "    .dataframe thead tr:only-child th {\n",
       "        text-align: right;\n",
       "    }\n",
       "\n",
       "    .dataframe thead th {\n",
       "        text-align: left;\n",
       "    }\n",
       "\n",
       "    .dataframe tbody tr th {\n",
       "        vertical-align: top;\n",
       "    }\n",
       "</style>\n",
       "<table border=\"1\" class=\"dataframe\">\n",
       "  <thead>\n",
       "    <tr style=\"text-align: right;\">\n",
       "      <th></th>\n",
       "      <th>Male</th>\n",
       "      <th>Age</th>\n",
       "      <th>Debt</th>\n",
       "      <th>Married</th>\n",
       "      <th>BankCustomer</th>\n",
       "      <th>EducationLevel</th>\n",
       "      <th>Ethnicity</th>\n",
       "      <th>YearsEmployed</th>\n",
       "      <th>PriorDefault</th>\n",
       "      <th>Employed</th>\n",
       "      <th>CreditScore</th>\n",
       "      <th>DriversLicense</th>\n",
       "      <th>Citizen</th>\n",
       "      <th>Income</th>\n",
       "      <th>Approved</th>\n",
       "    </tr>\n",
       "  </thead>\n",
       "  <tbody>\n",
       "    <tr>\n",
       "      <th>0</th>\n",
       "      <td>0</td>\n",
       "      <td>30.83</td>\n",
       "      <td>0.00</td>\n",
       "      <td>u</td>\n",
       "      <td>g</td>\n",
       "      <td>w</td>\n",
       "      <td>v</td>\n",
       "      <td>1.25</td>\n",
       "      <td>1</td>\n",
       "      <td>1</td>\n",
       "      <td>1</td>\n",
       "      <td>0</td>\n",
       "      <td>g</td>\n",
       "      <td>0</td>\n",
       "      <td>1</td>\n",
       "    </tr>\n",
       "    <tr>\n",
       "      <th>1</th>\n",
       "      <td>1</td>\n",
       "      <td>58.67</td>\n",
       "      <td>4.46</td>\n",
       "      <td>u</td>\n",
       "      <td>g</td>\n",
       "      <td>q</td>\n",
       "      <td>h</td>\n",
       "      <td>3.04</td>\n",
       "      <td>1</td>\n",
       "      <td>1</td>\n",
       "      <td>6</td>\n",
       "      <td>0</td>\n",
       "      <td>g</td>\n",
       "      <td>560</td>\n",
       "      <td>1</td>\n",
       "    </tr>\n",
       "    <tr>\n",
       "      <th>2</th>\n",
       "      <td>1</td>\n",
       "      <td>24.50</td>\n",
       "      <td>0.50</td>\n",
       "      <td>u</td>\n",
       "      <td>g</td>\n",
       "      <td>q</td>\n",
       "      <td>h</td>\n",
       "      <td>1.50</td>\n",
       "      <td>1</td>\n",
       "      <td>0</td>\n",
       "      <td>0</td>\n",
       "      <td>0</td>\n",
       "      <td>g</td>\n",
       "      <td>824</td>\n",
       "      <td>1</td>\n",
       "    </tr>\n",
       "  </tbody>\n",
       "</table>\n",
       "</div>"
      ],
      "text/plain": [
       "  Male    Age  Debt Married BankCustomer EducationLevel Ethnicity  \\\n",
       "0    0  30.83  0.00       u            g              w         v   \n",
       "1    1  58.67  4.46       u            g              q         h   \n",
       "2    1  24.50  0.50       u            g              q         h   \n",
       "\n",
       "   YearsEmployed  PriorDefault  Employed  CreditScore  DriversLicense Citizen  \\\n",
       "0           1.25             1         1            1               0       g   \n",
       "1           3.04             1         1            6               0       g   \n",
       "2           1.50             1         0            0               0       g   \n",
       "\n",
       "   Income  Approved  \n",
       "0       0         1  \n",
       "1     560         1  \n",
       "2     824         1  "
      ]
     },
     "execution_count": 6,
     "metadata": {},
     "output_type": "execute_result"
    }
   ],
   "source": [
    "df.head(3)"
   ]
  },
  {
   "cell_type": "code",
   "execution_count": 7,
   "metadata": {
    "collapsed": true
   },
   "outputs": [],
   "source": [
    "df['YearsEmployed_Income'] = df['YearsEmployed'] * df['Income']\n",
    "df['Income_sqrt'] = np.sqrt(df['Income'])\n",
    "df['CreditScore2'] = df['CreditScore'] ** 2\n",
    "df['Age2'] = df['Age'] ** 2\n",
    "df['Debt3'] = df['Debt'] ** 3"
   ]
  },
  {
   "cell_type": "code",
   "execution_count": 8,
   "metadata": {
    "collapsed": true
   },
   "outputs": [],
   "source": [
    "df = pd.get_dummies(df)"
   ]
  },
  {
   "cell_type": "code",
   "execution_count": 9,
   "metadata": {
    "collapsed": true
   },
   "outputs": [],
   "source": [
    "Y = df['Approved']\n",
    "X = df.loc[:, ~(df.columns).isin(['Approved'])]"
   ]
  },
  {
   "cell_type": "code",
   "execution_count": 10,
   "metadata": {
    "collapsed": true
   },
   "outputs": [],
   "source": [
    "from sklearn.model_selection import train_test_split\n",
    "\n",
    "X_train, X_test, y_train, y_test = train_test_split(X, Y, test_size=0.2, random_state=20)"
   ]
  },
  {
   "cell_type": "markdown",
   "metadata": {},
   "source": [
    "#### Vanilla Logistic Regression"
   ]
  },
  {
   "cell_type": "code",
   "execution_count": 11,
   "metadata": {},
   "outputs": [
    {
     "data": {
      "text/plain": [
       "0.85606060606060608"
      ]
     },
     "execution_count": 11,
     "metadata": {},
     "output_type": "execute_result"
    }
   ],
   "source": [
    "lr = linear_model.LogisticRegression()\n",
    "lr.fit(X_train, y_train.ravel())\n",
    "lr.score(X_test, y_test)"
   ]
  },
  {
   "cell_type": "markdown",
   "metadata": {},
   "source": [
    "#### Ridge Regression"
   ]
  },
  {
   "cell_type": "code",
   "execution_count": 12,
   "metadata": {},
   "outputs": [
    {
     "data": {
      "text/plain": [
       "0.85606060606060608"
      ]
     },
     "execution_count": 12,
     "metadata": {},
     "output_type": "execute_result"
    }
   ],
   "source": [
    "ridgeregrBig = linear_model.LogisticRegression(penalty='l2', C=10)\n",
    "ridgeregrBig.fit(X_train, y_train)\n",
    "ridgeregrBig.score(X_test, y_test)"
   ]
  },
  {
   "cell_type": "markdown",
   "metadata": {},
   "source": [
    "#### Lasso Regression"
   ]
  },
  {
   "cell_type": "code",
   "execution_count": 13,
   "metadata": {},
   "outputs": [
    {
     "data": {
      "text/plain": [
       "0.84848484848484851"
      ]
     },
     "execution_count": 13,
     "metadata": {},
     "output_type": "execute_result"
    }
   ],
   "source": [
    "lassBig = linear_model.LogisticRegression(penalty='l1', C=.35)\n",
    "lassBig.fit(X_train, y_train)\n",
    "lassBig.score(X_test, y_test)"
   ]
  },
  {
   "cell_type": "markdown",
   "metadata": {},
   "source": [
    "### Comparing feature evaluation for all three models"
   ]
  },
  {
   "cell_type": "code",
   "execution_count": 72,
   "metadata": {
    "collapsed": true
   },
   "outputs": [],
   "source": [
    "lr_param = np.append(lr.coef_, lr.intercept_)\n",
    "ridge_param = np.append(ridgeregrBig.coef_, ridgeregrBig.intercept_)\n",
    "lass_param = np.append(lassBig.coef_, lassBig.intercept_)\n",
    "\n",
    "titles = X_train.columns\n",
    "titles = titles.tolist()\n",
    "titles.append('Intercept')"
   ]
  },
  {
   "cell_type": "code",
   "execution_count": 85,
   "metadata": {},
   "outputs": [
    {
     "name": "stdout",
     "output_type": "stream",
     "text": [
      "                      lr_param  ridge_param  lass_param\n",
      "Age                      -0.13        -0.12       -0.08\n",
      "Age2                      0.00         0.00        0.00\n",
      "BankCustomer_g            0.04         0.06       -0.62\n",
      "BankCustomer_gg           0.05         0.04        0.64\n",
      "BankCustomer_p           -0.27        -0.26       -1.50\n",
      "Citizen_g                -0.19        -0.16       -0.20\n",
      "Citizen_p                -0.01        -0.01        0.00\n",
      "Citizen_s                 0.01         0.01       -0.21\n",
      "CreditScore               0.13         0.14        0.09\n",
      "CreditScore2             -0.00        -0.00       -0.00\n",
      "Debt                     -0.03        -0.04       -0.00\n",
      "Debt3                     0.00         0.00       -0.00\n",
      "DriversLicense           -0.01        -0.01       -0.11\n",
      "EducationLevel_aa        -0.13        -0.11       -0.22\n",
      "EducationLevel_c         -0.11        -0.09       -0.05\n",
      "EducationLevel_cc         0.33         0.28        1.43\n",
      "EducationLevel_d         -0.13        -0.12        0.65\n",
      "EducationLevel_e          0.05         0.04        1.62\n",
      "EducationLevel_ff        -0.49        -0.43       -5.22\n",
      "EducationLevel_i         -0.32        -0.28       -0.34\n",
      "EducationLevel_j         -0.01        -0.01       -5.21\n",
      "EducationLevel_k         -0.23        -0.19       -0.66\n",
      "EducationLevel_m         -0.03        -0.03        0.15\n",
      "EducationLevel_q          0.11         0.11        0.00\n",
      "EducationLevel_r         -0.00        -0.00       -0.96\n",
      "EducationLevel_w          0.31         0.27        1.09\n",
      "EducationLevel_x          0.46         0.40        1.53\n",
      "Employed                  0.37         0.34        0.68\n",
      "Ethnicity_bb              0.02         0.02       -0.53\n",
      "Ethnicity_dd              0.01         0.01       -0.72\n",
      "Ethnicity_ff             -0.45        -0.40        2.51\n",
      "Ethnicity_h               0.44         0.40        0.00\n",
      "Ethnicity_j               0.07         0.06        4.48\n",
      "Ethnicity_n               0.03         0.02        2.36\n",
      "Ethnicity_o              -0.01        -0.01       -0.72\n",
      "Ethnicity_v              -0.22        -0.20       -0.70\n",
      "Ethnicity_z              -0.07        -0.06       -4.59\n",
      "Income                    0.00         0.00        0.00\n",
      "Income_sqrt               0.02         0.01        0.02\n",
      "Intercept                -0.19        -0.16       -0.59\n",
      "Male_0                   -0.11        -0.09       -0.45\n",
      "Male_1                   -0.08        -0.07       -0.08\n",
      "Married_l                 0.05         0.04        0.44\n",
      "Married_u                 0.04         0.06       -0.49\n",
      "Married_y                -0.27        -0.26       -0.46\n",
      "PriorDefault              2.69         2.36        3.98\n",
      "YearsEmployed             0.09         0.10        0.03\n",
      "YearsEmployed_Income      0.00         0.00        0.00\n"
     ]
    }
   ],
   "source": [
    "pd.options.display.float_format = '{:,.2f}'.format\n",
    "\n",
    "compare_df=pd.DataFrame(np.column_stack([lr_param, ridge_param, lass_param]), index = titles, columns=['lr_param','ridge_param', 'lass_param'])\n",
    "print(compare_df.sort_index())\n",
    "\n",
    "## use cross-validation to measure"
   ]
  },
  {
   "cell_type": "code",
   "execution_count": 83,
   "metadata": {},
   "outputs": [
    {
     "data": {
      "image/png": "[encoded data removed]",
      "text/plain": [
       "<matplotlib.figure.Figure at 0x11221b588>"
      ]
     },
     "metadata": {},
     "output_type": "display_data"
    }
   ],
   "source": [
    "sns.heatmap(compare_df.corr());"
   ]
  },
  {
   "cell_type": "markdown",
   "metadata": {},
   "source": [
    "Lasso shows different results at all! "
   ]
  },
  {
   "cell_type": "markdown",
   "metadata": {},
   "source": [
    "### Let's see how R^2  vary depending on lambda parameter in Ridge and Lasso"
   ]
  },
  {
   "cell_type": "code",
   "execution_count": 22,
   "metadata": {
    "collapsed": true
   },
   "outputs": [],
   "source": [
    "def frange(start, stop, step):\n",
    "    i = start\n",
    "    while i < stop:\n",
    "        yield i\n",
    "        i += step\n",
    "\n",
    "lr_r2 = [0.85606060606060608] * 300\n",
    "rigde_r2 = []\n",
    "lasso_r2 = []\n",
    "lambd_values = []\n",
    "\n",
    "for lambd in frange(0.01, 30, 0.1):\n",
    "    ridgeregrBig = linear_model.LogisticRegression(penalty='l2', C=lambd)\n",
    "    ridgeregrBig.fit(X_train, y_train)\n",
    "    rigde_r2.append(ridgeregrBig.score(X_test, y_test))\n",
    "    lassBig = linear_model.LogisticRegression(penalty='l1', C=lambd)\n",
    "    lassBig.fit(X_train, y_train)\n",
    "    lasso_r2.append(lassBig.score(X_test, y_test))\n",
    "    lambd_values.append([lambd]) "
   ]
  },
  {
   "cell_type": "code",
   "execution_count": 23,
   "metadata": {
    "collapsed": true
   },
   "outputs": [],
   "source": [
    "estimates_df = pd.DataFrame(np.column_stack([lambd_values, rigde_r2, lasso_r2]), \n",
    "                               columns=['lambda','rigde_r2', 'lasso_r2'])"
   ]
  },
  {
   "cell_type": "code",
   "execution_count": 24,
   "metadata": {
    "collapsed": true
   },
   "outputs": [],
   "source": [
    "estimates_df.sort_values(by='lambda', inplace=True, ascending=True)"
   ]
  },
  {
   "cell_type": "code",
   "execution_count": 25,
   "metadata": {},
   "outputs": [
    {
     "data": {
      "text/html": [
       "<div>\n",
       "<style>\n",
       "    .dataframe thead tr:only-child th {\n",
       "        text-align: right;\n",
       "    }\n",
       "\n",
       "    .dataframe thead th {\n",
       "        text-align: left;\n",
       "    }\n",
       "\n",
       "    .dataframe tbody tr th {\n",
       "        vertical-align: top;\n",
       "    }\n",
       "</style>\n",
       "<table border=\"1\" class=\"dataframe\">\n",
       "  <thead>\n",
       "    <tr style=\"text-align: right;\">\n",
       "      <th></th>\n",
       "      <th>lambda</th>\n",
       "      <th>rigde_r2</th>\n",
       "      <th>lasso_r2</th>\n",
       "    </tr>\n",
       "  </thead>\n",
       "  <tbody>\n",
       "    <tr>\n",
       "      <th>count</th>\n",
       "      <td>300.000000</td>\n",
       "      <td>300.000000</td>\n",
       "      <td>300.000000</td>\n",
       "    </tr>\n",
       "    <tr>\n",
       "      <th>mean</th>\n",
       "      <td>14.960000</td>\n",
       "      <td>0.854369</td>\n",
       "      <td>0.854874</td>\n",
       "    </tr>\n",
       "    <tr>\n",
       "      <th>std</th>\n",
       "      <td>8.674676</td>\n",
       "      <td>0.011983</td>\n",
       "      <td>0.009555</td>\n",
       "    </tr>\n",
       "    <tr>\n",
       "      <th>min</th>\n",
       "      <td>0.010000</td>\n",
       "      <td>0.757576</td>\n",
       "      <td>0.696970</td>\n",
       "    </tr>\n",
       "    <tr>\n",
       "      <th>25%</th>\n",
       "      <td>7.485000</td>\n",
       "      <td>0.848485</td>\n",
       "      <td>0.856061</td>\n",
       "    </tr>\n",
       "    <tr>\n",
       "      <th>50%</th>\n",
       "      <td>14.960000</td>\n",
       "      <td>0.856061</td>\n",
       "      <td>0.856061</td>\n",
       "    </tr>\n",
       "    <tr>\n",
       "      <th>75%</th>\n",
       "      <td>22.435000</td>\n",
       "      <td>0.863636</td>\n",
       "      <td>0.856061</td>\n",
       "    </tr>\n",
       "    <tr>\n",
       "      <th>max</th>\n",
       "      <td>29.910000</td>\n",
       "      <td>0.863636</td>\n",
       "      <td>0.863636</td>\n",
       "    </tr>\n",
       "  </tbody>\n",
       "</table>\n",
       "</div>"
      ],
      "text/plain": [
       "           lambda    rigde_r2    lasso_r2\n",
       "count  300.000000  300.000000  300.000000\n",
       "mean    14.960000    0.854369    0.854874\n",
       "std      8.674676    0.011983    0.009555\n",
       "min      0.010000    0.757576    0.696970\n",
       "25%      7.485000    0.848485    0.856061\n",
       "50%     14.960000    0.856061    0.856061\n",
       "75%     22.435000    0.863636    0.856061\n",
       "max     29.910000    0.863636    0.863636"
      ]
     },
     "execution_count": 25,
     "metadata": {},
     "output_type": "execute_result"
    }
   ],
   "source": [
    "estimates_df.describe()"
   ]
  },
  {
   "cell_type": "code",
   "execution_count": 26,
   "metadata": {},
   "outputs": [
    {
     "data": {
      "image/png": "[encoded data removed]",
      "text/plain": [
       "<matplotlib.figure.Figure at 0x102b38588>"
      ]
     },
     "metadata": {},
     "output_type": "display_data"
    }
   ],
   "source": [
    "plt.figure(figsize=(15,8))\n",
    "plt.plot(lambd_values, lr_r2, 'g', \n",
    "         lambd_values, rigde_r2, 'r', \n",
    "         lambd_values, lasso_r2, 'b')\n",
    "plt.xlabel('Lambda')\n",
    "plt.ylabel('R^2')\n",
    "plt.legend(['Vanilla',\n",
    "            'Ridge','Lasso'])\n",
    "plt.title('R^2 explained by different logistic model, depending on lambda parameter')\n",
    "plt.show()"
   ]
  },
  {
   "cell_type": "markdown",
   "metadata": {
    "collapsed": true
   },
   "source": [
    "Learnings: \n",
    "- Lasso is preferable in our case - has less variance (overfits less), quite stable, mean of R^2 is slightly higher than other methods. \n",
    "- Ridge fluctuates more and is quite chaotic, ups and downs with slight changes in the penatly parameter \n",
    "- Scale of lambdas is different (not shown on the graph here, seen through experimentation): Lasso is more adequate with lower values of lambda, whereas Ridge can produce significant results with values of lambda being hungreds or thousands "
   ]
  },
  {
   "cell_type": "code",
   "execution_count": null,
   "metadata": {
    "collapsed": true
   },
   "outputs": [],
   "source": []
  }
 ],
 "metadata": {
  "kernelspec": {
   "display_name": "Python 3",
   "language": "python",
   "name": "python3"
  },
  "language_info": {
   "codemirror_mode": {
    "name": "ipython",
    "version": 3
   },
   "file_extension": ".py",
   "mimetype": "text/x-python",
   "name": "python",
   "nbconvert_exporter": "python",
   "pygments_lexer": "ipython3",
   "version": "3.6.1"
  },
  "widgets": {
   "application/vnd.jupyter.widget-state+json": {
    "state": {},
    "version_major": 1,
    "version_minor": 0
   }
  }
 },
 "nbformat": 4,
 "nbformat_minor": 2
}
