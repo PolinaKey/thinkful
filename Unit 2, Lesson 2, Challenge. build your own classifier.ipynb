{
 "cells": [
  {
   "cell_type": "code",
   "execution_count": 165,
   "metadata": {
    "collapsed": true
   },
   "outputs": [],
   "source": [
    "%matplotlib inline\n",
    "import numpy as np\n",
    "import pandas as pd\n",
    "import scipy\n",
    "import sklearn\n",
    "import matplotlib.pyplot as plt\n",
    "import seaborn as sns"
   ]
  },
  {
   "cell_type": "code",
   "execution_count": 166,
   "metadata": {},
   "outputs": [],
   "source": [
    "df_raw=pd.read_csv(\"../amazon_cells_labelled.txt\", sep=\"\\t|\\n\", engine='python', header=None)\n",
    "df_raw.columns = ['review', 'positive']"
   ]
  },
  {
   "cell_type": "code",
   "execution_count": 167,
   "metadata": {
    "collapsed": true
   },
   "outputs": [],
   "source": [
    "# pd.describe_option('display') - see the display options \n",
    "pd.set_option('colheader_justify', 'left')\n",
    "pd.set_option('display.max_colwidth', 150)"
   ]
  },
  {
   "cell_type": "code",
   "execution_count": 168,
   "metadata": {},
   "outputs": [
    {
     "data": {
      "text/html": [
       "<div>\n",
       "<style>\n",
       "    .dataframe thead tr:only-child th {\n",
       "        text-align: right;\n",
       "    }\n",
       "\n",
       "    .dataframe thead th {\n",
       "        text-align: left;\n",
       "    }\n",
       "\n",
       "    .dataframe tbody tr th {\n",
       "        vertical-align: top;\n",
       "    }\n",
       "</style>\n",
       "<table border=\"1\" class=\"dataframe\">\n",
       "  <thead>\n",
       "    <tr style=\"text-align: left;\">\n",
       "      <th></th>\n",
       "      <th>review</th>\n",
       "      <th>positive</th>\n",
       "    </tr>\n",
       "  </thead>\n",
       "  <tbody>\n",
       "    <tr>\n",
       "      <th>40</th>\n",
       "      <td>It has a great camera thats 2MP, and the pics are nice and clear with great picture quality.</td>\n",
       "      <td>1</td>\n",
       "    </tr>\n",
       "    <tr>\n",
       "      <th>41</th>\n",
       "      <td>I was not impressed by this product.</td>\n",
       "      <td>0</td>\n",
       "    </tr>\n",
       "    <tr>\n",
       "      <th>42</th>\n",
       "      <td>Nice headset priced right.</td>\n",
       "      <td>1</td>\n",
       "    </tr>\n",
       "    <tr>\n",
       "      <th>43</th>\n",
       "      <td>I only hear garbage for audio.</td>\n",
       "      <td>0</td>\n",
       "    </tr>\n",
       "    <tr>\n",
       "      <th>44</th>\n",
       "      <td>Excellent bluetooth headset.</td>\n",
       "      <td>1</td>\n",
       "    </tr>\n",
       "    <tr>\n",
       "      <th>45</th>\n",
       "      <td>It has all the features I want</td>\n",
       "      <td>1</td>\n",
       "    </tr>\n",
       "    <tr>\n",
       "      <th>46</th>\n",
       "      <td>Who in their right mind is gonna buy this battery?.</td>\n",
       "      <td>0</td>\n",
       "    </tr>\n",
       "    <tr>\n",
       "      <th>47</th>\n",
       "      <td>AFTER ARGUING WITH VERIZON REGARDING THE DROPPED CALLS WE RETURNED THE PHONES AFTER TWO DAYS.</td>\n",
       "      <td>0</td>\n",
       "    </tr>\n",
       "    <tr>\n",
       "      <th>48</th>\n",
       "      <td>This case seems well made.</td>\n",
       "      <td>1</td>\n",
       "    </tr>\n",
       "    <tr>\n",
       "      <th>49</th>\n",
       "      <td>Disappointed with battery.</td>\n",
       "      <td>0</td>\n",
       "    </tr>\n",
       "    <tr>\n",
       "      <th>50</th>\n",
       "      <td>Not loud enough and doesn't turn on like it should.</td>\n",
       "      <td>0</td>\n",
       "    </tr>\n",
       "    <tr>\n",
       "      <th>51</th>\n",
       "      <td>good protection and does not make phone too bulky.</td>\n",
       "      <td>1</td>\n",
       "    </tr>\n",
       "    <tr>\n",
       "      <th>52</th>\n",
       "      <td>A usable keyboard actually turns a PDA into a real-world useful machine instead of just a neat gadget.</td>\n",
       "      <td>1</td>\n",
       "    </tr>\n",
       "    <tr>\n",
       "      <th>53</th>\n",
       "      <td>This phone is pretty sturdy and I've never had any large problems with it.</td>\n",
       "      <td>1</td>\n",
       "    </tr>\n",
       "    <tr>\n",
       "      <th>54</th>\n",
       "      <td>I love this thing!</td>\n",
       "      <td>1</td>\n",
       "    </tr>\n",
       "    <tr>\n",
       "      <th>55</th>\n",
       "      <td>Everything about it is fine and reasonable for the price i.e.</td>\n",
       "      <td>1</td>\n",
       "    </tr>\n",
       "    <tr>\n",
       "      <th>56</th>\n",
       "      <td>VERY DISAPPOINTED.</td>\n",
       "      <td>0</td>\n",
       "    </tr>\n",
       "    <tr>\n",
       "      <th>57</th>\n",
       "      <td>I even dropped this phone into a stream and it was submerged for 15 seconds and it still works great!</td>\n",
       "      <td>1</td>\n",
       "    </tr>\n",
       "    <tr>\n",
       "      <th>58</th>\n",
       "      <td>I have been very happy with the 510 and have had NO complaints from any one regarding my sound quality on their end.</td>\n",
       "      <td>1</td>\n",
       "    </tr>\n",
       "    <tr>\n",
       "      <th>59</th>\n",
       "      <td>The buttons for on and off are bad.</td>\n",
       "      <td>0</td>\n",
       "    </tr>\n",
       "  </tbody>\n",
       "</table>\n",
       "</div>"
      ],
      "text/plain": [
       "   review                                                                                                                 positive\n",
       "40                          It has a great camera thats 2MP, and the pics are nice and clear with great picture quality.  1       \n",
       "41                                                                                  I was not impressed by this product.  0       \n",
       "42                                                                                            Nice headset priced right.  1       \n",
       "43                                                                                        I only hear garbage for audio.  0       \n",
       "44                                                                                          Excellent bluetooth headset.  1       \n",
       "45                                                                                        It has all the features I want  1       \n",
       "46                                                                   Who in their right mind is gonna buy this battery?.  0       \n",
       "47                         AFTER ARGUING WITH VERIZON REGARDING THE DROPPED CALLS WE RETURNED THE PHONES AFTER TWO DAYS.  0       \n",
       "48                                                                                            This case seems well made.  1       \n",
       "49                                                                                            Disappointed with battery.  0       \n",
       "50                                                                   Not loud enough and doesn't turn on like it should.  0       \n",
       "51                                                                    good protection and does not make phone too bulky.  1       \n",
       "52                A usable keyboard actually turns a PDA into a real-world useful machine instead of just a neat gadget.  1       \n",
       "53                                            This phone is pretty sturdy and I've never had any large problems with it.  1       \n",
       "54                                                                                                    I love this thing!  1       \n",
       "55                                                         Everything about it is fine and reasonable for the price i.e.  1       \n",
       "56                                                                                                    VERY DISAPPOINTED.  0       \n",
       "57                 I even dropped this phone into a stream and it was submerged for 15 seconds and it still works great!  1       \n",
       "58  I have been very happy with the 510 and have had NO complaints from any one regarding my sound quality on their end.  1       \n",
       "59                                                                                   The buttons for on and off are bad.  0       "
      ]
     },
     "execution_count": 168,
     "metadata": {},
     "output_type": "execute_result"
    }
   ],
   "source": [
    "df_raw.iloc[40:60]"
   ]
  },
  {
   "cell_type": "code",
   "execution_count": 169,
   "metadata": {},
   "outputs": [],
   "source": [
    "positive_keywords = ['great', 'impress', 'good', 'love', 'fine', 'ideal', 'recommend', 'highly', '5+', '5 stars', 'excellent']\n",
    "\n",
    "for key in positive_keywords:\n",
    "    df_raw[str(key)] = df_raw.review.str.contains(\n",
    "        ' ' + str(key), \n",
    "        case=False)"
   ]
  },
  {
   "cell_type": "code",
   "execution_count": 170,
   "metadata": {},
   "outputs": [],
   "source": [
    "negative_keywords = [\"doesn't\", 'poor', 'unusable', 'unacceptible', 'problem', 'issue', 'not very', '1 star', 'fool', 'DISAPPOINTED', 'bad', 'garbage']\n",
    "\n",
    "for key in negative_keywords:\n",
    "    df_raw[str(key)] = df_raw.review.str.contains(\n",
    "        ' ' + str(key), \n",
    "        case=False)"
   ]
  },
  {
   "cell_type": "code",
   "execution_count": 171,
   "metadata": {},
   "outputs": [
    {
     "data": {
      "image/png": "[encoded data removed]",
      "text/plain": [
       "<matplotlib.figure.Figure at 0x118b59da0>"
      ]
     },
     "metadata": {},
     "output_type": "display_data"
    }
   ],
   "source": [
    "sns.heatmap(df_raw.corr()) # we see that 'recommend' and 'highly' are strongly correlated. same for 5+ and 5 stars\n",
    "df_rev = df_raw.drop(['highly','5+'], axis=1) #drop highly and 5+ (ambiguous)"
   ]
  },
  {
   "cell_type": "code",
   "execution_count": 172,
   "metadata": {},
   "outputs": [],
   "source": [
    "df_rev.columns\n",
    "positive_keywords.remove('highly')\n",
    "positive_keywords.remove('5+')"
   ]
  },
  {
   "cell_type": "code",
   "execution_count": 173,
   "metadata": {},
   "outputs": [],
   "source": [
    "data = df_rev[positive_keywords + negative_keywords]\n",
    "target = df_rev['positive']"
   ]
  },
  {
   "cell_type": "code",
   "execution_count": 174,
   "metadata": {},
   "outputs": [
    {
     "name": "stdout",
     "output_type": "stream",
     "text": [
      "Number of mislabeled points out of a total 1000 points : 357\n"
     ]
    }
   ],
   "source": [
    "# Our data is binary / boolean, so we're importing the Bernoulli classifier.\n",
    "from sklearn.naive_bayes import BernoulliNB\n",
    "\n",
    "bnb = BernoulliNB()\n",
    "bnb.fit(data, target)\n",
    "y_pred = bnb.predict(data)\n",
    "\n",
    "# Results\n",
    "print(\"Number of mislabeled points out of a total {} points : {}\".format(\n",
    "    data.shape[0],\n",
    "    (target != y_pred).sum()\n",
    "))"
   ]
  },
  {
   "cell_type": "code",
   "execution_count": 175,
   "metadata": {
    "collapsed": true
   },
   "outputs": [],
   "source": [
    "df_test = pd.read_csv(\"../yelp_labelled.txt\", sep=\"\\t|\\n\", engine='python', header=None)\n",
    "df_test.columns = ['review', 'positive']"
   ]
  },
  {
   "cell_type": "code",
   "execution_count": 176,
   "metadata": {
    "collapsed": true
   },
   "outputs": [],
   "source": [
    "#all_keywords = positive_keywords + negative_keywords\n",
    "for key in positive_keywords + negative_keywords:\n",
    "    df_test[str(key)] = df_test.review.str.contains(\n",
    "        ' ' + str(key), \n",
    "        case=False)"
   ]
  },
  {
   "cell_type": "code",
   "execution_count": 178,
   "metadata": {},
   "outputs": [],
   "source": [
    "target_test = df_test['positive']\n",
    "data = df_test[positive_keywords + negative_keywords]"
   ]
  },
  {
   "cell_type": "code",
   "execution_count": 179,
   "metadata": {},
   "outputs": [
    {
     "name": "stdout",
     "output_type": "stream",
     "text": [
      "Number of mislabeled points out of a total 1000 points : 482\n"
     ]
    }
   ],
   "source": [
    "bnb = BernoulliNB()\n",
    "bnb.fit(data, target)\n",
    "y_pred = bnb.predict(data)\n",
    "\n",
    "# Results\n",
    "print(\"Number of mislabeled points out of a total {} points : {}\".format(\n",
    "    data.shape[0],\n",
    "    (target != y_pred).sum()\n",
    "))"
   ]
  },
  {
   "cell_type": "code",
   "execution_count": null,
   "metadata": {
    "collapsed": true
   },
   "outputs": [],
   "source": []
  }
 ],
 "metadata": {
  "kernelspec": {
   "display_name": "Python 3",
   "language": "python",
   "name": "python3"
  },
  "language_info": {
   "codemirror_mode": {
    "name": "ipython",
    "version": 3
   },
   "file_extension": ".py",
   "mimetype": "text/x-python",
   "name": "python",
   "nbconvert_exporter": "python",
   "pygments_lexer": "ipython3",
   "version": "3.6.1"
  }
 },
 "nbformat": 4,
 "nbformat_minor": 2
}
