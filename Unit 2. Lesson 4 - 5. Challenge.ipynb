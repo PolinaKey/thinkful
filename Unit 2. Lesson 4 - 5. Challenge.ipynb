{
 "cells": [
  {
   "cell_type": "markdown",
   "metadata": {},
   "source": [
    "## Preparing the raw data\n",
    "\n",
    "Let's clean up and transform the data to fit this specification:\n",
    "\n",
    "(which appears to be a good model from the start, as we see later)\n",
    "\n",
    "PropertyCrime = α + Population + Population^2 + Murder + Robbery"
   ]
  },
  {
   "cell_type": "code",
   "execution_count": 1,
   "metadata": {
    "collapsed": true
   },
   "outputs": [],
   "source": [
    "import numpy as np\n",
    "import pandas as pd\n",
    "import scipy\n",
    "import sklearn\n",
    "import matplotlib.pyplot as plt\n",
    "import seaborn as sns\n",
    "%matplotlib inline\n",
    "from sklearn import linear_model\n",
    "import statsmodels.formula.api as smf"
   ]
  },
  {
   "cell_type": "code",
   "execution_count": 2,
   "metadata": {
    "collapsed": true
   },
   "outputs": [],
   "source": [
    "df = pd.read_excel('../NY_crime2013.xlsx', skiprows=4)"
   ]
  },
  {
   "cell_type": "code",
   "execution_count": 3,
   "metadata": {},
   "outputs": [
    {
     "data": {
      "text/html": [
       "<div>\n",
       "<style>\n",
       "    .dataframe thead tr:only-child th {\n",
       "        text-align: right;\n",
       "    }\n",
       "\n",
       "    .dataframe thead th {\n",
       "        text-align: left;\n",
       "    }\n",
       "\n",
       "    .dataframe tbody tr th {\n",
       "        vertical-align: top;\n",
       "    }\n",
       "</style>\n",
       "<table border=\"1\" class=\"dataframe\">\n",
       "  <thead>\n",
       "    <tr style=\"text-align: right;\">\n",
       "      <th></th>\n",
       "      <th>City</th>\n",
       "      <th>Population</th>\n",
       "      <th>Violent_crime</th>\n",
       "      <th>Murder</th>\n",
       "      <th>Rape_1</th>\n",
       "      <th>Rape_2</th>\n",
       "      <th>Robbery</th>\n",
       "      <th>Aggravated_assault</th>\n",
       "      <th>Property_crime</th>\n",
       "      <th>Burglary</th>\n",
       "      <th>Larceny-\n",
       "theft</th>\n",
       "      <th>Motor_vehicle_theft</th>\n",
       "      <th>Arson3</th>\n",
       "    </tr>\n",
       "  </thead>\n",
       "  <tbody>\n",
       "    <tr>\n",
       "      <th>0</th>\n",
       "      <td>Adams Village</td>\n",
       "      <td>1861</td>\n",
       "      <td>0</td>\n",
       "      <td>0</td>\n",
       "      <td>NaN</td>\n",
       "      <td>0</td>\n",
       "      <td>0</td>\n",
       "      <td>0</td>\n",
       "      <td>12</td>\n",
       "      <td>2</td>\n",
       "      <td>10</td>\n",
       "      <td>0</td>\n",
       "      <td>0.0</td>\n",
       "    </tr>\n",
       "    <tr>\n",
       "      <th>1</th>\n",
       "      <td>Addison Town and Village</td>\n",
       "      <td>2577</td>\n",
       "      <td>3</td>\n",
       "      <td>0</td>\n",
       "      <td>NaN</td>\n",
       "      <td>0</td>\n",
       "      <td>0</td>\n",
       "      <td>3</td>\n",
       "      <td>24</td>\n",
       "      <td>3</td>\n",
       "      <td>20</td>\n",
       "      <td>1</td>\n",
       "      <td>0.0</td>\n",
       "    </tr>\n",
       "    <tr>\n",
       "      <th>2</th>\n",
       "      <td>Akron Village</td>\n",
       "      <td>2846</td>\n",
       "      <td>3</td>\n",
       "      <td>0</td>\n",
       "      <td>NaN</td>\n",
       "      <td>0</td>\n",
       "      <td>0</td>\n",
       "      <td>3</td>\n",
       "      <td>16</td>\n",
       "      <td>1</td>\n",
       "      <td>15</td>\n",
       "      <td>0</td>\n",
       "      <td>0.0</td>\n",
       "    </tr>\n",
       "    <tr>\n",
       "      <th>3</th>\n",
       "      <td>Albany</td>\n",
       "      <td>97956</td>\n",
       "      <td>791</td>\n",
       "      <td>8</td>\n",
       "      <td>NaN</td>\n",
       "      <td>30</td>\n",
       "      <td>227</td>\n",
       "      <td>526</td>\n",
       "      <td>4090</td>\n",
       "      <td>705</td>\n",
       "      <td>3243</td>\n",
       "      <td>142</td>\n",
       "      <td>NaN</td>\n",
       "    </tr>\n",
       "    <tr>\n",
       "      <th>4</th>\n",
       "      <td>Albion Village</td>\n",
       "      <td>6388</td>\n",
       "      <td>23</td>\n",
       "      <td>0</td>\n",
       "      <td>NaN</td>\n",
       "      <td>3</td>\n",
       "      <td>4</td>\n",
       "      <td>16</td>\n",
       "      <td>223</td>\n",
       "      <td>53</td>\n",
       "      <td>165</td>\n",
       "      <td>5</td>\n",
       "      <td>NaN</td>\n",
       "    </tr>\n",
       "  </tbody>\n",
       "</table>\n",
       "</div>"
      ],
      "text/plain": [
       "                       City  Population  Violent_crime  Murder  Rape_1  \\\n",
       "0             Adams Village        1861              0       0     NaN   \n",
       "1  Addison Town and Village        2577              3       0     NaN   \n",
       "2             Akron Village        2846              3       0     NaN   \n",
       "3                    Albany       97956            791       8     NaN   \n",
       "4            Albion Village        6388             23       0     NaN   \n",
       "\n",
       "   Rape_2  Robbery  Aggravated_assault  Property_crime  Burglary  \\\n",
       "0       0        0                   0              12         2   \n",
       "1       0        0                   3              24         3   \n",
       "2       0        0                   3              16         1   \n",
       "3      30      227                 526            4090       705   \n",
       "4       3        4                  16             223        53   \n",
       "\n",
       "   Larceny-\\ntheft  Motor_vehicle_theft  Arson3  \n",
       "0               10                    0     0.0  \n",
       "1               20                    1     0.0  \n",
       "2               15                    0     0.0  \n",
       "3             3243                  142     NaN  \n",
       "4              165                    5     NaN  "
      ]
     },
     "execution_count": 3,
     "metadata": {},
     "output_type": "execute_result"
    }
   ],
   "source": [
    "df.head(5)"
   ]
  },
  {
   "cell_type": "markdown",
   "metadata": {},
   "source": [
    "## Creating features and building the regression model"
   ]
  },
  {
   "cell_type": "code",
   "execution_count": 4,
   "metadata": {
    "collapsed": true
   },
   "outputs": [],
   "source": [
    "df['Population^2'] = df['Population'] * df['Population']"
   ]
  },
  {
   "cell_type": "code",
   "execution_count": 5,
   "metadata": {},
   "outputs": [
    {
     "data": {
      "text/html": [
       "<div>\n",
       "<style>\n",
       "    .dataframe thead tr:only-child th {\n",
       "        text-align: right;\n",
       "    }\n",
       "\n",
       "    .dataframe thead th {\n",
       "        text-align: left;\n",
       "    }\n",
       "\n",
       "    .dataframe tbody tr th {\n",
       "        vertical-align: top;\n",
       "    }\n",
       "</style>\n",
       "<table border=\"1\" class=\"dataframe\">\n",
       "  <thead>\n",
       "    <tr style=\"text-align: right;\">\n",
       "      <th></th>\n",
       "      <th>City</th>\n",
       "      <th>Population</th>\n",
       "      <th>Violent_crime</th>\n",
       "      <th>Murder</th>\n",
       "      <th>Rape_1</th>\n",
       "      <th>Rape_2</th>\n",
       "      <th>Robbery</th>\n",
       "      <th>Aggravated_assault</th>\n",
       "      <th>Property_crime</th>\n",
       "      <th>Burglary</th>\n",
       "      <th>Larceny-\n",
       "theft</th>\n",
       "      <th>Motor_vehicle_theft</th>\n",
       "      <th>Arson3</th>\n",
       "      <th>Population^2</th>\n",
       "    </tr>\n",
       "  </thead>\n",
       "  <tbody>\n",
       "    <tr>\n",
       "      <th>216</th>\n",
       "      <td>New York</td>\n",
       "      <td>8396126</td>\n",
       "      <td>52384</td>\n",
       "      <td>335</td>\n",
       "      <td>NaN</td>\n",
       "      <td>1112</td>\n",
       "      <td>19170</td>\n",
       "      <td>31767</td>\n",
       "      <td>141971</td>\n",
       "      <td>16606</td>\n",
       "      <td>117931</td>\n",
       "      <td>7434</td>\n",
       "      <td>NaN</td>\n",
       "      <td>70494931807876</td>\n",
       "    </tr>\n",
       "  </tbody>\n",
       "</table>\n",
       "</div>"
      ],
      "text/plain": [
       "         City  Population  Violent_crime  Murder  Rape_1  Rape_2  Robbery  \\\n",
       "216  New York     8396126          52384     335     NaN    1112    19170   \n",
       "\n",
       "     Aggravated_assault  Property_crime  Burglary  Larceny-\\ntheft  \\\n",
       "216               31767          141971     16606           117931   \n",
       "\n",
       "     Motor_vehicle_theft  Arson3    Population^2  \n",
       "216                 7434     NaN  70494931807876  "
      ]
     },
     "execution_count": 5,
     "metadata": {},
     "output_type": "execute_result"
    }
   ],
   "source": [
    "df.loc[df['Property_crime'] > 100000]"
   ]
  },
  {
   "cell_type": "code",
   "execution_count": 6,
   "metadata": {
    "collapsed": true
   },
   "outputs": [],
   "source": [
    "df.loc[df['Murder'] > 0, 'Murder_bol'] = 1\n",
    "df.loc[df['Robbery'] > 0, 'Robbery_bol'] = 1\n",
    "df.loc[df['Arson3'] > 0, 'Arson3_bol'] = 1"
   ]
  },
  {
   "cell_type": "code",
   "execution_count": 7,
   "metadata": {
    "collapsed": true
   },
   "outputs": [],
   "source": [
    "data = df[['Population','Population^2','Murder_bol','Robbery_bol', 'Property_crime' ,'Burglary', 'Murder', 'Robbery','Arson3' ,'Motor_vehicle_theft']]\n"
   ]
  },
  {
   "cell_type": "code",
   "execution_count": 8,
   "metadata": {
    "collapsed": true
   },
   "outputs": [],
   "source": [
    "data_XY_noNaN = data[['Population','Population^2','Murder_bol','Robbery_bol', 'Property_crime']].dropna(axis=0, how='any')\n",
    "# data['sqrtMurder'] = [math.sqrt(x) for x in data['Murder']]\n",
    "\n",
    "X = data_XY_noNaN[['Population','Population^2','Murder_bol','Robbery_bol']]\n",
    "Y = data_XY_noNaN['Property_crime']"
   ]
  },
  {
   "cell_type": "code",
   "execution_count": 9,
   "metadata": {},
   "outputs": [
    {
     "name": "stdout",
     "output_type": "stream",
     "text": [
      "The best performing regression model\n",
      "Population, Population^2, Murder and Robbery\n",
      "\n",
      "Coefficients: \n",
      " [  3.94061095e-02  -2.67340744e-09   0.00000000e+00   0.00000000e+00]\n",
      "\n",
      "Intercept: \n",
      " -424.825849014\n",
      "\n",
      "R-squared:\n",
      "0.99696162361\n"
     ]
    },
    {
     "data": {
      "image/png": "[encoded data removed]",
      "text/plain": [
       "<matplotlib.figure.Figure at 0x1127a0a90>"
      ]
     },
     "metadata": {},
     "output_type": "display_data"
    },
    {
     "data": {
      "image/png": "[encoded data removed]",
      "text/plain": [
       "<matplotlib.figure.Figure at 0x1127a0390>"
      ]
     },
     "metadata": {},
     "output_type": "display_data"
    },
    {
     "data": {
      "image/png": "[encoded data removed]",
      "text/plain": [
       "<matplotlib.figure.Figure at 0x115b8dd30>"
      ]
     },
     "metadata": {},
     "output_type": "display_data"
    }
   ],
   "source": [
    "print('The best performing regression model')\n",
    "print('Population, Population^2, Murder and Robbery')\n",
    "regr = linear_model.LinearRegression()\n",
    "regr.fit(X, Y) \n",
    "print('\\nCoefficients: \\n', regr.coef_)\n",
    "print('\\nIntercept: \\n', regr.intercept_)\n",
    "print('\\nR-squared:')\n",
    "print(regr.score(X, Y))\n",
    "predicted = regr.predict(X)\n",
    "actual = Y\n",
    "residual = actual - predicted\n",
    "rel_residual = residual / actual\n",
    "plt.hist(residual, bins = 50)\n",
    "plt.title('Residual counts')\n",
    "plt.xlabel('Residual')\n",
    "plt.ylabel('Count')\n",
    "plt.show()\n",
    "\n",
    "\n",
    "plt.scatter(predicted, residual)\n",
    "plt.xlabel('Predicted')\n",
    "plt.ylabel('Residual')\n",
    "plt.axhline(y=0)\n",
    "plt.title('Residual vs. Predicted')\n",
    "plt.show()\n",
    "\n",
    "residual_r = rel_residual.loc[abs(rel_residual) != np.inf]\n",
    "plt.hist(residual_r, bins = 50)\n",
    "plt.title('Residual absolute values')\n",
    "plt.xlabel('Residual')\n",
    "plt.ylabel('Count')\n",
    "plt.show()"
   ]
  },
  {
   "cell_type": "code",
   "execution_count": 10,
   "metadata": {},
   "outputs": [
    {
     "data": {
      "text/plain": [
       "<matplotlib.axes._subplots.AxesSubplot at 0x1127ccba8>"
      ]
     },
     "execution_count": 10,
     "metadata": {},
     "output_type": "execute_result"
    },
    {
     "data": {
      "image/png": "[encoded data removed]",
      "text/plain": [
       "<matplotlib.figure.Figure at 0x106de6940>"
      ]
     },
     "metadata": {},
     "output_type": "display_data"
    }
   ],
   "source": [
    "df.Property_crime.hist(bins=50)"
   ]
  },
  {
   "cell_type": "code",
   "execution_count": 11,
   "metadata": {},
   "outputs": [
    {
     "data": {
      "text/html": [
       "<div>\n",
       "<style>\n",
       "    .dataframe thead tr:only-child th {\n",
       "        text-align: right;\n",
       "    }\n",
       "\n",
       "    .dataframe thead th {\n",
       "        text-align: left;\n",
       "    }\n",
       "\n",
       "    .dataframe tbody tr th {\n",
       "        vertical-align: top;\n",
       "    }\n",
       "</style>\n",
       "<table border=\"1\" class=\"dataframe\">\n",
       "  <thead>\n",
       "    <tr style=\"text-align: right;\">\n",
       "      <th></th>\n",
       "      <th>City</th>\n",
       "      <th>Population</th>\n",
       "      <th>Violent_crime</th>\n",
       "      <th>Murder</th>\n",
       "      <th>Rape_1</th>\n",
       "      <th>Rape_2</th>\n",
       "      <th>Robbery</th>\n",
       "      <th>Aggravated_assault</th>\n",
       "      <th>Property_crime</th>\n",
       "      <th>Burglary</th>\n",
       "      <th>Larceny-\n",
       "theft</th>\n",
       "      <th>Motor_vehicle_theft</th>\n",
       "      <th>Arson3</th>\n",
       "      <th>Population^2</th>\n",
       "      <th>Murder_bol</th>\n",
       "      <th>Robbery_bol</th>\n",
       "      <th>Arson3_bol</th>\n",
       "    </tr>\n",
       "  </thead>\n",
       "  <tbody>\n",
       "    <tr>\n",
       "      <th>216</th>\n",
       "      <td>New York</td>\n",
       "      <td>8396126</td>\n",
       "      <td>52384</td>\n",
       "      <td>335</td>\n",
       "      <td>NaN</td>\n",
       "      <td>1112</td>\n",
       "      <td>19170</td>\n",
       "      <td>31767</td>\n",
       "      <td>141971</td>\n",
       "      <td>16606</td>\n",
       "      <td>117931</td>\n",
       "      <td>7434</td>\n",
       "      <td>NaN</td>\n",
       "      <td>70494931807876</td>\n",
       "      <td>1.0</td>\n",
       "      <td>1.0</td>\n",
       "      <td>NaN</td>\n",
       "    </tr>\n",
       "  </tbody>\n",
       "</table>\n",
       "</div>"
      ],
      "text/plain": [
       "         City  Population  Violent_crime  Murder  Rape_1  Rape_2  Robbery  \\\n",
       "216  New York     8396126          52384     335     NaN    1112    19170   \n",
       "\n",
       "     Aggravated_assault  Property_crime  Burglary  Larceny-\\ntheft  \\\n",
       "216               31767          141971     16606           117931   \n",
       "\n",
       "     Motor_vehicle_theft  Arson3    Population^2  Murder_bol  Robbery_bol  \\\n",
       "216                 7434     NaN  70494931807876         1.0          1.0   \n",
       "\n",
       "     Arson3_bol  \n",
       "216         NaN  "
      ]
     },
     "execution_count": 11,
     "metadata": {},
     "output_type": "execute_result"
    }
   ],
   "source": [
    "df.loc[data['Property_crime'] > 100000]"
   ]
  },
  {
   "cell_type": "markdown",
   "metadata": {},
   "source": [
    "The entiry above (NYC) is an outlier. Let's run a model without it and see our real R squared. "
   ]
  },
  {
   "cell_type": "markdown",
   "metadata": {},
   "source": [
    "### Same model excluding the outlier"
   ]
  },
  {
   "cell_type": "code",
   "execution_count": 12,
   "metadata": {
    "collapsed": true
   },
   "outputs": [],
   "source": [
    "data_wNYC = data_XY_noNaN.loc[data_XY_noNaN['Property_crime'] < 100000]"
   ]
  },
  {
   "cell_type": "code",
   "execution_count": 13,
   "metadata": {
    "collapsed": true
   },
   "outputs": [],
   "source": [
    "X = data_wNYC[['Population', 'Murder_bol','Robbery_bol']]\n",
    "Y = data_wNYC['Property_crime']"
   ]
  },
  {
   "cell_type": "code",
   "execution_count": 14,
   "metadata": {},
   "outputs": [
    {
     "name": "stdout",
     "output_type": "stream",
     "text": [
      "Population, Population^2, Murder and Robbery without NYC data\n",
      "\n",
      "Coefficients: \n",
      " [ 0.03887747  0.          0.        ]\n",
      "\n",
      "Intercept: \n",
      " -412.579669611\n",
      "\n",
      "R-squared:\n",
      "0.776201729956\n"
     ]
    },
    {
     "data": {
      "image/png": "[encoded data removed]",
      "text/plain": [
       "<matplotlib.figure.Figure at 0x106de6a58>"
      ]
     },
     "metadata": {},
     "output_type": "display_data"
    },
    {
     "data": {
      "image/png": "[encoded data removed]",
      "text/plain": [
       "<matplotlib.figure.Figure at 0x11625de80>"
      ]
     },
     "metadata": {},
     "output_type": "display_data"
    }
   ],
   "source": [
    "print('Population, Population^2, Murder and Robbery without NYC data')\n",
    "regr = linear_model.LinearRegression()\n",
    "regr.fit(X, Y) \n",
    "print('\\nCoefficients: \\n', regr.coef_)\n",
    "print('\\nIntercept: \\n', regr.intercept_)\n",
    "print('\\nR-squared:')\n",
    "print(regr.score(X, Y))\n",
    "predicted = regr.predict(X)\n",
    "actual = Y\n",
    "residual = actual - predicted\n",
    "plt.hist(residual, bins = 50)\n",
    "plt.title('Residual counts')\n",
    "plt.xlabel('Residual')\n",
    "plt.ylabel('Count')\n",
    "plt.show()\n",
    "plt.scatter(predicted, residual)\n",
    "plt.xlabel('Predicted')\n",
    "plt.ylabel('Residual')\n",
    "plt.axhline(y=0)\n",
    "plt.title('Residual vs. Predicted')\n",
    "plt.show()"
   ]
  },
  {
   "cell_type": "markdown",
   "metadata": {},
   "source": [
    "R-squared of 0.85 is a pretty good one. We'll stop exploring here."
   ]
  },
  {
   "cell_type": "markdown",
   "metadata": {},
   "source": [
    "## Feature evaluation and validation via statsmodels library"
   ]
  },
  {
   "cell_type": "code",
   "execution_count": 15,
   "metadata": {
    "collapsed": true
   },
   "outputs": [],
   "source": [
    "import statsmodels.formula.api as smf\n",
    "from statsmodels.sandbox.regression.predstd import wls_prediction_std"
   ]
  },
  {
   "cell_type": "code",
   "execution_count": 16,
   "metadata": {},
   "outputs": [
    {
     "name": "stdout",
     "output_type": "stream",
     "text": [
      "Formula parameters\n",
      "Intercept        -140.534506\n",
      "Population        -30.099307\n",
      "Population ^ 2     30.138337\n",
      "Murder_bol       -140.534506\n",
      "Robbery_bol      -140.534506\n",
      "dtype: float64\n",
      "Pvalues of parameters\n",
      "Intercept         0.077749\n",
      "Population        0.725477\n",
      "Population ^ 2    0.725137\n",
      "Murder_bol        0.077749\n",
      "Robbery_bol       0.077749\n",
      "dtype: float64\n",
      "R-squared: 0.776836800039\n"
     ]
    }
   ],
   "source": [
    "linear_formula = 'Property_crime ~ Population + Population^2 + Murder_bol + Robbery_bol'\n",
    "lm = smf.ols(formula=linear_formula, data=data_wNYC).fit()\n",
    "print('Formula parameters')\n",
    "print(lm.params)\n",
    "\n",
    "print('Pvalues of parameters')\n",
    "print(lm.pvalues)\n",
    "print('R-squared: ' + str(lm.rsquared))"
   ]
  },
  {
   "cell_type": "code",
   "execution_count": 19,
   "metadata": {},
   "outputs": [
    {
     "data": {
      "text/html": [
       "<table class=\"simpletable\">\n",
       "<caption>OLS Regression Results</caption>\n",
       "<tr>\n",
       "  <th>Dep. Variable:</th>     <td>Property_crime</td>  <th>  R-squared:         </th> <td>   0.777</td>\n",
       "</tr>\n",
       "<tr>\n",
       "  <th>Model:</th>                   <td>OLS</td>       <th>  Adj. R-squared:    </th> <td>   0.767</td>\n",
       "</tr>\n",
       "<tr>\n",
       "  <th>Method:</th>             <td>Least Squares</td>  <th>  F-statistic:       </th> <td>   76.58</td>\n",
       "</tr>\n",
       "<tr>\n",
       "  <th>Date:</th>             <td>Mon, 07 May 2018</td> <th>  Prob (F-statistic):</th> <td>4.67e-15</td>\n",
       "</tr>\n",
       "<tr>\n",
       "  <th>Time:</th>                 <td>09:36:30</td>     <th>  Log-Likelihood:    </th> <td> -396.65</td>\n",
       "</tr>\n",
       "<tr>\n",
       "  <th>No. Observations:</th>      <td>    47</td>      <th>  AIC:               </th> <td>   799.3</td>\n",
       "</tr>\n",
       "<tr>\n",
       "  <th>Df Residuals:</th>          <td>    44</td>      <th>  BIC:               </th> <td>   804.8</td>\n",
       "</tr>\n",
       "<tr>\n",
       "  <th>Df Model:</th>              <td>     2</td>      <th>                     </th>     <td> </td>   \n",
       "</tr>\n",
       "<tr>\n",
       "  <th>Covariance Type:</th>      <td>nonrobust</td>    <th>                     </th>     <td> </td>   \n",
       "</tr>\n",
       "</table>\n",
       "<table class=\"simpletable\">\n",
       "<tr>\n",
       "         <td></td>           <th>coef</th>     <th>std err</th>      <th>t</th>      <th>P>|t|</th>  <th>[0.025</th>    <th>0.975]</th>  \n",
       "</tr>\n",
       "<tr>\n",
       "  <th>Intercept</th>      <td> -140.5345</td> <td>   77.812</td> <td>   -1.806</td> <td> 0.078</td> <td> -297.354</td> <td>   16.285</td>\n",
       "</tr>\n",
       "<tr>\n",
       "  <th>Population</th>     <td>  -30.0993</td> <td>   85.171</td> <td>   -0.353</td> <td> 0.725</td> <td> -201.750</td> <td>  141.551</td>\n",
       "</tr>\n",
       "<tr>\n",
       "  <th>Population ^ 2</th> <td>   30.1383</td> <td>   85.171</td> <td>    0.354</td> <td> 0.725</td> <td> -141.513</td> <td>  201.790</td>\n",
       "</tr>\n",
       "<tr>\n",
       "  <th>Murder_bol</th>     <td> -140.5345</td> <td>   77.812</td> <td>   -1.806</td> <td> 0.078</td> <td> -297.354</td> <td>   16.285</td>\n",
       "</tr>\n",
       "<tr>\n",
       "  <th>Robbery_bol</th>    <td> -140.5345</td> <td>   77.812</td> <td>   -1.806</td> <td> 0.078</td> <td> -297.354</td> <td>   16.285</td>\n",
       "</tr>\n",
       "</table>\n",
       "<table class=\"simpletable\">\n",
       "<tr>\n",
       "  <th>Omnibus:</th>       <td>32.180</td> <th>  Durbin-Watson:     </th> <td>   1.859</td>\n",
       "</tr>\n",
       "<tr>\n",
       "  <th>Prob(Omnibus):</th> <td> 0.000</td> <th>  Jarque-Bera (JB):  </th> <td> 117.520</td>\n",
       "</tr>\n",
       "<tr>\n",
       "  <th>Skew:</th>          <td>-1.603</td> <th>  Prob(JB):          </th> <td>3.03e-26</td>\n",
       "</tr>\n",
       "<tr>\n",
       "  <th>Kurtosis:</th>      <td>10.052</td> <th>  Cond. No.          </th> <td>2.98e+36</td>\n",
       "</tr>\n",
       "</table>"
      ],
      "text/plain": [
       "<class 'statsmodels.iolib.summary.Summary'>\n",
       "\"\"\"\n",
       "                            OLS Regression Results                            \n",
       "==============================================================================\n",
       "Dep. Variable:         Property_crime   R-squared:                       0.777\n",
       "Model:                            OLS   Adj. R-squared:                  0.767\n",
       "Method:                 Least Squares   F-statistic:                     76.58\n",
       "Date:                Mon, 07 May 2018   Prob (F-statistic):           4.67e-15\n",
       "Time:                        09:36:30   Log-Likelihood:                -396.65\n",
       "No. Observations:                  47   AIC:                             799.3\n",
       "Df Residuals:                      44   BIC:                             804.8\n",
       "Df Model:                           2                                         \n",
       "Covariance Type:            nonrobust                                         \n",
       "==================================================================================\n",
       "                     coef    std err          t      P>|t|      [0.025      0.975]\n",
       "----------------------------------------------------------------------------------\n",
       "Intercept       -140.5345     77.812     -1.806      0.078    -297.354      16.285\n",
       "Population       -30.0993     85.171     -0.353      0.725    -201.750     141.551\n",
       "Population ^ 2    30.1383     85.171      0.354      0.725    -141.513     201.790\n",
       "Murder_bol      -140.5345     77.812     -1.806      0.078    -297.354      16.285\n",
       "Robbery_bol     -140.5345     77.812     -1.806      0.078    -297.354      16.285\n",
       "==============================================================================\n",
       "Omnibus:                       32.180   Durbin-Watson:                   1.859\n",
       "Prob(Omnibus):                  0.000   Jarque-Bera (JB):              117.520\n",
       "Skew:                          -1.603   Prob(JB):                     3.03e-26\n",
       "Kurtosis:                      10.052   Cond. No.                     2.98e+36\n",
       "==============================================================================\n",
       "\n",
       "Warnings:\n",
       "[1] Standard Errors assume that the covariance matrix of the errors is correctly specified.\n",
       "[2] The smallest eigenvalue is 5.77e-62. This might indicate that there are\n",
       "strong multicollinearity problems or that the design matrix is singular.\n",
       "\"\"\""
      ]
     },
     "execution_count": 19,
     "metadata": {},
     "output_type": "execute_result"
    }
   ],
   "source": [
    "lm.summary()"
   ]
  },
  {
   "cell_type": "code",
   "execution_count": null,
   "metadata": {
    "collapsed": true
   },
   "outputs": [],
   "source": [
    "from sklearn.model_selection import train_test_split\n",
    "from sklearn.model_selection import cross_val_score"
   ]
  },
  {
   "cell_type": "code",
   "execution_count": null,
   "metadata": {},
   "outputs": [],
   "source": [
    "print('cross-validation: ' + str(cross_val_score(linear_model.LinearRegression(), X, Y, cv=10)))\n",
    "cross_val_1 = cross_val_score(linear_model.LinearRegression(), X, Y, cv=10)"
   ]
  },
  {
   "cell_type": "code",
   "execution_count": null,
   "metadata": {
    "collapsed": true
   },
   "outputs": [],
   "source": [
    "X_train, X_test, y_train, y_test = train_test_split(X, Y, test_size=0.2, random_state=20)"
   ]
  },
  {
   "cell_type": "code",
   "execution_count": null,
   "metadata": {},
   "outputs": [],
   "source": [
    "print('With 20% Holdout: ' + str(linear_model.LinearRegression().fit(X_train, y_train).score(X_test, y_test)))\n",
    "print('Testing on Sample: ' + str(linear_model.LinearRegression().fit(X, Y).score(X, Y)))"
   ]
  },
  {
   "cell_type": "markdown",
   "metadata": {},
   "source": [
    "## Validation using another set of data (NY crimes 2014)"
   ]
  },
  {
   "cell_type": "code",
   "execution_count": null,
   "metadata": {
    "collapsed": true
   },
   "outputs": [],
   "source": [
    "df_2014 = pd.read_excel('../NY_crime2014.xlsx')"
   ]
  },
  {
   "cell_type": "code",
   "execution_count": null,
   "metadata": {},
   "outputs": [],
   "source": [
    "df_2014.head(2)"
   ]
  },
  {
   "cell_type": "code",
   "execution_count": null,
   "metadata": {
    "collapsed": true
   },
   "outputs": [],
   "source": [
    "df_2014['Population^2'] = df_2014['Population'] * df_2014['Population']"
   ]
  },
  {
   "cell_type": "code",
   "execution_count": null,
   "metadata": {
    "collapsed": true
   },
   "outputs": [],
   "source": [
    "df_2014.loc[df_2014['Murder'] > 0, 'Murder_bol'] = 1\n",
    "df_2014.loc[df_2014['Robbery'] > 0, 'Robbery_bol'] = 1\n",
    "df_2014.loc[df_2014['Arson3'] > 0, 'Arson3_bol'] = 1"
   ]
  },
  {
   "cell_type": "code",
   "execution_count": null,
   "metadata": {
    "collapsed": true
   },
   "outputs": [],
   "source": [
    "data_2014 = df_2014[['Population','Population^2','Murder_bol','Robbery_bol', 'Property_crime' ,'Burglary','Murder','Robbery','Arson3','Motor_vehicle_theft']]\n",
    "data_XY_noNaN_2014 = data_2014[['Population','Population^2','Murder_bol','Robbery_bol', 'Property_crime']].dropna(axis=0, how='any')\n"
   ]
  },
  {
   "cell_type": "code",
   "execution_count": null,
   "metadata": {
    "collapsed": true
   },
   "outputs": [],
   "source": [
    "data_wNYC_2014 = data_XY_noNaN_2014.loc[data_XY_noNaN_2014['Property_crime'] < 100000]"
   ]
  },
  {
   "cell_type": "code",
   "execution_count": null,
   "metadata": {
    "collapsed": true
   },
   "outputs": [],
   "source": [
    "X_2014 = data_wNYC_2014[['Population','Population^2','Murder_bol','Robbery_bol']]\n",
    "Y_2014 = data_wNYC_2014['Property_crime']"
   ]
  },
  {
   "cell_type": "code",
   "execution_count": null,
   "metadata": {},
   "outputs": [],
   "source": [
    "print('Testing on Sample of 2014: \\n ' + str(linear_model.LinearRegression().fit(X, Y).score(X_2014, Y_2014)))"
   ]
  },
  {
   "cell_type": "code",
   "execution_count": null,
   "metadata": {
    "collapsed": true
   },
   "outputs": [],
   "source": [
    "## what is -2.67055006? \n",
    "## am I doing the cross-valuation correctly? "
   ]
  },
  {
   "cell_type": "code",
   "execution_count": null,
   "metadata": {
    "collapsed": true
   },
   "outputs": [],
   "source": []
  },
  {
   "cell_type": "code",
   "execution_count": null,
   "metadata": {},
   "outputs": [],
   "source": [
    "predicted_2014 = regr.predict(X_2014)\n",
    "actual_2014 = Y_2014\n",
    "residual_2014 = actual_2014 - predicted_2014\n",
    "plt.hist(residual_2014, bins = 50)\n",
    "plt.title('Residual counts')\n",
    "plt.xlabel('Residual')\n",
    "plt.ylabel('Count')\n",
    "plt.show()\n",
    "plt.scatter(predicted_2014, residual_2014)\n",
    "plt.xlabel('Predicted')\n",
    "plt.ylabel('Residual')\n",
    "plt.axhline(y=0)\n",
    "plt.title('Residual vs. Predicted')\n",
    "plt.show()"
   ]
  },
  {
   "cell_type": "markdown",
   "metadata": {},
   "source": [
    "## Focusing on predicting data for Property crime < 6000\n",
    "### more focused analysis\n"
   ]
  },
  {
   "cell_type": "code",
   "execution_count": null,
   "metadata": {},
   "outputs": [],
   "source": [
    "data_wNYC = data_XY_noNaN.loc[data_XY_noNaN['Property_crime'] < 6000]\n",
    "X = data_wNYC[['Population','Population^2','Murder_bol','Robbery_bol']]\n",
    "Y = data_wNYC['Property_crime']\n",
    "\n",
    "print('Population, Population^2, Murder and Robbery without NYC data')\n",
    "regr = linear_model.LinearRegression()\n",
    "regr.fit(X, Y) \n",
    "print('\\nCoefficients: \\n', regr.coef_)\n",
    "print('\\nIntercept: \\n', regr.intercept_)\n",
    "print('\\nR-squared:')\n",
    "print(regr.score(X, Y))\n",
    "predicted = regr.predict(X)\n",
    "actual = Y\n",
    "residual = actual - predicted\n",
    "plt.hist(residual, bins = 50)\n",
    "plt.title('Residual counts')\n",
    "plt.xlabel('Residual')\n",
    "plt.ylabel('Count')\n",
    "plt.show()\n",
    "plt.scatter(predicted, residual)\n",
    "plt.xlabel('Predicted')\n",
    "plt.ylabel('Residual')\n",
    "plt.axhline(y=0)\n",
    "plt.title('Residual vs. Predicted')\n",
    "plt.show()\n"
   ]
  },
  {
   "cell_type": "code",
   "execution_count": null,
   "metadata": {},
   "outputs": [],
   "source": [
    "data_wNYC_2014 = data_XY_noNaN_2014.loc[data_XY_noNaN_2014['Property_crime'] < 6000]\n",
    "X_2014 = data_wNYC_2014[['Population','Population^2','Murder_bol','Robbery_bol']]\n",
    "Y_2014 = data_wNYC_2014['Property_crime']\n",
    "print('Testing on Sample of 2014: \\n ' + str(linear_model.LinearRegression().fit(X, Y).score(X_2014, Y_2014)))"
   ]
  },
  {
   "cell_type": "code",
   "execution_count": null,
   "metadata": {},
   "outputs": [],
   "source": [
    "predicted_2014 = regr.predict(X_2014)\n",
    "actual_2014 = Y_2014\n",
    "residual_2014 = actual_2014 - predicted_2014\n",
    "plt.hist(residual_2014, bins = 50)\n",
    "plt.title('Residual counts')\n",
    "plt.xlabel('Residual')\n",
    "plt.ylabel('Count')\n",
    "plt.show()\n",
    "plt.scatter(predicted_2014, residual_2014)\n",
    "plt.xlabel('Predicted')\n",
    "plt.ylabel('Residual')\n",
    "plt.axhline(y=0)\n",
    "plt.title('Residual vs. Predicted')\n",
    "plt.show()"
   ]
  },
  {
   "cell_type": "markdown",
   "metadata": {},
   "source": [
    "## Revised model"
   ]
  },
  {
   "cell_type": "code",
   "execution_count": null,
   "metadata": {},
   "outputs": [],
   "source": [
    "new_model = data[['Population', 'Robbery', 'Burglary', 'Arson3', 'Property_crime' ,'Motor_vehicle_theft']].dropna(axis=0, how='any')\n",
    "new_model_no_big = new_model.loc[new_model['Property_crime'] < 6000]\n",
    "X = new_model_no_big[['Population', 'Robbery', 'Burglary', 'Arson3','Motor_vehicle_theft']]\n",
    "Y = new_model_no_big['Property_crime']\n",
    "X_train, X_test, y_train, y_test = train_test_split(X, Y, test_size=0.2, random_state=20)\n",
    "print('With 20% Holdout: ' + str(linear_model.LinearRegression().fit(X_train, y_train).score(X_test, y_test)))\n",
    "print('Testing on Sample: ' + str(linear_model.LinearRegression().fit(X, Y).score(X, Y)))"
   ]
  },
  {
   "cell_type": "code",
   "execution_count": null,
   "metadata": {},
   "outputs": [],
   "source": [
    "cross_val_score(linear_model.LinearRegression(), X, Y, cv=10)"
   ]
  },
  {
   "cell_type": "code",
   "execution_count": null,
   "metadata": {},
   "outputs": [],
   "source": [
    "cross_val_2 = cross_val_score(linear_model.LinearRegression(), X, Y, cv=10)\n",
    "## use np.arange(start, end, step) for plotting\n",
    "plt.hist(cross_val_1, bins = 20, alpha = 0.5, color = 'r')\n",
    "plt.hist(cross_val_2, bins = 5, alpha = 0.5, color = 'b')\n",
    "plt.show()"
   ]
  },
  {
   "cell_type": "code",
   "execution_count": null,
   "metadata": {},
   "outputs": [],
   "source": [
    "new_model_2014 = data_2014[['Population','Robbery', 'Burglary', 'Arson3', 'Property_crime','Motor_vehicle_theft']].dropna(axis=0, how='any')\n",
    "new_model_no_big_2014 = new_model.loc[new_model['Property_crime'] < 6000]\n",
    "\n",
    "X_2014 = new_model_no_big_2014[['Population', 'Robbery','Burglary', 'Arson3','Motor_vehicle_theft']]\n",
    "Y_2014 = new_model_no_big_2014['Property_crime']\n",
    "print('Testing on Sample of 2014: \\n ' + str(linear_model.LinearRegression().fit(X, Y).score(X_2014, Y_2014)))"
   ]
  },
  {
   "cell_type": "code",
   "execution_count": null,
   "metadata": {},
   "outputs": [],
   "source": [
    "print('Population,  Burglary, Arson3, Robbery and Motor_vehicle_theft without big cities data')\n",
    "regr = linear_model.LinearRegression()\n",
    "regr.fit(X, Y) \n",
    "print('\\nCoefficients: \\n', regr.coef_)\n",
    "print('\\nIntercept: \\n', regr.intercept_)\n",
    "print('\\nR-squared:')\n",
    "print(regr.score(X, Y))\n",
    "predicted = regr.predict(X)\n",
    "actual = Y\n",
    "residual = actual - predicted\n",
    "plt.hist(residual, bins = 50)\n",
    "plt.title('Residual counts')\n",
    "plt.xlabel('Residual')\n",
    "plt.ylabel('Count')\n",
    "plt.show()\n",
    "plt.scatter(predicted, residual)\n",
    "plt.xlabel('Predicted')\n",
    "plt.ylabel('Residual')\n",
    "plt.axhline(y=0)\n",
    "plt.title('Residual vs. Predicted')\n",
    "plt.show()"
   ]
  },
  {
   "cell_type": "markdown",
   "metadata": {
    "collapsed": true
   },
   "source": [
    "Why to use these features:\n",
    "- not bi-polar coef for the same feature: coef for Population was positive, for Population^2 - negative \n",
    "- features related to property crime"
   ]
  }
 ],
 "metadata": {
  "kernelspec": {
   "display_name": "Python 3",
   "language": "python",
   "name": "python3"
  },
  "language_info": {
   "codemirror_mode": {
    "name": "ipython",
    "version": 3
   },
   "file_extension": ".py",
   "mimetype": "text/x-python",
   "name": "python",
   "nbconvert_exporter": "python",
   "pygments_lexer": "ipython3",
   "version": "3.6.1"
  }
 },
 "nbformat": 4,
 "nbformat_minor": 2
}
