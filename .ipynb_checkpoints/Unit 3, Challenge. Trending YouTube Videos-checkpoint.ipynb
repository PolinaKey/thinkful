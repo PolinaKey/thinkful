{
 "cells": [
  {
   "cell_type": "markdown",
   "metadata": {},
   "source": [
    "# Unit 3, Challenge. Trending YouTube Videos"
   ]
  },
  {
   "cell_type": "markdown",
   "metadata": {},
   "source": [
    "## 1. Research Context\n",
    "### 1.1. Intro\n",
    "\n",
    "YouTube (the world-famous video sharing website) maintains a list of the top trending videos on the platform. According to Variety magazine, “To determine the year’s top-trending videos, YouTube uses a combination of factors including measuring users interactions (number of views, shares, comments and likes). \n",
    "\n",
    "### 1.1. Objective of the analysis\n",
    "\n",
    "I'd like to get a better understanding of the trending videos and to see which factors are common for trending videos. I'll also try to build model that would be able to predict, explaining the highest variation, how many views the video will get based on video's paramaters. \n",
    "\n",
    "With this goal in mind, I found a dataset on Keagle featuring the 200 daily trending videos on YouTube. \n",
    "\n",
    "### 1.2. Dataset\n",
    "\n",
    "#### 1.2.1. Scope\n",
    "The dataset includes several months (and counting) of data on daily trending YouTube videos. Data is collected for 5 countries: United States, United Kingdom, Germany, Canada, and France. Each of the country has up to 200 trending videos per day. \n",
    "\n",
    "I'd like to focus the analysis only on United Kingdom, since I'm currently located in the UK and it'd be more relevant for my particular case. However, the same model and / or analysis steps are applicable to the data in the other regions since all the variables are the same across the countries. Each region’s data is in a separate file, so we'll just load the UK-specific dataset (no data separation is required). \n",
    "\n",
    "Data includes the video title, channel title, publish time, tags, views, likes and dislikes, description, and comment count. The data also includes a category_id field, which varies between regions. To retrieve the categories for a specific video, the associated JSON is also provided. One such file is included for each of the five regions in the dataset.\n",
    "\n",
    "We expect the top performers on the YouTube trending list to be music videos (such as the famous “Gangam Style”), celebrity and/or reality TV performances, and the random viral videos that YouTube is well-known for. We'll confirm / reject this hypothesis further in our analysis based on the channel titles and categories. \n",
    "\n",
    "\n",
    "#### 1.2.2 How the data was collected\n",
    "This dataset was collected using the YouTube API.\n",
    "\n",
    "## 2. Limitations\n",
    "\n",
    "We don't have the data about non-trending videos, so we won't build a classifier. Also, we understand that there're might be much more factors impacting the ability of the video to become viral (eg social notion or incident in the politics), however we'll only stick to the factors available in our dataset. \n",
    "\n",
    "Unfortunately, it's not clear how the 200 Trending videos were selected if there were more than 200 trending videos on that day. It's not said if on a specific day the dataset contains all the trending videos on that day (if less than 200 videos were trending), or only top 200 video. We'll check if there day when less than 200 videos were included. \n",
    "\n",
    "Additional note is required: the videos in the dataset are not the most-viewed videos of the year. "
   ]
  },
  {
   "cell_type": "markdown",
   "metadata": {},
   "source": [
    "## 3. Data exploration"
   ]
  },
  {
   "cell_type": "markdown",
   "metadata": {},
   "source": [
    "### 3.1. Familiarisation with the data \n",
    "\n",
    "Since the description of the data is rather limited, we'll familiarise ourselves with the data first, try to understand what columns are there and what values are inside them, how the data is structured and see if there're any outliers.\n",
    "\n",
    "In this section we'll also perform any necessary tranformations or operations to make our models run smooth further down the road and choose variables we'd like to focus our research on based on our observations of the dataset."
   ]
  },
  {
   "cell_type": "code",
   "execution_count": 195,
   "metadata": {
    "collapsed": true
   },
   "outputs": [],
   "source": [
    "import pandas as pd\n",
    "import numpy as np\n",
    "import json\n",
    "import matplotlib.pyplot as plt\n",
    "import seaborn as sns\n",
    "import math\n",
    "from sklearn.preprocessing import StandardScaler\n",
    "%matplotlib inline"
   ]
  },
  {
   "cell_type": "code",
   "execution_count": 196,
   "metadata": {},
   "outputs": [
    {
     "data": {
      "text/plain": [
       "Index(['trending_date', 'title', 'channel_title', 'category_id',\n",
       "       'publish_time', 'tags', 'views', 'likes', 'dislikes', 'comment_count',\n",
       "       'thumbnail_link', 'comments_disabled', 'ratings_disabled',\n",
       "       'video_error_or_removed', 'description'],\n",
       "      dtype='object')"
      ]
     },
     "execution_count": 196,
     "metadata": {},
     "output_type": "execute_result"
    }
   ],
   "source": [
    "df=pd.read_csv(\"../datasets/youtube-new/GBvideos.csv\", index_col= 'video_id')\n",
    "df.columns"
   ]
  },
  {
   "cell_type": "code",
   "execution_count": 197,
   "metadata": {},
   "outputs": [
    {
     "data": {
      "text/html": [
       "<div>\n",
       "<style>\n",
       "    .dataframe thead tr:only-child th {\n",
       "        text-align: right;\n",
       "    }\n",
       "\n",
       "    .dataframe thead th {\n",
       "        text-align: left;\n",
       "    }\n",
       "\n",
       "    .dataframe tbody tr th {\n",
       "        vertical-align: top;\n",
       "    }\n",
       "</style>\n",
       "<table border=\"1\" class=\"dataframe\">\n",
       "  <thead>\n",
       "    <tr style=\"text-align: right;\">\n",
       "      <th></th>\n",
       "      <th>trending_date</th>\n",
       "      <th>title</th>\n",
       "      <th>channel_title</th>\n",
       "      <th>category_id</th>\n",
       "      <th>publish_time</th>\n",
       "      <th>tags</th>\n",
       "      <th>views</th>\n",
       "      <th>likes</th>\n",
       "      <th>dislikes</th>\n",
       "      <th>comment_count</th>\n",
       "      <th>thumbnail_link</th>\n",
       "      <th>comments_disabled</th>\n",
       "      <th>ratings_disabled</th>\n",
       "      <th>video_error_or_removed</th>\n",
       "      <th>description</th>\n",
       "    </tr>\n",
       "    <tr>\n",
       "      <th>video_id</th>\n",
       "      <th></th>\n",
       "      <th></th>\n",
       "      <th></th>\n",
       "      <th></th>\n",
       "      <th></th>\n",
       "      <th></th>\n",
       "      <th></th>\n",
       "      <th></th>\n",
       "      <th></th>\n",
       "      <th></th>\n",
       "      <th></th>\n",
       "      <th></th>\n",
       "      <th></th>\n",
       "      <th></th>\n",
       "      <th></th>\n",
       "    </tr>\n",
       "  </thead>\n",
       "  <tbody>\n",
       "    <tr>\n",
       "      <th>Jw1Y-zhQURU</th>\n",
       "      <td>17.14.11</td>\n",
       "      <td>John Lewis Christmas Ad 2017 - #MozTheMonster</td>\n",
       "      <td>John Lewis</td>\n",
       "      <td>26</td>\n",
       "      <td>2017-11-10T07:38:29.000Z</td>\n",
       "      <td>christmas|\"john lewis christmas\"|\"john lewis\"|...</td>\n",
       "      <td>7224515</td>\n",
       "      <td>55681</td>\n",
       "      <td>10247</td>\n",
       "      <td>9479</td>\n",
       "      <td>https://i.ytimg.com/vi/Jw1Y-zhQURU/default.jpg</td>\n",
       "      <td>False</td>\n",
       "      <td>False</td>\n",
       "      <td>False</td>\n",
       "      <td>Click here to continue the story and make your...</td>\n",
       "    </tr>\n",
       "    <tr>\n",
       "      <th>3s1rvMFUweQ</th>\n",
       "      <td>17.14.11</td>\n",
       "      <td>Taylor Swift: …Ready for It? (Live) - SNL</td>\n",
       "      <td>Saturday Night Live</td>\n",
       "      <td>24</td>\n",
       "      <td>2017-11-12T06:24:44.000Z</td>\n",
       "      <td>SNL|\"Saturday Night Live\"|\"SNL Season 43\"|\"Epi...</td>\n",
       "      <td>1053632</td>\n",
       "      <td>25561</td>\n",
       "      <td>2294</td>\n",
       "      <td>2757</td>\n",
       "      <td>https://i.ytimg.com/vi/3s1rvMFUweQ/default.jpg</td>\n",
       "      <td>False</td>\n",
       "      <td>False</td>\n",
       "      <td>False</td>\n",
       "      <td>Musical guest Taylor Swift performs …Ready for...</td>\n",
       "    </tr>\n",
       "  </tbody>\n",
       "</table>\n",
       "</div>"
      ],
      "text/plain": [
       "            trending_date                                          title  \\\n",
       "video_id                                                                   \n",
       "Jw1Y-zhQURU      17.14.11  John Lewis Christmas Ad 2017 - #MozTheMonster   \n",
       "3s1rvMFUweQ      17.14.11      Taylor Swift: …Ready for It? (Live) - SNL   \n",
       "\n",
       "                   channel_title  category_id              publish_time  \\\n",
       "video_id                                                                  \n",
       "Jw1Y-zhQURU           John Lewis           26  2017-11-10T07:38:29.000Z   \n",
       "3s1rvMFUweQ  Saturday Night Live           24  2017-11-12T06:24:44.000Z   \n",
       "\n",
       "                                                          tags    views  \\\n",
       "video_id                                                                  \n",
       "Jw1Y-zhQURU  christmas|\"john lewis christmas\"|\"john lewis\"|...  7224515   \n",
       "3s1rvMFUweQ  SNL|\"Saturday Night Live\"|\"SNL Season 43\"|\"Epi...  1053632   \n",
       "\n",
       "             likes  dislikes  comment_count  \\\n",
       "video_id                                      \n",
       "Jw1Y-zhQURU  55681     10247           9479   \n",
       "3s1rvMFUweQ  25561      2294           2757   \n",
       "\n",
       "                                             thumbnail_link  \\\n",
       "video_id                                                      \n",
       "Jw1Y-zhQURU  https://i.ytimg.com/vi/Jw1Y-zhQURU/default.jpg   \n",
       "3s1rvMFUweQ  https://i.ytimg.com/vi/3s1rvMFUweQ/default.jpg   \n",
       "\n",
       "             comments_disabled  ratings_disabled  video_error_or_removed  \\\n",
       "video_id                                                                   \n",
       "Jw1Y-zhQURU              False             False                   False   \n",
       "3s1rvMFUweQ              False             False                   False   \n",
       "\n",
       "                                                   description  \n",
       "video_id                                                        \n",
       "Jw1Y-zhQURU  Click here to continue the story and make your...  \n",
       "3s1rvMFUweQ  Musical guest Taylor Swift performs …Ready for...  "
      ]
     },
     "execution_count": 197,
     "metadata": {},
     "output_type": "execute_result"
    }
   ],
   "source": [
    "# seeing how the dataset looks like\n",
    "df.head(2)"
   ]
  },
  {
   "cell_type": "code",
   "execution_count": 198,
   "metadata": {},
   "outputs": [
    {
     "data": {
      "text/plain": [
       "69"
      ]
     },
     "execution_count": 198,
     "metadata": {},
     "output_type": "execute_result"
    }
   ],
   "source": [
    "# we have suspicious column saying if the video is removed or shows an error\n",
    "# we'll see how many there're and remove them since they might be non-represenatitive and/or on restricted topic\n",
    "df.loc[(df['video_error_or_removed'] == True)].count()[0]"
   ]
  },
  {
   "cell_type": "code",
   "execution_count": 199,
   "metadata": {},
   "outputs": [],
   "source": [
    "# as we're not looking into the removed videos (or videos) uploaded withe errors, we'll remove them and \n",
    "df = df.drop(['title', 'thumbnail_link', 'description', 'video_error_or_removed'], axis = 1)"
   ]
  },
  {
   "cell_type": "code",
   "execution_count": 200,
   "metadata": {},
   "outputs": [
    {
     "data": {
      "text/html": [
       "<div>\n",
       "<style>\n",
       "    .dataframe thead tr:only-child th {\n",
       "        text-align: right;\n",
       "    }\n",
       "\n",
       "    .dataframe thead th {\n",
       "        text-align: left;\n",
       "    }\n",
       "\n",
       "    .dataframe tbody tr th {\n",
       "        vertical-align: top;\n",
       "    }\n",
       "</style>\n",
       "<table border=\"1\" class=\"dataframe\">\n",
       "  <thead>\n",
       "    <tr style=\"text-align: right;\">\n",
       "      <th></th>\n",
       "      <th>category_id</th>\n",
       "      <th>views</th>\n",
       "      <th>likes</th>\n",
       "      <th>dislikes</th>\n",
       "      <th>comment_count</th>\n",
       "    </tr>\n",
       "  </thead>\n",
       "  <tbody>\n",
       "    <tr>\n",
       "      <th>count</th>\n",
       "      <td>38916.000000</td>\n",
       "      <td>3.891600e+04</td>\n",
       "      <td>3.891600e+04</td>\n",
       "      <td>3.891600e+04</td>\n",
       "      <td>3.891600e+04</td>\n",
       "    </tr>\n",
       "    <tr>\n",
       "      <th>mean</th>\n",
       "      <td>16.827937</td>\n",
       "      <td>5.911944e+06</td>\n",
       "      <td>1.345196e+05</td>\n",
       "      <td>7.612560e+03</td>\n",
       "      <td>1.308835e+04</td>\n",
       "    </tr>\n",
       "    <tr>\n",
       "      <th>std</th>\n",
       "      <td>7.752728</td>\n",
       "      <td>1.900121e+07</td>\n",
       "      <td>3.499893e+05</td>\n",
       "      <td>5.095683e+04</td>\n",
       "      <td>5.066740e+04</td>\n",
       "    </tr>\n",
       "    <tr>\n",
       "      <th>min</th>\n",
       "      <td>1.000000</td>\n",
       "      <td>8.510000e+02</td>\n",
       "      <td>0.000000e+00</td>\n",
       "      <td>0.000000e+00</td>\n",
       "      <td>0.000000e+00</td>\n",
       "    </tr>\n",
       "    <tr>\n",
       "      <th>25%</th>\n",
       "      <td>10.000000</td>\n",
       "      <td>2.515272e+05</td>\n",
       "      <td>5.897000e+03</td>\n",
       "      <td>2.000000e+02</td>\n",
       "      <td>6.790000e+02</td>\n",
       "    </tr>\n",
       "    <tr>\n",
       "      <th>50%</th>\n",
       "      <td>20.000000</td>\n",
       "      <td>9.818890e+05</td>\n",
       "      <td>2.518250e+04</td>\n",
       "      <td>8.210000e+02</td>\n",
       "      <td>2.478000e+03</td>\n",
       "    </tr>\n",
       "    <tr>\n",
       "      <th>75%</th>\n",
       "      <td>24.000000</td>\n",
       "      <td>3.683628e+06</td>\n",
       "      <td>1.140892e+05</td>\n",
       "      <td>3.357500e+03</td>\n",
       "      <td>9.241500e+03</td>\n",
       "    </tr>\n",
       "    <tr>\n",
       "      <th>max</th>\n",
       "      <td>43.000000</td>\n",
       "      <td>4.245389e+08</td>\n",
       "      <td>5.613827e+06</td>\n",
       "      <td>1.944971e+06</td>\n",
       "      <td>1.626501e+06</td>\n",
       "    </tr>\n",
       "  </tbody>\n",
       "</table>\n",
       "</div>"
      ],
      "text/plain": [
       "        category_id         views         likes      dislikes  comment_count\n",
       "count  38916.000000  3.891600e+04  3.891600e+04  3.891600e+04   3.891600e+04\n",
       "mean      16.827937  5.911944e+06  1.345196e+05  7.612560e+03   1.308835e+04\n",
       "std        7.752728  1.900121e+07  3.499893e+05  5.095683e+04   5.066740e+04\n",
       "min        1.000000  8.510000e+02  0.000000e+00  0.000000e+00   0.000000e+00\n",
       "25%       10.000000  2.515272e+05  5.897000e+03  2.000000e+02   6.790000e+02\n",
       "50%       20.000000  9.818890e+05  2.518250e+04  8.210000e+02   2.478000e+03\n",
       "75%       24.000000  3.683628e+06  1.140892e+05  3.357500e+03   9.241500e+03\n",
       "max       43.000000  4.245389e+08  5.613827e+06  1.944971e+06   1.626501e+06"
      ]
     },
     "execution_count": 200,
     "metadata": {},
     "output_type": "execute_result"
    }
   ],
   "source": [
    "df.describe()"
   ]
  },
  {
   "cell_type": "markdown",
   "metadata": {},
   "source": [
    "We have 4 contineous numerical variables: views, likes,\tdislikes, number of comments. \n",
    "\n",
    "Let's first assign the correct data type formats to the variables: int for numerical variables above, string for category_id."
   ]
  },
  {
   "cell_type": "code",
   "execution_count": 201,
   "metadata": {},
   "outputs": [],
   "source": [
    "columns_int = ['views', 'likes', 'dislikes', 'comment_count']\n",
    "for column in columns_int:\n",
    "    df[column] = df[column].astype(int)\n",
    "\n",
    "columns_str = ['category_id']\n",
    "for column in columns_str:\n",
    "    df[column] = df[column].astype(str)"
   ]
  },
  {
   "cell_type": "markdown",
   "metadata": {},
   "source": [
    "Now that we have category_id as a str value, it would be much more convenient to see the category name for each video. For this we'll create a mapping between category id and it's real name"
   ]
  },
  {
   "cell_type": "code",
   "execution_count": 202,
   "metadata": {
    "collapsed": true
   },
   "outputs": [],
   "source": [
    "# mapping category_id with real names of categories\n",
    "category = {}\n",
    "\n",
    "with open('../datasets/youtube-new/GB_category_id.json', 'r') as f:\n",
    "    category_df = json.load(f)\n",
    "    for cat in category_df['items']:\n",
    "        category[cat['id']] = cat['snippet']['title']"
   ]
  },
  {
   "cell_type": "code",
   "execution_count": 203,
   "metadata": {},
   "outputs": [
    {
     "data": {
      "text/html": [
       "<div>\n",
       "<style>\n",
       "    .dataframe thead tr:only-child th {\n",
       "        text-align: right;\n",
       "    }\n",
       "\n",
       "    .dataframe thead th {\n",
       "        text-align: left;\n",
       "    }\n",
       "\n",
       "    .dataframe tbody tr th {\n",
       "        vertical-align: top;\n",
       "    }\n",
       "</style>\n",
       "<table border=\"1\" class=\"dataframe\">\n",
       "  <thead>\n",
       "    <tr style=\"text-align: right;\">\n",
       "      <th></th>\n",
       "      <th>category_id</th>\n",
       "      <th>category</th>\n",
       "    </tr>\n",
       "    <tr>\n",
       "      <th>video_id</th>\n",
       "      <th></th>\n",
       "      <th></th>\n",
       "    </tr>\n",
       "  </thead>\n",
       "  <tbody>\n",
       "    <tr>\n",
       "      <th>Jw1Y-zhQURU</th>\n",
       "      <td>26</td>\n",
       "      <td>Howto &amp; Style</td>\n",
       "    </tr>\n",
       "    <tr>\n",
       "      <th>3s1rvMFUweQ</th>\n",
       "      <td>24</td>\n",
       "      <td>Entertainment</td>\n",
       "    </tr>\n",
       "    <tr>\n",
       "      <th>n1WpP7iowLc</th>\n",
       "      <td>10</td>\n",
       "      <td>Music</td>\n",
       "    </tr>\n",
       "  </tbody>\n",
       "</table>\n",
       "</div>"
      ],
      "text/plain": [
       "            category_id       category\n",
       "video_id                              \n",
       "Jw1Y-zhQURU          26  Howto & Style\n",
       "3s1rvMFUweQ          24  Entertainment\n",
       "n1WpP7iowLc          10          Music"
      ]
     },
     "execution_count": 203,
     "metadata": {},
     "output_type": "execute_result"
    }
   ],
   "source": [
    "df.insert(4,'category', df['category_id'].map(category))\n",
    "df[['category_id', 'category']].head(3)"
   ]
  },
  {
   "cell_type": "markdown",
   "metadata": {},
   "source": [
    "For the interest of research, I'll create a couple of new variables, which might be insightful: \n",
    "- hour of publishing a video\n",
    "- days between the video was published and became trending. "
   ]
  },
  {
   "cell_type": "code",
   "execution_count": 204,
   "metadata": {
    "collapsed": true
   },
   "outputs": [],
   "source": [
    "# converting string to datetime \n",
    "df['publish_time'] = pd.to_datetime(df['publish_time'], format='%Y-%m-%dT%X.000Z')\n",
    "\n",
    "# rounding to a nearest hour for further analysis of the best publishing time\n",
    "df['publish_time_rounded'] = df['publish_time'].dt.round('1h')"
   ]
  },
  {
   "cell_type": "code",
   "execution_count": 205,
   "metadata": {},
   "outputs": [],
   "source": [
    "# separating into publishing date and time for further analysis\n",
    "df['publish_date'] = [d.date() for d in df['publish_time_rounded']]\n",
    "df['publish_time_of_day'] = [d.time() for d in df['publish_time_rounded']]"
   ]
  },
  {
   "cell_type": "code",
   "execution_count": 206,
   "metadata": {},
   "outputs": [
    {
     "data": {
      "text/html": [
       "<div>\n",
       "<style>\n",
       "    .dataframe thead tr:only-child th {\n",
       "        text-align: right;\n",
       "    }\n",
       "\n",
       "    .dataframe thead th {\n",
       "        text-align: left;\n",
       "    }\n",
       "\n",
       "    .dataframe tbody tr th {\n",
       "        vertical-align: top;\n",
       "    }\n",
       "</style>\n",
       "<table border=\"1\" class=\"dataframe\">\n",
       "  <thead>\n",
       "    <tr style=\"text-align: right;\">\n",
       "      <th></th>\n",
       "      <th>publish_date</th>\n",
       "      <th>publish_time_of_day</th>\n",
       "    </tr>\n",
       "  </thead>\n",
       "  <tbody>\n",
       "    <tr>\n",
       "      <th>0</th>\n",
       "      <td>2018-01-25</td>\n",
       "      <td>17:00:00</td>\n",
       "    </tr>\n",
       "  </tbody>\n",
       "</table>\n",
       "</div>"
      ],
      "text/plain": [
       "  publish_date publish_time_of_day\n",
       "0   2018-01-25            17:00:00"
      ]
     },
     "execution_count": 206,
     "metadata": {},
     "output_type": "execute_result"
    }
   ],
   "source": [
    "# let's check what date & time was the most frequent among trending videos\n",
    "df[['publish_date', 'publish_time_of_day']].mode()"
   ]
  },
  {
   "cell_type": "code",
   "execution_count": 207,
   "metadata": {},
   "outputs": [
    {
     "data": {
      "text/plain": [
       "205"
      ]
     },
     "execution_count": 207,
     "metadata": {},
     "output_type": "execute_result"
    }
   ],
   "source": [
    "# how many unique days do we have in the dataset?\n",
    "df.trending_date.describe()[1]"
   ]
  },
  {
   "cell_type": "code",
   "execution_count": 208,
   "metadata": {},
   "outputs": [
    {
     "data": {
      "text/plain": [
       "count                   38916\n",
       "unique                    205\n",
       "top       2017-12-27 00:00:00\n",
       "freq                      200\n",
       "first     2017-11-14 00:00:00\n",
       "last      2018-06-14 00:00:00\n",
       "Name: trending_date, dtype: object"
      ]
     },
     "execution_count": 208,
     "metadata": {},
     "output_type": "execute_result"
    }
   ],
   "source": [
    "# converting string to datetime \n",
    "df['trending_date'] = pd.to_datetime(df['trending_date'], format='%y.%d.%m')\n",
    "\n",
    "# what is the first and the last day of data collection\n",
    "df.trending_date.describe()"
   ]
  },
  {
   "cell_type": "code",
   "execution_count": 209,
   "metadata": {},
   "outputs": [
    {
     "data": {
      "text/plain": [
       "True     112\n",
       "False     93\n",
       "Name: trending_date, dtype: int64"
      ]
     },
     "execution_count": 209,
     "metadata": {},
     "output_type": "execute_result"
    }
   ],
   "source": [
    "# checking if we have days with less then 200 trending videos \n",
    "(df['trending_date'].value_counts() < 200).value_counts()"
   ]
  },
  {
   "cell_type": "code",
   "execution_count": 210,
   "metadata": {},
   "outputs": [
    {
     "data": {
      "text/plain": [
       "2018-05-15    148\n",
       "2018-05-22    152\n",
       "2018-05-23    153\n",
       "Name: trending_date, dtype: int64"
      ]
     },
     "execution_count": 210,
     "metadata": {},
     "output_type": "execute_result"
    }
   ],
   "source": [
    "# what was the smallest number of trending videos for some days\n",
    "df.trending_date.value_counts().nsmallest(3)"
   ]
  },
  {
   "cell_type": "code",
   "execution_count": 211,
   "metadata": {},
   "outputs": [],
   "source": [
    "# finding the time difference between publishing and trending \n",
    "df['btw_pub_trend'] = df['trending_date'] - df['publish_time']\n",
    "\n",
    "# rounding  datetime values to days - we're more interested in number of days\n",
    "df['btw_pub_trend'] = df['btw_pub_trend'].dt.round('1d')\n",
    "\n",
    "# converting to int64 since some python methods give us an error about the data type\n",
    "df['btw_pub_trend'] = (df['btw_pub_trend'].dt.round('1d')).dt.days"
   ]
  },
  {
   "cell_type": "markdown",
   "metadata": {},
   "source": [
    "### 3.2. Dataset description"
   ]
  },
  {
   "cell_type": "markdown",
   "metadata": {},
   "source": [
    "The data collects information for 205 days from 2017-11-14 to 2018-06-14. For about half of them (112) we have information about less than 200 videos by any reason, probably because there were less than 200 videos trending that day."
   ]
  },
  {
   "cell_type": "markdown",
   "metadata": {},
   "source": [
    "### 3.3. Univariate analysis"
   ]
  },
  {
   "cell_type": "code",
   "execution_count": 225,
   "metadata": {},
   "outputs": [
    {
     "name": "stdout",
     "output_type": "stream",
     "text": [
      "In the dataset we have 15 variables and 38826 observations\n"
     ]
    }
   ],
   "source": [
    "df = df.dropna()\n",
    "df = df.drop(['category_id'], axis = 1)\n",
    "print('In the dataset we have ' + str(len(df.columns)) + ' variables and ' + str(df.count()[0]) + ' observations')"
   ]
  },
  {
   "cell_type": "markdown",
   "metadata": {},
   "source": [
    "#### Continious variables: \n",
    "- 'views'\n",
    "- 'likes'\n",
    "- 'dislikes'\n",
    "- 'comment_count'\n",
    "- 'publish_time' (datetime format)\n",
    "- 'publish_time_rounded' (to hour)\n",
    "- 'publish_date' (only date)\n",
    "- 'trending_date'(datetime format)\n",
    "- 'btw_pub_trend', (int format)\n",
    "\n",
    "\n",
    "#### Categorical cariables: \n",
    "- 'channel_title' \n",
    "- 'category'\n",
    "- 'publish_time_of_day'\n",
    "- 'tags'\n",
    "- 'comments_disabled' \n",
    "- 'ratings_disabled'\n",
    "\n",
    "#### Distribution of the features based on their nature\n",
    "\n",
    "- Views, likes, dislikes, comments in this particular slice of videos are normally distributed with positive skew\n",
    "- Variable 'bw_pub_trend_days' (days before videos appeared in Trending) is normally distributed with positive skew\n",
    "- Variables 'comments_disabled' and 'ratings_disabled' are binomially distributed\n",
    "- Other variables don't follow any particular distribution\n",
    "\n",
    " \n",
    "#### Variation\n",
    "The numerical values, that we can define variation (standart variation) are: views, likes, dislikes, comment counts and days before videos got viral. \n",
    "\n",
    "The variation is quite significant for them, the values of almost all these variables start at 0, but then range up to large numbers with several digits."
   ]
  },
  {
   "cell_type": "markdown",
   "metadata": {},
   "source": [
    "### Bivariate analysis"
   ]
  },
  {
   "cell_type": "code",
   "execution_count": 215,
   "metadata": {},
   "outputs": [
    {
     "ename": "TypeError",
     "evalue": "can't multiply sequence by non-int of type 'float'",
     "output_type": "error",
     "traceback": [
      "\u001b[0;31m---------------------------------------------------------------------------\u001b[0m",
      "\u001b[0;31mTypeError\u001b[0m                                 Traceback (most recent call last)",
      "\u001b[0;32m<ipython-input-215-87a22a966b22>\u001b[0m in \u001b[0;36m<module>\u001b[0;34m()\u001b[0m\n\u001b[1;32m      4\u001b[0m \u001b[0mg\u001b[0m\u001b[0;34m.\u001b[0m\u001b[0mmap_upper\u001b[0m\u001b[0;34m(\u001b[0m\u001b[0mplt\u001b[0m\u001b[0;34m.\u001b[0m\u001b[0mscatter\u001b[0m\u001b[0;34m,\u001b[0m \u001b[0malpha\u001b[0m\u001b[0;34m=\u001b[0m\u001b[0;36m.5\u001b[0m\u001b[0;34m)\u001b[0m\u001b[0;34m\u001b[0m\u001b[0m\n\u001b[1;32m      5\u001b[0m \u001b[0;31m# Fit line summarizing the linear relationship of the two variables.\u001b[0m\u001b[0;34m\u001b[0m\u001b[0;34m\u001b[0m\u001b[0m\n\u001b[0;32m----> 6\u001b[0;31m \u001b[0mg\u001b[0m\u001b[0;34m.\u001b[0m\u001b[0mmap_lower\u001b[0m\u001b[0;34m(\u001b[0m\u001b[0msns\u001b[0m\u001b[0;34m.\u001b[0m\u001b[0mregplot\u001b[0m\u001b[0;34m,\u001b[0m \u001b[0mscatter_kws\u001b[0m\u001b[0;34m=\u001b[0m\u001b[0mdict\u001b[0m\u001b[0;34m(\u001b[0m\u001b[0malpha\u001b[0m\u001b[0;34m=\u001b[0m\u001b[0;36m0\u001b[0m\u001b[0;34m)\u001b[0m\u001b[0;34m)\u001b[0m\u001b[0;34m\u001b[0m\u001b[0m\n\u001b[0m\u001b[1;32m      7\u001b[0m \u001b[0;31m# Give information about the univariate distributions of the variables.\u001b[0m\u001b[0;34m\u001b[0m\u001b[0;34m\u001b[0m\u001b[0m\n\u001b[1;32m      8\u001b[0m \u001b[0mg\u001b[0m\u001b[0;34m.\u001b[0m\u001b[0mmap_diag\u001b[0m\u001b[0;34m(\u001b[0m\u001b[0msns\u001b[0m\u001b[0;34m.\u001b[0m\u001b[0mkdeplot\u001b[0m\u001b[0;34m,\u001b[0m \u001b[0mlw\u001b[0m\u001b[0;34m=\u001b[0m\u001b[0;36m3\u001b[0m\u001b[0;34m)\u001b[0m\u001b[0;34m\u001b[0m\u001b[0m\n",
      "\u001b[0;32m/Users/polinav/anaconda/lib/python3.6/site-packages/seaborn/axisgrid.py\u001b[0m in \u001b[0;36mmap_lower\u001b[0;34m(self, func, **kwargs)\u001b[0m\n\u001b[1;32m   1398\u001b[0m                 \u001b[0mcolor\u001b[0m \u001b[0;34m=\u001b[0m \u001b[0mself\u001b[0m\u001b[0;34m.\u001b[0m\u001b[0mpalette\u001b[0m\u001b[0;34m[\u001b[0m\u001b[0mk\u001b[0m\u001b[0;34m]\u001b[0m \u001b[0;32mif\u001b[0m \u001b[0mkw_color\u001b[0m \u001b[0;32mis\u001b[0m \u001b[0;32mNone\u001b[0m \u001b[0;32melse\u001b[0m \u001b[0mkw_color\u001b[0m\u001b[0;34m\u001b[0m\u001b[0m\n\u001b[1;32m   1399\u001b[0m                 func(data_k[x_var], data_k[y_var], label=label_k,\n\u001b[0;32m-> 1400\u001b[0;31m                      color=color, **kwargs)\n\u001b[0m\u001b[1;32m   1401\u001b[0m \u001b[0;34m\u001b[0m\u001b[0m\n\u001b[1;32m   1402\u001b[0m             \u001b[0mself\u001b[0m\u001b[0;34m.\u001b[0m\u001b[0m_clean_axis\u001b[0m\u001b[0;34m(\u001b[0m\u001b[0max\u001b[0m\u001b[0;34m)\u001b[0m\u001b[0;34m\u001b[0m\u001b[0m\n",
      "\u001b[0;32m/Users/polinav/anaconda/lib/python3.6/site-packages/seaborn/linearmodels.py\u001b[0m in \u001b[0;36mregplot\u001b[0;34m(x, y, data, x_estimator, x_bins, x_ci, scatter, fit_reg, ci, n_boot, units, order, logistic, lowess, robust, logx, x_partial, y_partial, truncate, dropna, x_jitter, y_jitter, label, color, marker, scatter_kws, line_kws, ax)\u001b[0m\n\u001b[1;32m    777\u001b[0m     \u001b[0mscatter_kws\u001b[0m\u001b[0;34m[\u001b[0m\u001b[0;34m\"marker\"\u001b[0m\u001b[0;34m]\u001b[0m \u001b[0;34m=\u001b[0m \u001b[0mmarker\u001b[0m\u001b[0;34m\u001b[0m\u001b[0m\n\u001b[1;32m    778\u001b[0m     \u001b[0mline_kws\u001b[0m \u001b[0;34m=\u001b[0m \u001b[0;34m{\u001b[0m\u001b[0;34m}\u001b[0m \u001b[0;32mif\u001b[0m \u001b[0mline_kws\u001b[0m \u001b[0;32mis\u001b[0m \u001b[0;32mNone\u001b[0m \u001b[0;32melse\u001b[0m \u001b[0mcopy\u001b[0m\u001b[0;34m.\u001b[0m\u001b[0mcopy\u001b[0m\u001b[0;34m(\u001b[0m\u001b[0mline_kws\u001b[0m\u001b[0;34m)\u001b[0m\u001b[0;34m\u001b[0m\u001b[0m\n\u001b[0;32m--> 779\u001b[0;31m     \u001b[0mplotter\u001b[0m\u001b[0;34m.\u001b[0m\u001b[0mplot\u001b[0m\u001b[0;34m(\u001b[0m\u001b[0max\u001b[0m\u001b[0;34m,\u001b[0m \u001b[0mscatter_kws\u001b[0m\u001b[0;34m,\u001b[0m \u001b[0mline_kws\u001b[0m\u001b[0;34m)\u001b[0m\u001b[0;34m\u001b[0m\u001b[0m\n\u001b[0m\u001b[1;32m    780\u001b[0m     \u001b[0;32mreturn\u001b[0m \u001b[0max\u001b[0m\u001b[0;34m\u001b[0m\u001b[0m\n\u001b[1;32m    781\u001b[0m \u001b[0;34m\u001b[0m\u001b[0m\n",
      "\u001b[0;32m/Users/polinav/anaconda/lib/python3.6/site-packages/seaborn/linearmodels.py\u001b[0m in \u001b[0;36mplot\u001b[0;34m(self, ax, scatter_kws, line_kws)\u001b[0m\n\u001b[1;32m    330\u001b[0m             \u001b[0mself\u001b[0m\u001b[0;34m.\u001b[0m\u001b[0mscatterplot\u001b[0m\u001b[0;34m(\u001b[0m\u001b[0max\u001b[0m\u001b[0;34m,\u001b[0m \u001b[0mscatter_kws\u001b[0m\u001b[0;34m)\u001b[0m\u001b[0;34m\u001b[0m\u001b[0m\n\u001b[1;32m    331\u001b[0m         \u001b[0;32mif\u001b[0m \u001b[0mself\u001b[0m\u001b[0;34m.\u001b[0m\u001b[0mfit_reg\u001b[0m\u001b[0;34m:\u001b[0m\u001b[0;34m\u001b[0m\u001b[0m\n\u001b[0;32m--> 332\u001b[0;31m             \u001b[0mself\u001b[0m\u001b[0;34m.\u001b[0m\u001b[0mlineplot\u001b[0m\u001b[0;34m(\u001b[0m\u001b[0max\u001b[0m\u001b[0;34m,\u001b[0m \u001b[0mline_kws\u001b[0m\u001b[0;34m)\u001b[0m\u001b[0;34m\u001b[0m\u001b[0m\n\u001b[0m\u001b[1;32m    333\u001b[0m \u001b[0;34m\u001b[0m\u001b[0m\n\u001b[1;32m    334\u001b[0m         \u001b[0;31m# Label the axes\u001b[0m\u001b[0;34m\u001b[0m\u001b[0;34m\u001b[0m\u001b[0m\n",
      "\u001b[0;32m/Users/polinav/anaconda/lib/python3.6/site-packages/seaborn/linearmodels.py\u001b[0m in \u001b[0;36mlineplot\u001b[0;34m(self, ax, kws)\u001b[0m\n\u001b[1;32m    375\u001b[0m \u001b[0;34m\u001b[0m\u001b[0m\n\u001b[1;32m    376\u001b[0m         \u001b[0;31m# Fit the regression model\u001b[0m\u001b[0;34m\u001b[0m\u001b[0;34m\u001b[0m\u001b[0m\n\u001b[0;32m--> 377\u001b[0;31m         \u001b[0mgrid\u001b[0m\u001b[0;34m,\u001b[0m \u001b[0myhat\u001b[0m\u001b[0;34m,\u001b[0m \u001b[0merr_bands\u001b[0m \u001b[0;34m=\u001b[0m \u001b[0mself\u001b[0m\u001b[0;34m.\u001b[0m\u001b[0mfit_regression\u001b[0m\u001b[0;34m(\u001b[0m\u001b[0max\u001b[0m\u001b[0;34m)\u001b[0m\u001b[0;34m\u001b[0m\u001b[0m\n\u001b[0m\u001b[1;32m    378\u001b[0m \u001b[0;34m\u001b[0m\u001b[0m\n\u001b[1;32m    379\u001b[0m         \u001b[0;31m# Get set default aesthetics\u001b[0m\u001b[0;34m\u001b[0m\u001b[0;34m\u001b[0m\u001b[0m\n",
      "\u001b[0;32m/Users/polinav/anaconda/lib/python3.6/site-packages/seaborn/linearmodels.py\u001b[0m in \u001b[0;36mfit_regression\u001b[0;34m(self, ax, x_range, grid)\u001b[0m\n\u001b[1;32m    207\u001b[0m             \u001b[0myhat\u001b[0m\u001b[0;34m,\u001b[0m \u001b[0myhat_boots\u001b[0m \u001b[0;34m=\u001b[0m \u001b[0mself\u001b[0m\u001b[0;34m.\u001b[0m\u001b[0mfit_logx\u001b[0m\u001b[0;34m(\u001b[0m\u001b[0mgrid\u001b[0m\u001b[0;34m)\u001b[0m\u001b[0;34m\u001b[0m\u001b[0m\n\u001b[1;32m    208\u001b[0m         \u001b[0;32melse\u001b[0m\u001b[0;34m:\u001b[0m\u001b[0;34m\u001b[0m\u001b[0m\n\u001b[0;32m--> 209\u001b[0;31m             \u001b[0myhat\u001b[0m\u001b[0;34m,\u001b[0m \u001b[0myhat_boots\u001b[0m \u001b[0;34m=\u001b[0m \u001b[0mself\u001b[0m\u001b[0;34m.\u001b[0m\u001b[0mfit_fast\u001b[0m\u001b[0;34m(\u001b[0m\u001b[0mgrid\u001b[0m\u001b[0;34m)\u001b[0m\u001b[0;34m\u001b[0m\u001b[0m\n\u001b[0m\u001b[1;32m    210\u001b[0m \u001b[0;34m\u001b[0m\u001b[0m\n\u001b[1;32m    211\u001b[0m         \u001b[0;31m# Compute the confidence interval at each grid point\u001b[0m\u001b[0;34m\u001b[0m\u001b[0;34m\u001b[0m\u001b[0m\n",
      "\u001b[0;32m/Users/polinav/anaconda/lib/python3.6/site-packages/seaborn/linearmodels.py\u001b[0m in \u001b[0;36mfit_fast\u001b[0;34m(self, grid)\u001b[0m\n\u001b[1;32m    222\u001b[0m         \u001b[0mgrid\u001b[0m \u001b[0;34m=\u001b[0m \u001b[0mnp\u001b[0m\u001b[0;34m.\u001b[0m\u001b[0mc_\u001b[0m\u001b[0;34m[\u001b[0m\u001b[0mnp\u001b[0m\u001b[0;34m.\u001b[0m\u001b[0mones\u001b[0m\u001b[0;34m(\u001b[0m\u001b[0mlen\u001b[0m\u001b[0;34m(\u001b[0m\u001b[0mgrid\u001b[0m\u001b[0;34m)\u001b[0m\u001b[0;34m)\u001b[0m\u001b[0;34m,\u001b[0m \u001b[0mgrid\u001b[0m\u001b[0;34m]\u001b[0m\u001b[0;34m\u001b[0m\u001b[0m\n\u001b[1;32m    223\u001b[0m         \u001b[0mreg_func\u001b[0m \u001b[0;34m=\u001b[0m \u001b[0;32mlambda\u001b[0m \u001b[0m_x\u001b[0m\u001b[0;34m,\u001b[0m \u001b[0m_y\u001b[0m\u001b[0;34m:\u001b[0m \u001b[0mnp\u001b[0m\u001b[0;34m.\u001b[0m\u001b[0mlinalg\u001b[0m\u001b[0;34m.\u001b[0m\u001b[0mpinv\u001b[0m\u001b[0;34m(\u001b[0m\u001b[0m_x\u001b[0m\u001b[0;34m)\u001b[0m\u001b[0;34m.\u001b[0m\u001b[0mdot\u001b[0m\u001b[0;34m(\u001b[0m\u001b[0m_y\u001b[0m\u001b[0;34m)\u001b[0m\u001b[0;34m\u001b[0m\u001b[0m\n\u001b[0;32m--> 224\u001b[0;31m         \u001b[0myhat\u001b[0m \u001b[0;34m=\u001b[0m \u001b[0mgrid\u001b[0m\u001b[0;34m.\u001b[0m\u001b[0mdot\u001b[0m\u001b[0;34m(\u001b[0m\u001b[0mreg_func\u001b[0m\u001b[0;34m(\u001b[0m\u001b[0mX\u001b[0m\u001b[0;34m,\u001b[0m \u001b[0my\u001b[0m\u001b[0;34m)\u001b[0m\u001b[0;34m)\u001b[0m\u001b[0;34m\u001b[0m\u001b[0m\n\u001b[0m\u001b[1;32m    225\u001b[0m         \u001b[0;32mif\u001b[0m \u001b[0mself\u001b[0m\u001b[0;34m.\u001b[0m\u001b[0mci\u001b[0m \u001b[0;32mis\u001b[0m \u001b[0;32mNone\u001b[0m\u001b[0;34m:\u001b[0m\u001b[0;34m\u001b[0m\u001b[0m\n\u001b[1;32m    226\u001b[0m             \u001b[0;32mreturn\u001b[0m \u001b[0myhat\u001b[0m\u001b[0;34m,\u001b[0m \u001b[0;32mNone\u001b[0m\u001b[0;34m\u001b[0m\u001b[0m\n",
      "\u001b[0;32m/Users/polinav/anaconda/lib/python3.6/site-packages/seaborn/linearmodels.py\u001b[0m in \u001b[0;36m<lambda>\u001b[0;34m(_x, _y)\u001b[0m\n\u001b[1;32m    221\u001b[0m         \u001b[0mX\u001b[0m\u001b[0;34m,\u001b[0m \u001b[0my\u001b[0m \u001b[0;34m=\u001b[0m \u001b[0mnp\u001b[0m\u001b[0;34m.\u001b[0m\u001b[0mc_\u001b[0m\u001b[0;34m[\u001b[0m\u001b[0mnp\u001b[0m\u001b[0;34m.\u001b[0m\u001b[0mones\u001b[0m\u001b[0;34m(\u001b[0m\u001b[0mlen\u001b[0m\u001b[0;34m(\u001b[0m\u001b[0mself\u001b[0m\u001b[0;34m.\u001b[0m\u001b[0mx\u001b[0m\u001b[0;34m)\u001b[0m\u001b[0;34m)\u001b[0m\u001b[0;34m,\u001b[0m \u001b[0mself\u001b[0m\u001b[0;34m.\u001b[0m\u001b[0mx\u001b[0m\u001b[0;34m]\u001b[0m\u001b[0;34m,\u001b[0m \u001b[0mself\u001b[0m\u001b[0;34m.\u001b[0m\u001b[0my\u001b[0m\u001b[0;34m\u001b[0m\u001b[0m\n\u001b[1;32m    222\u001b[0m         \u001b[0mgrid\u001b[0m \u001b[0;34m=\u001b[0m \u001b[0mnp\u001b[0m\u001b[0;34m.\u001b[0m\u001b[0mc_\u001b[0m\u001b[0;34m[\u001b[0m\u001b[0mnp\u001b[0m\u001b[0;34m.\u001b[0m\u001b[0mones\u001b[0m\u001b[0;34m(\u001b[0m\u001b[0mlen\u001b[0m\u001b[0;34m(\u001b[0m\u001b[0mgrid\u001b[0m\u001b[0;34m)\u001b[0m\u001b[0;34m)\u001b[0m\u001b[0;34m,\u001b[0m \u001b[0mgrid\u001b[0m\u001b[0;34m]\u001b[0m\u001b[0;34m\u001b[0m\u001b[0m\n\u001b[0;32m--> 223\u001b[0;31m         \u001b[0mreg_func\u001b[0m \u001b[0;34m=\u001b[0m \u001b[0;32mlambda\u001b[0m \u001b[0m_x\u001b[0m\u001b[0;34m,\u001b[0m \u001b[0m_y\u001b[0m\u001b[0;34m:\u001b[0m \u001b[0mnp\u001b[0m\u001b[0;34m.\u001b[0m\u001b[0mlinalg\u001b[0m\u001b[0;34m.\u001b[0m\u001b[0mpinv\u001b[0m\u001b[0;34m(\u001b[0m\u001b[0m_x\u001b[0m\u001b[0;34m)\u001b[0m\u001b[0;34m.\u001b[0m\u001b[0mdot\u001b[0m\u001b[0;34m(\u001b[0m\u001b[0m_y\u001b[0m\u001b[0;34m)\u001b[0m\u001b[0;34m\u001b[0m\u001b[0m\n\u001b[0m\u001b[1;32m    224\u001b[0m         \u001b[0myhat\u001b[0m \u001b[0;34m=\u001b[0m \u001b[0mgrid\u001b[0m\u001b[0;34m.\u001b[0m\u001b[0mdot\u001b[0m\u001b[0;34m(\u001b[0m\u001b[0mreg_func\u001b[0m\u001b[0;34m(\u001b[0m\u001b[0mX\u001b[0m\u001b[0;34m,\u001b[0m \u001b[0my\u001b[0m\u001b[0;34m)\u001b[0m\u001b[0;34m)\u001b[0m\u001b[0;34m\u001b[0m\u001b[0m\n\u001b[1;32m    225\u001b[0m         \u001b[0;32mif\u001b[0m \u001b[0mself\u001b[0m\u001b[0;34m.\u001b[0m\u001b[0mci\u001b[0m \u001b[0;32mis\u001b[0m \u001b[0;32mNone\u001b[0m\u001b[0;34m:\u001b[0m\u001b[0;34m\u001b[0m\u001b[0m\n",
      "\u001b[0;31mTypeError\u001b[0m: can't multiply sequence by non-int of type 'float'"
     ]
    },
    {
     "data": {
      "image/png": "[encoded data removed]",
      "text/plain": [
       "<matplotlib.figure.Figure at 0x11b1ab630>"
      ]
     },
     "metadata": {},
     "output_type": "display_data"
    }
   ],
   "source": [
    "df_features = df[['views', 'likes', 'dislikes', 'comment_count', 'btw_pub_trend', 'category_id', 'publish_time_of_day']]\n",
    "g = sns.PairGrid(df_features, diag_sharey=False)\n",
    "# Scatterplot.\n",
    "g.map_upper(plt.scatter, alpha=.5)\n",
    "# Fit line summarizing the linear relationship of the two variables.\n",
    "g.map_lower(sns.regplot, scatter_kws=dict(alpha=0))\n",
    "# Give information about the univariate distributions of the variables.\n",
    "g.map_diag(sns.kdeplot, lw=3)\n",
    "plt.show()"
   ]
  },
  {
   "cell_type": "markdown",
   "metadata": {},
   "source": [
    "Correlation with outcome variable: \n",
    "Posivite correlation (in order of strenght descending): \n",
    "1. likes\n",
    "2. dislikes\n",
    "3. comments \n",
    "\n",
    "Negative correlation: \n",
    "1. Days between publising and trending - less correlated than other continious variables.\n",
    "\n",
    "Other noticeable correlations: \n",
    "1. Comments and dislikes are strongly positively correlated."
   ]
  },
  {
   "cell_type": "markdown",
   "metadata": {},
   "source": [
    "### Feature Selection (filtered)"
   ]
  },
  {
   "cell_type": "markdown",
   "metadata": {},
   "source": [
    "Here's the list of final 5 features that were filtered for the further model building.\n",
    "\n",
    "1. 'likes' + 'dislikes': reflects engagement which doens't overlap\n",
    "2. 'likes' + 'dislikes' + 'comment_count': total engagement\n",
    "3. 'likes' - 'dislikes':  pure positive reaction \n",
    "4. ('likes' + 'dislikes') * 'comment_count': comments take more effort and can demostrate stronger reaction\n",
    "5.  'comment_count' / 'bw_pub_trend_days': the longer days that the video remained on the platform without being in trending, the less engaging it can be. However, if the ratio comments/days is high - can be a hot topic\n",
    "\n",
    "The filetering was made based on relevance for the outcome [views]. Through these features I tried to expresse the attributes of a video that could be good predictors. For example, the appeal of the video or pure positive reaction (espressed as likes - dislikes) can be reason why more people would watch it.\n",
    "\n",
    "All these features are about how viewers react to video. They show us the behavior of users (they like, dislike, comment, ignore), so combinations of them will be interesting try in the future models. "
   ]
  },
  {
   "cell_type": "markdown",
   "metadata": {
    "collapsed": true
   },
   "source": [
    "## 4. Building regression models with different algorithms"
   ]
  },
  {
   "cell_type": "code",
   "execution_count": null,
   "metadata": {
    "collapsed": true
   },
   "outputs": [],
   "source": [
    "X = df[['likes', 'dislikes', 'comment_count', 'bw_pub_trend_days']]\n",
    "Y = df[['views']]"
   ]
  },
  {
   "cell_type": "code",
   "execution_count": null,
   "metadata": {},
   "outputs": [],
   "source": [
    "from sklearn import neighbors\n",
    "\n",
    "knn_w = neighbors.KNeighborsRegressor(n_neighbors=5, weights='distance')\n",
    "knn_w.fit(X, Y)\n",
    "\n",
    "from sklearn import linear_model\n",
    "regr = linear_model.LinearRegression()\n",
    "regr.fit(X, Y)\n",
    "\n",
    "from sklearn.model_selection import cross_val_score\n",
    "\n",
    "score_knn = cross_val_score(knn_w, X, Y, cv=10)\n",
    "print(\"KNN Accuracy: %0.3f (+/- %0.3f)\" % (score_knn.mean(), score_knn.std() * 2))\n",
    "\n",
    "score_ols = cross_val_score(regr, X, Y, cv=10)\n",
    "print(\"OLS Accuracy: %0.3f (+/- %0.3f)\" % (score_ols.mean(), score_ols.std() * 2))\n"
   ]
  },
  {
   "cell_type": "markdown",
   "metadata": {},
   "source": [
    "Improving the OLS model: after parameters evaluation we've seen that p-value for 'bw_pub_trend_days' was 0.7, which is not useful for our regression model. We'll exclude this variable and chech the results again, using statsmodels library."
   ]
  },
  {
   "cell_type": "code",
   "execution_count": null,
   "metadata": {},
   "outputs": [],
   "source": [
    "import statsmodels.formula.api as smf\n",
    "\n",
    "linear_formula = 'views ~ likes + dislikes + comment_count'\n",
    "\n",
    "lm = smf.ols(formula=linear_formula, data=df_features).fit()\n",
    "\n",
    "print('Formula parameters')\n",
    "print(lm.params)\n",
    "\n",
    "print('Pvalues of parameters')\n",
    "print(lm.pvalues)\n",
    "print('R-squared: ' + str(lm.rsquared))\n",
    "\n",
    "print(lm.summary())\n"
   ]
  },
  {
   "cell_type": "code",
   "execution_count": null,
   "metadata": {},
   "outputs": [],
   "source": [
    "plt.scatter(lm.fittedvalues, lm.resid)\n",
    "plt.xlabel('Predicted')\n",
    "plt.ylabel('Residual')\n",
    "plt.axhline(y=0)\n",
    "plt.title('Residual vs. Predicted')\n",
    "plt.show()"
   ]
  },
  {
   "cell_type": "markdown",
   "metadata": {},
   "source": [
    "Let's see what happens if we exclude from KNN model: "
   ]
  },
  {
   "cell_type": "code",
   "execution_count": null,
   "metadata": {},
   "outputs": [],
   "source": [
    "X = df[['likes', 'dislikes', 'comment_count']]\n",
    "Y = df[['views']]\n",
    "\n",
    "knn_w = neighbors.KNeighborsRegressor(n_neighbors=5, weights='distance')\n",
    "knn_w.fit(X, Y)\n",
    "\n",
    "score_knn = cross_val_score(knn_w, X, Y, cv=10)\n",
    "print(\"New KNN Accuracy: %0.2f (+/- %0.2f)\" % (score_knn.mean(), score_knn.std() * 2))"
   ]
  },
  {
   "cell_type": "markdown",
   "metadata": {},
   "source": [
    "Interesting about the models: \n",
    "- While  exclusion of 'bw_pub_trend_days' from OLS regression model increased the ability to predict accurately, for the KNN it did the opposite. \n",
    "- Initially KNN with distance weights was showing better results than OLS. However, then it's easiers to tune in OLS to achieve better prediction accuracy. \n",
    "- KNN needs to always have data for training, whereas for OLS you can have a formula with the parameters you can use aside from training data\n",
    "- Optimal number of neighbours for our model with our initial data is 5. KNN starts to perform worse than OLS when number of neighbours > 35 \n",
    "- It seems that when we excluded a feature from dataset for KNN, the model needed more neightbours for more accurate predictions.\n",
    "- OLS in our case is more prone to overfitting based on the standart deviation. \n",
    "- KNN without weights is less accurate than the one with weights, however, has a lower deviation. \n",
    "- OLS gives us a sense of positive or negative correlation between input and output with a estimators of the influence. \n"
   ]
  },
  {
   "cell_type": "markdown",
   "metadata": {},
   "source": [
    "## Including categorical data"
   ]
  },
  {
   "cell_type": "markdown",
   "metadata": {},
   "source": [
    "### Categorical variables via Statsmodels (avoids dummy trap)\n",
    "Looking at the summary printed below, notice that Statsmodels determined that elements of categorical were datetime.time strings, so it treated it as a categorical variable. Model's default is also to include an intercept, so we automatically dropped one of the categories.\n",
    "\n",
    "If categorical had been an integer variable that we wanted to treat explicitly as categorical, we could have done so by using the C() operator."
   ]
  },
  {
   "cell_type": "code",
   "execution_count": null,
   "metadata": {},
   "outputs": [],
   "source": [
    "linear_formula = 'views ~ likes + dislikes + + comment_count + new_publish_time_of_day'\n",
    "\n",
    "lm = smf.ols(formula=linear_formula, data=df_features).fit()\n",
    "\n",
    "print(lm.summary())"
   ]
  },
  {
   "cell_type": "markdown",
   "metadata": {},
   "source": [
    "### Categorical variables via Sklearn and Pandas methods\n",
    "\n",
    "for the future: \n",
    "- for time make a feature that is daytime / nighttime / morning / evening\n",
    "- better when it's an number, can be intensivity"
   ]
  },
  {
   "cell_type": "code",
   "execution_count": null,
   "metadata": {
    "collapsed": true
   },
   "outputs": [],
   "source": [
    "X = df[['likes', 'dislikes', 'comment_count', 'bw_pub_trend_days', 'new_publish_time_of_day']]\n",
    "Y = df[['views']]"
   ]
  },
  {
   "cell_type": "markdown",
   "metadata": {},
   "source": [
    "#### Sklearn LabelEncoder and OneHotEncoder"
   ]
  },
  {
   "cell_type": "code",
   "execution_count": null,
   "metadata": {},
   "outputs": [],
   "source": [
    "from sklearn.preprocessing import LabelEncoder, OneHotEncoder\n",
    "\n",
    "X_cat = X[['new_publish_time_of_day']]\n",
    "\n",
    "## check how the data transforms - 25th and 26th observation\n",
    "print(X_cat.iloc[25:27, 0])\n",
    "\n",
    "le = LabelEncoder()\n",
    "X_cat_le = X_cat.apply(le.fit_transform)\n",
    "\n",
    "## check how the data transforms - 25th and 26th observation\n",
    "print(X_cat_le.iloc[25:27, 0])\n",
    "\n",
    "ohe = OneHotEncoder()\n",
    "X_cat_le_ohe = ohe.fit_transform(X_cat_le).toarray()"
   ]
  },
  {
   "cell_type": "code",
   "execution_count": null,
   "metadata": {
    "collapsed": true
   },
   "outputs": [],
   "source": [
    "df_cat = pd.DataFrame(data = X_cat_le_ohe, index = np.arange(0,23371), columns = \n",
    "                      ['%sH' % s for s in np.arange(0,24)] )"
   ]
  },
  {
   "cell_type": "code",
   "execution_count": null,
   "metadata": {},
   "outputs": [],
   "source": [
    "## check how the data transforms - 25th and 26th observation - should be in columns \"21\" and \"22\"\n",
    "print(df_cat.iloc[25:27,])"
   ]
  },
  {
   "cell_type": "markdown",
   "metadata": {},
   "source": [
    "#### Pandas' get_dummies to get a dataframe with dummy variables"
   ]
  },
  {
   "cell_type": "code",
   "execution_count": null,
   "metadata": {
    "collapsed": true
   },
   "outputs": [],
   "source": [
    "X_dum = pd.get_dummies(X['new_publish_time_of_day'])"
   ]
  },
  {
   "cell_type": "markdown",
   "metadata": {},
   "source": [
    "### Concatinating dataframes with dummy variables and building a regression model via Sklearn"
   ]
  },
  {
   "cell_type": "code",
   "execution_count": null,
   "metadata": {
    "collapsed": true
   },
   "outputs": [],
   "source": [
    "X = pd.concat([df[['likes', 'dislikes', 'comment_count', 'bw_pub_trend_days']], df_cat], axis=1)"
   ]
  },
  {
   "cell_type": "code",
   "execution_count": null,
   "metadata": {},
   "outputs": [],
   "source": [
    "## Regression model\n",
    "regr = linear_model.LinearRegression()\n",
    "regr.fit(X, Y)\n",
    "\n",
    "print('\\nCoefficients: \\n', regr.coef_)\n",
    "print('\\nIntercept: \\n', regr.intercept_)\n",
    "print('\\nR-squared:')\n",
    "print(regr.score(X, Y))\n",
    "\n",
    "score_ols = cross_val_score(regr, X, Y, cv=10)\n",
    "print(\"\\n OLS Accuracy via cross validation: %0.2f (+/- %0.2f)\" % (score_ols.mean(), score_ols.std() * 2))"
   ]
  },
  {
   "cell_type": "code",
   "execution_count": null,
   "metadata": {
    "collapsed": true
   },
   "outputs": [],
   "source": [
    "## what about dummy var trap? for sklearn"
   ]
  },
  {
   "cell_type": "code",
   "execution_count": null,
   "metadata": {
    "collapsed": true
   },
   "outputs": [],
   "source": []
  },
  {
   "cell_type": "markdown",
   "metadata": {},
   "source": [
    "## Challenge: Random Forest and Decision tree"
   ]
  },
  {
   "cell_type": "markdown",
   "metadata": {},
   "source": [
    "### Predicting number of views"
   ]
  },
  {
   "cell_type": "code",
   "execution_count": null,
   "metadata": {
    "collapsed": true
   },
   "outputs": [],
   "source": [
    "X = df[['likes', 'dislikes', 'comment_count', 'bw_pub_trend_days']]\n",
    "Y = df[['views']]\n",
    "X_dum = pd.get_dummies(X)"
   ]
  },
  {
   "cell_type": "code",
   "execution_count": null,
   "metadata": {},
   "outputs": [],
   "source": [
    "from sklearn import tree\n",
    "from IPython.display import Image\n",
    "\n",
    "import pydotplus\n",
    "import graphviz\n",
    "#one example\n",
    "decision_tree = tree.DecisionTreeRegressor(\n",
    "    max_features=1,\n",
    "    max_depth=3,\n",
    "random_state=400)\n",
    "decision_tree.fit(X, Y)\n",
    "\n",
    "dot_data = tree.export_graphviz(\n",
    "    decision_tree, out_file=None,\n",
    "    feature_names=X.columns,\n",
    "    filled=True\n",
    ")\n",
    "graph = pydotplus.graph_from_dot_data(dot_data)\n",
    "Image(graph.create_png())"
   ]
  },
  {
   "cell_type": "code",
   "execution_count": null,
   "metadata": {},
   "outputs": [],
   "source": [
    "cross_val_score(decision_tree, X, Y, cv=10)"
   ]
  },
  {
   "cell_type": "markdown",
   "metadata": {},
   "source": [
    "### Predicting category of the video"
   ]
  },
  {
   "cell_type": "code",
   "execution_count": null,
   "metadata": {},
   "outputs": [],
   "source": [
    "X1 = df[['likes', 'dislikes', 'comment_count', 'bw_pub_trend_days','views']]\n",
    "Y1 = df[['category_id']]\n",
    "\n",
    "decision_tree_class = tree.DecisionTreeClassifier(\n",
    "    criterion='entropy',\n",
    "    max_features=1,\n",
    "    max_depth=4, random_state = 400)\n",
    "decision_tree_class.fit(X1, Y1)\n",
    "\n",
    "dot_data = tree.export_graphviz(\n",
    "    decision_tree_class, out_file=None,\n",
    "    feature_names=X1.columns,\n",
    "    filled=True,\n",
    "    class_names=['1','2','15','10','17','19','22','23','20','24','25','26','27','28','29']\n",
    ")\n",
    "graph = pydotplus.graph_from_dot_data(dot_data)\n",
    "Image(graph.create_png())"
   ]
  },
  {
   "cell_type": "code",
   "execution_count": null,
   "metadata": {
    "collapsed": true
   },
   "outputs": [],
   "source": [
    "## gives an error\n",
    "# cross_val_score(decision_tree_class, X1, Y1, cv=10)"
   ]
  },
  {
   "cell_type": "markdown",
   "metadata": {},
   "source": [
    "### Random Forest"
   ]
  },
  {
   "cell_type": "code",
   "execution_count": null,
   "metadata": {},
   "outputs": [],
   "source": [
    "from sklearn import ensemble\n",
    "Y_array = Y.values.ravel()\n",
    "rfc = ensemble.RandomForestRegressor()\n",
    "\n",
    "cross_val_score(rfc, X, Y_array, cv=10)"
   ]
  },
  {
   "cell_type": "code",
   "execution_count": null,
   "metadata": {},
   "outputs": [],
   "source": [
    "cross_val_score(tree.DecisionTreeRegressor(\n",
    "    max_features=1,\n",
    "    max_depth=1000,\n",
    "random_state=400), X, Y, cv=10)"
   ]
  },
  {
   "cell_type": "markdown",
   "metadata": {},
   "source": [
    "## Runtime measure"
   ]
  },
  {
   "cell_type": "code",
   "execution_count": null,
   "metadata": {},
   "outputs": [],
   "source": [
    "import time\n",
    "start_time = time.time()\n",
    "cross_val_score(ensemble.RandomForestRegressor(), X, Y_array, cv=10)\n",
    "print(\"Random forest: %.2f seconds\" %  (time.time() - start_time))"
   ]
  },
  {
   "cell_type": "code",
   "execution_count": null,
   "metadata": {},
   "outputs": [],
   "source": [
    "start_time = time.time()\n",
    "cross_val_score(tree.DecisionTreeRegressor(\n",
    "    max_features=1,\n",
    "    max_depth=1000,\n",
    "random_state=400), X, Y, cv=10)\n",
    "print(\"Decision tree: %.2f seconds\" % (time.time() - start_time))"
   ]
  },
  {
   "cell_type": "code",
   "execution_count": null,
   "metadata": {
    "collapsed": true
   },
   "outputs": [],
   "source": []
  }
 ],
 "metadata": {
  "kernelspec": {
   "display_name": "Python 3",
   "language": "python",
   "name": "python3"
  },
  "language_info": {
   "codemirror_mode": {
    "name": "ipython",
    "version": 3
   },
   "file_extension": ".py",
   "mimetype": "text/x-python",
   "name": "python",
   "nbconvert_exporter": "python",
   "pygments_lexer": "ipython3",
   "version": "3.6.1"
  }
 },
 "nbformat": 4,
 "nbformat_minor": 2
}
