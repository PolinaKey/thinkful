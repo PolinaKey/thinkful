{
 "cells": [
  {
   "cell_type": "code",
   "execution_count": 3,
   "metadata": {
    "collapsed": true
   },
   "outputs": [],
   "source": [
    "%matplotlib inline\n",
    "import numpy as np\n",
    "import pandas as pd\n",
    "import scipy\n",
    "import sklearn\n",
    "import matplotlib.pyplot as plt\n",
    "import seaborn as sns"
   ]
  },
  {
   "cell_type": "markdown",
   "metadata": {},
   "source": [
    "### Building sentiment classifier Amazon data"
   ]
  },
  {
   "cell_type": "code",
   "execution_count": 23,
   "metadata": {
    "collapsed": true
   },
   "outputs": [],
   "source": [
    "df_raw=pd.read_csv(\"../amazon_cells_labelled.txt\", sep=\"\\t|\\n\", engine='python', header=None)\n",
    "df_raw.columns = ['review', 'positive']"
   ]
  },
  {
   "cell_type": "code",
   "execution_count": 24,
   "metadata": {
    "collapsed": true
   },
   "outputs": [],
   "source": [
    "# pd.describe_option('display') - see the display options \n",
    "pd.set_option('colheader_justify', 'left')\n",
    "pd.set_option('display.max_colwidth', 150)"
   ]
  },
  {
   "cell_type": "code",
   "execution_count": 25,
   "metadata": {},
   "outputs": [
    {
     "data": {
      "text/html": [
       "<div>\n",
       "<style>\n",
       "    .dataframe thead tr:only-child th {\n",
       "        text-align: right;\n",
       "    }\n",
       "\n",
       "    .dataframe thead th {\n",
       "        text-align: left;\n",
       "    }\n",
       "\n",
       "    .dataframe tbody tr th {\n",
       "        vertical-align: top;\n",
       "    }\n",
       "</style>\n",
       "<table border=\"1\" class=\"dataframe\">\n",
       "  <thead>\n",
       "    <tr style=\"text-align: left;\">\n",
       "      <th></th>\n",
       "      <th>review</th>\n",
       "      <th>positive</th>\n",
       "    </tr>\n",
       "  </thead>\n",
       "  <tbody>\n",
       "    <tr>\n",
       "      <th>40</th>\n",
       "      <td>It has a great camera thats 2MP, and the pics are nice and clear with great picture quality.</td>\n",
       "      <td>1</td>\n",
       "    </tr>\n",
       "    <tr>\n",
       "      <th>41</th>\n",
       "      <td>I was not impressed by this product.</td>\n",
       "      <td>0</td>\n",
       "    </tr>\n",
       "    <tr>\n",
       "      <th>42</th>\n",
       "      <td>Nice headset priced right.</td>\n",
       "      <td>1</td>\n",
       "    </tr>\n",
       "    <tr>\n",
       "      <th>43</th>\n",
       "      <td>I only hear garbage for audio.</td>\n",
       "      <td>0</td>\n",
       "    </tr>\n",
       "    <tr>\n",
       "      <th>44</th>\n",
       "      <td>Excellent bluetooth headset.</td>\n",
       "      <td>1</td>\n",
       "    </tr>\n",
       "    <tr>\n",
       "      <th>45</th>\n",
       "      <td>It has all the features I want</td>\n",
       "      <td>1</td>\n",
       "    </tr>\n",
       "    <tr>\n",
       "      <th>46</th>\n",
       "      <td>Who in their right mind is gonna buy this battery?.</td>\n",
       "      <td>0</td>\n",
       "    </tr>\n",
       "    <tr>\n",
       "      <th>47</th>\n",
       "      <td>AFTER ARGUING WITH VERIZON REGARDING THE DROPPED CALLS WE RETURNED THE PHONES AFTER TWO DAYS.</td>\n",
       "      <td>0</td>\n",
       "    </tr>\n",
       "    <tr>\n",
       "      <th>48</th>\n",
       "      <td>This case seems well made.</td>\n",
       "      <td>1</td>\n",
       "    </tr>\n",
       "    <tr>\n",
       "      <th>49</th>\n",
       "      <td>Disappointed with battery.</td>\n",
       "      <td>0</td>\n",
       "    </tr>\n",
       "    <tr>\n",
       "      <th>50</th>\n",
       "      <td>Not loud enough and doesn't turn on like it should.</td>\n",
       "      <td>0</td>\n",
       "    </tr>\n",
       "    <tr>\n",
       "      <th>51</th>\n",
       "      <td>good protection and does not make phone too bulky.</td>\n",
       "      <td>1</td>\n",
       "    </tr>\n",
       "    <tr>\n",
       "      <th>52</th>\n",
       "      <td>A usable keyboard actually turns a PDA into a real-world useful machine instead of just a neat gadget.</td>\n",
       "      <td>1</td>\n",
       "    </tr>\n",
       "    <tr>\n",
       "      <th>53</th>\n",
       "      <td>This phone is pretty sturdy and I've never had any large problems with it.</td>\n",
       "      <td>1</td>\n",
       "    </tr>\n",
       "    <tr>\n",
       "      <th>54</th>\n",
       "      <td>I love this thing!</td>\n",
       "      <td>1</td>\n",
       "    </tr>\n",
       "    <tr>\n",
       "      <th>55</th>\n",
       "      <td>Everything about it is fine and reasonable for the price i.e.</td>\n",
       "      <td>1</td>\n",
       "    </tr>\n",
       "    <tr>\n",
       "      <th>56</th>\n",
       "      <td>VERY DISAPPOINTED.</td>\n",
       "      <td>0</td>\n",
       "    </tr>\n",
       "    <tr>\n",
       "      <th>57</th>\n",
       "      <td>I even dropped this phone into a stream and it was submerged for 15 seconds and it still works great!</td>\n",
       "      <td>1</td>\n",
       "    </tr>\n",
       "    <tr>\n",
       "      <th>58</th>\n",
       "      <td>I have been very happy with the 510 and have had NO complaints from any one regarding my sound quality on their end.</td>\n",
       "      <td>1</td>\n",
       "    </tr>\n",
       "    <tr>\n",
       "      <th>59</th>\n",
       "      <td>The buttons for on and off are bad.</td>\n",
       "      <td>0</td>\n",
       "    </tr>\n",
       "  </tbody>\n",
       "</table>\n",
       "</div>"
      ],
      "text/plain": [
       "   review                                                                                                                 \\\n",
       "40                          It has a great camera thats 2MP, and the pics are nice and clear with great picture quality.   \n",
       "41                                                                                  I was not impressed by this product.   \n",
       "42                                                                                            Nice headset priced right.   \n",
       "43                                                                                        I only hear garbage for audio.   \n",
       "44                                                                                          Excellent bluetooth headset.   \n",
       "45                                                                                        It has all the features I want   \n",
       "46                                                                   Who in their right mind is gonna buy this battery?.   \n",
       "47                         AFTER ARGUING WITH VERIZON REGARDING THE DROPPED CALLS WE RETURNED THE PHONES AFTER TWO DAYS.   \n",
       "48                                                                                            This case seems well made.   \n",
       "49                                                                                            Disappointed with battery.   \n",
       "50                                                                   Not loud enough and doesn't turn on like it should.   \n",
       "51                                                                    good protection and does not make phone too bulky.   \n",
       "52                A usable keyboard actually turns a PDA into a real-world useful machine instead of just a neat gadget.   \n",
       "53                                            This phone is pretty sturdy and I've never had any large problems with it.   \n",
       "54                                                                                                    I love this thing!   \n",
       "55                                                         Everything about it is fine and reasonable for the price i.e.   \n",
       "56                                                                                                    VERY DISAPPOINTED.   \n",
       "57                 I even dropped this phone into a stream and it was submerged for 15 seconds and it still works great!   \n",
       "58  I have been very happy with the 510 and have had NO complaints from any one regarding my sound quality on their end.   \n",
       "59                                                                                   The buttons for on and off are bad.   \n",
       "\n",
       "    positive  \n",
       "40  1         \n",
       "41  0         \n",
       "42  1         \n",
       "43  0         \n",
       "44  1         \n",
       "45  1         \n",
       "46  0         \n",
       "47  0         \n",
       "48  1         \n",
       "49  0         \n",
       "50  0         \n",
       "51  1         \n",
       "52  1         \n",
       "53  1         \n",
       "54  1         \n",
       "55  1         \n",
       "56  0         \n",
       "57  1         \n",
       "58  1         \n",
       "59  0         "
      ]
     },
     "execution_count": 25,
     "metadata": {},
     "output_type": "execute_result"
    }
   ],
   "source": [
    "df_raw.iloc[40:60]"
   ]
  },
  {
   "cell_type": "code",
   "execution_count": 26,
   "metadata": {
    "collapsed": true
   },
   "outputs": [],
   "source": [
    "positive_keywords = ['great', 'nice', 'good', 'love', 'fine', 'ideal', 'recommend', 'highly', '5+', '5 stars', 'excellent']\n",
    "\n",
    "for key in positive_keywords:\n",
    "    df_raw[str(key)] = df_raw.review.str.contains(\n",
    "        ' ' + str(key), \n",
    "        case=False)"
   ]
  },
  {
   "cell_type": "code",
   "execution_count": 27,
   "metadata": {
    "collapsed": true
   },
   "outputs": [],
   "source": [
    "negative_keywords = [\"doesn't\", 'poor', 'not', 'unusable', 'unacceptible', 'problem', 'issue', 'not very', '1 star', 'fool', 'DISAPPOINTED', 'bad', 'garbage']\n",
    "\n",
    "for key in negative_keywords:\n",
    "    df_raw[str(key)] = df_raw.review.str.contains(\n",
    "        ' ' + str(key), \n",
    "        case=False)"
   ]
  },
  {
   "cell_type": "code",
   "execution_count": 28,
   "metadata": {},
   "outputs": [
    {
     "data": {
      "image/png": "[encoded data removed]",
      "text/plain": [
       "<matplotlib.figure.Figure at 0x11e6f17b8>"
      ]
     },
     "metadata": {},
     "output_type": "display_data"
    }
   ],
   "source": [
    "sns.heatmap(df_raw.corr()) # we see that 'recommend' and 'highly' are strongly correlated. same for 5+ and 5 stars\n",
    "df_rev = df_raw.drop(['highly','5+'], axis=1) #drop highly and 5+ (ambiguous)"
   ]
  },
  {
   "cell_type": "code",
   "execution_count": 29,
   "metadata": {
    "collapsed": true
   },
   "outputs": [],
   "source": [
    "df_rev.columns\n",
    "positive_keywords.remove('highly')\n",
    "positive_keywords.remove('5+')"
   ]
  },
  {
   "cell_type": "code",
   "execution_count": 30,
   "metadata": {
    "collapsed": true
   },
   "outputs": [],
   "source": [
    "data = df_rev[positive_keywords + negative_keywords]\n",
    "target = df_rev['positive']"
   ]
  },
  {
   "cell_type": "code",
   "execution_count": 31,
   "metadata": {},
   "outputs": [
    {
     "name": "stdout",
     "output_type": "stream",
     "text": [
      "Number of mislabeled points out of a total 1000 points : 348\n"
     ]
    }
   ],
   "source": [
    "# Our data is binary / boolean, so we're importing the Bernoulli classifier.\n",
    "from sklearn.naive_bayes import BernoulliNB\n",
    "\n",
    "bnb = BernoulliNB()\n",
    "bnb.fit(data, target)\n",
    "y_pred = bnb.predict(data)\n",
    "\n",
    "# Results\n",
    "print(\"Number of mislabeled points out of a total {} points : {}\".format(\n",
    "    data.shape[0],\n",
    "    (target != y_pred).sum()\n",
    "))"
   ]
  },
  {
   "cell_type": "markdown",
   "metadata": {},
   "source": [
    "### Testing on a different set of data (Yelp)"
   ]
  },
  {
   "cell_type": "code",
   "execution_count": 32,
   "metadata": {
    "collapsed": true
   },
   "outputs": [],
   "source": [
    "df_test = pd.read_csv(\"../yelp_labelled.txt\", sep=\"\\t|\\n\", engine='python', header=None)\n",
    "df_test.columns = ['review', 'positive']"
   ]
  },
  {
   "cell_type": "code",
   "execution_count": 33,
   "metadata": {
    "collapsed": true
   },
   "outputs": [],
   "source": [
    "#all_keywords = positive_keywords + negative_keywords\n",
    "for key in positive_keywords + negative_keywords:\n",
    "    df_test[str(key)] = df_test.review.str.contains(\n",
    "        ' ' + str(key), \n",
    "        case=False)"
   ]
  },
  {
   "cell_type": "code",
   "execution_count": 34,
   "metadata": {
    "collapsed": true
   },
   "outputs": [],
   "source": [
    "target_test = df_test['positive']\n",
    "data = df_test[positive_keywords + negative_keywords]"
   ]
  },
  {
   "cell_type": "code",
   "execution_count": 35,
   "metadata": {},
   "outputs": [
    {
     "name": "stdout",
     "output_type": "stream",
     "text": [
      "Number of mislabeled points out of a total 1000 points : 481\n"
     ]
    }
   ],
   "source": [
    "bnb = BernoulliNB()\n",
    "bnb.fit(data, target)\n",
    "y_pred = bnb.predict(data)\n",
    "\n",
    "# Results\n",
    "print(\"Number of mislabeled points out of a total {} points : {}\".format(\n",
    "    data.shape[0],\n",
    "    (target != y_pred).sum()\n",
    "))"
   ]
  },
  {
   "cell_type": "markdown",
   "metadata": {
    "collapsed": true
   },
   "source": [
    "### Building sentiment classifier using  CountVectorizer()"
   ]
  },
  {
   "cell_type": "code",
   "execution_count": 42,
   "metadata": {},
   "outputs": [
    {
     "data": {
      "text/html": [
       "<div>\n",
       "<style>\n",
       "    .dataframe thead tr:only-child th {\n",
       "        text-align: right;\n",
       "    }\n",
       "\n",
       "    .dataframe thead th {\n",
       "        text-align: left;\n",
       "    }\n",
       "\n",
       "    .dataframe tbody tr th {\n",
       "        vertical-align: top;\n",
       "    }\n",
       "</style>\n",
       "<table border=\"1\" class=\"dataframe\">\n",
       "  <thead>\n",
       "    <tr style=\"text-align: left;\">\n",
       "      <th></th>\n",
       "      <th>count</th>\n",
       "      <th>unique</th>\n",
       "      <th>top</th>\n",
       "      <th>freq</th>\n",
       "    </tr>\n",
       "    <tr>\n",
       "      <th>positive</th>\n",
       "      <th></th>\n",
       "      <th></th>\n",
       "      <th></th>\n",
       "      <th></th>\n",
       "    </tr>\n",
       "  </thead>\n",
       "  <tbody>\n",
       "    <tr>\n",
       "      <th>0</th>\n",
       "      <td>500</td>\n",
       "      <td>497</td>\n",
       "      <td>If you like a loud buzzing to override all your conversations, then this phone is for you!</td>\n",
       "      <td>2</td>\n",
       "    </tr>\n",
       "    <tr>\n",
       "      <th>1</th>\n",
       "      <td>500</td>\n",
       "      <td>493</td>\n",
       "      <td>Works great.</td>\n",
       "      <td>2</td>\n",
       "    </tr>\n",
       "  </tbody>\n",
       "</table>\n",
       "</div>"
      ],
      "text/plain": [
       "         count unique  \\\n",
       "positive                \n",
       "0         500   497     \n",
       "1         500   493     \n",
       "\n",
       "         top                                                                                          \\\n",
       "positive                                                                                               \n",
       "0         If you like a loud buzzing to override all your conversations, then this phone is for you!   \n",
       "1                                                                                       Works great.   \n",
       "\n",
       "         freq  \n",
       "positive       \n",
       "0         2    \n",
       "1         2    "
      ]
     },
     "execution_count": 42,
     "metadata": {},
     "output_type": "execute_result"
    }
   ],
   "source": [
    "df_raw['review'].groupby(df_raw['positive']).describe()"
   ]
  },
  {
   "cell_type": "code",
   "execution_count": 140,
   "metadata": {},
   "outputs": [
    {
     "name": "stdout",
     "output_type": "stream",
     "text": [
      "Tied to charger for conversations lasting more than 45 minutes.MAJOR PROBLEMS!!\n"
     ]
    }
   ],
   "source": [
    "review4 = df_raw['review'][3]\n",
    "print (review4)"
   ]
  },
  {
   "cell_type": "code",
   "execution_count": 93,
   "metadata": {
    "collapsed": true
   },
   "outputs": [],
   "source": [
    "from sklearn.feature_extraction.text import CountVectorizer\n",
    "vec = CountVectorizer(stop_words = 'english')"
   ]
  },
  {
   "cell_type": "code",
   "execution_count": 192,
   "metadata": {},
   "outputs": [],
   "source": [
    "# vec_fit = vec.fit(df_raw['review']) - redundant sinse in the next line - fit_transform. \n",
    "# Note: vic is overwritten by any last iteration. That's why, to fit_transform all - do it as the last step\n",
    "\n",
    "x_vectorized = vec.fit_transform(df_raw['review'])"
   ]
  },
  {
   "cell_type": "code",
   "execution_count": 211,
   "metadata": {},
   "outputs": [
    {
     "name": "stdout",
     "output_type": "stream",
     "text": [
      "  (0, 326)\t1\n",
      "  (0, 1524)\t1\n",
      "  (0, 1081)\t1\n",
      "  (0, 1582)\t1\n",
      "  (1, 1552)\t1\n",
      "  (1, 508)\t1\n",
      "  (1, 218)\t1\n",
      "  (1, 639)\t1\n",
      "  (2, 774)\t1\n",
      "  (2, 645)\t1\n",
      "  (3, 1114)\t1\n",
      "  (3, 882)\t1\n",
      "  (3, 921)\t1\n",
      "  (3, 20)\t1\n",
      "  (3, 809)\t1\n",
      "  (3, 325)\t1\n",
      "  (3, 240)\t1\n",
      "  (3, 1458)\t1\n",
      "  (4, 914)\t1\n",
      "  (4, 645)\t1\n",
      "  (5, 1562)\t1\n",
      "  (5, 373)\t1\n",
      "  (5, 1227)\t1\n",
      "  (5, 835)\t1\n",
      "  (5, 776)\t1\n",
      "  :\t:\n",
      "  (995, 1343)\t1\n",
      "  (995, 472)\t1\n",
      "  (995, 533)\t1\n",
      "  (995, 1263)\t1\n",
      "  (995, 429)\t1\n",
      "  (995, 457)\t1\n",
      "  (996, 861)\t1\n",
      "  (996, 781)\t1\n",
      "  (996, 1061)\t1\n",
      "  (996, 202)\t1\n",
      "  (996, 1055)\t1\n",
      "  (997, 893)\t1\n",
      "  (997, 769)\t1\n",
      "  (997, 429)\t1\n",
      "  (997, 1059)\t1\n",
      "  (998, 765)\t1\n",
      "  (998, 1090)\t1\n",
      "  (998, 743)\t1\n",
      "  (998, 409)\t1\n",
      "  (998, 1189)\t1\n",
      "  (998, 1449)\t1\n",
      "  (999, 79)\t1\n",
      "  (999, 1521)\t1\n",
      "  (999, 1623)\t1\n",
      "  (999, 202)\t1\n"
     ]
    }
   ],
   "source": [
    "print(x_vectorized) # see how it's being done. "
   ]
  },
  {
   "cell_type": "code",
   "execution_count": 194,
   "metadata": {},
   "outputs": [
    {
     "name": "stdout",
     "output_type": "stream",
     "text": [
      "charger\n"
     ]
    }
   ],
   "source": [
    "print (vec.get_feature_names()[240])"
   ]
  },
  {
   "cell_type": "code",
   "execution_count": 195,
   "metadata": {
    "collapsed": true
   },
   "outputs": [],
   "source": [
    "from sklearn.feature_extraction.text import TfidfTransformer\n",
    "tfidf = TfidfTransformer()\n",
    "tfidf_trained = tfidf.fit_transform(x_vectorized)"
   ]
  },
  {
   "cell_type": "code",
   "execution_count": 196,
   "metadata": {},
   "outputs": [
    {
     "name": "stdout",
     "output_type": "stream",
     "text": [
      "(1000, 1642)\n"
     ]
    }
   ],
   "source": [
    "print (tfidf_trained.shape)"
   ]
  },
  {
   "cell_type": "code",
   "execution_count": 207,
   "metadata": {
    "collapsed": true
   },
   "outputs": [],
   "source": [
    "from sklearn.naive_bayes import MultinomialNB\n",
    "sentiment_model = MultinomialNB().fit(tfidf_trained, df_raw['positive'])"
   ]
  },
  {
   "cell_type": "code",
   "execution_count": 208,
   "metadata": {},
   "outputs": [
    {
     "name": "stdout",
     "output_type": "stream",
     "text": [
      "Predicted:  0\n",
      "Expected:  0\n"
     ]
    }
   ],
   "source": [
    "print ('Predicted: ', sentiment_model.predict(tfidf_trained)[6])\n",
    "print ('Expected: ', df_raw['positive'][6])"
   ]
  },
  {
   "cell_type": "code",
   "execution_count": 209,
   "metadata": {
    "collapsed": true
   },
   "outputs": [],
   "source": [
    "y_predicted = sentiment_model.predict(tfidf_trained)"
   ]
  },
  {
   "cell_type": "code",
   "execution_count": 210,
   "metadata": {},
   "outputs": [
    {
     "name": "stdout",
     "output_type": "stream",
     "text": [
      "             precision    recall  f1-score   support\n",
      "\n",
      "          0       0.99      0.94      0.96       500\n",
      "          1       0.94      0.99      0.96       500\n",
      "\n",
      "avg / total       0.96      0.96      0.96      1000\n",
      "\n"
     ]
    }
   ],
   "source": [
    "from sklearn.metrics import classification_report\n",
    "print (classification_report(df_raw['positive'], y_predicted))"
   ]
  },
  {
   "cell_type": "markdown",
   "metadata": {},
   "source": [
    "### Testing CountVectorizer on a different set of data (Yelp) "
   ]
  },
  {
   "cell_type": "markdown",
   "metadata": {},
   "source": [
    "All the previous iterations via Pipeline method"
   ]
  },
  {
   "cell_type": "code",
   "execution_count": 215,
   "metadata": {
    "collapsed": true
   },
   "outputs": [],
   "source": [
    "from sklearn.pipeline import Pipeline\n",
    "\n",
    "pipeline = Pipeline([('bow',CountVectorizer(stop_words = 'english')),\n",
    "                    ('tfidf',TfidfTransformer()),\n",
    "                    ('classifier',MultinomialNB())])"
   ]
  },
  {
   "cell_type": "code",
   "execution_count": 216,
   "metadata": {},
   "outputs": [
    {
     "name": "stdout",
     "output_type": "stream",
     "text": [
      "             precision    recall  f1-score   support\n",
      "\n",
      "          0       0.70      0.69      0.70       503\n",
      "          1       0.69      0.70      0.69       497\n",
      "\n",
      "avg / total       0.70      0.69      0.70      1000\n",
      "\n"
     ]
    }
   ],
   "source": [
    "pipeline.fit(df_raw['review'],df_raw['positive'])\n",
    "predictions = pipeline.predict(df_test['review'])\n",
    "print (classification_report(predictions,df_test['positive']))"
   ]
  },
  {
   "cell_type": "code",
   "execution_count": null,
   "metadata": {
    "collapsed": true
   },
   "outputs": [],
   "source": []
  }
 ],
 "metadata": {
  "kernelspec": {
   "display_name": "Python 3",
   "language": "python",
   "name": "python3"
  },
  "language_info": {
   "codemirror_mode": {
    "name": "ipython",
    "version": 3
   },
   "file_extension": ".py",
   "mimetype": "text/x-python",
   "name": "python",
   "nbconvert_exporter": "python",
   "pygments_lexer": "ipython3",
   "version": "3.6.1"
  }
 },
 "nbformat": 4,
 "nbformat_minor": 2
}
