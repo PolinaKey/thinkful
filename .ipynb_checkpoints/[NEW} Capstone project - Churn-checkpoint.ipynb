{
 "cells": [
  {
   "cell_type": "markdown",
   "metadata": {},
   "source": [
    "# [Telecommunication company case study (change title)]"
   ]
  },
  {
   "cell_type": "markdown",
   "metadata": {},
   "source": [
    "## Abstract\n",
    "\n",
    "The following report and research proposal has the aim to analyse the data sample [available on IBM Watson website] [REFENCE] on the churn problem in a given telecommunication company and bring the insights from the data analysis. This notebook will guide the reader throught important analytical processes in order to answer the business questions in regards to churn and highlights the findings. \n",
    "\n",
    "### The goal and scope of the analysis\n",
    "\n",
    "Customer churn is an important issue for any business, since it directly impacts the market share of a company and its profitability. Predicting churn and understanding how to work with clients who are about to churn is very beneficial. For this purpose, we will bring the insights from the data that would help define the patterns shared by churning customers and help us understand better what might be a reason for the churn. \n",
    "\n",
    "Based on the data we have, we'll focus primarily on giving insights about the following questions: \n",
    "1. When do clients churn? \n",
    "2. Who are these people who are churning and how different they are from non-churners? \n",
    "\n",
    "In regards to the second question above we'll split the client base into various segments and analyse a few extreme profiles to find out any similarities between churning clients. Also, we're interested to characterize the customers who are happy to stay with the company for very long time and are not prone to churn. Hence, we'll analyse in particular, the following segments:\n",
    "- Clients who are not churning and have the longest tenure \n",
    "- Clients who stayed long with company and eventually churned\n",
    "- Clients who churned quickly \n",
    "\n",
    "\n",
    "\n",
    "\n",
    "## Data set description\n",
    "\n",
    "We have the client data found on IBM Watson from telecommunication companies [LINK]. The dataset has 7043 rows, each belonging to a single client, and 21 columns describing demographic characteristics of the customers, services used, payment patterns and their churn status. \n",
    "\n"
   ]
  },
  {
   "cell_type": "markdown",
   "metadata": {},
   "source": [
    "## 1. Research and Analysis \n",
    "\n",
    "### 1.1. Data loading and preprocessing \n",
    "\n",
    "Before digging into the analysis, we need to load the data and see what it consists of to make sure that the formatting of the data is suitable for our data analysis. "
   ]
  },
  {
   "cell_type": "code",
   "execution_count": null,
   "metadata": {},
   "outputs": [],
   "source": [
    "import pandas as pd\n",
    "import numpy as np\n",
    "import matplotlib.pyplot as plt\n",
    "import seaborn as sb\n",
    "sb.set(style='darkgrid', context='poster', font='Monospace')\n",
    "%matplotlib inline\n",
    "\n",
    "df=pd.read_csv(\"../Telco_churn_data.csv\")\n",
    "df.head(n=10)"
   ]
  },
  {
   "cell_type": "markdown",
   "metadata": {},
   "source": [
    "As we see some of the columns have values \"1\" / \"0\" instead of \"Yes\" / \"No\" or any other discriptive values. We'll unify the formatting of the columns to make them more understandable to use in the plots later. After that, we will answer reseach questions. "
   ]
  },
  {
   "cell_type": "code",
   "execution_count": null,
   "metadata": {
    "collapsed": true
   },
   "outputs": [],
   "source": [
    "df.SeniorCitizen.replace([1, 0], ['Senior', 'Non-senior'], inplace=True)\n",
    "df.Dependents.replace(['Yes', 'No'], ['Dependents', 'No dependents'], inplace=True)\n",
    "df.Partner.replace(['Yes', 'No'], ['Partner', 'No partner'], inplace=True)"
   ]
  },
  {
   "cell_type": "markdown",
   "metadata": {
    "collapsed": true
   },
   "source": [
    "## Research question 1: When do clients churn? "
   ]
  },
  {
   "cell_type": "markdown",
   "metadata": {},
   "source": [
    "To understand the distribution of time when clients used to churn, we'll create a new dataframe of clients who churned and build a histogram of their tenure. "
   ]
  },
  {
   "cell_type": "code",
   "execution_count": null,
   "metadata": {
    "collapsed": true
   },
   "outputs": [],
   "source": [
    "churning_clients = pd.DataFrame(df[df['Churn'] == 'Yes'])"
   ]
  },
  {
   "cell_type": "code",
   "execution_count": null,
   "metadata": {},
   "outputs": [],
   "source": [
    "plt.figure(figsize=(10, 5))\n",
    "\n",
    "plt.hist(churning_clients['tenure'], normed=True, bins = 72, label='Month') \n",
    "plt.legend()\n",
    "plt.title('Histogram: Time of churn')\n",
    "plt.xlabel('Months') ;"
   ]
  },
  {
   "cell_type": "markdown",
   "metadata": {},
   "source": [
    "From what we can see on the histogram, the clients tend to churn in the beginning of their journey with the company. It can be an indicator that the expectations of clients regarding the service were not met. The churn rates are the highest withing the first 10 months and then the gradually flat. Let's see how many clients churned during each of the first 5 months."
   ]
  },
  {
   "cell_type": "code",
   "execution_count": null,
   "metadata": {},
   "outputs": [],
   "source": [
    "tenure = pd.DataFrame(churning_clients['tenure'].value_counts())\n",
    "tenure.sort_index(inplace=True)\n",
    "tenure.columns = ['Number of clients']\n",
    "tenure.head(n=5)"
   ]
  },
  {
   "cell_type": "markdown",
   "metadata": {},
   "source": [
    "The first month is when the vast majority of churning clients decide to quit the company. "
   ]
  },
  {
   "cell_type": "markdown",
   "metadata": {},
   "source": [
    "To get the full pucture of client churn over time, we'll use intervals of 12 months and build a barplot observing how clients churn year by year."
   ]
  },
  {
   "cell_type": "code",
   "execution_count": null,
   "metadata": {},
   "outputs": [],
   "source": [
    "grouped_tenure = pd.DataFrame([tenure.iloc[0:12].sum(), \n",
    "                               tenure.iloc[13:24].sum(), \n",
    "                               tenure.iloc[25:36].sum(), \n",
    "                               tenure.iloc[37:48].sum(),\n",
    "                               tenure.iloc[49:60].sum(),\n",
    "                               tenure.iloc[61:72].sum()])\n",
    "\n",
    "new_index = ['1', '2', '3', '4', '5', '6']\n",
    "## [BINS = 3 OR 6] https://stackoverflow.com/questions/14451185/better-binning-in-pandas\n",
    "## value_counts(normalize=True)\n",
    "grouped_tenure.index = new_index \n",
    "grouped_tenure.plot.bar(figsize=(15, 7), title='Number of clients churning over years', label='Year');\n",
    "grouped_tenure.head()"
   ]
  },
  {
   "cell_type": "markdown",
   "metadata": {},
   "source": [
    "The churn rate over time falls dramatically: from a thousand of clients churning in their first year to less than a hundred in their 6th year. "
   ]
  },
  {
   "cell_type": "markdown",
   "metadata": {},
   "source": [
    "Let's now look into factors that could help predict if a client is more likely to churn or to stay with the company. We'll compare demographic characteristics and usage patters of churners and non-churners in general, and then analyse  specific groups of clients, taking into account their churn status."
   ]
  },
  {
   "cell_type": "markdown",
   "metadata": {},
   "source": [
    "## Research question 2: Who are the churners and how different they are from non-churners?"
   ]
  },
  {
   "cell_type": "markdown",
   "metadata": {},
   "source": [
    "### Churners vs non-churners\n",
    "\n",
    "Let's see if churners vs non-churners are different in terms of their demographics and services they use."
   ]
  },
  {
   "cell_type": "code",
   "execution_count": null,
   "metadata": {
    "scrolled": false
   },
   "outputs": [],
   "source": [
    "sb.factorplot(data=df, x='Churn', kind='count', col='gender', size=5, aspect=1);\n",
    "sb.factorplot(data=df, x='Churn', kind='count', col='SeniorCitizen', size=5, aspect=1);\n",
    "sb.factorplot(data=df, x='Churn', kind='count', col='Dependents', size=5, aspect=1);\n",
    "sb.factorplot(data=df, x='Churn', kind='count', col='Partner', size=5, aspect=1);"
   ]
  },
  {
   "cell_type": "markdown",
   "metadata": {},
   "source": [
    "In the demographical data we can't clearly define a factor that would lead to a significant difference for churning and non-churning clients. However, as can be see from the plot that takes seniority of clients as a factor (2), the persentage of churn among senior clients is much more than that of non-senior clients. \n",
    "\n",
    "Let's perform the analysis of services usage for churning and non-churning clients."
   ]
  },
  {
   "cell_type": "code",
   "execution_count": null,
   "metadata": {},
   "outputs": [],
   "source": [
    "columns = df.columns"
   ]
  },
  {
   "cell_type": "code",
   "execution_count": null,
   "metadata": {
    "collapsed": true
   },
   "outputs": [],
   "source": [
    "## for column in columns: \n",
    "##    sb.factorplot(data=df, x='Churn', col=column, kind='count', size=5, aspect=1)"
   ]
  },
  {
   "cell_type": "code",
   "execution_count": null,
   "metadata": {},
   "outputs": [],
   "source": [
    "sb.factorplot(data=df, x='Churn', y='MonthlyCharges', kind='violin', size=5, aspect=1);\n",
    "sb.factorplot(data=df, x='Churn', col='PhoneService', kind='count', size=5, aspect=1);"
   ]
  },
  {
   "cell_type": "markdown",
   "metadata": {},
   "source": [
    "### Who are the clients who are not churning and have the longest tenure in the company?\n",
    "We're interested to identify who are non-churning clients who stay long with the company. We'll take the 25% of longest life clients and conduct the descriptive analysis for this data slice."
   ]
  },
  {
   "cell_type": "code",
   "execution_count": null,
   "metadata": {},
   "outputs": [],
   "source": [
    "non_churning_clients = pd.DataFrame(df[df['Churn'] == 'No'])\n",
    "plt.figure(figsize=(20, 10))\n",
    "\n",
    "plt.subplot(1, 2, 1)\n",
    "plt.boxplot(non_churning_clients['tenure'])\n",
    "plt.title('Boxplot of tenure of current clients')\n",
    "plt.ylabel('Months')\n",
    "\n",
    "plt.subplot(1, 2, 2)\n",
    "plt.hist(non_churning_clients['tenure'], bins=20, normed=True)\n",
    "plt.title('Histogram of tenure of current clients')\n",
    "plt.xlabel(\"Months\")\n",
    "\n",
    "plt.show() \n",
    "\n",
    "## ? How to delete 1 on x?"
   ]
  },
  {
   "cell_type": "code",
   "execution_count": null,
   "metadata": {},
   "outputs": [],
   "source": [
    "non_churning_clients['tenure'].describe()"
   ]
  },
  {
   "cell_type": "code",
   "execution_count": null,
   "metadata": {},
   "outputs": [],
   "source": [
    "df.groupby('Churn')['tenure'].plot.hist(alpha = 0.7, \n",
    "                                        legend=True, \n",
    "                                        bins = range(0,70,6), \n",
    "                                        figsize=(15, 7), \n",
    "                                        normed = True);"
   ]
  },
  {
   "cell_type": "markdown",
   "metadata": {},
   "source": [
    "The tenure of the current costumers is spread almost evenly across the time period with two peaks in the beginning and at the end. We can infer that the company has evenly retained clients over time. The peak at the ends of the graph can be explained either by the fact that the first clients were very loyal and didn't churn or probably that many more clients joined the company at its start. "
   ]
  },
  {
   "cell_type": "code",
   "execution_count": null,
   "metadata": {
    "collapsed": true
   },
   "outputs": [],
   "source": [
    "long_non_churn_clients = pd.DataFrame(non_churning_clients[non_churning_clients[\"tenure\"] > 61])"
   ]
  },
  {
   "cell_type": "code",
   "execution_count": null,
   "metadata": {},
   "outputs": [],
   "source": [
    "long_non_churn_clients.groupby(['SeniorCitizen', 'gender']).size().plot(kind='barh', \n",
    "                                                                        title=\"Demographics of non-churning clients\", \n",
    "                                                                        figsize=(15, 7));"
   ]
  },
  {
   "cell_type": "markdown",
   "metadata": {},
   "source": [
    "factorplot or value counts\n",
    "\n",
    "horizontal instead of vertical bar!\n",
    "\n",
    "Sort by values! "
   ]
  },
  {
   "cell_type": "code",
   "execution_count": null,
   "metadata": {},
   "outputs": [],
   "source": [
    "sns.barplot(x=, y=['SeniorCitizen', 'gender'], data=long_non_churn_clients.groupby(['SeniorCitizen', 'gender']),\n",
    "            label=\"Total\", color=\"b\")"
   ]
  },
  {
   "cell_type": "markdown",
   "metadata": {},
   "source": [
    "## Possible further research\n",
    "\n",
    "### Limitations \n",
    "\n",
    "There are limitations of the analisys that are imposed by data. Since there's no timestamp on the life of a client with the company, we cannot surely say when did the client churned. Thus, we might have clients who churned for different reasons at different period of time and due to different behavioral, econolical reasons, etc. Also, we don't have the data on the satisfaction of a client and, thus, we cannot really say if a client, who didn't churn yet, is going to stay with the company soon. \n",
    "\n",
    "If the data set would have included the information about competitor and any indication of what were the services that the churned client used after, the results of the analysis would have been more fruitful. In this case, it would be possible to identify the reasons for churning more in-depth. \n",
    "\n",
    "Unfortunately, we don't have the information on the region where the data was gathered. The insights of the analysis could be extensively used to characterise the telecom market in that location and serve as a basis for further recommendations to the telecom companies. \n",
    "\n",
    "### Other areas of research \n",
    "\n",
    "The dataset can be used to identify customer segments who are prone to churn, as well as to get the understanding of how various groups of customers use telecommuntication services. Also, this data can be used to identify the services that bring more monetary value to the company, for example clients who tend to have the highest bills. Using this data the company can identify the profile AAA clients and find the areas for improvement to serve these top clients better. "
   ]
  },
  {
   "cell_type": "code",
   "execution_count": null,
   "metadata": {
    "collapsed": true
   },
   "outputs": [],
   "source": []
  }
 ],
 "metadata": {
  "kernelspec": {
   "display_name": "Python 3",
   "language": "python",
   "name": "python3"
  },
  "language_info": {
   "codemirror_mode": {
    "name": "ipython",
    "version": 3
   },
   "file_extension": ".py",
   "mimetype": "text/x-python",
   "name": "python",
   "nbconvert_exporter": "python",
   "pygments_lexer": "ipython3",
   "version": "3.6.1"
  }
 },
 "nbformat": 4,
 "nbformat_minor": 2
}
