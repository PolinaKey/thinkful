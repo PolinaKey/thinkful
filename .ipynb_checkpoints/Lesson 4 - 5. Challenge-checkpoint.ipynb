{
 "cells": [
  {
   "cell_type": "markdown",
   "metadata": {},
   "source": [
    "## Preparing the raw data\n",
    "\n",
    "Let's clean up and transform the data to fit this specification:\n",
    "\n",
    "(which appears to be a good model from the start, as we see later)\n",
    "\n",
    "PropertyCrime = α + Population + Population^2 + Murder + Robbery"
   ]
  },
  {
   "cell_type": "code",
   "execution_count": 74,
   "metadata": {
    "collapsed": true
   },
   "outputs": [],
   "source": [
    "import numpy as np\n",
    "import pandas as pd\n",
    "import scipy\n",
    "import sklearn\n",
    "import matplotlib.pyplot as plt\n",
    "import seaborn as sns\n",
    "%matplotlib inline\n",
    "from sklearn import linear_model\n",
    "import statsmodels.formula.api as smf"
   ]
  },
  {
   "cell_type": "code",
   "execution_count": 75,
   "metadata": {
    "collapsed": true
   },
   "outputs": [],
   "source": [
    "df = pd.read_excel('../NY_crime2013.xlsx', skiprows=4)"
   ]
  },
  {
   "cell_type": "code",
   "execution_count": 76,
   "metadata": {},
   "outputs": [
    {
     "data": {
      "text/html": [
       "<div>\n",
       "<style>\n",
       "    .dataframe thead tr:only-child th {\n",
       "        text-align: right;\n",
       "    }\n",
       "\n",
       "    .dataframe thead th {\n",
       "        text-align: left;\n",
       "    }\n",
       "\n",
       "    .dataframe tbody tr th {\n",
       "        vertical-align: top;\n",
       "    }\n",
       "</style>\n",
       "<table border=\"1\" class=\"dataframe\">\n",
       "  <thead>\n",
       "    <tr style=\"text-align: right;\">\n",
       "      <th></th>\n",
       "      <th>City</th>\n",
       "      <th>Population</th>\n",
       "      <th>Violent_crime</th>\n",
       "      <th>Murder</th>\n",
       "      <th>Rape_1</th>\n",
       "      <th>Rape_2</th>\n",
       "      <th>Robbery</th>\n",
       "      <th>Aggravated_assault</th>\n",
       "      <th>Property_crime</th>\n",
       "      <th>Burglary</th>\n",
       "      <th>Larceny-\n",
       "theft</th>\n",
       "      <th>Motor_vehicle_theft</th>\n",
       "      <th>Arson3</th>\n",
       "    </tr>\n",
       "  </thead>\n",
       "  <tbody>\n",
       "    <tr>\n",
       "      <th>0</th>\n",
       "      <td>Adams Village</td>\n",
       "      <td>1861</td>\n",
       "      <td>0</td>\n",
       "      <td>0</td>\n",
       "      <td>NaN</td>\n",
       "      <td>0</td>\n",
       "      <td>0</td>\n",
       "      <td>0</td>\n",
       "      <td>12</td>\n",
       "      <td>2</td>\n",
       "      <td>10</td>\n",
       "      <td>0</td>\n",
       "      <td>0.0</td>\n",
       "    </tr>\n",
       "    <tr>\n",
       "      <th>1</th>\n",
       "      <td>Addison Town and Village</td>\n",
       "      <td>2577</td>\n",
       "      <td>3</td>\n",
       "      <td>0</td>\n",
       "      <td>NaN</td>\n",
       "      <td>0</td>\n",
       "      <td>0</td>\n",
       "      <td>3</td>\n",
       "      <td>24</td>\n",
       "      <td>3</td>\n",
       "      <td>20</td>\n",
       "      <td>1</td>\n",
       "      <td>0.0</td>\n",
       "    </tr>\n",
       "    <tr>\n",
       "      <th>2</th>\n",
       "      <td>Akron Village</td>\n",
       "      <td>2846</td>\n",
       "      <td>3</td>\n",
       "      <td>0</td>\n",
       "      <td>NaN</td>\n",
       "      <td>0</td>\n",
       "      <td>0</td>\n",
       "      <td>3</td>\n",
       "      <td>16</td>\n",
       "      <td>1</td>\n",
       "      <td>15</td>\n",
       "      <td>0</td>\n",
       "      <td>0.0</td>\n",
       "    </tr>\n",
       "    <tr>\n",
       "      <th>3</th>\n",
       "      <td>Albany</td>\n",
       "      <td>97956</td>\n",
       "      <td>791</td>\n",
       "      <td>8</td>\n",
       "      <td>NaN</td>\n",
       "      <td>30</td>\n",
       "      <td>227</td>\n",
       "      <td>526</td>\n",
       "      <td>4090</td>\n",
       "      <td>705</td>\n",
       "      <td>3243</td>\n",
       "      <td>142</td>\n",
       "      <td>NaN</td>\n",
       "    </tr>\n",
       "    <tr>\n",
       "      <th>4</th>\n",
       "      <td>Albion Village</td>\n",
       "      <td>6388</td>\n",
       "      <td>23</td>\n",
       "      <td>0</td>\n",
       "      <td>NaN</td>\n",
       "      <td>3</td>\n",
       "      <td>4</td>\n",
       "      <td>16</td>\n",
       "      <td>223</td>\n",
       "      <td>53</td>\n",
       "      <td>165</td>\n",
       "      <td>5</td>\n",
       "      <td>NaN</td>\n",
       "    </tr>\n",
       "  </tbody>\n",
       "</table>\n",
       "</div>"
      ],
      "text/plain": [
       "                       City  Population  Violent_crime  Murder  Rape_1  \\\n",
       "0             Adams Village        1861              0       0     NaN   \n",
       "1  Addison Town and Village        2577              3       0     NaN   \n",
       "2             Akron Village        2846              3       0     NaN   \n",
       "3                    Albany       97956            791       8     NaN   \n",
       "4            Albion Village        6388             23       0     NaN   \n",
       "\n",
       "   Rape_2  Robbery  Aggravated_assault  Property_crime  Burglary  \\\n",
       "0       0        0                   0              12         2   \n",
       "1       0        0                   3              24         3   \n",
       "2       0        0                   3              16         1   \n",
       "3      30      227                 526            4090       705   \n",
       "4       3        4                  16             223        53   \n",
       "\n",
       "   Larceny-\\ntheft  Motor_vehicle_theft  Arson3  \n",
       "0               10                    0     0.0  \n",
       "1               20                    1     0.0  \n",
       "2               15                    0     0.0  \n",
       "3             3243                  142     NaN  \n",
       "4              165                    5     NaN  "
      ]
     },
     "execution_count": 76,
     "metadata": {},
     "output_type": "execute_result"
    }
   ],
   "source": [
    "df.head(5)"
   ]
  },
  {
   "cell_type": "markdown",
   "metadata": {},
   "source": [
    "## Creating features and building the regression model"
   ]
  },
  {
   "cell_type": "code",
   "execution_count": 77,
   "metadata": {
    "collapsed": true
   },
   "outputs": [],
   "source": [
    "df['Population^2'] = df['Population'] * df['Population']"
   ]
  },
  {
   "cell_type": "code",
   "execution_count": 78,
   "metadata": {},
   "outputs": [
    {
     "data": {
      "text/html": [
       "<div>\n",
       "<style>\n",
       "    .dataframe thead tr:only-child th {\n",
       "        text-align: right;\n",
       "    }\n",
       "\n",
       "    .dataframe thead th {\n",
       "        text-align: left;\n",
       "    }\n",
       "\n",
       "    .dataframe tbody tr th {\n",
       "        vertical-align: top;\n",
       "    }\n",
       "</style>\n",
       "<table border=\"1\" class=\"dataframe\">\n",
       "  <thead>\n",
       "    <tr style=\"text-align: right;\">\n",
       "      <th></th>\n",
       "      <th>City</th>\n",
       "      <th>Population</th>\n",
       "      <th>Violent_crime</th>\n",
       "      <th>Murder</th>\n",
       "      <th>Rape_1</th>\n",
       "      <th>Rape_2</th>\n",
       "      <th>Robbery</th>\n",
       "      <th>Aggravated_assault</th>\n",
       "      <th>Property_crime</th>\n",
       "      <th>Burglary</th>\n",
       "      <th>Larceny-\n",
       "theft</th>\n",
       "      <th>Motor_vehicle_theft</th>\n",
       "      <th>Arson3</th>\n",
       "      <th>Population^2</th>\n",
       "    </tr>\n",
       "  </thead>\n",
       "  <tbody>\n",
       "    <tr>\n",
       "      <th>216</th>\n",
       "      <td>New York</td>\n",
       "      <td>8396126</td>\n",
       "      <td>52384</td>\n",
       "      <td>335</td>\n",
       "      <td>NaN</td>\n",
       "      <td>1112</td>\n",
       "      <td>19170</td>\n",
       "      <td>31767</td>\n",
       "      <td>141971</td>\n",
       "      <td>16606</td>\n",
       "      <td>117931</td>\n",
       "      <td>7434</td>\n",
       "      <td>NaN</td>\n",
       "      <td>70494931807876</td>\n",
       "    </tr>\n",
       "  </tbody>\n",
       "</table>\n",
       "</div>"
      ],
      "text/plain": [
       "         City  Population  Violent_crime  Murder  Rape_1  Rape_2  Robbery  \\\n",
       "216  New York     8396126          52384     335     NaN    1112    19170   \n",
       "\n",
       "     Aggravated_assault  Property_crime  Burglary  Larceny-\\ntheft  \\\n",
       "216               31767          141971     16606           117931   \n",
       "\n",
       "     Motor_vehicle_theft  Arson3    Population^2  \n",
       "216                 7434     NaN  70494931807876  "
      ]
     },
     "execution_count": 78,
     "metadata": {},
     "output_type": "execute_result"
    }
   ],
   "source": [
    "df.loc[df['Property_crime'] > 100000]"
   ]
  },
  {
   "cell_type": "code",
   "execution_count": 79,
   "metadata": {
    "collapsed": true
   },
   "outputs": [],
   "source": [
    "df.loc[df['Murder'] > 0, 'Murder_bol'] = 1\n",
    "df.loc[df['Robbery'] > 0, 'Robbery_bol'] = 1\n",
    "df.loc[df['Arson3'] > 0, 'Arson3_bol'] = 1"
   ]
  },
  {
   "cell_type": "code",
   "execution_count": 80,
   "metadata": {
    "collapsed": true
   },
   "outputs": [],
   "source": [
    "data = df[['Population','Population^2','Murder_bol','Robbery_bol', 'Property_crime' ,'Burglary', 'Murder', 'Robbery','Arson3' ,'Motor_vehicle_theft']]\n"
   ]
  },
  {
   "cell_type": "code",
   "execution_count": 81,
   "metadata": {
    "collapsed": true
   },
   "outputs": [],
   "source": [
    "data_XY_noNaN = data[['Population','Population^2','Murder_bol','Robbery_bol', 'Property_crime']].dropna(axis=0, how='any')\n",
    "# data['sqrtMurder'] = [math.sqrt(x) for x in data['Murder']]\n",
    "\n",
    "X = data_XY_noNaN[['Population','Population^2','Murder_bol','Robbery_bol']]\n",
    "Y = data_XY_noNaN['Property_crime']"
   ]
  },
  {
   "cell_type": "code",
   "execution_count": 82,
   "metadata": {},
   "outputs": [
    {
     "name": "stdout",
     "output_type": "stream",
     "text": [
      "The best performing regression model\n",
      "Population, Population^2, Murder and Robbery\n",
      "\n",
      "Coefficients: \n",
      " [  3.94061095e-02  -2.67340744e-09   0.00000000e+00   0.00000000e+00]\n",
      "\n",
      "Intercept: \n",
      " -424.825849014\n",
      "\n",
      "R-squared:\n",
      "0.99696162361\n"
     ]
    },
    {
     "data": {
      "image/png": "[encoded data removed]",
      "text/plain": [
       "<matplotlib.figure.Figure at 0x10df19b70>"
      ]
     },
     "metadata": {},
     "output_type": "display_data"
    },
    {
     "data": {
      "image/png": "[encoded data removed]",
      "text/plain": [
       "<matplotlib.figure.Figure at 0x11d621208>"
      ]
     },
     "metadata": {},
     "output_type": "display_data"
    },
    {
     "data": {
      "image/png": "[encoded data removed]",
      "text/plain": [
       "<matplotlib.figure.Figure at 0x119c03f60>"
      ]
     },
     "metadata": {},
     "output_type": "display_data"
    }
   ],
   "source": [
    "print('The best performing regression model')\n",
    "print('Population, Population^2, Murder and Robbery')\n",
    "regr = linear_model.LinearRegression()\n",
    "regr.fit(X, Y) \n",
    "print('\\nCoefficients: \\n', regr.coef_)\n",
    "print('\\nIntercept: \\n', regr.intercept_)\n",
    "print('\\nR-squared:')\n",
    "print(regr.score(X, Y))\n",
    "predicted = regr.predict(X)\n",
    "actual = Y\n",
    "residual = actual - predicted\n",
    "rel_residual = residual / actual\n",
    "plt.hist(residual, bins = 50)\n",
    "plt.title('Residual counts')\n",
    "plt.xlabel('Residual')\n",
    "plt.ylabel('Count')\n",
    "plt.show()\n",
    "\n",
    "\n",
    "plt.scatter(predicted, residual)\n",
    "plt.xlabel('Predicted')\n",
    "plt.ylabel('Residual')\n",
    "plt.axhline(y=0)\n",
    "plt.title('Residual vs. Predicted')\n",
    "plt.show()\n",
    "\n",
    "residual_r = rel_residual.loc[abs(rel_residual) != np.inf]\n",
    "plt.hist(residual_r, bins = 50)\n",
    "plt.title('Residual absolute values')\n",
    "plt.xlabel('Residual')\n",
    "plt.ylabel('Count')\n",
    "plt.show()"
   ]
  },
  {
   "cell_type": "code",
   "execution_count": 83,
   "metadata": {},
   "outputs": [
    {
     "data": {
      "text/plain": [
       "<matplotlib.axes._subplots.AxesSubplot at 0x11d4da748>"
      ]
     },
     "execution_count": 83,
     "metadata": {},
     "output_type": "execute_result"
    },
    {
     "data": {
      "image/png": "[encoded data removed]",
      "text/plain": [
       "<matplotlib.figure.Figure at 0x11d3090b8>"
      ]
     },
     "metadata": {},
     "output_type": "display_data"
    }
   ],
   "source": [
    "df.Property_crime.hist(bins=50)"
   ]
  },
  {
   "cell_type": "code",
   "execution_count": 84,
   "metadata": {},
   "outputs": [
    {
     "data": {
      "text/html": [
       "<div>\n",
       "<style>\n",
       "    .dataframe thead tr:only-child th {\n",
       "        text-align: right;\n",
       "    }\n",
       "\n",
       "    .dataframe thead th {\n",
       "        text-align: left;\n",
       "    }\n",
       "\n",
       "    .dataframe tbody tr th {\n",
       "        vertical-align: top;\n",
       "    }\n",
       "</style>\n",
       "<table border=\"1\" class=\"dataframe\">\n",
       "  <thead>\n",
       "    <tr style=\"text-align: right;\">\n",
       "      <th></th>\n",
       "      <th>City</th>\n",
       "      <th>Population</th>\n",
       "      <th>Violent_crime</th>\n",
       "      <th>Murder</th>\n",
       "      <th>Rape_1</th>\n",
       "      <th>Rape_2</th>\n",
       "      <th>Robbery</th>\n",
       "      <th>Aggravated_assault</th>\n",
       "      <th>Property_crime</th>\n",
       "      <th>Burglary</th>\n",
       "      <th>Larceny-\n",
       "theft</th>\n",
       "      <th>Motor_vehicle_theft</th>\n",
       "      <th>Arson3</th>\n",
       "      <th>Population^2</th>\n",
       "      <th>Murder_bol</th>\n",
       "      <th>Robbery_bol</th>\n",
       "      <th>Arson3_bol</th>\n",
       "    </tr>\n",
       "  </thead>\n",
       "  <tbody>\n",
       "    <tr>\n",
       "      <th>216</th>\n",
       "      <td>New York</td>\n",
       "      <td>8396126</td>\n",
       "      <td>52384</td>\n",
       "      <td>335</td>\n",
       "      <td>NaN</td>\n",
       "      <td>1112</td>\n",
       "      <td>19170</td>\n",
       "      <td>31767</td>\n",
       "      <td>141971</td>\n",
       "      <td>16606</td>\n",
       "      <td>117931</td>\n",
       "      <td>7434</td>\n",
       "      <td>NaN</td>\n",
       "      <td>70494931807876</td>\n",
       "      <td>1.0</td>\n",
       "      <td>1.0</td>\n",
       "      <td>NaN</td>\n",
       "    </tr>\n",
       "  </tbody>\n",
       "</table>\n",
       "</div>"
      ],
      "text/plain": [
       "         City  Population  Violent_crime  Murder  Rape_1  Rape_2  Robbery  \\\n",
       "216  New York     8396126          52384     335     NaN    1112    19170   \n",
       "\n",
       "     Aggravated_assault  Property_crime  Burglary  Larceny-\\ntheft  \\\n",
       "216               31767          141971     16606           117931   \n",
       "\n",
       "     Motor_vehicle_theft  Arson3    Population^2  Murder_bol  Robbery_bol  \\\n",
       "216                 7434     NaN  70494931807876         1.0          1.0   \n",
       "\n",
       "     Arson3_bol  \n",
       "216         NaN  "
      ]
     },
     "execution_count": 84,
     "metadata": {},
     "output_type": "execute_result"
    }
   ],
   "source": [
    "df.loc[data['Property_crime'] > 100000]"
   ]
  },
  {
   "cell_type": "markdown",
   "metadata": {},
   "source": [
    "The entiry above (NYC) is an outlier. Let's run a model without it and see our real R squared. "
   ]
  },
  {
   "cell_type": "markdown",
   "metadata": {},
   "source": [
    "### Same model excluding the outlier"
   ]
  },
  {
   "cell_type": "code",
   "execution_count": 85,
   "metadata": {
    "collapsed": true
   },
   "outputs": [],
   "source": [
    "data_wNYC = data_XY_noNaN.loc[data_XY_noNaN['Property_crime'] < 100000]"
   ]
  },
  {
   "cell_type": "code",
   "execution_count": 112,
   "metadata": {
    "collapsed": true
   },
   "outputs": [],
   "source": [
    "X = data_wNYC[['Population', 'Murder_bol','Robbery_bol']]\n",
    "Y = data_wNYC['Property_crime']"
   ]
  },
  {
   "cell_type": "code",
   "execution_count": 113,
   "metadata": {},
   "outputs": [
    {
     "name": "stdout",
     "output_type": "stream",
     "text": [
      "Population, Population^2, Murder and Robbery without NYC data\n",
      "\n",
      "Coefficients: \n",
      " [ 0.01734369  0.          0.        ]\n",
      "\n",
      "Intercept: \n",
      " 307.498284664\n",
      "\n",
      "R-squared:\n",
      "0.462778848667\n"
     ]
    },
    {
     "data": {
      "image/png": "[encoded data removed]",
      "text/plain": [
       "<matplotlib.figure.Figure at 0x11ef4d0b8>"
      ]
     },
     "metadata": {},
     "output_type": "display_data"
    },
    {
     "data": {
      "image/png": "[encoded data removed]",
      "text/plain": [
       "<matplotlib.figure.Figure at 0x11ef4d908>"
      ]
     },
     "metadata": {},
     "output_type": "display_data"
    }
   ],
   "source": [
    "print('Population, Population^2, Murder and Robbery without NYC data')\n",
    "regr = linear_model.LinearRegression()\n",
    "regr.fit(X, Y) \n",
    "print('\\nCoefficients: \\n', regr.coef_)\n",
    "print('\\nIntercept: \\n', regr.intercept_)\n",
    "print('\\nR-squared:')\n",
    "print(regr.score(X, Y))\n",
    "predicted = regr.predict(X)\n",
    "actual = Y\n",
    "residual = actual - predicted\n",
    "plt.hist(residual, bins = 50)\n",
    "plt.title('Residual counts')\n",
    "plt.xlabel('Residual')\n",
    "plt.ylabel('Count')\n",
    "plt.show()\n",
    "plt.scatter(predicted, residual)\n",
    "plt.xlabel('Predicted')\n",
    "plt.ylabel('Residual')\n",
    "plt.axhline(y=0)\n",
    "plt.title('Residual vs. Predicted')\n",
    "plt.show()"
   ]
  },
  {
   "cell_type": "markdown",
   "metadata": {},
   "source": [
    "R-squared of 0.85 is a pretty good one. We'll stop exploring here."
   ]
  },
  {
   "cell_type": "markdown",
   "metadata": {},
   "source": [
    "## Feature evaluation and validation via statsmodels library"
   ]
  },
  {
   "cell_type": "code",
   "execution_count": 114,
   "metadata": {
    "collapsed": true
   },
   "outputs": [],
   "source": [
    "import statsmodels.formula.api as smf\n",
    "from statsmodels.sandbox.regression.predstd import wls_prediction_std"
   ]
  },
  {
   "cell_type": "code",
   "execution_count": 115,
   "metadata": {},
   "outputs": [
    {
     "name": "stdout",
     "output_type": "stream",
     "text": [
      "Formula parameters\n",
      "Intercept         106.858448\n",
      "Population         25.608414\n",
      "Population ^ 2    -25.591338\n",
      "Murder_bol        106.858448\n",
      "Robbery_bol       106.858448\n",
      "dtype: float64\n",
      "Pvalues of parameters\n",
      "Intercept         0.047395\n",
      "Population        0.621292\n",
      "Population ^ 2    0.621527\n",
      "Murder_bol        0.047395\n",
      "Robbery_bol       0.047395\n",
      "dtype: float64\n",
      "R-squared: 0.466001841885\n"
     ]
    }
   ],
   "source": [
    "linear_formula = 'Property_crime ~ Population + Population^2 + Murder_bol + Robbery_bol'\n",
    "lm = smf.ols(formula=linear_formula, data=data_wNYC).fit()\n",
    "print('Formula parameters')\n",
    "print(lm.params)\n",
    "\n",
    "print('Pvalues of parameters')\n",
    "print(lm.pvalues)\n",
    "print('R-squared: ' + str(lm.rsquared))"
   ]
  },
  {
   "cell_type": "code",
   "execution_count": 116,
   "metadata": {
    "collapsed": true
   },
   "outputs": [],
   "source": [
    "from sklearn.model_selection import train_test_split\n",
    "from sklearn.model_selection import cross_val_score"
   ]
  },
  {
   "cell_type": "code",
   "execution_count": 117,
   "metadata": {},
   "outputs": [
    {
     "name": "stdout",
     "output_type": "stream",
     "text": [
      "cross-validation: [  1.24300172e-03  -7.01426147e+00   4.67861118e-01   8.52032401e-01\n",
      "   2.90726782e-01  -2.40093377e+00   4.15513589e-01   5.22237596e-01\n",
      "   3.03913206e-01  -2.46840595e+00]\n"
     ]
    }
   ],
   "source": [
    "print('cross-validation: ' + str(cross_val_score(linear_model.LinearRegression(), X, Y, cv=10)))\n",
    "cross_val_1 = cross_val_score(linear_model.LinearRegression(), X, Y, cv=10)"
   ]
  },
  {
   "cell_type": "code",
   "execution_count": 92,
   "metadata": {
    "collapsed": true
   },
   "outputs": [],
   "source": [
    "X_train, X_test, y_train, y_test = train_test_split(X, Y, test_size=0.2, random_state=20)"
   ]
  },
  {
   "cell_type": "code",
   "execution_count": 93,
   "metadata": {},
   "outputs": [
    {
     "name": "stdout",
     "output_type": "stream",
     "text": [
      "With 20% Holdout: -0.449172889877\n",
      "Testing on Sample: 0.808332523238\n"
     ]
    }
   ],
   "source": [
    "print('With 20% Holdout: ' + str(linear_model.LinearRegression().fit(X_train, y_train).score(X_test, y_test)))\n",
    "print('Testing on Sample: ' + str(linear_model.LinearRegression().fit(X, Y).score(X, Y)))"
   ]
  },
  {
   "cell_type": "markdown",
   "metadata": {},
   "source": [
    "## Validation using another set of data (NY crimes 2014)"
   ]
  },
  {
   "cell_type": "code",
   "execution_count": 94,
   "metadata": {
    "collapsed": true
   },
   "outputs": [],
   "source": [
    "df_2014 = pd.read_excel('../NY_crime2014.xlsx')"
   ]
  },
  {
   "cell_type": "code",
   "execution_count": 95,
   "metadata": {},
   "outputs": [
    {
     "data": {
      "text/html": [
       "<div>\n",
       "<style>\n",
       "    .dataframe thead tr:only-child th {\n",
       "        text-align: right;\n",
       "    }\n",
       "\n",
       "    .dataframe thead th {\n",
       "        text-align: left;\n",
       "    }\n",
       "\n",
       "    .dataframe tbody tr th {\n",
       "        vertical-align: top;\n",
       "    }\n",
       "</style>\n",
       "<table border=\"1\" class=\"dataframe\">\n",
       "  <thead>\n",
       "    <tr style=\"text-align: right;\">\n",
       "      <th></th>\n",
       "      <th>City</th>\n",
       "      <th>Population</th>\n",
       "      <th>Violent_crime</th>\n",
       "      <th>Murder</th>\n",
       "      <th>Rape_1</th>\n",
       "      <th>Rape_2</th>\n",
       "      <th>Robbery</th>\n",
       "      <th>Aggravated_assault</th>\n",
       "      <th>Property_crime</th>\n",
       "      <th>Burglary</th>\n",
       "      <th>Larceny-\n",
       "theft</th>\n",
       "      <th>Motor_vehicle_theft</th>\n",
       "      <th>Arson3</th>\n",
       "    </tr>\n",
       "  </thead>\n",
       "  <tbody>\n",
       "    <tr>\n",
       "      <th>0</th>\n",
       "      <td>Adams Village</td>\n",
       "      <td>1851.0</td>\n",
       "      <td>0.0</td>\n",
       "      <td>0.0</td>\n",
       "      <td>NaN</td>\n",
       "      <td>0.0</td>\n",
       "      <td>0.0</td>\n",
       "      <td>0.0</td>\n",
       "      <td>11.0</td>\n",
       "      <td>1.0</td>\n",
       "      <td>10.0</td>\n",
       "      <td>0.0</td>\n",
       "      <td>0.0</td>\n",
       "    </tr>\n",
       "    <tr>\n",
       "      <th>1</th>\n",
       "      <td>Addison Town and Village</td>\n",
       "      <td>2568.0</td>\n",
       "      <td>2.0</td>\n",
       "      <td>0.0</td>\n",
       "      <td>NaN</td>\n",
       "      <td>0.0</td>\n",
       "      <td>1.0</td>\n",
       "      <td>1.0</td>\n",
       "      <td>49.0</td>\n",
       "      <td>1.0</td>\n",
       "      <td>47.0</td>\n",
       "      <td>1.0</td>\n",
       "      <td>0.0</td>\n",
       "    </tr>\n",
       "  </tbody>\n",
       "</table>\n",
       "</div>"
      ],
      "text/plain": [
       "                       City  Population  Violent_crime  Murder  Rape_1  \\\n",
       "0             Adams Village      1851.0            0.0     0.0     NaN   \n",
       "1  Addison Town and Village      2568.0            2.0     0.0     NaN   \n",
       "\n",
       "   Rape_2  Robbery  Aggravated_assault  Property_crime  Burglary  \\\n",
       "0     0.0      0.0                 0.0            11.0       1.0   \n",
       "1     0.0      1.0                 1.0            49.0       1.0   \n",
       "\n",
       "   Larceny-\\ntheft  Motor_vehicle_theft  Arson3  \n",
       "0             10.0                  0.0     0.0  \n",
       "1             47.0                  1.0     0.0  "
      ]
     },
     "execution_count": 95,
     "metadata": {},
     "output_type": "execute_result"
    }
   ],
   "source": [
    "df_2014.head(2)"
   ]
  },
  {
   "cell_type": "code",
   "execution_count": 96,
   "metadata": {
    "collapsed": true
   },
   "outputs": [],
   "source": [
    "df_2014['Population^2'] = df_2014['Population'] * df_2014['Population']"
   ]
  },
  {
   "cell_type": "code",
   "execution_count": 97,
   "metadata": {
    "collapsed": true
   },
   "outputs": [],
   "source": [
    "df_2014.loc[df_2014['Murder'] > 0, 'Murder_bol'] = 1\n",
    "df_2014.loc[df_2014['Robbery'] > 0, 'Robbery_bol'] = 1\n",
    "df_2014.loc[df_2014['Arson3'] > 0, 'Arson3_bol'] = 1"
   ]
  },
  {
   "cell_type": "code",
   "execution_count": 98,
   "metadata": {
    "collapsed": true
   },
   "outputs": [],
   "source": [
    "data_2014 = df_2014[['Population','Population^2','Murder_bol','Robbery_bol', 'Property_crime' ,'Burglary','Murder','Robbery','Arson3','Motor_vehicle_theft']]\n",
    "data_XY_noNaN_2014 = data_2014[['Population','Population^2','Murder_bol','Robbery_bol', 'Property_crime']].dropna(axis=0, how='any')\n"
   ]
  },
  {
   "cell_type": "code",
   "execution_count": 99,
   "metadata": {
    "collapsed": true
   },
   "outputs": [],
   "source": [
    "data_wNYC_2014 = data_XY_noNaN_2014.loc[data_XY_noNaN_2014['Property_crime'] < 100000]"
   ]
  },
  {
   "cell_type": "code",
   "execution_count": 100,
   "metadata": {
    "collapsed": true
   },
   "outputs": [],
   "source": [
    "X_2014 = data_wNYC_2014[['Population','Population^2','Murder_bol','Robbery_bol']]\n",
    "Y_2014 = data_wNYC_2014['Property_crime']"
   ]
  },
  {
   "cell_type": "code",
   "execution_count": 101,
   "metadata": {},
   "outputs": [
    {
     "name": "stdout",
     "output_type": "stream",
     "text": [
      "Testing on Sample of 2014: \n",
      " 0.790567512757\n"
     ]
    }
   ],
   "source": [
    "print('Testing on Sample of 2014: \\n ' + str(linear_model.LinearRegression().fit(X, Y).score(X_2014, Y_2014)))"
   ]
  },
  {
   "cell_type": "code",
   "execution_count": 102,
   "metadata": {
    "collapsed": true
   },
   "outputs": [],
   "source": [
    "## what is -2.67055006? \n",
    "## am I doing the cross-valuation correctly? "
   ]
  },
  {
   "cell_type": "code",
   "execution_count": null,
   "metadata": {
    "collapsed": true
   },
   "outputs": [],
   "source": []
  },
  {
   "cell_type": "code",
   "execution_count": 103,
   "metadata": {},
   "outputs": [
    {
     "data": {
      "image/png": "[encoded data removed]",
      "text/plain": [
       "<matplotlib.figure.Figure at 0x11d9e6ef0>"
      ]
     },
     "metadata": {},
     "output_type": "display_data"
    },
    {
     "data": {
      "image/png": "[encoded data removed]",
      "text/plain": [
       "<matplotlib.figure.Figure at 0x11ea2af28>"
      ]
     },
     "metadata": {},
     "output_type": "display_data"
    }
   ],
   "source": [
    "predicted_2014 = regr.predict(X_2014)\n",
    "actual_2014 = Y_2014\n",
    "residual_2014 = actual_2014 - predicted_2014\n",
    "plt.hist(residual_2014, bins = 50)\n",
    "plt.title('Residual counts')\n",
    "plt.xlabel('Residual')\n",
    "plt.ylabel('Count')\n",
    "plt.show()\n",
    "plt.scatter(predicted_2014, residual_2014)\n",
    "plt.xlabel('Predicted')\n",
    "plt.ylabel('Residual')\n",
    "plt.axhline(y=0)\n",
    "plt.title('Residual vs. Predicted')\n",
    "plt.show()"
   ]
  },
  {
   "cell_type": "markdown",
   "metadata": {},
   "source": [
    "## Focusing on predicting data for Property crime < 6000\n",
    "### more focused analysis\n"
   ]
  },
  {
   "cell_type": "code",
   "execution_count": 104,
   "metadata": {},
   "outputs": [
    {
     "name": "stdout",
     "output_type": "stream",
     "text": [
      "Population, Population^2, Murder and Robbery without NYC data\n",
      "\n",
      "Coefficients: \n",
      " [  3.87357730e-02  -1.29687587e-07   0.00000000e+00   0.00000000e+00]\n",
      "\n",
      "Intercept: \n",
      " -186.480767023\n",
      "\n",
      "R-squared:\n",
      "0.589501576557\n"
     ]
    },
    {
     "data": {
      "image/png": "[encoded data removed]",
      "text/plain": [
       "<matplotlib.figure.Figure at 0x11d432b70>"
      ]
     },
     "metadata": {},
     "output_type": "display_data"
    },
    {
     "data": {
      "image/png": "[encoded data removed]",
      "text/plain": [
       "<matplotlib.figure.Figure at 0x10cb0b5c0>"
      ]
     },
     "metadata": {},
     "output_type": "display_data"
    }
   ],
   "source": [
    "data_wNYC = data_XY_noNaN.loc[data_XY_noNaN['Property_crime'] < 6000]\n",
    "X = data_wNYC[['Population','Population^2','Murder_bol','Robbery_bol']]\n",
    "Y = data_wNYC['Property_crime']\n",
    "\n",
    "print('Population, Population^2, Murder and Robbery without NYC data')\n",
    "regr = linear_model.LinearRegression()\n",
    "regr.fit(X, Y) \n",
    "print('\\nCoefficients: \\n', regr.coef_)\n",
    "print('\\nIntercept: \\n', regr.intercept_)\n",
    "print('\\nR-squared:')\n",
    "print(regr.score(X, Y))\n",
    "predicted = regr.predict(X)\n",
    "actual = Y\n",
    "residual = actual - predicted\n",
    "plt.hist(residual, bins = 50)\n",
    "plt.title('Residual counts')\n",
    "plt.xlabel('Residual')\n",
    "plt.ylabel('Count')\n",
    "plt.show()\n",
    "plt.scatter(predicted, residual)\n",
    "plt.xlabel('Predicted')\n",
    "plt.ylabel('Residual')\n",
    "plt.axhline(y=0)\n",
    "plt.title('Residual vs. Predicted')\n",
    "plt.show()\n"
   ]
  },
  {
   "cell_type": "code",
   "execution_count": 105,
   "metadata": {},
   "outputs": [
    {
     "name": "stdout",
     "output_type": "stream",
     "text": [
      "Testing on Sample of 2014: \n",
      " 0.569098544527\n"
     ]
    }
   ],
   "source": [
    "data_wNYC_2014 = data_XY_noNaN_2014.loc[data_XY_noNaN_2014['Property_crime'] < 6000]\n",
    "X_2014 = data_wNYC_2014[['Population','Population^2','Murder_bol','Robbery_bol']]\n",
    "Y_2014 = data_wNYC_2014['Property_crime']\n",
    "print('Testing on Sample of 2014: \\n ' + str(linear_model.LinearRegression().fit(X, Y).score(X_2014, Y_2014)))"
   ]
  },
  {
   "cell_type": "code",
   "execution_count": 106,
   "metadata": {},
   "outputs": [
    {
     "data": {
      "image/png": "[encoded data removed]",
      "text/plain": [
       "<matplotlib.figure.Figure at 0x11d9ff5f8>"
      ]
     },
     "metadata": {},
     "output_type": "display_data"
    },
    {
     "data": {
      "image/png": "[encoded data removed]",
      "text/plain": [
       "<matplotlib.figure.Figure at 0x11e8e8fd0>"
      ]
     },
     "metadata": {},
     "output_type": "display_data"
    }
   ],
   "source": [
    "predicted_2014 = regr.predict(X_2014)\n",
    "actual_2014 = Y_2014\n",
    "residual_2014 = actual_2014 - predicted_2014\n",
    "plt.hist(residual_2014, bins = 50)\n",
    "plt.title('Residual counts')\n",
    "plt.xlabel('Residual')\n",
    "plt.ylabel('Count')\n",
    "plt.show()\n",
    "plt.scatter(predicted_2014, residual_2014)\n",
    "plt.xlabel('Predicted')\n",
    "plt.ylabel('Residual')\n",
    "plt.axhline(y=0)\n",
    "plt.title('Residual vs. Predicted')\n",
    "plt.show()"
   ]
  },
  {
   "cell_type": "markdown",
   "metadata": {},
   "source": [
    "## Revised model"
   ]
  },
  {
   "cell_type": "code",
   "execution_count": 119,
   "metadata": {},
   "outputs": [
    {
     "name": "stdout",
     "output_type": "stream",
     "text": [
      "With 20% Holdout: 0.963246283576\n",
      "Testing on Sample: 0.9485340537\n"
     ]
    }
   ],
   "source": [
    "new_model = data[['Population', 'Robbery', 'Burglary', 'Arson3', 'Property_crime' ,'Motor_vehicle_theft']].dropna(axis=0, how='any')\n",
    "new_model_no_big = new_model.loc[new_model['Property_crime'] < 6000]\n",
    "X = new_model_no_big[['Population', 'Robbery', 'Burglary', 'Arson3','Motor_vehicle_theft']]\n",
    "Y = new_model_no_big['Property_crime']\n",
    "X_train, X_test, y_train, y_test = train_test_split(X, Y, test_size=0.2, random_state=20)\n",
    "print('With 20% Holdout: ' + str(linear_model.LinearRegression().fit(X_train, y_train).score(X_test, y_test)))\n",
    "print('Testing on Sample: ' + str(linear_model.LinearRegression().fit(X, Y).score(X, Y)))"
   ]
  },
  {
   "cell_type": "code",
   "execution_count": 120,
   "metadata": {},
   "outputs": [
    {
     "data": {
      "text/plain": [
       "array([ 0.96386769,  0.90269097,  0.79836942,  0.94324279,  0.65813879,\n",
       "        0.90904335,  0.95508094,  0.91930829,  0.75263918,  0.89376529])"
      ]
     },
     "execution_count": 120,
     "metadata": {},
     "output_type": "execute_result"
    }
   ],
   "source": [
    "cross_val_score(linear_model.LinearRegression(), X, Y, cv=10)"
   ]
  },
  {
   "cell_type": "code",
   "execution_count": 125,
   "metadata": {},
   "outputs": [
    {
     "data": {
      "image/png": "[encoded data removed]",
      "text/plain": [
       "<matplotlib.figure.Figure at 0x11ec7f588>"
      ]
     },
     "metadata": {},
     "output_type": "display_data"
    }
   ],
   "source": [
    "cross_val_2 = cross_val_score(linear_model.LinearRegression(), X, Y, cv=10)\n",
    "## use np.arange(start, end, step) for plotting\n",
    "plt.hist(cross_val_1, bins = 20, alpha = 0.5, color = 'r')\n",
    "plt.hist(cross_val_2, bins = 5, alpha = 0.5, color = 'b')\n",
    "plt.show()"
   ]
  },
  {
   "cell_type": "code",
   "execution_count": 110,
   "metadata": {},
   "outputs": [
    {
     "name": "stdout",
     "output_type": "stream",
     "text": [
      "Testing on Sample of 2014: \n",
      " 0.9485340537\n"
     ]
    }
   ],
   "source": [
    "new_model_2014 = data_2014[['Population','Robbery', 'Burglary', 'Arson3', 'Property_crime','Motor_vehicle_theft']].dropna(axis=0, how='any')\n",
    "new_model_no_big_2014 = new_model.loc[new_model['Property_crime'] < 6000]\n",
    "\n",
    "X_2014 = new_model_no_big_2014[['Population', 'Robbery','Burglary', 'Arson3','Motor_vehicle_theft']]\n",
    "Y_2014 = new_model_no_big_2014['Property_crime']\n",
    "print('Testing on Sample of 2014: \\n ' + str(linear_model.LinearRegression().fit(X, Y).score(X_2014, Y_2014)))"
   ]
  },
  {
   "cell_type": "code",
   "execution_count": 111,
   "metadata": {},
   "outputs": [
    {
     "name": "stdout",
     "output_type": "stream",
     "text": [
      "Population,  Burglary, Arson3, Robbery and Motor_vehicle_theft without big cities data\n",
      "\n",
      "Coefficients: \n",
      " [  9.81011802e-03  -7.24811482e+00   3.40036667e+00   1.64523545e+01\n",
      "   7.17099732e+00]\n",
      "\n",
      "Intercept: \n",
      " -23.5547523296\n",
      "\n",
      "R-squared:\n",
      "0.9485340537\n"
     ]
    },
    {
     "data": {
      "image/png": "[encoded data removed]",
      "text/plain": [
       "<matplotlib.figure.Figure at 0x119c756d8>"
      ]
     },
     "metadata": {},
     "output_type": "display_data"
    },
    {
     "data": {
      "image/png": "[encoded data removed]",
      "text/plain": [
       "<matplotlib.figure.Figure at 0x11d8d2d30>"
      ]
     },
     "metadata": {},
     "output_type": "display_data"
    }
   ],
   "source": [
    "print('Population,  Burglary, Arson3, Robbery and Motor_vehicle_theft without big cities data')\n",
    "regr = linear_model.LinearRegression()\n",
    "regr.fit(X, Y) \n",
    "print('\\nCoefficients: \\n', regr.coef_)\n",
    "print('\\nIntercept: \\n', regr.intercept_)\n",
    "print('\\nR-squared:')\n",
    "print(regr.score(X, Y))\n",
    "predicted = regr.predict(X)\n",
    "actual = Y\n",
    "residual = actual - predicted\n",
    "plt.hist(residual, bins = 50)\n",
    "plt.title('Residual counts')\n",
    "plt.xlabel('Residual')\n",
    "plt.ylabel('Count')\n",
    "plt.show()\n",
    "plt.scatter(predicted, residual)\n",
    "plt.xlabel('Predicted')\n",
    "plt.ylabel('Residual')\n",
    "plt.axhline(y=0)\n",
    "plt.title('Residual vs. Predicted')\n",
    "plt.show()"
   ]
  },
  {
   "cell_type": "markdown",
   "metadata": {
    "collapsed": true
   },
   "source": [
    "Why to use these features:\n",
    "- not bi-polar coef for the same feature: coef for Population was positive, for Population^2 - negative \n",
    "- features related to property crime"
   ]
  }
 ],
 "metadata": {
  "kernelspec": {
   "display_name": "Python 3",
   "language": "python",
   "name": "python3"
  },
  "language_info": {
   "codemirror_mode": {
    "name": "ipython",
    "version": 3
   },
   "file_extension": ".py",
   "mimetype": "text/x-python",
   "name": "python",
   "nbconvert_exporter": "python",
   "pygments_lexer": "ipython3",
   "version": "3.6.1"
  }
 },
 "nbformat": 4,
 "nbformat_minor": 2
}
