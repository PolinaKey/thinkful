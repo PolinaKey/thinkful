{
 "cells": [
  {
   "cell_type": "markdown",
   "metadata": {},
   "source": [
    "# Housing Prices\n",
    "\n",
    "\n",
    "### Task:\n",
    "\n",
    "Create a model to predict a house's value. We want to be able to understand what creates value in a house, as though we were a real estate developer.\n",
    "\n",
    "We'll create two models: \n",
    "1. focused on interpretability (our main focus in this notebook)\n",
    "2. focused on accuracy (will be developped further in the next edition)"
   ]
  },
  {
   "cell_type": "markdown",
   "metadata": {},
   "source": [
    "## 1. Content & Acknowledgements\n",
    "\n",
    "This data was scraped from publicly available results posted every week from Domain.com.au, I've cleaned it as best I can, now it's up to you to make data analysis magic. The dataset includes Address, Type of Real estate, Suburb, Method of Selling, Rooms, Price, Real Estate Agent, Date of Sale, size of the land and building, as well as Year built and location information\n",
    "\n",
    "\n",
    "\n",
    "### 1.1. Additional feature description\n",
    "\n",
    "- Suburb: Suburb\n",
    "- Address: Address\n",
    "- Rooms: Number of rooms\n",
    "- Price: Price in Australian dollars\n",
    "- Method: S - property sold; SP - property sold prior; PI - property passed in; PN - sold prior not disclosed; SN - sold not disclosed; NB - no bid; VB - vendor bid; W - withdrawn prior to auction; SA - sold after auction; SS - sold after auction price not disclosed. N/A - price or highest bid not available.\n",
    "- Type: br - bedroom(s); h - house,cottage,villa, semi,terrace; u - unit, duplex; t - townhouse; dev site - development site; o res - other residential.\n",
    "- SellerG: Real Estate Agent\n",
    "- Date: Date sold\n",
    "- Distance: Distance from CBD in Kilometres\n",
    "- Regionname: General Region (West, North West, North, North east ...etc)\n",
    "- Propertycount: Number of properties that exist in the suburb.\n",
    "- Bedroom2 : Scraped # of Bedrooms (from different source) \n",
    "- Bathroom: Number of Bathrooms \n",
    "- Car: Number of carspots\n",
    "- Landsize: Land Size in Metres \n",
    "- BuildingArea: Building Size in Metres\n",
    "- YearBuilt: Year the house was built\n",
    "- CouncilArea: Governing council for the area\n",
    "- Lattitude: Self explanitory\n",
    "- Longtitude: Self explanitory"
   ]
  },
  {
   "cell_type": "markdown",
   "metadata": {},
   "source": [
    "## 2. Data preparation for training our model"
   ]
  },
  {
   "cell_type": "markdown",
   "metadata": {},
   "source": [
    "### 2.1. Loading"
   ]
  },
  {
   "cell_type": "code",
   "execution_count": 1,
   "metadata": {},
   "outputs": [
    {
     "name": "stderr",
     "output_type": "stream",
     "text": [
      "/Users/polinav/anaconda/lib/python3.6/site-packages/statsmodels/compat/pandas.py:56: FutureWarning: The pandas.core.datetools module is deprecated and will be removed in a future version. Please use the pandas.tseries module instead.\n",
      "  from pandas.core import datetools\n"
     ]
    }
   ],
   "source": [
    "import pandas as pd\n",
    "from matplotlib import pyplot as plt\n",
    "import numpy as np\n",
    "from sklearn.model_selection import cross_val_score\n",
    "from sklearn.model_selection import train_test_split\n",
    "import seaborn as sns\n",
    "import statsmodels.api as sm\n",
    "from sklearn.linear_model import LogisticRegression\n",
    "from sklearn.linear_model import Lasso\n",
    "\n",
    "import statsmodels.formula.api as smf\n",
    "\n",
    "%matplotlib inline"
   ]
  },
  {
   "cell_type": "code",
   "execution_count": 2,
   "metadata": {},
   "outputs": [
    {
     "data": {
      "text/html": [
       "<div>\n",
       "<style>\n",
       "    .dataframe thead tr:only-child th {\n",
       "        text-align: right;\n",
       "    }\n",
       "\n",
       "    .dataframe thead th {\n",
       "        text-align: left;\n",
       "    }\n",
       "\n",
       "    .dataframe tbody tr th {\n",
       "        vertical-align: top;\n",
       "    }\n",
       "</style>\n",
       "<table border=\"1\" class=\"dataframe\">\n",
       "  <thead>\n",
       "    <tr style=\"text-align: right;\">\n",
       "      <th></th>\n",
       "      <th>Suburb</th>\n",
       "      <th>Address</th>\n",
       "      <th>Rooms</th>\n",
       "      <th>Type</th>\n",
       "      <th>Price</th>\n",
       "      <th>Method</th>\n",
       "      <th>SellerG</th>\n",
       "      <th>Date</th>\n",
       "      <th>Distance</th>\n",
       "      <th>Postcode</th>\n",
       "      <th>...</th>\n",
       "      <th>Bathroom</th>\n",
       "      <th>Car</th>\n",
       "      <th>Landsize</th>\n",
       "      <th>BuildingArea</th>\n",
       "      <th>YearBuilt</th>\n",
       "      <th>CouncilArea</th>\n",
       "      <th>Lattitude</th>\n",
       "      <th>Longtitude</th>\n",
       "      <th>Regionname</th>\n",
       "      <th>Propertycount</th>\n",
       "    </tr>\n",
       "  </thead>\n",
       "  <tbody>\n",
       "    <tr>\n",
       "      <th>0</th>\n",
       "      <td>Abbotsford</td>\n",
       "      <td>68 Studley St</td>\n",
       "      <td>2</td>\n",
       "      <td>h</td>\n",
       "      <td>NaN</td>\n",
       "      <td>SS</td>\n",
       "      <td>Jellis</td>\n",
       "      <td>3/09/2016</td>\n",
       "      <td>2.5</td>\n",
       "      <td>3067.0</td>\n",
       "      <td>...</td>\n",
       "      <td>1.0</td>\n",
       "      <td>1.0</td>\n",
       "      <td>126.0</td>\n",
       "      <td>NaN</td>\n",
       "      <td>NaN</td>\n",
       "      <td>Yarra City Council</td>\n",
       "      <td>-37.8014</td>\n",
       "      <td>144.9958</td>\n",
       "      <td>Northern Metropolitan</td>\n",
       "      <td>4019.0</td>\n",
       "    </tr>\n",
       "    <tr>\n",
       "      <th>1</th>\n",
       "      <td>Abbotsford</td>\n",
       "      <td>85 Turner St</td>\n",
       "      <td>2</td>\n",
       "      <td>h</td>\n",
       "      <td>1480000.0</td>\n",
       "      <td>S</td>\n",
       "      <td>Biggin</td>\n",
       "      <td>3/12/2016</td>\n",
       "      <td>2.5</td>\n",
       "      <td>3067.0</td>\n",
       "      <td>...</td>\n",
       "      <td>1.0</td>\n",
       "      <td>1.0</td>\n",
       "      <td>202.0</td>\n",
       "      <td>NaN</td>\n",
       "      <td>NaN</td>\n",
       "      <td>Yarra City Council</td>\n",
       "      <td>-37.7996</td>\n",
       "      <td>144.9984</td>\n",
       "      <td>Northern Metropolitan</td>\n",
       "      <td>4019.0</td>\n",
       "    </tr>\n",
       "    <tr>\n",
       "      <th>2</th>\n",
       "      <td>Abbotsford</td>\n",
       "      <td>25 Bloomburg St</td>\n",
       "      <td>2</td>\n",
       "      <td>h</td>\n",
       "      <td>1035000.0</td>\n",
       "      <td>S</td>\n",
       "      <td>Biggin</td>\n",
       "      <td>4/02/2016</td>\n",
       "      <td>2.5</td>\n",
       "      <td>3067.0</td>\n",
       "      <td>...</td>\n",
       "      <td>1.0</td>\n",
       "      <td>0.0</td>\n",
       "      <td>156.0</td>\n",
       "      <td>79.0</td>\n",
       "      <td>1900.0</td>\n",
       "      <td>Yarra City Council</td>\n",
       "      <td>-37.8079</td>\n",
       "      <td>144.9934</td>\n",
       "      <td>Northern Metropolitan</td>\n",
       "      <td>4019.0</td>\n",
       "    </tr>\n",
       "  </tbody>\n",
       "</table>\n",
       "<p>3 rows × 21 columns</p>\n",
       "</div>"
      ],
      "text/plain": [
       "       Suburb          Address  Rooms Type      Price Method SellerG  \\\n",
       "0  Abbotsford    68 Studley St      2    h        NaN     SS  Jellis   \n",
       "1  Abbotsford     85 Turner St      2    h  1480000.0      S  Biggin   \n",
       "2  Abbotsford  25 Bloomburg St      2    h  1035000.0      S  Biggin   \n",
       "\n",
       "        Date  Distance  Postcode      ...       Bathroom  Car  Landsize  \\\n",
       "0  3/09/2016       2.5    3067.0      ...            1.0  1.0     126.0   \n",
       "1  3/12/2016       2.5    3067.0      ...            1.0  1.0     202.0   \n",
       "2  4/02/2016       2.5    3067.0      ...            1.0  0.0     156.0   \n",
       "\n",
       "   BuildingArea  YearBuilt         CouncilArea Lattitude  Longtitude  \\\n",
       "0           NaN        NaN  Yarra City Council  -37.8014    144.9958   \n",
       "1           NaN        NaN  Yarra City Council  -37.7996    144.9984   \n",
       "2          79.0     1900.0  Yarra City Council  -37.8079    144.9934   \n",
       "\n",
       "              Regionname Propertycount  \n",
       "0  Northern Metropolitan        4019.0  \n",
       "1  Northern Metropolitan        4019.0  \n",
       "2  Northern Metropolitan        4019.0  \n",
       "\n",
       "[3 rows x 21 columns]"
      ]
     },
     "execution_count": 2,
     "metadata": {},
     "output_type": "execute_result"
    }
   ],
   "source": [
    "df=pd.read_csv(\"../Melbourne_housing_FULL.csv\")\n",
    "df.head(n=3)"
   ]
  },
  {
   "cell_type": "markdown",
   "metadata": {},
   "source": [
    "### 2.2. Data cleaning and feature selection (human approach)\n",
    "\n",
    "- We require info about the prices and other features, so we'll drop missing values \n",
    "- We'll drop some variables that are not significant for the current analysis "
   ]
  },
  {
   "cell_type": "code",
   "execution_count": 3,
   "metadata": {},
   "outputs": [],
   "source": [
    "df = df.dropna()\n",
    "df = df.drop(['Date','Address','Postcode','SellerG','Lattitude','Longtitude', 'CouncilArea', 'Method'\n",
    "             ], axis = 1)"
   ]
  },
  {
   "cell_type": "markdown",
   "metadata": {},
   "source": [
    "As we have two categorical variable for geographical location, we'd like to leave one which will give our model interpretability and run faster."
   ]
  },
  {
   "cell_type": "code",
   "execution_count": 4,
   "metadata": {},
   "outputs": [
    {
     "name": "stdout",
     "output_type": "stream",
     "text": [
      "count          8887\n",
      "unique          315\n",
      "top       Reservoir\n",
      "freq            194\n",
      "Name: Suburb, dtype: object\n",
      "\n",
      "\n",
      "count                      8887\n",
      "unique                        8\n",
      "top       Southern Metropolitan\n",
      "freq                       2707\n",
      "Name: Regionname, dtype: object\n"
     ]
    }
   ],
   "source": [
    "print(df.Suburb.describe())\n",
    "print('\\n')\n",
    "print(df.Regionname.describe())"
   ]
  },
  {
   "cell_type": "markdown",
   "metadata": {},
   "source": [
    "We'll choose the Regionname (has only 8 categories vs 300+ in Suburb) as it's more scaled  for the human analysis and the model will be running smoother."
   ]
  },
  {
   "cell_type": "code",
   "execution_count": 5,
   "metadata": {
    "collapsed": true
   },
   "outputs": [],
   "source": [
    "df = df.drop('Suburb', axis = 1)\n",
    "\n",
    "# to avoid trap - drop_first = true to drop one of them\n",
    "df_dum = pd.get_dummies(df)"
   ]
  },
  {
   "cell_type": "code",
   "execution_count": 6,
   "metadata": {
    "collapsed": true
   },
   "outputs": [],
   "source": [
    "X = df_dum.drop('Price', axis = 1)\n",
    "Y = df_dum['Price']"
   ]
  },
  {
   "cell_type": "markdown",
   "metadata": {},
   "source": [
    "We'll first run the heatmap of the correlation among variables in the dataset to see what's directly correlated with the price. "
   ]
  },
  {
   "cell_type": "code",
   "execution_count": 7,
   "metadata": {},
   "outputs": [
    {
     "data": {
      "image/png": "[encoded data removed]",
      "text/plain": [
       "<matplotlib.figure.Figure at 0x117ef4c88>"
      ]
     },
     "metadata": {},
     "output_type": "display_data"
    }
   ],
   "source": [
    "sns.heatmap(df.corr());"
   ]
  },
  {
   "cell_type": "markdown",
   "metadata": {},
   "source": [
    "Only from the correlation matrix we see that the Price is mostly correlated with Rooms, Bedroom2, Bathroom, Car. But let's run another models to see if we can dig in for something interesting. \n",
    "\n",
    "Some features might be highly correlated, let's see what else can we do to make our model statistically compliant: \n",
    "- We have indeed a few very well correlated features between themselves, eg Rooms and Bedroom2 are showing pretty much the same thing. \n",
    "- The similar relation exist between Rooms and Bathroom or Building area. \n",
    "- We'll leave Bathroom and Building size because we're interested to see if the model will signal us something about them eg one of them is not significant."
   ]
  },
  {
   "cell_type": "markdown",
   "metadata": {},
   "source": [
    "Since we first need to understand which features are significant for our modeling, we'll use statsmodel package for the significance and also try tune in our model better usuing LASSO regression."
   ]
  },
  {
   "cell_type": "code",
   "execution_count": 8,
   "metadata": {},
   "outputs": [
    {
     "data": {
      "text/plain": [
       "19"
      ]
     },
     "execution_count": 8,
     "metadata": {},
     "output_type": "execute_result"
    }
   ],
   "source": [
    "X = X.drop(['Bedroom2'], axis = 1)\n",
    "len(X.columns)"
   ]
  },
  {
   "cell_type": "markdown",
   "metadata": {},
   "source": [
    "We have 8887 observations and 19 features to build our regression model."
   ]
  },
  {
   "cell_type": "code",
   "execution_count": 9,
   "metadata": {},
   "outputs": [
    {
     "data": {
      "image/png": "[encoded data removed]",
      "text/plain": [
       "<matplotlib.figure.Figure at 0x117d5fa20>"
      ]
     },
     "metadata": {},
     "output_type": "display_data"
    }
   ],
   "source": [
    "plt.figure(figsize=(20,7))\n",
    "plt.subplot(1, 2, 1) \n",
    "Y.hist(bins = 70) \n",
    "plt.subplot(1, 2, 2) \n",
    "Y.plot.box()\n",
    "plt.show()"
   ]
  },
  {
   "cell_type": "markdown",
   "metadata": {},
   "source": [
    "The histogram looks like log normal or Gamma distribution (which we'll try to consider with the Gamma dist model further)"
   ]
  },
  {
   "cell_type": "markdown",
   "metadata": {},
   "source": [
    "## 3. Training models and best model selection (together with feature selection)"
   ]
  },
  {
   "cell_type": "markdown",
   "metadata": {},
   "source": [
    "### 3.1. Statsmodels: Simple Linear Model "
   ]
  },
  {
   "cell_type": "code",
   "execution_count": 10,
   "metadata": {},
   "outputs": [
    {
     "name": "stdout",
     "output_type": "stream",
     "text": [
      "R² for the model:\n",
      "0.644454722488\n",
      "\n",
      "Parameter estimates for the model with few features:\n"
     ]
    },
    {
     "data": {
      "text/html": [
       "<table class=\"simpletable\">\n",
       "<caption>OLS Regression Results</caption>\n",
       "<tr>\n",
       "  <th>Dep. Variable:</th>          <td>Price</td>      <th>  R-squared:         </th>  <td>   0.644</td>  \n",
       "</tr>\n",
       "<tr>\n",
       "  <th>Model:</th>                   <td>OLS</td>       <th>  Adj. R-squared:    </th>  <td>   0.644</td>  \n",
       "</tr>\n",
       "<tr>\n",
       "  <th>Method:</th>             <td>Least Squares</td>  <th>  F-statistic:       </th>  <td>   945.6</td>  \n",
       "</tr>\n",
       "<tr>\n",
       "  <th>Date:</th>             <td>Sat, 02 Jun 2018</td> <th>  Prob (F-statistic):</th>   <td>  0.00</td>   \n",
       "</tr>\n",
       "<tr>\n",
       "  <th>Time:</th>                 <td>13:24:43</td>     <th>  Log-Likelihood:    </th> <td>-1.2736e+05</td>\n",
       "</tr>\n",
       "<tr>\n",
       "  <th>No. Observations:</th>      <td>  8887</td>      <th>  AIC:               </th>  <td>2.548e+05</td> \n",
       "</tr>\n",
       "<tr>\n",
       "  <th>Df Residuals:</th>          <td>  8869</td>      <th>  BIC:               </th>  <td>2.549e+05</td> \n",
       "</tr>\n",
       "<tr>\n",
       "  <th>Df Model:</th>              <td>    17</td>      <th>                     </th>      <td> </td>     \n",
       "</tr>\n",
       "<tr>\n",
       "  <th>Covariance Type:</th>      <td>nonrobust</td>    <th>                     </th>      <td> </td>     \n",
       "</tr>\n",
       "</table>\n",
       "<table class=\"simpletable\">\n",
       "<tr>\n",
       "                    <td></td>                       <th>coef</th>     <th>std err</th>      <th>t</th>      <th>P>|t|</th>  <th>[0.025</th>    <th>0.975]</th>  \n",
       "</tr>\n",
       "<tr>\n",
       "  <th>Rooms</th>                                 <td> 1.176e+05</td> <td> 7273.928</td> <td>   16.171</td> <td> 0.000</td> <td> 1.03e+05</td> <td> 1.32e+05</td>\n",
       "</tr>\n",
       "<tr>\n",
       "  <th>Distance</th>                              <td>-3.893e+04</td> <td>  969.391</td> <td>  -40.164</td> <td> 0.000</td> <td>-4.08e+04</td> <td> -3.7e+04</td>\n",
       "</tr>\n",
       "<tr>\n",
       "  <th>Bathroom</th>                              <td>  1.82e+05</td> <td> 8406.976</td> <td>   21.651</td> <td> 0.000</td> <td> 1.66e+05</td> <td> 1.99e+05</td>\n",
       "</tr>\n",
       "<tr>\n",
       "  <th>Car</th>                                   <td> 4.779e+04</td> <td> 4985.251</td> <td>    9.585</td> <td> 0.000</td> <td>  3.8e+04</td> <td> 5.76e+04</td>\n",
       "</tr>\n",
       "<tr>\n",
       "  <th>Landsize</th>                              <td>   25.1027</td> <td>    4.171</td> <td>    6.019</td> <td> 0.000</td> <td>   16.927</td> <td>   33.278</td>\n",
       "</tr>\n",
       "<tr>\n",
       "  <th>BuildingArea</th>                          <td> 1687.1523</td> <td>   65.315</td> <td>   25.831</td> <td> 0.000</td> <td> 1559.120</td> <td> 1815.184</td>\n",
       "</tr>\n",
       "<tr>\n",
       "  <th>YearBuilt</th>                             <td>-3223.1147</td> <td>  147.384</td> <td>  -21.869</td> <td> 0.000</td> <td>-3512.022</td> <td>-2934.208</td>\n",
       "</tr>\n",
       "<tr>\n",
       "  <th>Propertycount</th>                         <td>    1.7584</td> <td>    1.044</td> <td>    1.685</td> <td> 0.092</td> <td>   -0.288</td> <td>    3.804</td>\n",
       "</tr>\n",
       "<tr>\n",
       "  <th>Type_h</th>                                <td> 5.154e+06</td> <td> 2.03e+05</td> <td>   25.376</td> <td> 0.000</td> <td> 4.76e+06</td> <td> 5.55e+06</td>\n",
       "</tr>\n",
       "<tr>\n",
       "  <th>Type_t</th>                                <td> 4.985e+06</td> <td>  2.1e+05</td> <td>   23.737</td> <td> 0.000</td> <td> 4.57e+06</td> <td>  5.4e+06</td>\n",
       "</tr>\n",
       "<tr>\n",
       "  <th>Type_u</th>                                <td> 4.775e+06</td> <td> 2.09e+05</td> <td>   22.867</td> <td> 0.000</td> <td> 4.37e+06</td> <td> 5.18e+06</td>\n",
       "</tr>\n",
       "<tr>\n",
       "  <th>Regionname_Eastern Metropolitan</th>       <td> 1.814e+06</td> <td> 8.06e+04</td> <td>   22.523</td> <td> 0.000</td> <td> 1.66e+06</td> <td> 1.97e+06</td>\n",
       "</tr>\n",
       "<tr>\n",
       "  <th>Regionname_Eastern Victoria</th>           <td> 2.139e+06</td> <td> 9.21e+04</td> <td>   23.232</td> <td> 0.000</td> <td> 1.96e+06</td> <td> 2.32e+06</td>\n",
       "</tr>\n",
       "<tr>\n",
       "  <th>Regionname_Northern Metropolitan</th>      <td> 1.577e+06</td> <td> 8.11e+04</td> <td>   19.445</td> <td> 0.000</td> <td> 1.42e+06</td> <td> 1.74e+06</td>\n",
       "</tr>\n",
       "<tr>\n",
       "  <th>Regionname_Northern Victoria</th>          <td> 1.941e+06</td> <td> 9.11e+04</td> <td>   21.308</td> <td> 0.000</td> <td> 1.76e+06</td> <td> 2.12e+06</td>\n",
       "</tr>\n",
       "<tr>\n",
       "  <th>Regionname_South-Eastern Metropolitan</th> <td>  2.03e+06</td> <td> 7.96e+04</td> <td>   25.501</td> <td> 0.000</td> <td> 1.87e+06</td> <td> 2.19e+06</td>\n",
       "</tr>\n",
       "<tr>\n",
       "  <th>Regionname_Southern Metropolitan</th>      <td> 2.072e+06</td> <td> 7.92e+04</td> <td>   26.152</td> <td> 0.000</td> <td> 1.92e+06</td> <td> 2.23e+06</td>\n",
       "</tr>\n",
       "<tr>\n",
       "  <th>Regionname_Western Metropolitan</th>       <td> 1.521e+06</td> <td> 8.14e+04</td> <td>   18.672</td> <td> 0.000</td> <td> 1.36e+06</td> <td> 1.68e+06</td>\n",
       "</tr>\n",
       "<tr>\n",
       "  <th>Regionname_Western Victoria</th>           <td> 1.819e+06</td> <td> 9.56e+04</td> <td>   19.029</td> <td> 0.000</td> <td> 1.63e+06</td> <td> 2.01e+06</td>\n",
       "</tr>\n",
       "</table>\n",
       "<table class=\"simpletable\">\n",
       "<tr>\n",
       "  <th>Omnibus:</th>       <td>6445.697</td> <th>  Durbin-Watson:     </th>  <td>   1.717</td> \n",
       "</tr>\n",
       "<tr>\n",
       "  <th>Prob(Omnibus):</th>  <td> 0.000</td>  <th>  Jarque-Bera (JB):  </th> <td>449477.413</td>\n",
       "</tr>\n",
       "<tr>\n",
       "  <th>Skew:</th>           <td> 2.835</td>  <th>  Prob(JB):          </th>  <td>    0.00</td> \n",
       "</tr>\n",
       "<tr>\n",
       "  <th>Kurtosis:</th>       <td>37.376</td>  <th>  Cond. No.          </th>  <td>1.11e+20</td> \n",
       "</tr>\n",
       "</table>"
      ],
      "text/plain": [
       "<class 'statsmodels.iolib.summary.Summary'>\n",
       "\"\"\"\n",
       "                            OLS Regression Results                            \n",
       "==============================================================================\n",
       "Dep. Variable:                  Price   R-squared:                       0.644\n",
       "Model:                            OLS   Adj. R-squared:                  0.644\n",
       "Method:                 Least Squares   F-statistic:                     945.6\n",
       "Date:                Sat, 02 Jun 2018   Prob (F-statistic):               0.00\n",
       "Time:                        13:24:43   Log-Likelihood:            -1.2736e+05\n",
       "No. Observations:                8887   AIC:                         2.548e+05\n",
       "Df Residuals:                    8869   BIC:                         2.549e+05\n",
       "Df Model:                          17                                         \n",
       "Covariance Type:            nonrobust                                         \n",
       "=========================================================================================================\n",
       "                                            coef    std err          t      P>|t|      [0.025      0.975]\n",
       "---------------------------------------------------------------------------------------------------------\n",
       "Rooms                                  1.176e+05   7273.928     16.171      0.000    1.03e+05    1.32e+05\n",
       "Distance                              -3.893e+04    969.391    -40.164      0.000   -4.08e+04    -3.7e+04\n",
       "Bathroom                                1.82e+05   8406.976     21.651      0.000    1.66e+05    1.99e+05\n",
       "Car                                    4.779e+04   4985.251      9.585      0.000     3.8e+04    5.76e+04\n",
       "Landsize                                 25.1027      4.171      6.019      0.000      16.927      33.278\n",
       "BuildingArea                           1687.1523     65.315     25.831      0.000    1559.120    1815.184\n",
       "YearBuilt                             -3223.1147    147.384    -21.869      0.000   -3512.022   -2934.208\n",
       "Propertycount                             1.7584      1.044      1.685      0.092      -0.288       3.804\n",
       "Type_h                                 5.154e+06   2.03e+05     25.376      0.000    4.76e+06    5.55e+06\n",
       "Type_t                                 4.985e+06    2.1e+05     23.737      0.000    4.57e+06     5.4e+06\n",
       "Type_u                                 4.775e+06   2.09e+05     22.867      0.000    4.37e+06    5.18e+06\n",
       "Regionname_Eastern Metropolitan        1.814e+06   8.06e+04     22.523      0.000    1.66e+06    1.97e+06\n",
       "Regionname_Eastern Victoria            2.139e+06   9.21e+04     23.232      0.000    1.96e+06    2.32e+06\n",
       "Regionname_Northern Metropolitan       1.577e+06   8.11e+04     19.445      0.000    1.42e+06    1.74e+06\n",
       "Regionname_Northern Victoria           1.941e+06   9.11e+04     21.308      0.000    1.76e+06    2.12e+06\n",
       "Regionname_South-Eastern Metropolitan   2.03e+06   7.96e+04     25.501      0.000    1.87e+06    2.19e+06\n",
       "Regionname_Southern Metropolitan       2.072e+06   7.92e+04     26.152      0.000    1.92e+06    2.23e+06\n",
       "Regionname_Western Metropolitan        1.521e+06   8.14e+04     18.672      0.000    1.36e+06    1.68e+06\n",
       "Regionname_Western Victoria            1.819e+06   9.56e+04     19.029      0.000    1.63e+06    2.01e+06\n",
       "==============================================================================\n",
       "Omnibus:                     6445.697   Durbin-Watson:                   1.717\n",
       "Prob(Omnibus):                  0.000   Jarque-Bera (JB):           449477.413\n",
       "Skew:                           2.835   Prob(JB):                         0.00\n",
       "Kurtosis:                      37.376   Cond. No.                     1.11e+20\n",
       "==============================================================================\n",
       "\n",
       "Warnings:\n",
       "[1] Standard Errors assume that the covariance matrix of the errors is correctly specified.\n",
       "[2] The smallest eigenvalue is 5.67e-29. This might indicate that there are\n",
       "strong multicollinearity problems or that the design matrix is singular.\n",
       "\"\"\""
      ]
     },
     "execution_count": 10,
     "metadata": {},
     "output_type": "execute_result"
    }
   ],
   "source": [
    "pd.options.display.float_format = '{:,.0f}'.format\n",
    "\n",
    "lm = sm.OLS(Y, X)\n",
    "lm = lm.fit()\n",
    "print('R² for the model:')\n",
    "print(lm.rsquared)\n",
    "print('\\nParameter estimates for the model with few features:') \n",
    "lm.summary()"
   ]
  },
  {
   "cell_type": "markdown",
   "metadata": {},
   "source": [
    "#### 3.1.1 Residual analysis and outlier detection"
   ]
  },
  {
   "cell_type": "code",
   "execution_count": 11,
   "metadata": {},
   "outputs": [
    {
     "data": {
      "image/png": "[encoded data removed]",
      "text/plain": [
       "<matplotlib.figure.Figure at 0x10a544f98>"
      ]
     },
     "metadata": {},
     "output_type": "display_data"
    }
   ],
   "source": [
    "plt.scatter(lm.fittedvalues, lm.resid)\n",
    "plt.xlabel('Predicted')\n",
    "plt.ylabel('Residual')\n",
    "plt.axhline(y=0)\n",
    "plt.title('Residual vs. Predicted')\n",
    "plt.show()"
   ]
  },
  {
   "cell_type": "markdown",
   "metadata": {},
   "source": [
    "There two residuals I'm worried about: at the far lower right corner and the upper left. We'll research about these two observations separately."
   ]
  },
  {
   "cell_type": "code",
   "execution_count": 12,
   "metadata": {
    "collapsed": true,
    "scrolled": true
   },
   "outputs": [],
   "source": [
    "# how to identify which residual / predicted on the graph?"
   ]
  },
  {
   "cell_type": "code",
   "execution_count": 13,
   "metadata": {},
   "outputs": [
    {
     "name": "stdout",
     "output_type": "stream",
     "text": [
      "Maximum positive residual (upper left courner):\n",
      "19583   8,053,751\n",
      "dtype: float64\n",
      "\n",
      "Maximum negative Residual (lower right courner):\n",
      "2704   -4,553,707\n",
      "dtype: float64\n"
     ]
    }
   ],
   "source": [
    "print('Maximum positive residual (upper left courner):') \n",
    "print(lm.resid.nlargest(1))\n",
    "\n",
    "print('\\nMaximum negative Residual (lower right courner):') \n",
    "print(lm.resid.nsmallest(1))"
   ]
  },
  {
   "cell_type": "code",
   "execution_count": 14,
   "metadata": {},
   "outputs": [
    {
     "name": "stdout",
     "output_type": "stream",
     "text": [
      "Potential outlier (Maximum positive residual):\n",
      "Rooms                                     3\n",
      "Type                                      h\n",
      "Price                             9,000,000\n",
      "Distance                                 19\n",
      "Bedroom2                                  3\n",
      "Bathroom                                  1\n",
      "Car                                       1\n",
      "Landsize                                744\n",
      "BuildingArea                            117\n",
      "YearBuilt                             1,960\n",
      "Regionname       South-Eastern Metropolitan\n",
      "Propertycount                         7,113\n",
      "Name: 19583, dtype: object\n",
      "\n",
      "Potential outlier (Maximum negative residual):\n",
      "Rooms                                5\n",
      "Type                                 h\n",
      "Price                        2,608,000\n",
      "Distance                             8\n",
      "Bedroom2                             5\n",
      "Bathroom                             2\n",
      "Car                                  4\n",
      "Landsize                           730\n",
      "BuildingArea                     3,112\n",
      "YearBuilt                        1,920\n",
      "Regionname       Southern Metropolitan\n",
      "Propertycount                    8,920\n",
      "Name: 2704, dtype: object\n"
     ]
    }
   ],
   "source": [
    "print('Potential outlier (Maximum positive residual):') \n",
    "print(df.loc[19583,:])\n",
    "\n",
    "print('\\nPotential outlier (Maximum negative residual):') \n",
    "print(df.loc[2704,:])"
   ]
  },
  {
   "cell_type": "code",
   "execution_count": 15,
   "metadata": {},
   "outputs": [
    {
     "data": {
      "text/html": [
       "<div>\n",
       "<style>\n",
       "    .dataframe thead tr:only-child th {\n",
       "        text-align: right;\n",
       "    }\n",
       "\n",
       "    .dataframe thead th {\n",
       "        text-align: left;\n",
       "    }\n",
       "\n",
       "    .dataframe tbody tr th {\n",
       "        vertical-align: top;\n",
       "    }\n",
       "</style>\n",
       "<table border=\"1\" class=\"dataframe\">\n",
       "  <thead>\n",
       "    <tr style=\"text-align: right;\">\n",
       "      <th></th>\n",
       "      <th>Rooms</th>\n",
       "      <th>Price</th>\n",
       "      <th>Distance</th>\n",
       "      <th>Bedroom2</th>\n",
       "      <th>Bathroom</th>\n",
       "      <th>Car</th>\n",
       "      <th>Landsize</th>\n",
       "      <th>BuildingArea</th>\n",
       "      <th>YearBuilt</th>\n",
       "      <th>Propertycount</th>\n",
       "    </tr>\n",
       "  </thead>\n",
       "  <tbody>\n",
       "    <tr>\n",
       "      <th>count</th>\n",
       "      <td>8,887</td>\n",
       "      <td>8,887</td>\n",
       "      <td>8,887</td>\n",
       "      <td>8,887</td>\n",
       "      <td>8,887</td>\n",
       "      <td>8,887</td>\n",
       "      <td>8,887</td>\n",
       "      <td>8,887</td>\n",
       "      <td>8,887</td>\n",
       "      <td>8,887</td>\n",
       "    </tr>\n",
       "    <tr>\n",
       "      <th>mean</th>\n",
       "      <td>3</td>\n",
       "      <td>1,092,902</td>\n",
       "      <td>11</td>\n",
       "      <td>3</td>\n",
       "      <td>2</td>\n",
       "      <td>2</td>\n",
       "      <td>523</td>\n",
       "      <td>149</td>\n",
       "      <td>1,966</td>\n",
       "      <td>7,476</td>\n",
       "    </tr>\n",
       "    <tr>\n",
       "      <th>std</th>\n",
       "      <td>1</td>\n",
       "      <td>679,382</td>\n",
       "      <td>7</td>\n",
       "      <td>1</td>\n",
       "      <td>1</td>\n",
       "      <td>1</td>\n",
       "      <td>1,061</td>\n",
       "      <td>88</td>\n",
       "      <td>37</td>\n",
       "      <td>4,375</td>\n",
       "    </tr>\n",
       "    <tr>\n",
       "      <th>min</th>\n",
       "      <td>1</td>\n",
       "      <td>131,000</td>\n",
       "      <td>0</td>\n",
       "      <td>0</td>\n",
       "      <td>1</td>\n",
       "      <td>0</td>\n",
       "      <td>0</td>\n",
       "      <td>0</td>\n",
       "      <td>1,196</td>\n",
       "      <td>249</td>\n",
       "    </tr>\n",
       "    <tr>\n",
       "      <th>25%</th>\n",
       "      <td>2</td>\n",
       "      <td>641,000</td>\n",
       "      <td>6</td>\n",
       "      <td>2</td>\n",
       "      <td>1</td>\n",
       "      <td>1</td>\n",
       "      <td>212</td>\n",
       "      <td>100</td>\n",
       "      <td>1,945</td>\n",
       "      <td>4,382</td>\n",
       "    </tr>\n",
       "    <tr>\n",
       "      <th>50%</th>\n",
       "      <td>3</td>\n",
       "      <td>900,000</td>\n",
       "      <td>10</td>\n",
       "      <td>3</td>\n",
       "      <td>2</td>\n",
       "      <td>2</td>\n",
       "      <td>478</td>\n",
       "      <td>132</td>\n",
       "      <td>1,970</td>\n",
       "      <td>6,567</td>\n",
       "    </tr>\n",
       "    <tr>\n",
       "      <th>75%</th>\n",
       "      <td>4</td>\n",
       "      <td>1,345,000</td>\n",
       "      <td>14</td>\n",
       "      <td>4</td>\n",
       "      <td>2</td>\n",
       "      <td>2</td>\n",
       "      <td>652</td>\n",
       "      <td>180</td>\n",
       "      <td>2,000</td>\n",
       "      <td>10,331</td>\n",
       "    </tr>\n",
       "    <tr>\n",
       "      <th>max</th>\n",
       "      <td>12</td>\n",
       "      <td>9,000,000</td>\n",
       "      <td>47</td>\n",
       "      <td>12</td>\n",
       "      <td>9</td>\n",
       "      <td>10</td>\n",
       "      <td>42,800</td>\n",
       "      <td>3,112</td>\n",
       "      <td>2,019</td>\n",
       "      <td>21,650</td>\n",
       "    </tr>\n",
       "  </tbody>\n",
       "</table>\n",
       "</div>"
      ],
      "text/plain": [
       "       Rooms     Price  Distance  Bedroom2  Bathroom   Car  Landsize  \\\n",
       "count  8,887     8,887     8,887     8,887     8,887 8,887     8,887   \n",
       "mean       3 1,092,902        11         3         2     2       523   \n",
       "std        1   679,382         7         1         1     1     1,061   \n",
       "min        1   131,000         0         0         1     0         0   \n",
       "25%        2   641,000         6         2         1     1       212   \n",
       "50%        3   900,000        10         3         2     2       478   \n",
       "75%        4 1,345,000        14         4         2     2       652   \n",
       "max       12 9,000,000        47        12         9    10    42,800   \n",
       "\n",
       "       BuildingArea  YearBuilt  Propertycount  \n",
       "count         8,887      8,887          8,887  \n",
       "mean            149      1,966          7,476  \n",
       "std              88         37          4,375  \n",
       "min               0      1,196            249  \n",
       "25%             100      1,945          4,382  \n",
       "50%             132      1,970          6,567  \n",
       "75%             180      2,000         10,331  \n",
       "max           3,112      2,019         21,650  "
      ]
     },
     "execution_count": 15,
     "metadata": {},
     "output_type": "execute_result"
    }
   ],
   "source": [
    "# How do I test if it's out of range?\n",
    "df.describe()"
   ]
  },
  {
   "cell_type": "markdown",
   "metadata": {},
   "source": [
    "- 2704th observation definitely looks odd: \n",
    "\n",
    "It's a house with 5 rooms and incredibly huge building size (3,112), which is the maximum building size in the data set. The building size is not even close to 75 percentile, so we can classify it as an outlier. In a real business case analysis it's worth investigating how this number occured and why the price was so low for this house in case the data is correct. \n",
    "\n",
    "- 19583rd observation looks odd too: \n",
    "\n",
    "From the available data it's a very ordinary house with 3 rooms, 1 not big garage, 1 bathroom, quite far from the city center. All the features of this house are lower the median for each of the features. The price on the other side, is above the sky. We'll classify it as the outlier as we cannot explain such high price from ou\n"
   ]
  },
  {
   "cell_type": "code",
   "execution_count": 16,
   "metadata": {
    "collapsed": true
   },
   "outputs": [],
   "source": [
    "df_dum = df_dum.drop([2704, 19583], axis = 0)\n",
    "df = df.drop([2704, 19583], axis = 0)"
   ]
  },
  {
   "cell_type": "markdown",
   "metadata": {},
   "source": [
    "We also see that there're some extreme values in variables Landsize (42,800\t) and YearBuilt (1,196), we'll see if removing them increases our explanatory power. As real estate agents we'll ask somebody specialised at the mansions to estimate prices for houses with enormous land size."
   ]
  },
  {
   "cell_type": "code",
   "execution_count": 17,
   "metadata": {},
   "outputs": [
    {
     "name": "stdout",
     "output_type": "stream",
     "text": [
      "34055   42,800\n",
      "28694   40,469\n",
      "15109   37,000\n",
      "13462   21,715\n",
      "24413   21,600\n",
      "Name: Landsize, dtype: float64\n",
      "\n",
      "\n",
      "16424   1,196\n",
      "3533    1,830\n",
      "Name: YearBuilt, dtype: float64\n"
     ]
    }
   ],
   "source": [
    "print(df_dum.Landsize.nlargest(5))\n",
    "print('\\n')\n",
    "print(df_dum.YearBuilt.nsmallest(2))"
   ]
  },
  {
   "cell_type": "code",
   "execution_count": 18,
   "metadata": {
    "collapsed": true
   },
   "outputs": [],
   "source": [
    "df_dum = df_dum.drop([34055, 16424, 28694, 15109], axis = 0)\n",
    "df = df.drop([34055, 16424, 28694, 15109], axis = 0)"
   ]
  },
  {
   "cell_type": "code",
   "execution_count": 19,
   "metadata": {},
   "outputs": [
    {
     "data": {
      "text/html": [
       "<div>\n",
       "<style>\n",
       "    .dataframe thead tr:only-child th {\n",
       "        text-align: right;\n",
       "    }\n",
       "\n",
       "    .dataframe thead th {\n",
       "        text-align: left;\n",
       "    }\n",
       "\n",
       "    .dataframe tbody tr th {\n",
       "        vertical-align: top;\n",
       "    }\n",
       "</style>\n",
       "<table border=\"1\" class=\"dataframe\">\n",
       "  <thead>\n",
       "    <tr style=\"text-align: right;\">\n",
       "      <th></th>\n",
       "      <th>Rooms</th>\n",
       "      <th>Price</th>\n",
       "      <th>Distance</th>\n",
       "      <th>Bedroom2</th>\n",
       "      <th>Bathroom</th>\n",
       "      <th>Car</th>\n",
       "      <th>Landsize</th>\n",
       "      <th>BuildingArea</th>\n",
       "      <th>YearBuilt</th>\n",
       "      <th>Propertycount</th>\n",
       "    </tr>\n",
       "  </thead>\n",
       "  <tbody>\n",
       "    <tr>\n",
       "      <th>count</th>\n",
       "      <td>8,881</td>\n",
       "      <td>8,881</td>\n",
       "      <td>8,881</td>\n",
       "      <td>8,881</td>\n",
       "      <td>8,881</td>\n",
       "      <td>8,881</td>\n",
       "      <td>8,881</td>\n",
       "      <td>8,881</td>\n",
       "      <td>8,881</td>\n",
       "      <td>8,881</td>\n",
       "    </tr>\n",
       "    <tr>\n",
       "      <th>mean</th>\n",
       "      <td>3</td>\n",
       "      <td>1,091,883</td>\n",
       "      <td>11</td>\n",
       "      <td>3</td>\n",
       "      <td>2</td>\n",
       "      <td>2</td>\n",
       "      <td>510</td>\n",
       "      <td>149</td>\n",
       "      <td>1,966</td>\n",
       "      <td>7,477</td>\n",
       "    </tr>\n",
       "    <tr>\n",
       "      <th>std</th>\n",
       "      <td>1</td>\n",
       "      <td>674,187</td>\n",
       "      <td>7</td>\n",
       "      <td>1</td>\n",
       "      <td>1</td>\n",
       "      <td>1</td>\n",
       "      <td>772</td>\n",
       "      <td>82</td>\n",
       "      <td>36</td>\n",
       "      <td>4,375</td>\n",
       "    </tr>\n",
       "    <tr>\n",
       "      <th>min</th>\n",
       "      <td>1</td>\n",
       "      <td>131,000</td>\n",
       "      <td>0</td>\n",
       "      <td>0</td>\n",
       "      <td>1</td>\n",
       "      <td>0</td>\n",
       "      <td>0</td>\n",
       "      <td>0</td>\n",
       "      <td>1,830</td>\n",
       "      <td>389</td>\n",
       "    </tr>\n",
       "    <tr>\n",
       "      <th>25%</th>\n",
       "      <td>2</td>\n",
       "      <td>641,000</td>\n",
       "      <td>6</td>\n",
       "      <td>2</td>\n",
       "      <td>1</td>\n",
       "      <td>1</td>\n",
       "      <td>212</td>\n",
       "      <td>100</td>\n",
       "      <td>1,945</td>\n",
       "      <td>4,385</td>\n",
       "    </tr>\n",
       "    <tr>\n",
       "      <th>50%</th>\n",
       "      <td>3</td>\n",
       "      <td>900,000</td>\n",
       "      <td>10</td>\n",
       "      <td>3</td>\n",
       "      <td>2</td>\n",
       "      <td>2</td>\n",
       "      <td>477</td>\n",
       "      <td>132</td>\n",
       "      <td>1,970</td>\n",
       "      <td>6,567</td>\n",
       "    </tr>\n",
       "    <tr>\n",
       "      <th>75%</th>\n",
       "      <td>4</td>\n",
       "      <td>1,345,000</td>\n",
       "      <td>14</td>\n",
       "      <td>4</td>\n",
       "      <td>2</td>\n",
       "      <td>2</td>\n",
       "      <td>652</td>\n",
       "      <td>180</td>\n",
       "      <td>2,000</td>\n",
       "      <td>10,331</td>\n",
       "    </tr>\n",
       "    <tr>\n",
       "      <th>max</th>\n",
       "      <td>12</td>\n",
       "      <td>8,000,000</td>\n",
       "      <td>47</td>\n",
       "      <td>12</td>\n",
       "      <td>9</td>\n",
       "      <td>10</td>\n",
       "      <td>21,715</td>\n",
       "      <td>1,561</td>\n",
       "      <td>2,019</td>\n",
       "      <td>21,650</td>\n",
       "    </tr>\n",
       "  </tbody>\n",
       "</table>\n",
       "</div>"
      ],
      "text/plain": [
       "       Rooms     Price  Distance  Bedroom2  Bathroom   Car  Landsize  \\\n",
       "count  8,881     8,881     8,881     8,881     8,881 8,881     8,881   \n",
       "mean       3 1,091,883        11         3         2     2       510   \n",
       "std        1   674,187         7         1         1     1       772   \n",
       "min        1   131,000         0         0         1     0         0   \n",
       "25%        2   641,000         6         2         1     1       212   \n",
       "50%        3   900,000        10         3         2     2       477   \n",
       "75%        4 1,345,000        14         4         2     2       652   \n",
       "max       12 8,000,000        47        12         9    10    21,715   \n",
       "\n",
       "       BuildingArea  YearBuilt  Propertycount  \n",
       "count         8,881      8,881          8,881  \n",
       "mean            149      1,966          7,477  \n",
       "std              82         36          4,375  \n",
       "min               0      1,830            389  \n",
       "25%             100      1,945          4,385  \n",
       "50%             132      1,970          6,567  \n",
       "75%             180      2,000         10,331  \n",
       "max           1,561      2,019         21,650  "
      ]
     },
     "execution_count": 19,
     "metadata": {},
     "output_type": "execute_result"
    }
   ],
   "source": [
    "df.describe()"
   ]
  },
  {
   "cell_type": "markdown",
   "metadata": {},
   "source": [
    "We'll also remove the Propertycount feature, as it's not statistically significant and we'll run the model again without the outliers. "
   ]
  },
  {
   "cell_type": "markdown",
   "metadata": {},
   "source": [
    "#### 3.1.2 Statsmodels: Simple Linear Model - Second Iteration"
   ]
  },
  {
   "cell_type": "code",
   "execution_count": 20,
   "metadata": {
    "collapsed": true
   },
   "outputs": [],
   "source": [
    "X = df_dum.drop(['Price','Bedroom2', 'Propertycount'], axis = 1)\n",
    "Y = df_dum['Price']"
   ]
  },
  {
   "cell_type": "code",
   "execution_count": 21,
   "metadata": {},
   "outputs": [
    {
     "name": "stdout",
     "output_type": "stream",
     "text": [
      "R² for the model:\n",
      "0.663096710478\n",
      "\n",
      "Parameter estimates for the model with few features:\n",
      "Rooms                                     102,968\n",
      "Distance                                  -37,645\n",
      "Bathroom                                  171,359\n",
      "Car                                        49,339\n",
      "Landsize                                       33\n",
      "BuildingArea                                2,125\n",
      "YearBuilt                                  -3,599\n",
      "Type_h                                  5,666,589\n",
      "Type_t                                  5,524,334\n",
      "Type_u                                  5,316,523\n",
      "Regionname_Eastern Metropolitan         2,019,757\n",
      "Regionname_Eastern Victoria             2,325,376\n",
      "Regionname_Northern Metropolitan        1,795,172\n",
      "Regionname_Northern Victoria            2,134,817\n",
      "Regionname_South-Eastern Metropolitan   2,206,068\n",
      "Regionname_Southern Metropolitan        2,275,348\n",
      "Regionname_Western Metropolitan         1,731,352\n",
      "Regionname_Western Victoria             2,019,556\n",
      "dtype: float64\n"
     ]
    }
   ],
   "source": [
    "lm = sm.OLS(Y, X)\n",
    "lm = lm.fit()\n",
    "print('R² for the model:')\n",
    "print(lm.rsquared)\n",
    "print('\\nParameter estimates for the model with few features:') \n",
    "print(lm.params)"
   ]
  },
  {
   "cell_type": "code",
   "execution_count": 22,
   "metadata": {},
   "outputs": [
    {
     "data": {
      "image/png": "[encoded data removed]",
      "text/plain": [
       "<matplotlib.figure.Figure at 0x10a4fd940>"
      ]
     },
     "metadata": {},
     "output_type": "display_data"
    }
   ],
   "source": [
    "plt.scatter(lm.fittedvalues, lm.resid)\n",
    "plt.xlabel('Predicted')\n",
    "plt.ylabel('Residual')\n",
    "plt.axhline(y=0)\n",
    "plt.title('Residual vs. Predicted')\n",
    "plt.show()"
   ]
  },
  {
   "cell_type": "code",
   "execution_count": 23,
   "metadata": {},
   "outputs": [
    {
     "name": "stdout",
     "output_type": "stream",
     "text": [
      "Average under/over estimation of our model:\n",
      "1.4138068393914767e-06\n",
      "\n",
      "What's the average error of the estimation:\n",
      "259750.62432840312\n"
     ]
    }
   ],
   "source": [
    "print('Average under/over estimation of our model:') \n",
    "print(lm.resid.mean())\n",
    "\n",
    "print(\"\\nWhat's the average error of the estimation:\") \n",
    "print(lm.resid.abs().mean())"
   ]
  },
  {
   "cell_type": "markdown",
   "metadata": {},
   "source": [
    "#### What can we say about our model? \n",
    "\n",
    "- It explains 66% of the variance in Price, which is fairly good prediction for a linear regression model. \n",
    "\n",
    "- It slightly underestimates the Price for about 1 dollar, so on average we can be pretty confident that the predictiion is centered.\n",
    "\n",
    "- The average error is quite significant (about 23% of the mean Price), however, we're not focusing on the accuracy of the model in this edition and will elaborate on this further."
   ]
  },
  {
   "cell_type": "markdown",
   "metadata": {},
   "source": [
    "Most impactful features for the price sensitivity so far are (in the order of price contribution): \n",
    "1. type of the property: \n",
    " - house are valued more than townhouses\n",
    " - in turn, townhouses are more prestige than flats\n",
    "2. location: \n",
    " - house in Eastern Victoria or Southern Metropolitan are more highly priced.\n",
    " - the 'worst' region in terms of price will be Western Metropolitan or Northern Metropolitan \n",
    "3. rooms: \n",
    " - Second bathroom is quite an important contributor, I guess because it adds  convenience and prestige.\n",
    " - Bedrooms are less important than rooms.\n",
    " - A garage is less important and contributes significantly less than bathroom or other rooms, but still adds some value. "
   ]
  },
  {
   "cell_type": "markdown",
   "metadata": {},
   "source": [
    "#### 3.1.3 Using Statsmodel with C (categorical) parameter to avoid  get_dummies trap"
   ]
  },
  {
   "cell_type": "markdown",
   "metadata": {},
   "source": [
    "##### Additional questions:\n",
    "- How should we interpret the intercept? Also, it's missing here. \n",
    "- If all the categorical variables are in the features. \n",
    "- We'll use another built-in functionality in statsmodels that allows to incorporate easily categorical features."
   ]
  },
  {
   "cell_type": "code",
   "execution_count": 24,
   "metadata": {},
   "outputs": [
    {
     "name": "stdout",
     "output_type": "stream",
     "text": [
      "R² for the model:\n",
      "0.663096710478\n",
      "\n",
      "Parameter estimates for the model with few features:\n",
      "Intercept                                     7,686,346\n",
      "C(Type)[T.t]                                   -142,256\n",
      "C(Type)[T.u]                                   -350,066\n",
      "C(Regionname)[T.Eastern Victoria]               305,619\n",
      "C(Regionname)[T.Northern Metropolitan]         -224,585\n",
      "C(Regionname)[T.Northern Victoria]              115,060\n",
      "C(Regionname)[T.South-Eastern Metropolitan]     186,311\n",
      "C(Regionname)[T.Southern Metropolitan]          255,592\n",
      "C(Regionname)[T.Western Metropolitan]          -288,405\n",
      "C(Regionname)[T.Western Victoria]                  -200\n",
      "Rooms                                           102,968\n",
      "Distance                                        -37,645\n",
      "Bathroom                                        171,359\n",
      "Car                                              49,339\n",
      "Landsize                                             33\n",
      "BuildingArea                                      2,125\n",
      "YearBuilt                                        -3,599\n",
      "dtype: float64\n"
     ]
    }
   ],
   "source": [
    "linear_formula = 'Price ~ Rooms + C(Type) + Distance + Bathroom + Car + Landsize + BuildingArea + YearBuilt + C(Regionname)'\n",
    "lm = smf.ols(formula=linear_formula, data=df).fit() \n",
    "print('R² for the model:')\n",
    "print(lm.rsquared);\n",
    "print('\\nParameter estimates for the model with few features:') \n",
    "print(lm.params);"
   ]
  },
  {
   "cell_type": "markdown",
   "metadata": {},
   "source": [
    "### 3.1.4. From the Statsmodel's linear model we can conclude: \n",
    "\n",
    "##### The location is much more important than rooms than number of rooms. \n",
    "The difference between the 'best' and the 'worst' location is about 590,000 dollars. If we have 2 exactly similar houses in those locations, it will cost about 6 rooms to be added in order to compensate for this difference. \n",
    "\n",
    "##### The house type is again more important than rooms.\n",
    "The difference between a house and a flat is about 360,000 dollars. Only a huge flat with an 2 additional rooms and an additional bathroom can compensate for this.\n",
    "\n",
    "Based on this observation, a separate house in Southern Metropolitan or Eastern Victoria region looks like the dream for real estate agent and houseowners. \n",
    "\n",
    "##### About Other features: \n",
    "##### Land size doesn't seem to be important in comparison with building size. \n",
    "Mean for the building size is 149 across the dataset. If we multiply the mean by the coefficient, we get 317,000 dollars increase, which is quite significant price contribution. \n",
    "For the land size, the mean is 477. Once this is multiplied by the Landsize coefficient, we only get 16,000 dollars increase, which is way less than achieved by the building size.\n",
    "\n",
    "##### Yearbuilt is important to consider when we're comparing very old houses with very new ones.\n",
    "We assume that the houses we'll mostly see will have a difference about 70 years at most, this will constitute about 252,000 dollars. This is significant, when we deal with old vs new house. To put things on scale, this difference can be compensated by either better location OR additional room and bathroom. "
   ]
  },
  {
   "cell_type": "markdown",
   "metadata": {},
   "source": [
    "### 3.3. LASSO regression: feature selection based on it's coefficients"
   ]
  },
  {
   "cell_type": "code",
   "execution_count": 25,
   "metadata": {},
   "outputs": [
    {
     "name": "stdout",
     "output_type": "stream",
     "text": [
      "R² for the model:\n",
      "0.663082298024\n",
      "\n",
      "Parameter estimates from the LASSO model:\n"
     ]
    },
    {
     "data": {
      "text/html": [
       "<div>\n",
       "<style>\n",
       "    .dataframe thead tr:only-child th {\n",
       "        text-align: right;\n",
       "    }\n",
       "\n",
       "    .dataframe thead th {\n",
       "        text-align: left;\n",
       "    }\n",
       "\n",
       "    .dataframe tbody tr th {\n",
       "        vertical-align: top;\n",
       "    }\n",
       "</style>\n",
       "<table border=\"1\" class=\"dataframe\">\n",
       "  <thead>\n",
       "    <tr style=\"text-align: right;\">\n",
       "      <th></th>\n",
       "      <th>Coefficient</th>\n",
       "    </tr>\n",
       "  </thead>\n",
       "  <tbody>\n",
       "    <tr>\n",
       "      <th>Rooms</th>\n",
       "      <td>102,753</td>\n",
       "    </tr>\n",
       "    <tr>\n",
       "      <th>Distance</th>\n",
       "      <td>-37,442</td>\n",
       "    </tr>\n",
       "    <tr>\n",
       "      <th>Bathroom</th>\n",
       "      <td>171,411</td>\n",
       "    </tr>\n",
       "    <tr>\n",
       "      <th>Car</th>\n",
       "      <td>49,179</td>\n",
       "    </tr>\n",
       "    <tr>\n",
       "      <th>Landsize</th>\n",
       "      <td>33</td>\n",
       "    </tr>\n",
       "    <tr>\n",
       "      <th>BuildingArea</th>\n",
       "      <td>2,130</td>\n",
       "    </tr>\n",
       "    <tr>\n",
       "      <th>YearBuilt</th>\n",
       "      <td>-3,612</td>\n",
       "    </tr>\n",
       "    <tr>\n",
       "      <th>Type_h</th>\n",
       "      <td>141,417</td>\n",
       "    </tr>\n",
       "    <tr>\n",
       "      <th>Type_t</th>\n",
       "      <td>0</td>\n",
       "    </tr>\n",
       "    <tr>\n",
       "      <th>Type_u</th>\n",
       "      <td>-206,940</td>\n",
       "    </tr>\n",
       "    <tr>\n",
       "      <th>Regionname_Eastern Metropolitan</th>\n",
       "      <td>-16,124</td>\n",
       "    </tr>\n",
       "    <tr>\n",
       "      <th>Regionname_Eastern Victoria</th>\n",
       "      <td>267,250</td>\n",
       "    </tr>\n",
       "    <tr>\n",
       "      <th>Regionname_Northern Metropolitan</th>\n",
       "      <td>-240,426</td>\n",
       "    </tr>\n",
       "    <tr>\n",
       "      <th>Regionname_Northern Victoria</th>\n",
       "      <td>80,074</td>\n",
       "    </tr>\n",
       "    <tr>\n",
       "      <th>Regionname_South-Eastern Metropolitan</th>\n",
       "      <td>164,979</td>\n",
       "    </tr>\n",
       "    <tr>\n",
       "      <th>Regionname_Southern Metropolitan</th>\n",
       "      <td>238,810</td>\n",
       "    </tr>\n",
       "    <tr>\n",
       "      <th>Regionname_Western Metropolitan</th>\n",
       "      <td>-304,248</td>\n",
       "    </tr>\n",
       "    <tr>\n",
       "      <th>Regionname_Western Victoria</th>\n",
       "      <td>-0</td>\n",
       "    </tr>\n",
       "    <tr>\n",
       "      <th>Intercept</th>\n",
       "      <td>7,585,328</td>\n",
       "    </tr>\n",
       "  </tbody>\n",
       "</table>\n",
       "</div>"
      ],
      "text/plain": [
       "                                       Coefficient\n",
       "Rooms                                      102,753\n",
       "Distance                                   -37,442\n",
       "Bathroom                                   171,411\n",
       "Car                                         49,179\n",
       "Landsize                                        33\n",
       "BuildingArea                                 2,130\n",
       "YearBuilt                                   -3,612\n",
       "Type_h                                     141,417\n",
       "Type_t                                           0\n",
       "Type_u                                    -206,940\n",
       "Regionname_Eastern Metropolitan            -16,124\n",
       "Regionname_Eastern Victoria                267,250\n",
       "Regionname_Northern Metropolitan          -240,426\n",
       "Regionname_Northern Victoria                80,074\n",
       "Regionname_South-Eastern Metropolitan      164,979\n",
       "Regionname_Southern Metropolitan           238,810\n",
       "Regionname_Western Metropolitan           -304,248\n",
       "Regionname_Western Victoria                     -0\n",
       "Intercept                                7,585,328"
      ]
     },
     "execution_count": 25,
     "metadata": {},
     "output_type": "execute_result"
    }
   ],
   "source": [
    "## SKlearn\n",
    "lass = Lasso(alpha=100)\n",
    "lassfit = lass.fit(X, Y)\n",
    "print('R² for the model:')\n",
    "print(lass.score(X, Y))\n",
    "\n",
    "# Coef table:\n",
    "lass_param = np.append(lass.coef_, lass.intercept_)\n",
    "titles = X.columns\n",
    "titles = titles.tolist()\n",
    "titles.append('Intercept')\n",
    "features_coef=pd.DataFrame(data=lass_param, index = titles,columns=['Coefficient'])\n",
    "\n",
    "print('\\nParameter estimates from the LASSO model:') \n",
    "features_coef"
   ]
  },
  {
   "cell_type": "markdown",
   "metadata": {},
   "source": [
    "##### Conclusion from the LASSO model: \n",
    "No numerical features set to zero. Numerical features with Lasso generally follow the same pattern as with linear model we built before, so we'll stick to our previous conclusion."
   ]
  },
  {
   "cell_type": "raw",
   "metadata": {},
   "source": []
  },
  {
   "cell_type": "markdown",
   "metadata": {},
   "source": [
    "# Potential future research (outside of the task)"
   ]
  },
  {
   "cell_type": "markdown",
   "metadata": {},
   "source": [
    "## 4. What if we try feature transformation"
   ]
  },
  {
   "cell_type": "markdown",
   "metadata": {},
   "source": [
    "### 4.1. Identifying which features to transform"
   ]
  },
  {
   "cell_type": "code",
   "execution_count": 26,
   "metadata": {
    "collapsed": true
   },
   "outputs": [],
   "source": [
    "feature_df = df.drop(['Price','Bedroom2', 'Propertycount'], axis = 1)\n",
    "num_feature_df = feature_df.drop(['Regionname','Type'], axis = 1)"
   ]
  },
  {
   "cell_type": "code",
   "execution_count": 27,
   "metadata": {},
   "outputs": [
    {
     "data": {
      "image/png": "[encoded data removed]",
      "text/plain": [
       "<matplotlib.figure.Figure at 0x118133160>"
      ]
     },
     "metadata": {},
     "output_type": "display_data"
    }
   ],
   "source": [
    "plt.figure(figsize=(17,15))\n",
    "n=0\n",
    "for column in num_feature_df.columns:\n",
    "    n+=1\n",
    "    plt.subplot(4, 2, n) \n",
    "    num_feature_df[column].hist(bins = 70)\n",
    "    plt.xlabel(column)\n",
    "\n",
    "plt.show()"
   ]
  },
  {
   "cell_type": "code",
   "execution_count": 28,
   "metadata": {},
   "outputs": [
    {
     "data": {
      "image/png": "[encoded data removed]",
      "text/plain": [
       "<matplotlib.figure.Figure at 0x11f89fcc0>"
      ]
     },
     "metadata": {},
     "output_type": "display_data"
    }
   ],
   "source": [
    "plt.figure(figsize=(17,15))\n",
    "n=0\n",
    "for column in num_feature_df.columns:\n",
    "    n+=1\n",
    "    plt.subplot(4, 2, n) \n",
    "    plt.scatter(x=num_feature_df[column], y=df['Price'], alpha=0.4)\n",
    "    plt.ylabel('Price')\n",
    "    plt.xlabel(column)\n",
    "\n",
    "\n",
    "plt.show()"
   ]
  },
  {
   "cell_type": "markdown",
   "metadata": {},
   "source": [
    "##### What can we tell from these graphs?"
   ]
  },
  {
   "cell_type": "markdown",
   "metadata": {},
   "source": [
    "None of the features is strongly correlated with the outcome. Also, for each of the feature, we can see some kind of non-linear relations with the price, but this relation is not obvious from this visualization.\n",
    "\n",
    "However, from these graphs we can conclude: \n",
    "- shorter distance from the city center would suggest higher price. \n",
    "- price rises at the sq root / ln pace with the increase in the number of rooms, bathrooms or cars\n",
    "- landsize or year build are don't seem to have a strong relation with price growth\n",
    "\n",
    "notes: \n",
    "- sq root dependancy provides higher raise of y than from log: slowly decreasing\n",
    "- log10 / ln provides lower growth rate than sq root: decreasing too, but sharper"
   ]
  },
  {
   "cell_type": "markdown",
   "metadata": {},
   "source": [
    "#### [Further research] 4.1. Normalization of the data set"
   ]
  },
  {
   "cell_type": "markdown",
   "metadata": {},
   "source": [
    "#### [Further research] 4.2. Statsmodels : Generalized Linear Model with Gamma distribution"
   ]
  },
  {
   "cell_type": "code",
   "execution_count": 29,
   "metadata": {},
   "outputs": [
    {
     "name": "stderr",
     "output_type": "stream",
     "text": [
      "/Users/polinav/anaconda/lib/python3.6/site-packages/statsmodels/genmod/generalized_linear_model.py:244: DomainWarning: The inverse_power link function does not respect the domain of the Gamma family.\n",
      "  DomainWarning)\n"
     ]
    }
   ],
   "source": [
    "gamma_model = sm.GLM(Y, X, family=sm.families.Gamma())\n",
    "gamma_results = gamma_model.fit()\n",
    "gamma_results.summary();"
   ]
  },
  {
   "cell_type": "raw",
   "metadata": {},
   "source": []
  },
  {
   "cell_type": "markdown",
   "metadata": {},
   "source": [
    "### Code Depository and notes"
   ]
  },
  {
   "cell_type": "code",
   "execution_count": 30,
   "metadata": {
    "collapsed": true
   },
   "outputs": [],
   "source": [
    "# suburb - sort the coef to see what's the most expensive / cheapest\n",
    "# model ideally should be - predict sq meter price - we don't have sq meter unfortunately\n",
    "# can try to solve the evaluation of the sq meter in different regions \n",
    "# by making interaction terms: price * region and running different models "
   ]
  }
 ],
 "metadata": {
  "kernelspec": {
   "display_name": "Python 3",
   "language": "python",
   "name": "python3"
  },
  "language_info": {
   "codemirror_mode": {
    "name": "ipython",
    "version": 3
   },
   "file_extension": ".py",
   "mimetype": "text/x-python",
   "name": "python",
   "nbconvert_exporter": "python",
   "pygments_lexer": "ipython3",
   "version": "3.6.1"
  }
 },
 "nbformat": 4,
 "nbformat_minor": 2
}
