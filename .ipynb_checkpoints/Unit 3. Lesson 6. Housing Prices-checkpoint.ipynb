{
 "cells": [
  {
   "cell_type": "markdown",
   "metadata": {},
   "source": [
    "# Housing Prices\n",
    "\n",
    "\n",
    "### Task:\n",
    "\n",
    "Create a model to predict a house's value. We want to be able to understand what creates value in a house, as though we were a real estate developer."
   ]
  },
  {
   "cell_type": "markdown",
   "metadata": {},
   "source": [
    "## 1. Content & Acknowledgements\n",
    "\n",
    "This data was scraped from publicly available results posted every week from Domain.com.au, I've cleaned it as best I can, now it's up to you to make data analysis magic. The dataset includes Address, Type of Real estate, Suburb, Method of Selling, Rooms, Price, Real Estate Agent, Date of Sale, size of the land and building, as well as Year built and location information\n",
    "\n",
    "\n",
    "\n",
    "### 1.1. Additional feature description\n",
    "\n",
    "- Suburb: Suburb\n",
    "- Address: Address\n",
    "- Rooms: Number of rooms\n",
    "- Price: Price in Australian dollars\n",
    "- Method: S - property sold; SP - property sold prior; PI - property passed in; PN - sold prior not disclosed; SN - sold not disclosed; NB - no bid; VB - vendor bid; W - withdrawn prior to auction; SA - sold after auction; SS - sold after auction price not disclosed. N/A - price or highest bid not available.\n",
    "- Type: br - bedroom(s); h - house,cottage,villa, semi,terrace; u - unit, duplex; t - townhouse; dev site - development site; o res - other residential.\n",
    "- SellerG: Real Estate Agent\n",
    "- Date: Date sold\n",
    "- Distance: Distance from CBD in Kilometres\n",
    "- Regionname: General Region (West, North West, North, North east ...etc)\n",
    "- Propertycount: Number of properties that exist in the suburb.\n",
    "- Bedroom2 : Scraped # of Bedrooms (from different source) \n",
    "- Bathroom: Number of Bathrooms \n",
    "- Car: Number of carspots\n",
    "- Landsize: Land Size in Metres \n",
    "- BuildingArea: Building Size in Metres\n",
    "- YearBuilt: Year the house was built\n",
    "- CouncilArea: Governing council for the area\n",
    "- Lattitude: Self explanitory\n",
    "- Longtitude: Self explanitory"
   ]
  },
  {
   "cell_type": "markdown",
   "metadata": {},
   "source": [
    "## 2. Data preparation for training our model"
   ]
  },
  {
   "cell_type": "markdown",
   "metadata": {},
   "source": [
    "### 2.1. Loading"
   ]
  },
  {
   "cell_type": "code",
   "execution_count": 571,
   "metadata": {},
   "outputs": [],
   "source": [
    "import pandas as pd\n",
    "from matplotlib import pyplot as plt\n",
    "import numpy as np\n",
    "from sklearn.model_selection import cross_val_score\n",
    "from sklearn.model_selection import train_test_split\n",
    "import seaborn as sns\n",
    "import statsmodels.api as sm\n",
    "from sklearn.linear_model import LogisticRegression\n",
    "from sklearn.linear_model import Lasso\n",
    "\n",
    "import statsmodels.formula.api as smf\n",
    "\n",
    "%matplotlib inline"
   ]
  },
  {
   "cell_type": "code",
   "execution_count": 572,
   "metadata": {},
   "outputs": [
    {
     "data": {
      "text/html": [
       "<div>\n",
       "<style>\n",
       "    .dataframe thead tr:only-child th {\n",
       "        text-align: right;\n",
       "    }\n",
       "\n",
       "    .dataframe thead th {\n",
       "        text-align: left;\n",
       "    }\n",
       "\n",
       "    .dataframe tbody tr th {\n",
       "        vertical-align: top;\n",
       "    }\n",
       "</style>\n",
       "<table border=\"1\" class=\"dataframe\">\n",
       "  <thead>\n",
       "    <tr style=\"text-align: left;\">\n",
       "      <th></th>\n",
       "      <th>Suburb</th>\n",
       "      <th>Address</th>\n",
       "      <th>Rooms</th>\n",
       "      <th>Type</th>\n",
       "      <th>Price</th>\n",
       "      <th>Method</th>\n",
       "      <th>SellerG</th>\n",
       "      <th>Date</th>\n",
       "      <th>Distance</th>\n",
       "      <th>Postcode</th>\n",
       "      <th>...</th>\n",
       "      <th>Bathroom</th>\n",
       "      <th>Car</th>\n",
       "      <th>Landsize</th>\n",
       "      <th>BuildingArea</th>\n",
       "      <th>YearBuilt</th>\n",
       "      <th>CouncilArea</th>\n",
       "      <th>Lattitude</th>\n",
       "      <th>Longtitude</th>\n",
       "      <th>Regionname</th>\n",
       "      <th>Propertycount</th>\n",
       "    </tr>\n",
       "  </thead>\n",
       "  <tbody>\n",
       "    <tr>\n",
       "      <th>0</th>\n",
       "      <td>Abbotsford</td>\n",
       "      <td>68 Studley St</td>\n",
       "      <td>2</td>\n",
       "      <td>h</td>\n",
       "      <td>nan</td>\n",
       "      <td>SS</td>\n",
       "      <td>Jellis</td>\n",
       "      <td>3/09/2016</td>\n",
       "      <td>2</td>\n",
       "      <td>3,067</td>\n",
       "      <td>...</td>\n",
       "      <td>1</td>\n",
       "      <td>1</td>\n",
       "      <td>126</td>\n",
       "      <td>nan</td>\n",
       "      <td>nan</td>\n",
       "      <td>Yarra City Council</td>\n",
       "      <td>-38</td>\n",
       "      <td>145</td>\n",
       "      <td>Northern Metropolitan</td>\n",
       "      <td>4,019</td>\n",
       "    </tr>\n",
       "    <tr>\n",
       "      <th>1</th>\n",
       "      <td>Abbotsford</td>\n",
       "      <td>85 Turner St</td>\n",
       "      <td>2</td>\n",
       "      <td>h</td>\n",
       "      <td>1,480,000</td>\n",
       "      <td>S</td>\n",
       "      <td>Biggin</td>\n",
       "      <td>3/12/2016</td>\n",
       "      <td>2</td>\n",
       "      <td>3,067</td>\n",
       "      <td>...</td>\n",
       "      <td>1</td>\n",
       "      <td>1</td>\n",
       "      <td>202</td>\n",
       "      <td>nan</td>\n",
       "      <td>nan</td>\n",
       "      <td>Yarra City Council</td>\n",
       "      <td>-38</td>\n",
       "      <td>145</td>\n",
       "      <td>Northern Metropolitan</td>\n",
       "      <td>4,019</td>\n",
       "    </tr>\n",
       "    <tr>\n",
       "      <th>2</th>\n",
       "      <td>Abbotsford</td>\n",
       "      <td>25 Bloomburg St</td>\n",
       "      <td>2</td>\n",
       "      <td>h</td>\n",
       "      <td>1,035,000</td>\n",
       "      <td>S</td>\n",
       "      <td>Biggin</td>\n",
       "      <td>4/02/2016</td>\n",
       "      <td>2</td>\n",
       "      <td>3,067</td>\n",
       "      <td>...</td>\n",
       "      <td>1</td>\n",
       "      <td>0</td>\n",
       "      <td>156</td>\n",
       "      <td>79</td>\n",
       "      <td>1,900</td>\n",
       "      <td>Yarra City Council</td>\n",
       "      <td>-38</td>\n",
       "      <td>145</td>\n",
       "      <td>Northern Metropolitan</td>\n",
       "      <td>4,019</td>\n",
       "    </tr>\n",
       "  </tbody>\n",
       "</table>\n",
       "<p>3 rows × 21 columns</p>\n",
       "</div>"
      ],
      "text/plain": [
       "  Suburb       \\\n",
       "0  Abbotsford   \n",
       "1  Abbotsford   \n",
       "2  Abbotsford   \n",
       "\n",
       "  Address           \\\n",
       "0    68 Studley St   \n",
       "1     85 Turner St   \n",
       "2  25 Bloomburg St   \n",
       "\n",
       "   Rooms  \\\n",
       "0  2       \n",
       "1  2       \n",
       "2  2       \n",
       "\n",
       "  Type  \\\n",
       "0  h     \n",
       "1  h     \n",
       "2  h     \n",
       "\n",
       "   Price     \\\n",
       "0       nan   \n",
       "1 1,480,000   \n",
       "2 1,035,000   \n",
       "\n",
       "  Method  \\\n",
       "0  SS      \n",
       "1   S      \n",
       "2   S      \n",
       "\n",
       "  SellerG  \\\n",
       "0  Jellis   \n",
       "1  Biggin   \n",
       "2  Biggin   \n",
       "\n",
       "  Date        \\\n",
       "0  3/09/2016   \n",
       "1  3/12/2016   \n",
       "2  4/02/2016   \n",
       "\n",
       "   Distance  \\\n",
       "0 2           \n",
       "1 2           \n",
       "2 2           \n",
       "\n",
       "   Postcode  \\\n",
       "0 3,067       \n",
       "1 3,067       \n",
       "2 3,067       \n",
       "\n",
       "       ...       \\\n",
       "0      ...        \n",
       "1      ...        \n",
       "2      ...        \n",
       "\n",
       "   Bathroom  \\\n",
       "0 1           \n",
       "1 1           \n",
       "2 1           \n",
       "\n",
       "   Car  \\\n",
       "0 1      \n",
       "1 1      \n",
       "2 0      \n",
       "\n",
       "   Landsize  \\\n",
       "0 126         \n",
       "1 202         \n",
       "2 156         \n",
       "\n",
       "   BuildingArea  \\\n",
       "0 nan             \n",
       "1 nan             \n",
       "2  79             \n",
       "\n",
       "   YearBuilt  \\\n",
       "0   nan        \n",
       "1   nan        \n",
       "2 1,900        \n",
       "\n",
       "   CouncilArea         \\\n",
       "0  Yarra City Council   \n",
       "1  Yarra City Council   \n",
       "2  Yarra City Council   \n",
       "\n",
       "  Lattitude  \\\n",
       "0 -38         \n",
       "1 -38         \n",
       "2 -38         \n",
       "\n",
       "   Longtitude  \\\n",
       "0 145           \n",
       "1 145           \n",
       "2 145           \n",
       "\n",
       "   Regionname             \\\n",
       "0  Northern Metropolitan   \n",
       "1  Northern Metropolitan   \n",
       "2  Northern Metropolitan   \n",
       "\n",
       "  Propertycount  \n",
       "0 4,019          \n",
       "1 4,019          \n",
       "2 4,019          \n",
       "\n",
       "[3 rows x 21 columns]"
      ]
     },
     "execution_count": 572,
     "metadata": {},
     "output_type": "execute_result"
    }
   ],
   "source": [
    "df=pd.read_csv(\"../Melbourne_housing_FULL.csv\")\n",
    "df.head(n=3)"
   ]
  },
  {
   "cell_type": "markdown",
   "metadata": {},
   "source": [
    "### 2.2. Data cleaning and feature selection (human approach)"
   ]
  },
  {
   "cell_type": "code",
   "execution_count": 573,
   "metadata": {
    "collapsed": true
   },
   "outputs": [],
   "source": [
    "# we require info about the prices and other features, so we'll drop missing values\n",
    "df = df.dropna()\n",
    "\n",
    "# dropping other not really interesting columns\n",
    "df = df.drop(['Date','Address','Postcode','SellerG','Lattitude','Longtitude', 'CouncilArea', 'Method'\n",
    "             ], axis = 1)"
   ]
  },
  {
   "cell_type": "markdown",
   "metadata": {},
   "source": [
    "Now let's see which of the categorical variables that describe geography we'd like to leave."
   ]
  },
  {
   "cell_type": "code",
   "execution_count": 574,
   "metadata": {},
   "outputs": [
    {
     "data": {
      "text/plain": [
       "count          8887\n",
       "unique          315\n",
       "top       Reservoir\n",
       "freq            194\n",
       "Name: Suburb, dtype: object"
      ]
     },
     "execution_count": 574,
     "metadata": {},
     "output_type": "execute_result"
    }
   ],
   "source": [
    "df.Suburb.describe()"
   ]
  },
  {
   "cell_type": "code",
   "execution_count": 575,
   "metadata": {},
   "outputs": [
    {
     "data": {
      "text/plain": [
       "count                      8887\n",
       "unique                        8\n",
       "top       Southern Metropolitan\n",
       "freq                       2707\n",
       "Name: Regionname, dtype: object"
      ]
     },
     "execution_count": 575,
     "metadata": {},
     "output_type": "execute_result"
    }
   ],
   "source": [
    "df.Regionname.describe()"
   ]
  },
  {
   "cell_type": "markdown",
   "metadata": {},
   "source": [
    "We'll choose the Regionname (has only 8 categories vs 300+ in Suburb) as it's more scaled  for the human analysis and the model will be running smoother."
   ]
  },
  {
   "cell_type": "code",
   "execution_count": 576,
   "metadata": {
    "collapsed": true
   },
   "outputs": [],
   "source": [
    "df = df.drop('Suburb', axis = 1)\n",
    "df_dum = pd.get_dummies(df)"
   ]
  },
  {
   "cell_type": "code",
   "execution_count": 577,
   "metadata": {
    "collapsed": true
   },
   "outputs": [],
   "source": [
    "X = df_dum.drop('Price', axis = 1)\n",
    "Y = df_dum['Price']"
   ]
  },
  {
   "cell_type": "markdown",
   "metadata": {},
   "source": [
    "We'll first run the heatmap of the correlation among variables in the dataset to see what's directly correlated with the price. "
   ]
  },
  {
   "cell_type": "code",
   "execution_count": 578,
   "metadata": {},
   "outputs": [
    {
     "data": {
      "image/png": "[encoded data removed]",
      "text/plain": [
       "<matplotlib.figure.Figure at 0x1263d3cc0>"
      ]
     },
     "metadata": {},
     "output_type": "display_data"
    }
   ],
   "source": [
    "sns.heatmap(df.corr());"
   ]
  },
  {
   "cell_type": "markdown",
   "metadata": {},
   "source": [
    "Only from the correlation matrix we see that the Price is mostly correlated with Rooms, Bedroom2, Bathroom, Car. But let's run another models to see if we can dig in for something interesting. \n",
    "\n",
    "Some features might be highly correlated, let's see what else can we do to make our model statistically compliant: \n",
    "- We have indeed a few very well correlated features between themselves, eg Rooms and Bedroom2 are showing pretty much the same thing. \n",
    "- The similar relation exist between Rooms and Bathroom or Building area. \n",
    "- We'll leave Bathroom and Building size because we're interested to see if the model will signal us something about them eg one of them is not significant."
   ]
  },
  {
   "cell_type": "markdown",
   "metadata": {},
   "source": [
    "Since we first need to understand which features are significant for our modeling, we'll use statsmodel package for the significance and also try tune in our model better usuing LASSO regression."
   ]
  },
  {
   "cell_type": "code",
   "execution_count": 579,
   "metadata": {},
   "outputs": [
    {
     "data": {
      "text/plain": [
       "19"
      ]
     },
     "execution_count": 579,
     "metadata": {},
     "output_type": "execute_result"
    }
   ],
   "source": [
    "X = X.drop(['Bedroom2'], axis = 1)\n",
    "len(X.columns)"
   ]
  },
  {
   "cell_type": "markdown",
   "metadata": {},
   "source": [
    "We have 8887 observations and 19 features to build our regression model."
   ]
  },
  {
   "cell_type": "code",
   "execution_count": 580,
   "metadata": {},
   "outputs": [
    {
     "data": {
      "image/png": "[encoded data removed]",
      "text/plain": [
       "<matplotlib.figure.Figure at 0x125279dd8>"
      ]
     },
     "metadata": {},
     "output_type": "display_data"
    }
   ],
   "source": [
    "plt.figure(figsize=(20,7))\n",
    "plt.subplot(1, 2, 1) \n",
    "Y.hist(bins = 70) \n",
    "plt.subplot(1, 2, 2) \n",
    "Y.plot.box()\n",
    "plt.show()"
   ]
  },
  {
   "cell_type": "markdown",
   "metadata": {},
   "source": [
    "The histogram looks like log normal or Gamma distribution (which we'll try to consider with the Gamma dist model further)"
   ]
  },
  {
   "cell_type": "markdown",
   "metadata": {},
   "source": [
    "## 3. Training models and best model selection (together with feature selection)"
   ]
  },
  {
   "cell_type": "markdown",
   "metadata": {},
   "source": [
    "### 3.1. Statsmodels: Simple Linear Model "
   ]
  },
  {
   "cell_type": "code",
   "execution_count": 581,
   "metadata": {},
   "outputs": [
    {
     "name": "stdout",
     "output_type": "stream",
     "text": [
      "R² for the model:\n",
      "0.644454722488\n",
      "\n",
      "Parameter estimates for the model with few features:\n",
      "                            OLS Regression Results                            \n",
      "==============================================================================\n",
      "Dep. Variable:                  Price   R-squared:                       0.644\n",
      "Model:                            OLS   Adj. R-squared:                  0.644\n",
      "Method:                 Least Squares   F-statistic:                     945.6\n",
      "Date:                Sun, 27 May 2018   Prob (F-statistic):               0.00\n",
      "Time:                        18:33:23   Log-Likelihood:            -1.2736e+05\n",
      "No. Observations:                8887   AIC:                         2.548e+05\n",
      "Df Residuals:                    8869   BIC:                         2.549e+05\n",
      "Df Model:                          17                                         \n",
      "Covariance Type:            nonrobust                                         \n",
      "=========================================================================================================\n",
      "                                            coef    std err          t      P>|t|      [0.025      0.975]\n",
      "---------------------------------------------------------------------------------------------------------\n",
      "Rooms                                  1.176e+05   7273.928     16.171      0.000    1.03e+05    1.32e+05\n",
      "Distance                              -3.893e+04    969.391    -40.164      0.000   -4.08e+04    -3.7e+04\n",
      "Bathroom                                1.82e+05   8406.976     21.651      0.000    1.66e+05    1.99e+05\n",
      "Car                                    4.779e+04   4985.251      9.585      0.000     3.8e+04    5.76e+04\n",
      "Landsize                                 25.1027      4.171      6.019      0.000      16.927      33.278\n",
      "BuildingArea                           1687.1523     65.315     25.831      0.000    1559.120    1815.184\n",
      "YearBuilt                             -3223.1147    147.384    -21.869      0.000   -3512.022   -2934.208\n",
      "Propertycount                             1.7584      1.044      1.685      0.092      -0.288       3.804\n",
      "Type_h                                 5.154e+06   2.03e+05     25.376      0.000    4.76e+06    5.55e+06\n",
      "Type_t                                 4.985e+06    2.1e+05     23.737      0.000    4.57e+06     5.4e+06\n",
      "Type_u                                 4.775e+06   2.09e+05     22.867      0.000    4.37e+06    5.18e+06\n",
      "Regionname_Eastern Metropolitan        1.814e+06   8.06e+04     22.523      0.000    1.66e+06    1.97e+06\n",
      "Regionname_Eastern Victoria            2.139e+06   9.21e+04     23.232      0.000    1.96e+06    2.32e+06\n",
      "Regionname_Northern Metropolitan       1.577e+06   8.11e+04     19.445      0.000    1.42e+06    1.74e+06\n",
      "Regionname_Northern Victoria           1.941e+06   9.11e+04     21.308      0.000    1.76e+06    2.12e+06\n",
      "Regionname_South-Eastern Metropolitan   2.03e+06   7.96e+04     25.501      0.000    1.87e+06    2.19e+06\n",
      "Regionname_Southern Metropolitan       2.072e+06   7.92e+04     26.152      0.000    1.92e+06    2.23e+06\n",
      "Regionname_Western Metropolitan        1.521e+06   8.14e+04     18.672      0.000    1.36e+06    1.68e+06\n",
      "Regionname_Western Victoria            1.819e+06   9.56e+04     19.029      0.000    1.63e+06    2.01e+06\n",
      "==============================================================================\n",
      "Omnibus:                     6445.697   Durbin-Watson:                   1.717\n",
      "Prob(Omnibus):                  0.000   Jarque-Bera (JB):           449477.413\n",
      "Skew:                           2.835   Prob(JB):                         0.00\n",
      "Kurtosis:                      37.376   Cond. No.                     1.11e+20\n",
      "==============================================================================\n",
      "\n",
      "Warnings:\n",
      "[1] Standard Errors assume that the covariance matrix of the errors is correctly specified.\n",
      "[2] The smallest eigenvalue is 5.67e-29. This might indicate that there are\n",
      "strong multicollinearity problems or that the design matrix is singular.\n"
     ]
    }
   ],
   "source": [
    "pd.options.display.float_format = '{:,.0f}'.format\n",
    "\n",
    "lm = sm.OLS(Y, X)\n",
    "lm = lm.fit()\n",
    "print('R² for the model:')\n",
    "print(lm.rsquared)\n",
    "print('\\nParameter estimates for the model with few features:') \n",
    "print(lm.summary())"
   ]
  },
  {
   "cell_type": "markdown",
   "metadata": {},
   "source": [
    "#### 3.1.1 Residual analysis and outlier detection"
   ]
  },
  {
   "cell_type": "code",
   "execution_count": 582,
   "metadata": {},
   "outputs": [
    {
     "data": {
      "image/png": "[encoded data removed]",
      "text/plain": [
       "<matplotlib.figure.Figure at 0x12641abe0>"
      ]
     },
     "metadata": {},
     "output_type": "display_data"
    }
   ],
   "source": [
    "plt.scatter(lm.fittedvalues, lm.resid)\n",
    "plt.xlabel('Predicted')\n",
    "plt.ylabel('Residual')\n",
    "plt.axhline(y=0)\n",
    "plt.title('Residual vs. Predicted')\n",
    "plt.show()"
   ]
  },
  {
   "cell_type": "markdown",
   "metadata": {},
   "source": [
    "There two residuals I'm worried about: at the far lower right corner and the upper left. We'll research about these two observations separately."
   ]
  },
  {
   "cell_type": "code",
   "execution_count": 583,
   "metadata": {
    "scrolled": true
   },
   "outputs": [],
   "source": [
    "# how to identify which residual / predicted on the graph?"
   ]
  },
  {
   "cell_type": "code",
   "execution_count": 584,
   "metadata": {},
   "outputs": [
    {
     "name": "stdout",
     "output_type": "stream",
     "text": [
      "Maximum positive esidual (upper left courner):\n",
      "19583   8,053,751\n",
      "dtype: float64\n",
      "\n",
      "Maximum negative Residual (lower right courner):\n",
      "2704   -4,553,707\n",
      "dtype: float64\n"
     ]
    }
   ],
   "source": [
    "print('Maximum positive esidual (upper left courner):') \n",
    "print(lm.resid.nlargest(1))\n",
    "\n",
    "print('\\nMaximum negative Residual (lower right courner):') \n",
    "print(lm.resid.nsmallest(1))"
   ]
  },
  {
   "cell_type": "code",
   "execution_count": 585,
   "metadata": {},
   "outputs": [
    {
     "name": "stdout",
     "output_type": "stream",
     "text": [
      "Potential outlier (Maximum negative residual):\n",
      "Rooms                                5\n",
      "Type                                 h\n",
      "Price                        2,608,000\n",
      "Distance                             8\n",
      "Bedroom2                             5\n",
      "Bathroom                             2\n",
      "Car                                  4\n",
      "Landsize                           730\n",
      "BuildingArea                     3,112\n",
      "YearBuilt                        1,920\n",
      "Regionname       Southern Metropolitan\n",
      "Propertycount                    8,920\n",
      "Name: 2704, dtype: object\n",
      "\n",
      "Potential outlier (Maximum positive residual):\n",
      "Rooms                                     3\n",
      "Type                                      h\n",
      "Price                             9,000,000\n",
      "Distance                                 19\n",
      "Bedroom2                                  3\n",
      "Bathroom                                  1\n",
      "Car                                       1\n",
      "Landsize                                744\n",
      "BuildingArea                            117\n",
      "YearBuilt                             1,960\n",
      "Regionname       South-Eastern Metropolitan\n",
      "Propertycount                         7,113\n",
      "Name: 19583, dtype: object\n"
     ]
    }
   ],
   "source": [
    "print('Potential outlier (Maximum negative residual):') \n",
    "print(df.loc[2704,:])\n",
    "\n",
    "print('\\nPotential outlier (Maximum positive residual):') \n",
    "print(df.loc[19583,:])"
   ]
  },
  {
   "cell_type": "code",
   "execution_count": 586,
   "metadata": {},
   "outputs": [
    {
     "data": {
      "text/html": [
       "<div>\n",
       "<style>\n",
       "    .dataframe thead tr:only-child th {\n",
       "        text-align: right;\n",
       "    }\n",
       "\n",
       "    .dataframe thead th {\n",
       "        text-align: left;\n",
       "    }\n",
       "\n",
       "    .dataframe tbody tr th {\n",
       "        vertical-align: top;\n",
       "    }\n",
       "</style>\n",
       "<table border=\"1\" class=\"dataframe\">\n",
       "  <thead>\n",
       "    <tr style=\"text-align: left;\">\n",
       "      <th></th>\n",
       "      <th>Rooms</th>\n",
       "      <th>Price</th>\n",
       "      <th>Distance</th>\n",
       "      <th>Bedroom2</th>\n",
       "      <th>Bathroom</th>\n",
       "      <th>Car</th>\n",
       "      <th>Landsize</th>\n",
       "      <th>BuildingArea</th>\n",
       "      <th>YearBuilt</th>\n",
       "      <th>Propertycount</th>\n",
       "    </tr>\n",
       "  </thead>\n",
       "  <tbody>\n",
       "    <tr>\n",
       "      <th>count</th>\n",
       "      <td>8,887</td>\n",
       "      <td>8,887</td>\n",
       "      <td>8,887</td>\n",
       "      <td>8,887</td>\n",
       "      <td>8,887</td>\n",
       "      <td>8,887</td>\n",
       "      <td>8,887</td>\n",
       "      <td>8,887</td>\n",
       "      <td>8,887</td>\n",
       "      <td>8,887</td>\n",
       "    </tr>\n",
       "    <tr>\n",
       "      <th>mean</th>\n",
       "      <td>3</td>\n",
       "      <td>1,092,902</td>\n",
       "      <td>11</td>\n",
       "      <td>3</td>\n",
       "      <td>2</td>\n",
       "      <td>2</td>\n",
       "      <td>523</td>\n",
       "      <td>149</td>\n",
       "      <td>1,966</td>\n",
       "      <td>7,476</td>\n",
       "    </tr>\n",
       "    <tr>\n",
       "      <th>std</th>\n",
       "      <td>1</td>\n",
       "      <td>679,382</td>\n",
       "      <td>7</td>\n",
       "      <td>1</td>\n",
       "      <td>1</td>\n",
       "      <td>1</td>\n",
       "      <td>1,061</td>\n",
       "      <td>88</td>\n",
       "      <td>37</td>\n",
       "      <td>4,375</td>\n",
       "    </tr>\n",
       "    <tr>\n",
       "      <th>min</th>\n",
       "      <td>1</td>\n",
       "      <td>131,000</td>\n",
       "      <td>0</td>\n",
       "      <td>0</td>\n",
       "      <td>1</td>\n",
       "      <td>0</td>\n",
       "      <td>0</td>\n",
       "      <td>0</td>\n",
       "      <td>1,196</td>\n",
       "      <td>249</td>\n",
       "    </tr>\n",
       "    <tr>\n",
       "      <th>25%</th>\n",
       "      <td>2</td>\n",
       "      <td>641,000</td>\n",
       "      <td>6</td>\n",
       "      <td>2</td>\n",
       "      <td>1</td>\n",
       "      <td>1</td>\n",
       "      <td>212</td>\n",
       "      <td>100</td>\n",
       "      <td>1,945</td>\n",
       "      <td>4,382</td>\n",
       "    </tr>\n",
       "    <tr>\n",
       "      <th>50%</th>\n",
       "      <td>3</td>\n",
       "      <td>900,000</td>\n",
       "      <td>10</td>\n",
       "      <td>3</td>\n",
       "      <td>2</td>\n",
       "      <td>2</td>\n",
       "      <td>478</td>\n",
       "      <td>132</td>\n",
       "      <td>1,970</td>\n",
       "      <td>6,567</td>\n",
       "    </tr>\n",
       "    <tr>\n",
       "      <th>75%</th>\n",
       "      <td>4</td>\n",
       "      <td>1,345,000</td>\n",
       "      <td>14</td>\n",
       "      <td>4</td>\n",
       "      <td>2</td>\n",
       "      <td>2</td>\n",
       "      <td>652</td>\n",
       "      <td>180</td>\n",
       "      <td>2,000</td>\n",
       "      <td>10,331</td>\n",
       "    </tr>\n",
       "    <tr>\n",
       "      <th>max</th>\n",
       "      <td>12</td>\n",
       "      <td>9,000,000</td>\n",
       "      <td>47</td>\n",
       "      <td>12</td>\n",
       "      <td>9</td>\n",
       "      <td>10</td>\n",
       "      <td>42,800</td>\n",
       "      <td>3,112</td>\n",
       "      <td>2,019</td>\n",
       "      <td>21,650</td>\n",
       "    </tr>\n",
       "  </tbody>\n",
       "</table>\n",
       "</div>"
      ],
      "text/plain": [
       "       Rooms  \\\n",
       "count 8,887    \n",
       "mean      3    \n",
       "std       1    \n",
       "min       1    \n",
       "25%       2    \n",
       "50%       3    \n",
       "75%       4    \n",
       "max      12    \n",
       "\n",
       "       Price     \\\n",
       "count     8,887   \n",
       "mean  1,092,902   \n",
       "std     679,382   \n",
       "min     131,000   \n",
       "25%     641,000   \n",
       "50%     900,000   \n",
       "75%   1,345,000   \n",
       "max   9,000,000   \n",
       "\n",
       "       Distance  \\\n",
       "count 8,887       \n",
       "mean     11       \n",
       "std       7       \n",
       "min       0       \n",
       "25%       6       \n",
       "50%      10       \n",
       "75%      14       \n",
       "max      47       \n",
       "\n",
       "       Bedroom2  \\\n",
       "count 8,887       \n",
       "mean      3       \n",
       "std       1       \n",
       "min       0       \n",
       "25%       2       \n",
       "50%       3       \n",
       "75%       4       \n",
       "max      12       \n",
       "\n",
       "       Bathroom  \\\n",
       "count 8,887       \n",
       "mean      2       \n",
       "std       1       \n",
       "min       1       \n",
       "25%       1       \n",
       "50%       2       \n",
       "75%       2       \n",
       "max       9       \n",
       "\n",
       "       Car   \\\n",
       "count 8,887   \n",
       "mean      2   \n",
       "std       1   \n",
       "min       0   \n",
       "25%       1   \n",
       "50%       2   \n",
       "75%       2   \n",
       "max      10   \n",
       "\n",
       "       Landsize  \\\n",
       "count  8,887      \n",
       "mean     523      \n",
       "std    1,061      \n",
       "min        0      \n",
       "25%      212      \n",
       "50%      478      \n",
       "75%      652      \n",
       "max   42,800      \n",
       "\n",
       "       BuildingArea  \\\n",
       "count 8,887           \n",
       "mean    149           \n",
       "std      88           \n",
       "min       0           \n",
       "25%     100           \n",
       "50%     132           \n",
       "75%     180           \n",
       "max   3,112           \n",
       "\n",
       "       YearBuilt  \\\n",
       "count 8,887        \n",
       "mean  1,966        \n",
       "std      37        \n",
       "min   1,196        \n",
       "25%   1,945        \n",
       "50%   1,970        \n",
       "75%   2,000        \n",
       "max   2,019        \n",
       "\n",
       "       Propertycount  \n",
       "count  8,887          \n",
       "mean   7,476          \n",
       "std    4,375          \n",
       "min      249          \n",
       "25%    4,382          \n",
       "50%    6,567          \n",
       "75%   10,331          \n",
       "max   21,650          "
      ]
     },
     "execution_count": 586,
     "metadata": {},
     "output_type": "execute_result"
    }
   ],
   "source": [
    "# How do I test if it's out of range?\n",
    "df.describe()"
   ]
  },
  {
   "cell_type": "markdown",
   "metadata": {},
   "source": [
    "- 2704th observation definitely looks odd: \n",
    "\n",
    "It's a house with 5 rooms and incredibly huge building size (3,112), which is the maximum building size in the data set. The building size is not even close to 75 percentile, so we can classify it as an outlier. In a real business case analysis it's worth investigating how this number occured and why the price was so low for this house in case the data is correct. \n",
    "\n",
    "- 19583rd observation looks odd too: \n",
    "\n",
    "From the available data it's a very ordinary house with 3 rooms, 1 not big garage, 1 bathroom, quite far from the city center. All the features of this house are lower the median for each of the features. The price on the other side, is above the sky. We'll classify it as the outlier as we cannot explain such high price from ou\n"
   ]
  },
  {
   "cell_type": "code",
   "execution_count": 587,
   "metadata": {},
   "outputs": [],
   "source": [
    "df_dum = df_dum.drop([2704, 19583], axis = 0)\n",
    "df = df.drop([2704, 19583], axis = 0)"
   ]
  },
  {
   "cell_type": "markdown",
   "metadata": {},
   "source": [
    "We also see that there're some extreme values in variables Landsize (42,800\t) and YearBuilt (1,196), we'll see if removing them increases our explanatory power. As real estate agents we'll ask somebody specialised at the mansions to estimate prices for houses with enormous land size."
   ]
  },
  {
   "cell_type": "code",
   "execution_count": 588,
   "metadata": {},
   "outputs": [
    {
     "name": "stdout",
     "output_type": "stream",
     "text": [
      "34055   42,800\n",
      "28694   40,469\n",
      "15109   37,000\n",
      "13462   21,715\n",
      "24413   21,600\n",
      "Name: Landsize, dtype: float64\n",
      "16424   1,196\n",
      "3533    1,830\n",
      "Name: YearBuilt, dtype: float64\n"
     ]
    }
   ],
   "source": [
    "print(df_dum.Landsize.nlargest(5))\n",
    "print(df_dum.YearBuilt.nsmallest(2))"
   ]
  },
  {
   "cell_type": "code",
   "execution_count": 589,
   "metadata": {},
   "outputs": [],
   "source": [
    "df_dum = df_dum.drop([34055, 16424, 28694, 15109], axis = 0)\n",
    "df = df.drop([34055, 16424, 28694, 15109], axis = 0)"
   ]
  },
  {
   "cell_type": "code",
   "execution_count": 590,
   "metadata": {},
   "outputs": [
    {
     "data": {
      "text/html": [
       "<div>\n",
       "<style>\n",
       "    .dataframe thead tr:only-child th {\n",
       "        text-align: right;\n",
       "    }\n",
       "\n",
       "    .dataframe thead th {\n",
       "        text-align: left;\n",
       "    }\n",
       "\n",
       "    .dataframe tbody tr th {\n",
       "        vertical-align: top;\n",
       "    }\n",
       "</style>\n",
       "<table border=\"1\" class=\"dataframe\">\n",
       "  <thead>\n",
       "    <tr style=\"text-align: left;\">\n",
       "      <th></th>\n",
       "      <th>Rooms</th>\n",
       "      <th>Price</th>\n",
       "      <th>Distance</th>\n",
       "      <th>Bedroom2</th>\n",
       "      <th>Bathroom</th>\n",
       "      <th>Car</th>\n",
       "      <th>Landsize</th>\n",
       "      <th>BuildingArea</th>\n",
       "      <th>YearBuilt</th>\n",
       "      <th>Propertycount</th>\n",
       "    </tr>\n",
       "  </thead>\n",
       "  <tbody>\n",
       "    <tr>\n",
       "      <th>count</th>\n",
       "      <td>8,881</td>\n",
       "      <td>8,881</td>\n",
       "      <td>8,881</td>\n",
       "      <td>8,881</td>\n",
       "      <td>8,881</td>\n",
       "      <td>8,881</td>\n",
       "      <td>8,881</td>\n",
       "      <td>8,881</td>\n",
       "      <td>8,881</td>\n",
       "      <td>8,881</td>\n",
       "    </tr>\n",
       "    <tr>\n",
       "      <th>mean</th>\n",
       "      <td>3</td>\n",
       "      <td>1,091,883</td>\n",
       "      <td>11</td>\n",
       "      <td>3</td>\n",
       "      <td>2</td>\n",
       "      <td>2</td>\n",
       "      <td>510</td>\n",
       "      <td>149</td>\n",
       "      <td>1,966</td>\n",
       "      <td>7,477</td>\n",
       "    </tr>\n",
       "    <tr>\n",
       "      <th>std</th>\n",
       "      <td>1</td>\n",
       "      <td>674,187</td>\n",
       "      <td>7</td>\n",
       "      <td>1</td>\n",
       "      <td>1</td>\n",
       "      <td>1</td>\n",
       "      <td>772</td>\n",
       "      <td>82</td>\n",
       "      <td>36</td>\n",
       "      <td>4,375</td>\n",
       "    </tr>\n",
       "    <tr>\n",
       "      <th>min</th>\n",
       "      <td>1</td>\n",
       "      <td>131,000</td>\n",
       "      <td>0</td>\n",
       "      <td>0</td>\n",
       "      <td>1</td>\n",
       "      <td>0</td>\n",
       "      <td>0</td>\n",
       "      <td>0</td>\n",
       "      <td>1,830</td>\n",
       "      <td>389</td>\n",
       "    </tr>\n",
       "    <tr>\n",
       "      <th>25%</th>\n",
       "      <td>2</td>\n",
       "      <td>641,000</td>\n",
       "      <td>6</td>\n",
       "      <td>2</td>\n",
       "      <td>1</td>\n",
       "      <td>1</td>\n",
       "      <td>212</td>\n",
       "      <td>100</td>\n",
       "      <td>1,945</td>\n",
       "      <td>4,385</td>\n",
       "    </tr>\n",
       "    <tr>\n",
       "      <th>50%</th>\n",
       "      <td>3</td>\n",
       "      <td>900,000</td>\n",
       "      <td>10</td>\n",
       "      <td>3</td>\n",
       "      <td>2</td>\n",
       "      <td>2</td>\n",
       "      <td>477</td>\n",
       "      <td>132</td>\n",
       "      <td>1,970</td>\n",
       "      <td>6,567</td>\n",
       "    </tr>\n",
       "    <tr>\n",
       "      <th>75%</th>\n",
       "      <td>4</td>\n",
       "      <td>1,345,000</td>\n",
       "      <td>14</td>\n",
       "      <td>4</td>\n",
       "      <td>2</td>\n",
       "      <td>2</td>\n",
       "      <td>652</td>\n",
       "      <td>180</td>\n",
       "      <td>2,000</td>\n",
       "      <td>10,331</td>\n",
       "    </tr>\n",
       "    <tr>\n",
       "      <th>max</th>\n",
       "      <td>12</td>\n",
       "      <td>8,000,000</td>\n",
       "      <td>47</td>\n",
       "      <td>12</td>\n",
       "      <td>9</td>\n",
       "      <td>10</td>\n",
       "      <td>21,715</td>\n",
       "      <td>1,561</td>\n",
       "      <td>2,019</td>\n",
       "      <td>21,650</td>\n",
       "    </tr>\n",
       "  </tbody>\n",
       "</table>\n",
       "</div>"
      ],
      "text/plain": [
       "       Rooms  \\\n",
       "count 8,881    \n",
       "mean      3    \n",
       "std       1    \n",
       "min       1    \n",
       "25%       2    \n",
       "50%       3    \n",
       "75%       4    \n",
       "max      12    \n",
       "\n",
       "       Price     \\\n",
       "count     8,881   \n",
       "mean  1,091,883   \n",
       "std     674,187   \n",
       "min     131,000   \n",
       "25%     641,000   \n",
       "50%     900,000   \n",
       "75%   1,345,000   \n",
       "max   8,000,000   \n",
       "\n",
       "       Distance  \\\n",
       "count 8,881       \n",
       "mean     11       \n",
       "std       7       \n",
       "min       0       \n",
       "25%       6       \n",
       "50%      10       \n",
       "75%      14       \n",
       "max      47       \n",
       "\n",
       "       Bedroom2  \\\n",
       "count 8,881       \n",
       "mean      3       \n",
       "std       1       \n",
       "min       0       \n",
       "25%       2       \n",
       "50%       3       \n",
       "75%       4       \n",
       "max      12       \n",
       "\n",
       "       Bathroom  \\\n",
       "count 8,881       \n",
       "mean      2       \n",
       "std       1       \n",
       "min       1       \n",
       "25%       1       \n",
       "50%       2       \n",
       "75%       2       \n",
       "max       9       \n",
       "\n",
       "       Car   \\\n",
       "count 8,881   \n",
       "mean      2   \n",
       "std       1   \n",
       "min       0   \n",
       "25%       1   \n",
       "50%       2   \n",
       "75%       2   \n",
       "max      10   \n",
       "\n",
       "       Landsize  \\\n",
       "count  8,881      \n",
       "mean     510      \n",
       "std      772      \n",
       "min        0      \n",
       "25%      212      \n",
       "50%      477      \n",
       "75%      652      \n",
       "max   21,715      \n",
       "\n",
       "       BuildingArea  \\\n",
       "count 8,881           \n",
       "mean    149           \n",
       "std      82           \n",
       "min       0           \n",
       "25%     100           \n",
       "50%     132           \n",
       "75%     180           \n",
       "max   1,561           \n",
       "\n",
       "       YearBuilt  \\\n",
       "count 8,881        \n",
       "mean  1,966        \n",
       "std      36        \n",
       "min   1,830        \n",
       "25%   1,945        \n",
       "50%   1,970        \n",
       "75%   2,000        \n",
       "max   2,019        \n",
       "\n",
       "       Propertycount  \n",
       "count  8,881          \n",
       "mean   7,477          \n",
       "std    4,375          \n",
       "min      389          \n",
       "25%    4,385          \n",
       "50%    6,567          \n",
       "75%   10,331          \n",
       "max   21,650          "
      ]
     },
     "execution_count": 590,
     "metadata": {},
     "output_type": "execute_result"
    }
   ],
   "source": [
    "df.describe()"
   ]
  },
  {
   "cell_type": "markdown",
   "metadata": {},
   "source": [
    "We'll also remove the Propertycount feature, as it's not statistically significant and we'll run the model again without the outliers. "
   ]
  },
  {
   "cell_type": "markdown",
   "metadata": {},
   "source": [
    "#### 3.1.2 Statsmodels: Simple Linear Model - Second Iteration"
   ]
  },
  {
   "cell_type": "code",
   "execution_count": 591,
   "metadata": {},
   "outputs": [],
   "source": [
    "X = df_dum.drop(['Price','Bedroom2', 'Propertycount'], axis = 1)\n",
    "Y = df_dum['Price']"
   ]
  },
  {
   "cell_type": "code",
   "execution_count": 592,
   "metadata": {},
   "outputs": [
    {
     "name": "stdout",
     "output_type": "stream",
     "text": [
      "R² for the model:\n",
      "0.663096710478\n",
      "\n",
      "Parameter estimates for the model with few features:\n",
      "Rooms                                     102,968\n",
      "Distance                                  -37,645\n",
      "Bathroom                                  171,359\n",
      "Car                                        49,339\n",
      "Landsize                                       33\n",
      "BuildingArea                                2,125\n",
      "YearBuilt                                  -3,599\n",
      "Type_h                                  5,666,589\n",
      "Type_t                                  5,524,334\n",
      "Type_u                                  5,316,523\n",
      "Regionname_Eastern Metropolitan         2,019,757\n",
      "Regionname_Eastern Victoria             2,325,376\n",
      "Regionname_Northern Metropolitan        1,795,172\n",
      "Regionname_Northern Victoria            2,134,817\n",
      "Regionname_South-Eastern Metropolitan   2,206,068\n",
      "Regionname_Southern Metropolitan        2,275,348\n",
      "Regionname_Western Metropolitan         1,731,352\n",
      "Regionname_Western Victoria             2,019,556\n",
      "dtype: float64\n"
     ]
    }
   ],
   "source": [
    "lm = sm.OLS(Y, X)\n",
    "lm = lm.fit()\n",
    "print('R² for the model:')\n",
    "print(lm.rsquared)\n",
    "print('\\nParameter estimates for the model with few features:') \n",
    "print(lm.params)"
   ]
  },
  {
   "cell_type": "code",
   "execution_count": 593,
   "metadata": {},
   "outputs": [
    {
     "data": {
      "image/png": "[encoded data removed]",
      "text/plain": [
       "<matplotlib.figure.Figure at 0x125f6eac8>"
      ]
     },
     "metadata": {},
     "output_type": "display_data"
    }
   ],
   "source": [
    "plt.scatter(lm.fittedvalues, lm.resid)\n",
    "plt.xlabel('Predicted')\n",
    "plt.ylabel('Residual')\n",
    "plt.axhline(y=0)\n",
    "plt.title('Residual vs. Predicted')\n",
    "plt.show()"
   ]
  },
  {
   "cell_type": "markdown",
   "metadata": {},
   "source": [
    "Most impactful features for the price sensitivity so far are (in the order of price contribution): \n",
    "1. type of the property: \n",
    " - house are valued more than townhouses\n",
    " - in turn, townhouses are more prestige than flats\n",
    "2. location: \n",
    " - house in Eastern Victoria or Southern Metropolitan are more highly priced.\n",
    " - the 'worst' region in terms of price will be Western Metropolitan or Northern Metropolitan \n",
    "3. rooms: \n",
    " - Second bathroom is quite an important contributor, I guess because it adds  convenience and prestige.\n",
    " - Bedrooms are less important than rooms.\n",
    " - A garage is less important and contributes significantly less than bathroom or other rooms, but still adds some value. "
   ]
  },
  {
   "cell_type": "markdown",
   "metadata": {},
   "source": [
    "#### 3.1.3 Using Statsmodel with C (categorical) parameter to avoid  get_dummies trap"
   ]
  },
  {
   "cell_type": "markdown",
   "metadata": {},
   "source": [
    "##### Additional questions:\n",
    "- How should we interpret the intercept? Also, it's missing here. \n",
    "- If all the categorical variables are in the features. \n",
    "- We'll use another built-in functionality in statsmodels that allows to incorporate easily categorical features."
   ]
  },
  {
   "cell_type": "code",
   "execution_count": 594,
   "metadata": {},
   "outputs": [
    {
     "name": "stdout",
     "output_type": "stream",
     "text": [
      "R² for the model:\n",
      "0.663096710478\n",
      "\n",
      "Parameter estimates for the model with few features:\n",
      "Intercept                                     7,686,346\n",
      "C(Type)[T.t]                                   -142,256\n",
      "C(Type)[T.u]                                   -350,066\n",
      "C(Regionname)[T.Eastern Victoria]               305,619\n",
      "C(Regionname)[T.Northern Metropolitan]         -224,585\n",
      "C(Regionname)[T.Northern Victoria]              115,060\n",
      "C(Regionname)[T.South-Eastern Metropolitan]     186,311\n",
      "C(Regionname)[T.Southern Metropolitan]          255,592\n",
      "C(Regionname)[T.Western Metropolitan]          -288,405\n",
      "C(Regionname)[T.Western Victoria]                  -200\n",
      "Rooms                                           102,968\n",
      "Distance                                        -37,645\n",
      "Bathroom                                        171,359\n",
      "Car                                              49,339\n",
      "Landsize                                             33\n",
      "BuildingArea                                      2,125\n",
      "YearBuilt                                        -3,599\n",
      "dtype: float64\n"
     ]
    }
   ],
   "source": [
    "linear_formula = 'Price ~ Rooms + C(Type) + Distance + Bathroom + Car + Landsize + BuildingArea + YearBuilt + C(Regionname)'\n",
    "lm = smf.ols(formula=linear_formula, data=df).fit() \n",
    "print('R² for the model:')\n",
    "print(lm.rsquared);\n",
    "print('\\nParameter estimates for the model with few features:') \n",
    "print(lm.params);"
   ]
  },
  {
   "cell_type": "markdown",
   "metadata": {},
   "source": [
    "### 3.1.4. From the Statsmodel's linear model we can conclude: \n",
    "\n",
    "##### The location is much more important than rooms than number of rooms. \n",
    "The difference between the 'best' and the 'worst' location is about 590,000 dollars. If we have 2 exactly similar houses in those locations, it will cost about 6 rooms to be added in order to compensate for this difference. \n",
    "\n",
    "##### The house type is again more important than rooms.\n",
    "The difference between a house and a flat is about 360,000 dollars. Only a huge flat with an 2 additional rooms and an additional bathroom can compensate for this.\n",
    "\n",
    "Based on this observation, a separate house in Southern Metropolitan or Eastern Victoria region looks like the dream for real estate agent and houseowners. \n",
    "\n",
    "##### About Other features: \n",
    "##### Land size doesn't seem to be important in comparison with building size. \n",
    "Mean for the building size is 149 across the dataset. If we multiply the mean by the coefficient, we get 317,000 dollars increase, which is quite significant price contribution. \n",
    "For the land size, the mean is 477. Once this is multiplied by the Landsize coefficient, we only get 16,000 dollars increase, which is way less than achieved by the building size.\n",
    "\n",
    "##### Yearbuilt is important to consider when we're comparing very old houses with very new ones.\n",
    "We assume that the houses we'll mostly see will have a difference about 70 years at most, this will constitute about 252,000 dollars. This is significant, when we deal with old vs new house. To put things on scale, this difference can be compensated by either better location OR additional room and bathroom. "
   ]
  },
  {
   "cell_type": "markdown",
   "metadata": {},
   "source": [
    "### [Need more information] 3.2. Statsmodels : Generalized Linear Model with Gamma disctribution"
   ]
  },
  {
   "cell_type": "code",
   "execution_count": 595,
   "metadata": {},
   "outputs": [
    {
     "name": "stderr",
     "output_type": "stream",
     "text": [
      "/Users/polinav/anaconda/lib/python3.6/site-packages/statsmodels/genmod/generalized_linear_model.py:244: DomainWarning: The inverse_power link function does not respect the domain of the Gamma family.\n",
      "  DomainWarning)\n"
     ]
    },
    {
     "data": {
      "text/html": [
       "<table class=\"simpletable\">\n",
       "<caption>Generalized Linear Model Regression Results</caption>\n",
       "<tr>\n",
       "  <th>Dep. Variable:</th>        <td>Price</td>      <th>  No. Observations:  </th>     <td>  8881</td>    \n",
       "</tr>\n",
       "<tr>\n",
       "  <th>Model:</th>                 <td>GLM</td>       <th>  Df Residuals:      </th>     <td>  8864</td>    \n",
       "</tr>\n",
       "<tr>\n",
       "  <th>Model Family:</th>         <td>Gamma</td>      <th>  Df Model:          </th>     <td>    16</td>    \n",
       "</tr>\n",
       "<tr>\n",
       "  <th>Link Function:</th>    <td>inverse_power</td>  <th>  Scale:             </th> <td>0.092806898957</td>\n",
       "</tr>\n",
       "<tr>\n",
       "  <th>Method:</th>               <td>IRLS</td>       <th>  Log-Likelihood:    </th>   <td>-1.3272e+05</td> \n",
       "</tr>\n",
       "<tr>\n",
       "  <th>Date:</th>           <td>Sun, 27 May 2018</td> <th>  Deviance:          </th>    <td>  2358.0</td>   \n",
       "</tr>\n",
       "<tr>\n",
       "  <th>Time:</th>               <td>18:33:24</td>     <th>  Pearson chi2:      </th>     <td>  823.</td>    \n",
       "</tr>\n",
       "<tr>\n",
       "  <th>No. Iterations:</th>         <td>8</td>        <th>                     </th>        <td> </td>      \n",
       "</tr>\n",
       "</table>\n",
       "<table class=\"simpletable\">\n",
       "<tr>\n",
       "                    <td></td>                       <th>coef</th>     <th>std err</th>      <th>z</th>      <th>P>|z|</th>  <th>[0.025</th>    <th>0.975]</th>  \n",
       "</tr>\n",
       "<tr>\n",
       "  <th>Rooms</th>                                 <td>-8.843e-08</td> <td> 1.92e-09</td> <td>  -46.096</td> <td> 0.000</td> <td>-9.22e-08</td> <td>-8.47e-08</td>\n",
       "</tr>\n",
       "<tr>\n",
       "  <th>Distance</th>                              <td>  3.65e-08</td> <td> 6.46e-10</td> <td>   56.482</td> <td> 0.000</td> <td> 3.52e-08</td> <td> 3.78e-08</td>\n",
       "</tr>\n",
       "<tr>\n",
       "  <th>Bathroom</th>                              <td>-6.203e-08</td> <td> 1.88e-09</td> <td>  -33.067</td> <td> 0.000</td> <td>-6.57e-08</td> <td>-5.84e-08</td>\n",
       "</tr>\n",
       "<tr>\n",
       "  <th>Car</th>                                   <td>-4.413e-08</td> <td> 1.67e-09</td> <td>  -26.430</td> <td> 0.000</td> <td>-4.74e-08</td> <td>-4.09e-08</td>\n",
       "</tr>\n",
       "<tr>\n",
       "  <th>Landsize</th>                              <td>-3.899e-11</td> <td> 3.14e-12</td> <td>  -12.429</td> <td> 0.000</td> <td>-4.51e-11</td> <td>-3.28e-11</td>\n",
       "</tr>\n",
       "<tr>\n",
       "  <th>BuildingArea</th>                          <td>-9.553e-10</td> <td> 1.51e-11</td> <td>  -63.471</td> <td> 0.000</td> <td>-9.85e-10</td> <td>-9.26e-10</td>\n",
       "</tr>\n",
       "<tr>\n",
       "  <th>YearBuilt</th>                             <td>  1.69e-09</td> <td> 4.88e-11</td> <td>   34.653</td> <td> 0.000</td> <td> 1.59e-09</td> <td> 1.79e-09</td>\n",
       "</tr>\n",
       "<tr>\n",
       "  <th>Type_h</th>                                <td>-1.597e-06</td> <td> 6.55e-08</td> <td>  -24.397</td> <td> 0.000</td> <td>-1.73e-06</td> <td>-1.47e-06</td>\n",
       "</tr>\n",
       "<tr>\n",
       "  <th>Type_t</th>                                <td>-1.492e-06</td> <td> 6.91e-08</td> <td>  -21.578</td> <td> 0.000</td> <td>-1.63e-06</td> <td>-1.36e-06</td>\n",
       "</tr>\n",
       "<tr>\n",
       "  <th>Type_u</th>                                <td>-9.412e-07</td> <td> 6.94e-08</td> <td>  -13.567</td> <td> 0.000</td> <td>-1.08e-06</td> <td>-8.05e-07</td>\n",
       "</tr>\n",
       "<tr>\n",
       "  <th>Regionname_Eastern Metropolitan</th>       <td>-6.337e-07</td> <td> 2.96e-08</td> <td>  -21.375</td> <td> 0.000</td> <td>-6.92e-07</td> <td>-5.76e-07</td>\n",
       "</tr>\n",
       "<tr>\n",
       "  <th>Regionname_Eastern Victoria</th>           <td>-7.853e-07</td> <td> 6.33e-08</td> <td>  -12.406</td> <td> 0.000</td> <td>-9.09e-07</td> <td>-6.61e-07</td>\n",
       "</tr>\n",
       "<tr>\n",
       "  <th>Regionname_Northern Metropolitan</th>      <td>-3.752e-07</td> <td> 3.07e-08</td> <td>  -12.240</td> <td> 0.000</td> <td>-4.35e-07</td> <td>-3.15e-07</td>\n",
       "</tr>\n",
       "<tr>\n",
       "  <th>Regionname_Northern Victoria</th>          <td>-4.536e-07</td> <td> 6.63e-08</td> <td>   -6.845</td> <td> 0.000</td> <td>-5.84e-07</td> <td>-3.24e-07</td>\n",
       "</tr>\n",
       "<tr>\n",
       "  <th>Regionname_South-Eastern Metropolitan</th> <td>-7.961e-07</td> <td> 3.15e-08</td> <td>  -25.242</td> <td> 0.000</td> <td>-8.58e-07</td> <td>-7.34e-07</td>\n",
       "</tr>\n",
       "<tr>\n",
       "  <th>Regionname_Southern Metropolitan</th>      <td>-7.072e-07</td> <td> 2.97e-08</td> <td>  -23.812</td> <td> 0.000</td> <td>-7.65e-07</td> <td>-6.49e-07</td>\n",
       "</tr>\n",
       "<tr>\n",
       "  <th>Regionname_Western Metropolitan</th>       <td>-3.437e-07</td> <td>  3.1e-08</td> <td>  -11.096</td> <td> 0.000</td> <td>-4.04e-07</td> <td>-2.83e-07</td>\n",
       "</tr>\n",
       "<tr>\n",
       "  <th>Regionname_Western Victoria</th>           <td> 6.493e-08</td> <td> 9.72e-08</td> <td>    0.668</td> <td> 0.504</td> <td>-1.25e-07</td> <td> 2.55e-07</td>\n",
       "</tr>\n",
       "</table>"
      ],
      "text/plain": [
       "<class 'statsmodels.iolib.summary.Summary'>\n",
       "\"\"\"\n",
       "                 Generalized Linear Model Regression Results                  \n",
       "==============================================================================\n",
       "Dep. Variable:                  Price   No. Observations:                 8881\n",
       "Model:                            GLM   Df Residuals:                     8864\n",
       "Model Family:                   Gamma   Df Model:                           16\n",
       "Link Function:          inverse_power   Scale:                  0.092806898957\n",
       "Method:                          IRLS   Log-Likelihood:            -1.3272e+05\n",
       "Date:                Sun, 27 May 2018   Deviance:                       2358.0\n",
       "Time:                        18:33:24   Pearson chi2:                     823.\n",
       "No. Iterations:                     8                                         \n",
       "=========================================================================================================\n",
       "                                            coef    std err          z      P>|z|      [0.025      0.975]\n",
       "---------------------------------------------------------------------------------------------------------\n",
       "Rooms                                 -8.843e-08   1.92e-09    -46.096      0.000   -9.22e-08   -8.47e-08\n",
       "Distance                                3.65e-08   6.46e-10     56.482      0.000    3.52e-08    3.78e-08\n",
       "Bathroom                              -6.203e-08   1.88e-09    -33.067      0.000   -6.57e-08   -5.84e-08\n",
       "Car                                   -4.413e-08   1.67e-09    -26.430      0.000   -4.74e-08   -4.09e-08\n",
       "Landsize                              -3.899e-11   3.14e-12    -12.429      0.000   -4.51e-11   -3.28e-11\n",
       "BuildingArea                          -9.553e-10   1.51e-11    -63.471      0.000   -9.85e-10   -9.26e-10\n",
       "YearBuilt                               1.69e-09   4.88e-11     34.653      0.000    1.59e-09    1.79e-09\n",
       "Type_h                                -1.597e-06   6.55e-08    -24.397      0.000   -1.73e-06   -1.47e-06\n",
       "Type_t                                -1.492e-06   6.91e-08    -21.578      0.000   -1.63e-06   -1.36e-06\n",
       "Type_u                                -9.412e-07   6.94e-08    -13.567      0.000   -1.08e-06   -8.05e-07\n",
       "Regionname_Eastern Metropolitan       -6.337e-07   2.96e-08    -21.375      0.000   -6.92e-07   -5.76e-07\n",
       "Regionname_Eastern Victoria           -7.853e-07   6.33e-08    -12.406      0.000   -9.09e-07   -6.61e-07\n",
       "Regionname_Northern Metropolitan      -3.752e-07   3.07e-08    -12.240      0.000   -4.35e-07   -3.15e-07\n",
       "Regionname_Northern Victoria          -4.536e-07   6.63e-08     -6.845      0.000   -5.84e-07   -3.24e-07\n",
       "Regionname_South-Eastern Metropolitan -7.961e-07   3.15e-08    -25.242      0.000   -8.58e-07   -7.34e-07\n",
       "Regionname_Southern Metropolitan      -7.072e-07   2.97e-08    -23.812      0.000   -7.65e-07   -6.49e-07\n",
       "Regionname_Western Metropolitan       -3.437e-07    3.1e-08    -11.096      0.000   -4.04e-07   -2.83e-07\n",
       "Regionname_Western Victoria            6.493e-08   9.72e-08      0.668      0.504   -1.25e-07    2.55e-07\n",
       "=========================================================================================================\n",
       "\"\"\""
      ]
     },
     "execution_count": 595,
     "metadata": {},
     "output_type": "execute_result"
    }
   ],
   "source": [
    "gamma_model = sm.GLM(Y, X, family=sm.families.Gamma())\n",
    "gamma_results = gamma_model.fit()\n",
    "gamma_results.summary()"
   ]
  },
  {
   "cell_type": "raw",
   "metadata": {},
   "source": [
    "Can we rely on this model?"
   ]
  },
  {
   "cell_type": "markdown",
   "metadata": {},
   "source": [
    "### 3.3. LASSO regression: feature selection based on it's coefficients"
   ]
  },
  {
   "cell_type": "markdown",
   "metadata": {},
   "source": [
    "#### Statsmodels"
   ]
  },
  {
   "cell_type": "code",
   "execution_count": 596,
   "metadata": {},
   "outputs": [],
   "source": [
    "# how to build lasso with statsmodels?\n",
    "# sm.Logit(Y, X, data=df)"
   ]
  },
  {
   "cell_type": "markdown",
   "metadata": {},
   "source": [
    "#### SKlearn"
   ]
  },
  {
   "cell_type": "code",
   "execution_count": 597,
   "metadata": {},
   "outputs": [
    {
     "name": "stdout",
     "output_type": "stream",
     "text": [
      "R² for the model:\n",
      "0.663082298024\n",
      "\n",
      "Parameter estimates from the LASSO model:\n"
     ]
    },
    {
     "data": {
      "text/html": [
       "<div>\n",
       "<style>\n",
       "    .dataframe thead tr:only-child th {\n",
       "        text-align: right;\n",
       "    }\n",
       "\n",
       "    .dataframe thead th {\n",
       "        text-align: left;\n",
       "    }\n",
       "\n",
       "    .dataframe tbody tr th {\n",
       "        vertical-align: top;\n",
       "    }\n",
       "</style>\n",
       "<table border=\"1\" class=\"dataframe\">\n",
       "  <thead>\n",
       "    <tr style=\"text-align: left;\">\n",
       "      <th></th>\n",
       "      <th>Coefficient</th>\n",
       "    </tr>\n",
       "  </thead>\n",
       "  <tbody>\n",
       "    <tr>\n",
       "      <th>Rooms</th>\n",
       "      <td>102,753</td>\n",
       "    </tr>\n",
       "    <tr>\n",
       "      <th>Distance</th>\n",
       "      <td>-37,442</td>\n",
       "    </tr>\n",
       "    <tr>\n",
       "      <th>Bathroom</th>\n",
       "      <td>171,411</td>\n",
       "    </tr>\n",
       "    <tr>\n",
       "      <th>Car</th>\n",
       "      <td>49,179</td>\n",
       "    </tr>\n",
       "    <tr>\n",
       "      <th>Landsize</th>\n",
       "      <td>33</td>\n",
       "    </tr>\n",
       "    <tr>\n",
       "      <th>BuildingArea</th>\n",
       "      <td>2,130</td>\n",
       "    </tr>\n",
       "    <tr>\n",
       "      <th>YearBuilt</th>\n",
       "      <td>-3,612</td>\n",
       "    </tr>\n",
       "    <tr>\n",
       "      <th>Type_h</th>\n",
       "      <td>141,417</td>\n",
       "    </tr>\n",
       "    <tr>\n",
       "      <th>Type_t</th>\n",
       "      <td>0</td>\n",
       "    </tr>\n",
       "    <tr>\n",
       "      <th>Type_u</th>\n",
       "      <td>-206,940</td>\n",
       "    </tr>\n",
       "    <tr>\n",
       "      <th>Regionname_Eastern Metropolitan</th>\n",
       "      <td>-16,124</td>\n",
       "    </tr>\n",
       "    <tr>\n",
       "      <th>Regionname_Eastern Victoria</th>\n",
       "      <td>267,250</td>\n",
       "    </tr>\n",
       "    <tr>\n",
       "      <th>Regionname_Northern Metropolitan</th>\n",
       "      <td>-240,426</td>\n",
       "    </tr>\n",
       "    <tr>\n",
       "      <th>Regionname_Northern Victoria</th>\n",
       "      <td>80,074</td>\n",
       "    </tr>\n",
       "    <tr>\n",
       "      <th>Regionname_South-Eastern Metropolitan</th>\n",
       "      <td>164,979</td>\n",
       "    </tr>\n",
       "    <tr>\n",
       "      <th>Regionname_Southern Metropolitan</th>\n",
       "      <td>238,810</td>\n",
       "    </tr>\n",
       "    <tr>\n",
       "      <th>Regionname_Western Metropolitan</th>\n",
       "      <td>-304,248</td>\n",
       "    </tr>\n",
       "    <tr>\n",
       "      <th>Regionname_Western Victoria</th>\n",
       "      <td>-0</td>\n",
       "    </tr>\n",
       "    <tr>\n",
       "      <th>Intercept</th>\n",
       "      <td>7,585,328</td>\n",
       "    </tr>\n",
       "  </tbody>\n",
       "</table>\n",
       "</div>"
      ],
      "text/plain": [
       "                                       Coefficient\n",
       "Rooms                                   102,753   \n",
       "Distance                                -37,442   \n",
       "Bathroom                                171,411   \n",
       "Car                                      49,179   \n",
       "Landsize                                     33   \n",
       "BuildingArea                              2,130   \n",
       "YearBuilt                                -3,612   \n",
       "Type_h                                  141,417   \n",
       "Type_t                                        0   \n",
       "Type_u                                 -206,940   \n",
       "Regionname_Eastern Metropolitan         -16,124   \n",
       "Regionname_Eastern Victoria             267,250   \n",
       "Regionname_Northern Metropolitan       -240,426   \n",
       "Regionname_Northern Victoria             80,074   \n",
       "Regionname_South-Eastern Metropolitan   164,979   \n",
       "Regionname_Southern Metropolitan        238,810   \n",
       "Regionname_Western Metropolitan        -304,248   \n",
       "Regionname_Western Victoria                  -0   \n",
       "Intercept                             7,585,328   "
      ]
     },
     "execution_count": 597,
     "metadata": {},
     "output_type": "execute_result"
    }
   ],
   "source": [
    "lass = Lasso(alpha=100)\n",
    "lassfit = lass.fit(X, Y)\n",
    "print('R² for the model:')\n",
    "print(lass.score(X, Y))\n",
    "\n",
    "# Coef table:\n",
    "lass_param = np.append(lass.coef_, lass.intercept_)\n",
    "titles = X.columns\n",
    "titles = titles.tolist()\n",
    "titles.append('Intercept')\n",
    "features_coef=pd.DataFrame(data=lass_param, index = titles,columns=['Coefficient'])\n",
    "\n",
    "print('\\nParameter estimates from the LASSO model:') \n",
    "features_coef"
   ]
  },
  {
   "cell_type": "markdown",
   "metadata": {},
   "source": [
    "##### Conclusion from the LASSO model: \n",
    "No numerical features set to zero. Numerical features with Lasso generally follow the same pattern as with linear model we built before, so we'll stick to our previous conclusion."
   ]
  },
  {
   "cell_type": "markdown",
   "metadata": {},
   "source": []
  },
  {
   "cell_type": "markdown",
   "metadata": {},
   "source": [
    "# Potential future research (outside of the task)"
   ]
  },
  {
   "cell_type": "markdown",
   "metadata": {},
   "source": [
    "## 4. What if we try feature transformation"
   ]
  },
  {
   "cell_type": "markdown",
   "metadata": {},
   "source": [
    "### 4.1. Identifying which features to transform"
   ]
  },
  {
   "cell_type": "code",
   "execution_count": 598,
   "metadata": {},
   "outputs": [],
   "source": [
    "feature_df = df.drop(['Price','Bedroom2', 'Propertycount'], axis = 1)\n",
    "num_feature_df = feature_df.drop(['Regionname','Type'], axis = 1)"
   ]
  },
  {
   "cell_type": "code",
   "execution_count": 599,
   "metadata": {},
   "outputs": [
    {
     "data": {
      "image/png": "[encoded data removed]",
      "text/plain": [
       "<matplotlib.figure.Figure at 0x124b77ac8>"
      ]
     },
     "metadata": {},
     "output_type": "display_data"
    }
   ],
   "source": [
    "plt.figure(figsize=(17,15))\n",
    "n=0\n",
    "for column in num_feature_df.columns:\n",
    "    n+=1\n",
    "    plt.subplot(4, 2, n) \n",
    "    num_feature_df[column].hist(bins = 70)\n",
    "    plt.xlabel(column)\n",
    "\n",
    "plt.show()"
   ]
  },
  {
   "cell_type": "code",
   "execution_count": 606,
   "metadata": {},
   "outputs": [
    {
     "data": {
      "image/png": "[encoded data removed]",
      "text/plain": [
       "<matplotlib.figure.Figure at 0x1235b14e0>"
      ]
     },
     "metadata": {},
     "output_type": "display_data"
    }
   ],
   "source": [
    "plt.figure(figsize=(17,15))\n",
    "n=0\n",
    "for column in num_feature_df.columns:\n",
    "    n+=1\n",
    "    plt.subplot(4, 2, n) \n",
    "    plt.scatter(x=num_feature_df[column], y=df['Price'])\n",
    "    plt.ylabel('Price')\n",
    "    plt.xlabel(column)\n",
    "\n",
    "\n",
    "plt.show()"
   ]
  },
  {
   "cell_type": "markdown",
   "metadata": {},
   "source": [
    "What can we tell from these graphs?"
   ]
  },
  {
   "cell_type": "raw",
   "metadata": {},
   "source": []
  },
  {
   "cell_type": "markdown",
   "metadata": {},
   "source": [
    "## Code Depository"
   ]
  },
  {
   "cell_type": "code",
   "execution_count": 600,
   "metadata": {},
   "outputs": [],
   "source": [
    "# print('Cross validation: ' + str(cross_val_score(RandomForestClassifier(), X, Y, cv=5)))"
   ]
  },
  {
   "cell_type": "code",
   "execution_count": 601,
   "metadata": {
    "scrolled": true
   },
   "outputs": [
    {
     "name": "stdout",
     "output_type": "stream",
     "text": [
      "Maximum Residual (upper left courner):\n",
      "5000311.52913\n",
      "Index of observation with the suspect residual:\n",
      "15696\n",
      "\n",
      "Minimum Residual (lower right courner):\n",
      "-3199873.1047\n",
      "Index of observation with the suspect residual:\n",
      "3780\n"
     ]
    }
   ],
   "source": [
    "print('Maximum Residual (upper left courner):') \n",
    "print(lm.resid.max())\n",
    "print('Index of observation with the suspect residual:') \n",
    "print(lm.resid.argmax())\n",
    "\n",
    "print('\\nMinimum Residual (lower right courner):') \n",
    "print(lm.resid.min())\n",
    "print('Index of observation with the suspect residual:') \n",
    "print(lm.resid.argmin())"
   ]
  }
 ],
 "metadata": {
  "kernelspec": {
   "display_name": "Python 3",
   "language": "python",
   "name": "python3"
  },
  "language_info": {
   "codemirror_mode": {
    "name": "ipython",
    "version": 3
   },
   "file_extension": ".py",
   "mimetype": "text/x-python",
   "name": "python",
   "nbconvert_exporter": "python",
   "pygments_lexer": "ipython3",
   "version": "3.6.1"
  }
 },
 "nbformat": 4,
 "nbformat_minor": 2
}
