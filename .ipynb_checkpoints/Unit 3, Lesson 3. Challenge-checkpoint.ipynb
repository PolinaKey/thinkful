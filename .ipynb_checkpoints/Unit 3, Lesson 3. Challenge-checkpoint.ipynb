{
 "cells": [
  {
   "cell_type": "markdown",
   "metadata": {},
   "source": [
    "## Unit 3, Lesson 3. Challenge"
   ]
  },
  {
   "cell_type": "markdown",
   "metadata": {},
   "source": [
    "Engineer your features, then create three models. Each model will be run on a training set and a test-set (or multiple test-sets, if you take a folds approach). The models should be:\n",
    "\n",
    "- Vanilla logistic regression\n",
    "- Ridge logistic regression\n",
    "- Lasso logistic regression\n"
   ]
  },
  {
   "cell_type": "code",
   "execution_count": 1,
   "metadata": {
    "collapsed": true
   },
   "outputs": [],
   "source": [
    "import pandas as pd\n",
    "from matplotlib import pyplot as plt\n",
    "import numpy as np\n",
    "import math\n",
    "import seaborn as sns\n",
    "import sklearn\n",
    "from sklearn import linear_model\n",
    "from sklearn import preprocessing\n",
    "%matplotlib inline\n",
    "sns.set_style('white')"
   ]
  },
  {
   "cell_type": "code",
   "execution_count": 14,
   "metadata": {},
   "outputs": [],
   "source": [
    "df=pd.read_csv(\"../crx.data.txt\", engine='python', header=None, names = [\n",
    "\"Male\",\n",
    "\"Age\",\n",
    "\"Debt\",\n",
    "\"Married\",\n",
    "\"BankCustomer\",\n",
    "\"EducationLevel\",\n",
    "\"Ethnicity\",\n",
    "\"YearsEmployed\",\n",
    "\"PriorDefault\",\n",
    "\"Employed\",\n",
    "\"CreditScore\",\n",
    "\"DriversLicense\",\n",
    "\"Citizen\",\n",
    "\"ZipCode\",\n",
    "\"Income\",\n",
    "\"Approved\",])"
   ]
  },
  {
   "cell_type": "code",
   "execution_count": 17,
   "metadata": {},
   "outputs": [],
   "source": [
    "df.Approved.replace(['+', '-'], ['1', '0'], inplace=True)\n",
    "df.Male.replace(['b', 'a'], ['0', '1'], inplace=True)\n",
    "df.DriversLicense.replace(['t', 'f'], ['1', '0'], inplace=True)\n",
    "df.Employed.replace(['t', 'f'], ['1', '0'], inplace=True)\n",
    "df.PriorDefault.replace(['t', 'f'], ['1', '0'], inplace=True)"
   ]
  },
  {
   "cell_type": "code",
   "execution_count": 18,
   "metadata": {},
   "outputs": [
    {
     "data": {
      "text/html": [
       "<div>\n",
       "<style>\n",
       "    .dataframe thead tr:only-child th {\n",
       "        text-align: right;\n",
       "    }\n",
       "\n",
       "    .dataframe thead th {\n",
       "        text-align: left;\n",
       "    }\n",
       "\n",
       "    .dataframe tbody tr th {\n",
       "        vertical-align: top;\n",
       "    }\n",
       "</style>\n",
       "<table border=\"1\" class=\"dataframe\">\n",
       "  <thead>\n",
       "    <tr style=\"text-align: right;\">\n",
       "      <th></th>\n",
       "      <th>Male</th>\n",
       "      <th>Age</th>\n",
       "      <th>Debt</th>\n",
       "      <th>Married</th>\n",
       "      <th>BankCustomer</th>\n",
       "      <th>EducationLevel</th>\n",
       "      <th>Ethnicity</th>\n",
       "      <th>YearsEmployed</th>\n",
       "      <th>PriorDefault</th>\n",
       "      <th>Employed</th>\n",
       "      <th>CreditScore</th>\n",
       "      <th>DriversLicense</th>\n",
       "      <th>Citizen</th>\n",
       "      <th>ZipCode</th>\n",
       "      <th>Income</th>\n",
       "      <th>Approved</th>\n",
       "    </tr>\n",
       "  </thead>\n",
       "  <tbody>\n",
       "    <tr>\n",
       "      <th>0</th>\n",
       "      <td>0</td>\n",
       "      <td>30.83</td>\n",
       "      <td>0.00</td>\n",
       "      <td>u</td>\n",
       "      <td>g</td>\n",
       "      <td>w</td>\n",
       "      <td>v</td>\n",
       "      <td>1.25</td>\n",
       "      <td>1</td>\n",
       "      <td>1</td>\n",
       "      <td>1</td>\n",
       "      <td>0</td>\n",
       "      <td>g</td>\n",
       "      <td>00202</td>\n",
       "      <td>0</td>\n",
       "      <td>1</td>\n",
       "    </tr>\n",
       "    <tr>\n",
       "      <th>1</th>\n",
       "      <td>1</td>\n",
       "      <td>58.67</td>\n",
       "      <td>4.46</td>\n",
       "      <td>u</td>\n",
       "      <td>g</td>\n",
       "      <td>q</td>\n",
       "      <td>h</td>\n",
       "      <td>3.04</td>\n",
       "      <td>1</td>\n",
       "      <td>1</td>\n",
       "      <td>6</td>\n",
       "      <td>0</td>\n",
       "      <td>g</td>\n",
       "      <td>00043</td>\n",
       "      <td>560</td>\n",
       "      <td>1</td>\n",
       "    </tr>\n",
       "    <tr>\n",
       "      <th>2</th>\n",
       "      <td>1</td>\n",
       "      <td>24.50</td>\n",
       "      <td>0.50</td>\n",
       "      <td>u</td>\n",
       "      <td>g</td>\n",
       "      <td>q</td>\n",
       "      <td>h</td>\n",
       "      <td>1.50</td>\n",
       "      <td>1</td>\n",
       "      <td>0</td>\n",
       "      <td>0</td>\n",
       "      <td>0</td>\n",
       "      <td>g</td>\n",
       "      <td>00280</td>\n",
       "      <td>824</td>\n",
       "      <td>1</td>\n",
       "    </tr>\n",
       "  </tbody>\n",
       "</table>\n",
       "</div>"
      ],
      "text/plain": [
       "  Male    Age  Debt Married BankCustomer EducationLevel Ethnicity  \\\n",
       "0    0  30.83  0.00       u            g              w         v   \n",
       "1    1  58.67  4.46       u            g              q         h   \n",
       "2    1  24.50  0.50       u            g              q         h   \n",
       "\n",
       "   YearsEmployed PriorDefault Employed  CreditScore DriversLicense Citizen  \\\n",
       "0           1.25            1        1            1              0       g   \n",
       "1           3.04            1        1            6              0       g   \n",
       "2           1.50            1        0            0              0       g   \n",
       "\n",
       "  ZipCode  Income Approved  \n",
       "0   00202       0        1  \n",
       "1   00043     560        1  \n",
       "2   00280     824        1  "
      ]
     },
     "execution_count": 18,
     "metadata": {},
     "output_type": "execute_result"
    }
   ],
   "source": [
    "df.head(3)"
   ]
  },
  {
   "cell_type": "code",
   "execution_count": null,
   "metadata": {
    "collapsed": true
   },
   "outputs": [],
   "source": [
    "df['YearsEmployed_Income'] = df['YearsEmployed'] * df['Income']\n",
    "df['Income'] = df['Income']\n",
    "df['student_default'] = df['student'] * df['default']\n",
    "df['balance_sqrt'] = (df['balance'] + 100) ** .5\n",
    "df['Age2'] = df['Age'] ** 2\n",
    "df['Debt3'] = df['Debt'] ** 3"
   ]
  },
  {
   "cell_type": "markdown",
   "metadata": {},
   "source": [
    "### Vinalla Logistic Regression"
   ]
  },
  {
   "cell_type": "code",
   "execution_count": null,
   "metadata": {
    "collapsed": true
   },
   "outputs": [],
   "source": [
    "Y = df['Approved'].values.reshape(-1, 1)\n",
    "X = df.loc[:, ~(df.columns).isin(['Approved'])]"
   ]
  },
  {
   "cell_type": "code",
   "execution_count": null,
   "metadata": {
    "collapsed": true
   },
   "outputs": [],
   "source": [
    "from sklearn.model_selection import train_test_split\n",
    "\n",
    "X_train, X_test, y_train, y_test = train_test_split(X, Y, test_size=0.2, random_state=20)"
   ]
  },
  {
   "cell_type": "code",
   "execution_count": null,
   "metadata": {
    "collapsed": true
   },
   "outputs": [],
   "source": [
    "def frange(start, stop, step):\n",
    "    i = start\n",
    "    while i < stop:\n",
    "        yield i\n",
    "        i += step\n",
    "        \n",
    "rigde_r2 = []\n",
    "lasso_r2 = []\n",
    "lambd_values = []\n",
    "\n",
    "for lambd in frange(0.1, 5, 0.25):\n",
    "    ridgeregrBig = linear_model.Ridge(alpha=lambd)\n",
    "    ridgeregrBig.fit(X_train2, Y_train)\n",
    "    rigde_r2.append(ridgeregrBig.score(X_test2, Y_test))\n",
    "    lassBig = linear_model.Lasso(alpha=lambd)\n",
    "    lassBig.fit(X_train2, Y_train)\n",
    "    lasso_r2.append(lassBig.score(X_test2, Y_test))\n",
    "    lambd_values.append([lambd]) "
   ]
  },
  {
   "cell_type": "code",
   "execution_count": null,
   "metadata": {
    "collapsed": true
   },
   "outputs": [],
   "source": [
    "plt.figure(figsize=(20,10))\n",
    "plt.plot(lambd_values, rigde_r2, 'r', lambd_values, lasso_r2, 'b')\n",
    "plt.xlabel('Alpha')\n",
    "plt.ylabel('R^2')\n",
    "plt.legend(['Ridge','Lasso'])\n",
    "plt.show()"
   ]
  }
 ],
 "metadata": {
  "kernelspec": {
   "display_name": "Python 3",
   "language": "python",
   "name": "python3"
  },
  "language_info": {
   "codemirror_mode": {
    "name": "ipython",
    "version": 3
   },
   "file_extension": ".py",
   "mimetype": "text/x-python",
   "name": "python",
   "nbconvert_exporter": "python",
   "pygments_lexer": "ipython3",
   "version": "3.6.1"
  },
  "widgets": {
   "application/vnd.jupyter.widget-state+json": {
    "state": {},
    "version_major": 1,
    "version_minor": 0
   }
  }
 },
 "nbformat": 4,
 "nbformat_minor": 2
}
